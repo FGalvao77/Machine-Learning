{
  "nbformat": 4,
  "nbformat_minor": 0,
  "metadata": {
    "kernelspec": {
      "display_name": "Python 3",
      "language": "python",
      "name": "python3"
    },
    "language_info": {
      "codemirror_mode": {
        "name": "ipython",
        "version": 3
      },
      "file_extension": ".py",
      "mimetype": "text/x-python",
      "name": "python",
      "nbconvert_exporter": "python",
      "pygments_lexer": "ipython3",
      "version": "3.7.6"
    },
    "colab": {
      "name": "Oficina_01 - Regressao.ipynb",
      "provenance": [],
      "collapsed_sections": [],
      "include_colab_link": true
    }
  },
  "cells": [
    {
      "cell_type": "markdown",
      "metadata": {
        "id": "view-in-github",
        "colab_type": "text"
      },
      "source": [
        "<a href=\"https://colab.research.google.com/github/FGalvao77/Machine-Learning/blob/main/Oficina_01_Regressao.ipynb\" target=\"_parent\"><img src=\"https://colab.research.google.com/assets/colab-badge.svg\" alt=\"Open In Colab\"/></a>"
      ]
    },
    {
      "cell_type": "markdown",
      "metadata": {
        "id": "PQIfDLydfHLV"
      },
      "source": [
        "# **Regressão Linear Múltipla**\n",
        "\n",
        "---\n",
        "\n"
      ]
    },
    {
      "cell_type": "markdown",
      "metadata": {
        "id": "KplGx6snfHLf"
      },
      "source": [
        "Neste notebook aprenderemos como utilizar a biblioteca scikit-learn para construirmos um modelo de previsão de preço, usando regressão linear múltipla. Para isso utilizaremos um conjunto de dados de carros usados listados pelo site www.cardekho.com e disponível em: https://www.kaggle.com/nehalbirla/vehicle-dataset-from-cardekho e adaptado neste notebook."
      ]
    },
    {
      "cell_type": "markdown",
      "metadata": {
        "id": "Tv26a48xfHLh"
      },
      "source": [
        "As informações contidas no dataset são:\n",
        "\n",
        "**nome_carro:**        nome do carro\n",
        "\n",
        "**ano:**               ano de fabricação\n",
        "\n",
        "**preco_venda:**       preço que o dono quer vender\n",
        "\n",
        "**preco_atual:**       preço da concessionária\n",
        "\n",
        "**kms_rodados:**       kilometragem do carro \n",
        "\n",
        "**tipo_combustivel:**  tipo de combustível do carro (Diesel, Gasolina, GasNatural)\n",
        "\n",
        "**tipo_vendedor:**     se o vendedor é um revendedor ou é a própria pessoa\n",
        "\n",
        "**tipo_transmissao:**  tipo de câmbio do carro\n",
        "\n",
        "**n_donos:**           número de donos que o carro já teve"
      ]
    },
    {
      "cell_type": "markdown",
      "metadata": {
        "id": "5oRu8caafHLj"
      },
      "source": [
        "### **Importando bibliotecas necessárias**\n",
        "\n",
        "---\n",
        "\n"
      ]
    },
    {
      "cell_type": "code",
      "metadata": {
        "id": "GTnckNz-fHLl"
      },
      "source": [
        "import pandas as pd               # para modelagem de dados\n",
        "import numpy as np                # para recursos matemáticos e matrizes\n",
        "import matplotlib.pyplot as plt   # para gerar visualizações gráficas\n",
        "\n",
        "# comando \"mágico\" para renderizar a visualização gráfica\n",
        "%matplotlib inline\n",
        "\n",
        "# para ignorar mensagens de erros\n",
        "import warnings\n",
        "warnings.filterwarnings('ignore')"
      ],
      "execution_count": 43,
      "outputs": []
    },
    {
      "cell_type": "markdown",
      "metadata": {
        "id": "Q_E5Tq1lfHLn"
      },
      "source": [
        "### **Carregando os dados**\n",
        "\n",
        "---\n",
        "\n"
      ]
    },
    {
      "cell_type": "code",
      "metadata": {
        "colab": {
          "resources": {
            "http://localhost:8080/nbextensions/google.colab/files.js": {
              "data": "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",
              "ok": true,
              "headers": [
                [
                  "content-type",
                  "application/javascript"
                ]
              ],
              "status": 200,
              "status_text": ""
            }
          },
          "base_uri": "https://localhost:8080/",
          "height": 72
        },
        "id": "RalaH7rZfeyq",
        "outputId": "24493bcf-e0ce-4bc1-cce8-9e185a255fa3"
      },
      "source": [
        "# importando a base de dados para o google colab\n",
        "# para isso, utilizaremos a biblioteca fornecida pela google\n",
        "from google.colab import files\n",
        "uploaded = files.upload()"
      ],
      "execution_count": 2,
      "outputs": [
        {
          "output_type": "display_data",
          "data": {
            "text/html": [
              "\n",
              "     <input type=\"file\" id=\"files-3d6e9723-5a31-4612-8f90-907f91625706\" name=\"files[]\" multiple disabled\n",
              "        style=\"border:none\" />\n",
              "     <output id=\"result-3d6e9723-5a31-4612-8f90-907f91625706\">\n",
              "      Upload widget is only available when the cell has been executed in the\n",
              "      current browser session. Please rerun this cell to enable.\n",
              "      </output>\n",
              "      <script src=\"/nbextensions/google.colab/files.js\"></script> "
            ],
            "text/plain": [
              "<IPython.core.display.HTML object>"
            ]
          },
          "metadata": {
            "tags": []
          }
        },
        {
          "output_type": "stream",
          "text": [
            "Saving car_data.csv to car_data.csv\n"
          ],
          "name": "stdout"
        }
      ]
    },
    {
      "cell_type": "code",
      "metadata": {
        "scrolled": true,
        "colab": {
          "base_uri": "https://localhost:8080/",
          "height": 204
        },
        "id": "BHVD1VE7fHLo",
        "outputId": "3c1cc527-449e-4c57-d7c3-805269f7d0d7"
      },
      "source": [
        "# instanciando a base de dados na variável \"df\"\n",
        "df = pd.read_csv('car_data.csv')\n",
        "\n",
        "# visualzando as 5 primeiras linhas do arquivo\n",
        "df.head()"
      ],
      "execution_count": 44,
      "outputs": [
        {
          "output_type": "execute_result",
          "data": {
            "text/html": [
              "<div>\n",
              "<style scoped>\n",
              "    .dataframe tbody tr th:only-of-type {\n",
              "        vertical-align: middle;\n",
              "    }\n",
              "\n",
              "    .dataframe tbody tr th {\n",
              "        vertical-align: top;\n",
              "    }\n",
              "\n",
              "    .dataframe thead th {\n",
              "        text-align: right;\n",
              "    }\n",
              "</style>\n",
              "<table border=\"1\" class=\"dataframe\">\n",
              "  <thead>\n",
              "    <tr style=\"text-align: right;\">\n",
              "      <th></th>\n",
              "      <th>nome_carro</th>\n",
              "      <th>ano</th>\n",
              "      <th>preco_venda</th>\n",
              "      <th>preco_atual</th>\n",
              "      <th>kms_rodados</th>\n",
              "      <th>tipo_combustivel</th>\n",
              "      <th>tipo_vendedor</th>\n",
              "      <th>tipo_transmissao</th>\n",
              "      <th>n_donos</th>\n",
              "    </tr>\n",
              "  </thead>\n",
              "  <tbody>\n",
              "    <tr>\n",
              "      <th>0</th>\n",
              "      <td>ritz</td>\n",
              "      <td>2014</td>\n",
              "      <td>3.35</td>\n",
              "      <td>5.59</td>\n",
              "      <td>27000</td>\n",
              "      <td>Gasolina</td>\n",
              "      <td>Revendedor</td>\n",
              "      <td>Manual</td>\n",
              "      <td>0</td>\n",
              "    </tr>\n",
              "    <tr>\n",
              "      <th>1</th>\n",
              "      <td>sx4</td>\n",
              "      <td>2013</td>\n",
              "      <td>4.75</td>\n",
              "      <td>9.54</td>\n",
              "      <td>43000</td>\n",
              "      <td>Diesel</td>\n",
              "      <td>Revendedor</td>\n",
              "      <td>Manual</td>\n",
              "      <td>0</td>\n",
              "    </tr>\n",
              "    <tr>\n",
              "      <th>2</th>\n",
              "      <td>ciaz</td>\n",
              "      <td>2017</td>\n",
              "      <td>7.25</td>\n",
              "      <td>9.85</td>\n",
              "      <td>6900</td>\n",
              "      <td>Gasolina</td>\n",
              "      <td>Revendedor</td>\n",
              "      <td>Manual</td>\n",
              "      <td>0</td>\n",
              "    </tr>\n",
              "    <tr>\n",
              "      <th>3</th>\n",
              "      <td>wagon r</td>\n",
              "      <td>2011</td>\n",
              "      <td>2.85</td>\n",
              "      <td>4.15</td>\n",
              "      <td>5200</td>\n",
              "      <td>Gasolina</td>\n",
              "      <td>Revendedor</td>\n",
              "      <td>Manual</td>\n",
              "      <td>0</td>\n",
              "    </tr>\n",
              "    <tr>\n",
              "      <th>4</th>\n",
              "      <td>swift</td>\n",
              "      <td>2014</td>\n",
              "      <td>4.60</td>\n",
              "      <td>6.87</td>\n",
              "      <td>42450</td>\n",
              "      <td>Diesel</td>\n",
              "      <td>Revendedor</td>\n",
              "      <td>Manual</td>\n",
              "      <td>0</td>\n",
              "    </tr>\n",
              "  </tbody>\n",
              "</table>\n",
              "</div>"
            ],
            "text/plain": [
              "  nome_carro   ano  preco_venda  ...  tipo_vendedor  tipo_transmissao n_donos\n",
              "0       ritz  2014         3.35  ...     Revendedor            Manual       0\n",
              "1        sx4  2013         4.75  ...     Revendedor            Manual       0\n",
              "2       ciaz  2017         7.25  ...     Revendedor            Manual       0\n",
              "3    wagon r  2011         2.85  ...     Revendedor            Manual       0\n",
              "4      swift  2014         4.60  ...     Revendedor            Manual       0\n",
              "\n",
              "[5 rows x 9 columns]"
            ]
          },
          "metadata": {
            "tags": []
          },
          "execution_count": 44
        }
      ]
    },
    {
      "cell_type": "markdown",
      "metadata": {
        "id": "Op4wIB5WfHLt"
      },
      "source": [
        "### **Tamanho dos nossos registros**\n",
        "\n",
        "---\n",
        "\n"
      ]
    },
    {
      "cell_type": "code",
      "metadata": {
        "colab": {
          "base_uri": "https://localhost:8080/"
        },
        "id": "2t2F0iYEfHLv",
        "outputId": "af589bba-51c1-41c1-85c9-65835535b6ea"
      },
      "source": [
        "# o nosso dataset possui 301 registros de carros usados e 9 colunas\n",
        "# print(df.shape)\n",
        "print(f'Linhas: {df.shape[0]} | Colunas: {df.shape[1]}')"
      ],
      "execution_count": 45,
      "outputs": [
        {
          "output_type": "stream",
          "text": [
            "Linhas: 301 | Colunas: 9\n"
          ],
          "name": "stdout"
        }
      ]
    },
    {
      "cell_type": "code",
      "metadata": {
        "colab": {
          "base_uri": "https://localhost:8080/"
        },
        "id": "eI83M4KjiJFk",
        "outputId": "1006e64b-d743-4011-c5f5-37f538b5d8d2"
      },
      "source": [
        "# visualizando o tipo de dado em cada coluna\n",
        "df.dtypes"
      ],
      "execution_count": 46,
      "outputs": [
        {
          "output_type": "execute_result",
          "data": {
            "text/plain": [
              "nome_carro           object\n",
              "ano                   int64\n",
              "preco_venda         float64\n",
              "preco_atual         float64\n",
              "kms_rodados           int64\n",
              "tipo_combustivel     object\n",
              "tipo_vendedor        object\n",
              "tipo_transmissao     object\n",
              "n_donos               int64\n",
              "dtype: object"
            ]
          },
          "metadata": {
            "tags": []
          },
          "execution_count": 46
        }
      ]
    },
    {
      "cell_type": "markdown",
      "metadata": {
        "id": "av2Vvsw2ioeE"
      },
      "source": [
        ">> Veja que, as colunas `tipo_combustivel`, `tipo_vendedor` e `tipo_transmissao` foram instanciados com dados do tipo `object` (string), ou melhor dados categóricos. \n",
        "  - E os modelos de ML trabalham melhor com dados numéricos e, portanto será necessário realizar um tratamento para as colunas em questão."
      ]
    },
    {
      "cell_type": "markdown",
      "metadata": {
        "id": "Fl6hj5_CfHLw"
      },
      "source": [
        "### **Para o algoritmo de regressão, vamos substituir os dados que possuem textos por números.** \n",
        "\n",
        "---\n",
        "\n"
      ]
    },
    {
      "cell_type": "code",
      "metadata": {
        "scrolled": true,
        "colab": {
          "base_uri": "https://localhost:8080/",
          "height": 204
        },
        "id": "NRcDaMPbfHLx",
        "outputId": "ab739e8f-a591-419b-94e0-3f6f1069b2c5"
      },
      "source": [
        "# aqui estamos referenciando a coluna desejada e, com a função \".replace()\" estamos sobrescrevendo o arquivo\n",
        "# e dentro da função, passando como argumento um dicionário com chave (categoria) e o seu valor (0, 1 ou 2)\n",
        "df['tipo_transmissao'].replace({'Manual': 0, 'Automatico': 1}, inplace=True)\n",
        "df['tipo_vendedor'].replace({'Revendedor': 0, 'Individual': 1}, inplace=True)\n",
        "df['tipo_combustivel'].replace({'Gasolina': 0, 'Diesel': 1, 'GasNatural': 2}, inplace=True)\n",
        "df.head() # visualizando as 5 primeiras linhas"
      ],
      "execution_count": 47,
      "outputs": [
        {
          "output_type": "execute_result",
          "data": {
            "text/html": [
              "<div>\n",
              "<style scoped>\n",
              "    .dataframe tbody tr th:only-of-type {\n",
              "        vertical-align: middle;\n",
              "    }\n",
              "\n",
              "    .dataframe tbody tr th {\n",
              "        vertical-align: top;\n",
              "    }\n",
              "\n",
              "    .dataframe thead th {\n",
              "        text-align: right;\n",
              "    }\n",
              "</style>\n",
              "<table border=\"1\" class=\"dataframe\">\n",
              "  <thead>\n",
              "    <tr style=\"text-align: right;\">\n",
              "      <th></th>\n",
              "      <th>nome_carro</th>\n",
              "      <th>ano</th>\n",
              "      <th>preco_venda</th>\n",
              "      <th>preco_atual</th>\n",
              "      <th>kms_rodados</th>\n",
              "      <th>tipo_combustivel</th>\n",
              "      <th>tipo_vendedor</th>\n",
              "      <th>tipo_transmissao</th>\n",
              "      <th>n_donos</th>\n",
              "    </tr>\n",
              "  </thead>\n",
              "  <tbody>\n",
              "    <tr>\n",
              "      <th>0</th>\n",
              "      <td>ritz</td>\n",
              "      <td>2014</td>\n",
              "      <td>3.35</td>\n",
              "      <td>5.59</td>\n",
              "      <td>27000</td>\n",
              "      <td>0</td>\n",
              "      <td>0</td>\n",
              "      <td>0</td>\n",
              "      <td>0</td>\n",
              "    </tr>\n",
              "    <tr>\n",
              "      <th>1</th>\n",
              "      <td>sx4</td>\n",
              "      <td>2013</td>\n",
              "      <td>4.75</td>\n",
              "      <td>9.54</td>\n",
              "      <td>43000</td>\n",
              "      <td>1</td>\n",
              "      <td>0</td>\n",
              "      <td>0</td>\n",
              "      <td>0</td>\n",
              "    </tr>\n",
              "    <tr>\n",
              "      <th>2</th>\n",
              "      <td>ciaz</td>\n",
              "      <td>2017</td>\n",
              "      <td>7.25</td>\n",
              "      <td>9.85</td>\n",
              "      <td>6900</td>\n",
              "      <td>0</td>\n",
              "      <td>0</td>\n",
              "      <td>0</td>\n",
              "      <td>0</td>\n",
              "    </tr>\n",
              "    <tr>\n",
              "      <th>3</th>\n",
              "      <td>wagon r</td>\n",
              "      <td>2011</td>\n",
              "      <td>2.85</td>\n",
              "      <td>4.15</td>\n",
              "      <td>5200</td>\n",
              "      <td>0</td>\n",
              "      <td>0</td>\n",
              "      <td>0</td>\n",
              "      <td>0</td>\n",
              "    </tr>\n",
              "    <tr>\n",
              "      <th>4</th>\n",
              "      <td>swift</td>\n",
              "      <td>2014</td>\n",
              "      <td>4.60</td>\n",
              "      <td>6.87</td>\n",
              "      <td>42450</td>\n",
              "      <td>1</td>\n",
              "      <td>0</td>\n",
              "      <td>0</td>\n",
              "      <td>0</td>\n",
              "    </tr>\n",
              "  </tbody>\n",
              "</table>\n",
              "</div>"
            ],
            "text/plain": [
              "  nome_carro   ano  preco_venda  ...  tipo_vendedor  tipo_transmissao  n_donos\n",
              "0       ritz  2014         3.35  ...              0                 0        0\n",
              "1        sx4  2013         4.75  ...              0                 0        0\n",
              "2       ciaz  2017         7.25  ...              0                 0        0\n",
              "3    wagon r  2011         2.85  ...              0                 0        0\n",
              "4      swift  2014         4.60  ...              0                 0        0\n",
              "\n",
              "[5 rows x 9 columns]"
            ]
          },
          "metadata": {
            "tags": []
          },
          "execution_count": 47
        }
      ]
    },
    {
      "cell_type": "markdown",
      "metadata": {
        "id": "3DaDeWAAfHLz"
      },
      "source": [
        "### **Vamos plotar em um gráfico os anos do carros versus o preço de venda.**\n",
        "\n",
        "---\n",
        "\n"
      ]
    },
    {
      "cell_type": "code",
      "metadata": {
        "colab": {
          "base_uri": "https://localhost:8080/",
          "height": 442
        },
        "id": "nrUgpngufHL0",
        "outputId": "34016f29-d78d-43d4-d4e6-cbacc52389bb"
      },
      "source": [
        "# plotando um gráfico de dispersão das variáveis \"ano\" vs \"preco_venda\"\n",
        "# para essa necessidade, utilizaremos a função \".scatter()\" da biblioteca \"matplotlib.pyplot\"\n",
        "# configurando o gráfico\n",
        "plt.figure(figsize=(11,7))\n",
        "plt.scatter(df['ano'], df['preco_venda'],  color='blue')\n",
        "plt.xlabel('Ano do Carro')\n",
        "plt.ylabel('Preço de venda')\n",
        "plt.show();"
      ],
      "execution_count": 48,
      "outputs": [
        {
          "output_type": "display_data",
          "data": {
            "image/png": "[encoded data removed]",
            "text/plain": [
              "<Figure size 792x504 with 1 Axes>"
            ]
          },
          "metadata": {
            "tags": [],
            "needs_background": "light"
          }
        }
      ]
    },
    {
      "cell_type": "markdown",
      "metadata": {
        "id": "or5dc-fZfHL2"
      },
      "source": [
        "### **Agora vamos ver qual os anos dos carros que mais rodaram.**\n",
        "\n",
        "---\n",
        "\n"
      ]
    },
    {
      "cell_type": "code",
      "metadata": {
        "scrolled": true,
        "colab": {
          "base_uri": "https://localhost:8080/",
          "height": 442
        },
        "id": "q8aqwh0-fHL2",
        "outputId": "f6105efe-40a5-44ec-ab2e-2ffe71882497"
      },
      "source": [
        "# plotando um gráfico de dispersão das variáveis \"ano\" vs \"kms_rodados\"\n",
        "# para essa necessidade, utilizaremos a função \".scatter()\" da biblioteca \"matplotlib.pyplot\"\n",
        "# configurando o gráfico\n",
        "plt.figure(figsize=(11,7))\n",
        "plt.scatter(df['ano'], df['kms_rodados'],  color='red')\n",
        "plt.xlabel('Ano do Carro')\n",
        "plt.ylabel('Kms Rodados')\n",
        "plt.show();"
      ],
      "execution_count": 49,
      "outputs": [
        {
          "output_type": "display_data",
          "data": {
            "image/png": "[encoded data removed]",
            "text/plain": [
              "<Figure size 792x504 with 1 Axes>"
            ]
          },
          "metadata": {
            "tags": [],
            "needs_background": "light"
          }
        }
      ]
    },
    {
      "cell_type": "markdown",
      "metadata": {
        "id": "z62B1s5ZfHL4"
      },
      "source": [
        "### **Separando a variável dependente e as variáveis independentes**\n",
        "\n",
        "---\n",
        "\n"
      ]
    },
    {
      "cell_type": "code",
      "metadata": {
        "id": "SAfpGz9afHL5"
      },
      "source": [
        "# instanciando as variáveis independentes na variável \"x\"\n",
        "x = df[['ano', 'preco_atual', 'kms_rodados', 'tipo_combustivel', 'tipo_vendedor', 'tipo_transmissao', 'n_donos']]"
      ],
      "execution_count": 50,
      "outputs": []
    },
    {
      "cell_type": "code",
      "metadata": {
        "id": "FTjw1uscfHL5"
      },
      "source": [
        "# instanciando a variável dependente na variável \"y\"\n",
        "y = df[['preco_venda']]"
      ],
      "execution_count": 51,
      "outputs": []
    },
    {
      "cell_type": "markdown",
      "metadata": {
        "id": "CuF8GxuAfHL6"
      },
      "source": [
        "### **Separando os dados em treino e teste**\n",
        "\n",
        "---\n",
        "\n"
      ]
    },
    {
      "cell_type": "markdown",
      "metadata": {
        "id": "-EJe6KnPfHL7"
      },
      "source": [
        "Para construir nosso modelo de Machine Learning precisamos dividir os dados em duas partes. \n",
        "  - uma parte para treinar o modelo e,\n",
        "  - outra para testar o modelo com dados que ele não conhece. \n",
        "  \n",
        "Para isso iremos separar `80% dos dados para treino` e `20%\n",
        "dos dados para teste`. \n",
        "  - para isso usaremos a biblioteca `train_test_split` que faz essa separação automaticamente."
      ]
    },
    {
      "cell_type": "code",
      "metadata": {
        "id": "kowsdYZ5fHL8"
      },
      "source": [
        "# importando a biblioteca para realizar a separação dos dados de treino e teste\n",
        "from sklearn.model_selection import train_test_split\n",
        "\n",
        "# instanciando os dados de treino (x_train e y_train) e teste (x_test e y_test)\n",
        "# utilizando a função \"train_test_split\", respeitando a seguinte ordem \"x_train, x_test, y_train, y_test\"\n",
        "x_train, x_test, y_train, y_test = train_test_split(x, y, \n",
        "                                                    test_size=0.2)\n",
        "                                                    # separando 20% dos dados para teste e o restante, 80% para treino"
      ],
      "execution_count": 52,
      "outputs": []
    },
    {
      "cell_type": "markdown",
      "metadata": {
        "id": "wkH1P-UffHL9"
      },
      "source": [
        "> - **x_train** é a parte usada para treinar o algoritmo\n",
        "> - **x_test** é a parte usada para testar o algoritmo depois de treinado\n",
        "> - **y_train** é a parte das respostas usadas no treino\n",
        "> - **y_test** é a parte das respostas usadas para testar o algoritmo"
      ]
    },
    {
      "cell_type": "code",
      "metadata": {
        "colab": {
          "base_uri": "https://localhost:8080/"
        },
        "id": "F4rL7n9HfHL-",
        "outputId": "ec2f28a5-dd47-4701-8a15-e5cfd008ffd7"
      },
      "source": [
        "# visualizando o número de registros que serão usados para o treino e teste\n",
        "print('Treino')\n",
        "print('x_train: ',x_train.shape)\n",
        "print('y_train: ',y_train.shape)\n",
        "\n",
        "print('\\nTeste')\n",
        "print('x_test: ',x_test.shape)\n",
        "print('y_test: ',y_test.shape)"
      ],
      "execution_count": 53,
      "outputs": [
        {
          "output_type": "stream",
          "text": [
            "Treino\n",
            "x_train:  (240, 7)\n",
            "y_train:  (240, 1)\n",
            "\n",
            "Teste\n",
            "x_test:  (61, 7)\n",
            "y_test:  (61, 1)\n"
          ],
          "name": "stdout"
        }
      ]
    },
    {
      "cell_type": "markdown",
      "metadata": {
        "id": "_yl8F2xqfHL_"
      },
      "source": [
        "### **Treinando o Modelo** \n",
        "\n",
        "---\n",
        "\n"
      ]
    },
    {
      "cell_type": "code",
      "metadata": {
        "colab": {
          "base_uri": "https://localhost:8080/"
        },
        "id": "b-kviUzQfHMA",
        "outputId": "b645916c-d739-42ff-b356-c09c43cd70c3"
      },
      "source": [
        "# importando a função \"LinearRegression\" da biblioteca do \"sklearn.linear_model\"\n",
        "from sklearn.linear_model import LinearRegression\n",
        "\n",
        "# define um modelo de regressão\n",
        "model = LinearRegression()\n",
        "\n",
        "# utilizando a função \".fit()\" e treinando o modelo com os dados de treino\n",
        "model.fit(x_train, y_train)"
      ],
      "execution_count": 54,
      "outputs": [
        {
          "output_type": "execute_result",
          "data": {
            "text/plain": [
              "LinearRegression(copy_X=True, fit_intercept=True, n_jobs=None, normalize=False)"
            ]
          },
          "metadata": {
            "tags": []
          },
          "execution_count": 54
        }
      ]
    },
    {
      "cell_type": "markdown",
      "metadata": {
        "id": "cM0i_C_YfHMB"
      },
      "source": [
        "### **Realiza a previsão dos preços**\n",
        "\n",
        "---\n",
        "\n"
      ]
    },
    {
      "cell_type": "code",
      "metadata": {
        "id": "sT5PPOm0fHMB"
      },
      "source": [
        "# y_pred contém a previsão dos preços do nosso modelo\n",
        "y_pred = model.predict(x_test)"
      ],
      "execution_count": 55,
      "outputs": []
    },
    {
      "cell_type": "code",
      "metadata": {
        "colab": {
          "base_uri": "https://localhost:8080/"
        },
        "id": "Sgo1KPG7fHMC",
        "outputId": "9ee4e22d-c211-42b4-d57a-3d18c7f867b8"
      },
      "source": [
        "# visualizando a quantidade de dados do \"y_pred\" e \"y_test\"\n",
        "print(y_pred.shape)\n",
        "print(y_test.shape)"
      ],
      "execution_count": 56,
      "outputs": [
        {
          "output_type": "stream",
          "text": [
            "(61, 1)\n",
            "(61, 1)\n"
          ],
          "name": "stdout"
        }
      ]
    },
    {
      "cell_type": "markdown",
      "metadata": {
        "id": "E3wLTR5CfHMD"
      },
      "source": [
        "### **Agora vamos plotar o preço dos carros, previsto pelo modelo versus os dados de teste**\n",
        "\n",
        "---\n",
        "\n"
      ]
    },
    {
      "cell_type": "code",
      "metadata": {
        "colab": {
          "base_uri": "https://localhost:8080/",
          "height": 442
        },
        "id": "0Q4xMX8VfHME",
        "outputId": "176f838b-44aa-4e9f-e2fc-16b3b51e8995"
      },
      "source": [
        "# configurando o gráfico\n",
        "plt.figure(figsize=(11,7))\n",
        "plt.plot(range(y_pred.shape[0]), y_pred,'r--')\n",
        "plt.plot(range(y_test.shape[0]), y_test,'g--')\n",
        "plt.legend(['preço previsto', 'preço real'])\n",
        "plt.ylabel('Preço')\n",
        "plt.xlabel('Índice')\n",
        "plt.show();"
      ],
      "execution_count": 57,
      "outputs": [
        {
          "output_type": "display_data",
          "data": {
            "image/png": "[encoded data removed]",
            "text/plain": [
              "<Figure size 792x504 with 1 Axes>"
            ]
          },
          "metadata": {
            "tags": [],
            "needs_background": "light"
          }
        }
      ]
    },
    {
      "cell_type": "markdown",
      "metadata": {
        "id": "TEMBf5iefHMF"
      },
      "source": [
        "É possível observar no gráfico que o modelo, em alguns casos tende a prever preços mais baixos do que o preço real de venda."
      ]
    },
    {
      "cell_type": "markdown",
      "metadata": {
        "id": "pC22YisOfHMG"
      },
      "source": [
        "Para saber o quanto o nosso modelo está explicando os dados, ou o quanto o modelo pode prever corretamente,\n",
        "iremos utilizar a medida r2, que é o coeficiente de determinação. Para isso iremos utilizar os dados da resposta\n",
        "na etapa de teste e os dados de resposta previstos."
      ]
    },
    {
      "cell_type": "code",
      "metadata": {
        "colab": {
          "base_uri": "https://localhost:8080/"
        },
        "id": "zeA4ykNofHMH",
        "outputId": "832f1884-b4ad-41ba-85ef-e81529e251f6"
      },
      "source": [
        "# importando a biblioteca \"r2_score\" para realizar avaliação da previsão do modelo\n",
        "from sklearn.metrics import r2_score\n",
        "\n",
        "print('R2-score: ', r2_score(y_test, y_pred))"
      ],
      "execution_count": 58,
      "outputs": [
        {
          "output_type": "stream",
          "text": [
            "R2-score:  0.831129922401111\n"
          ],
          "name": "stdout"
        }
      ]
    },
    {
      "cell_type": "markdown",
      "metadata": {
        "id": "o13AsrYjfHMI"
      },
      "source": [
        "Quanto mais próximo de 1, mais o modelo é capaz de prever corretamente.\n",
        "Então do resultado acima, colocando em porcentagem podemos dizer que o nosso modelo\n",
        "prevê corretamente 87% dos preços."
      ]
    },
    {
      "cell_type": "markdown",
      "metadata": {
        "id": "SCFZnVlSfHMJ"
      },
      "source": [
        "### A**gora é sua vez de Praticar!**\n",
        "\n",
        "---\n",
        "\n"
      ]
    },
    {
      "cell_type": "markdown",
      "metadata": {
        "id": "3YUlxKSsfHMJ"
      },
      "source": [
        "Use as variáveis a seguir para fazer as previsões com base no que já foi visto"
      ]
    },
    {
      "cell_type": "code",
      "metadata": {
        "id": "MFtu6xoZfHMK"
      },
      "source": [
        "# instanciando as variáveis independentes na variável \"new_x\"\n",
        "new_x = df[['ano', 'preco_atual', 'kms_rodados', 'tipo_combustivel']]\n",
        "\n",
        "# instanciando as variável dependente na variável \"new_y\"\n",
        "new_y = df[['preco_venda']]"
      ],
      "execution_count": 59,
      "outputs": []
    },
    {
      "cell_type": "markdown",
      "metadata": {
        "id": "aXaXoS1hfHML"
      },
      "source": [
        "Separe os dados em dados de treino e teste, e então defina um modelo de regressão e realize as previsões.\n",
        "- depois use o `r2_score` para saber a nova porcentagem desse modelo. O resultado é melhor ou pior?"
      ]
    },
    {
      "cell_type": "code",
      "metadata": {
        "colab": {
          "base_uri": "https://localhost:8080/"
        },
        "id": "TNWQkULefHML",
        "outputId": "f5fc51d7-a434-4445-d828-f76afbdb47c8"
      },
      "source": [
        "# escreva seu código aqui\n",
        "\n",
        "# importando a biblioteca para realizar a separação dos dados de treino e teste\n",
        "from sklearn.model_selection import train_test_split\n",
        "\n",
        "# instanciando os dados de treino (X_train e y_train) e teste (X_test e y_test)\n",
        "# utilizando a função \"train_test_split\", respeitando a seguinte ordem \"X_train, X_test, y_train, y_test\"\n",
        "X_train, X_test, y_train, y_test = train_test_split(new_x, new_y, \n",
        "                                                    test_size=0.2)\n",
        "                                                    # separando 20% dos dados para teste e o restante, 80% para treino\n",
        "\n",
        "# visualizando o número de registros que serão usados para o treino e teste\n",
        "print('Treino')\n",
        "print(f'X_train: {X_train.shape}')\n",
        "print(f'y_train: {y_train.shape}')\n",
        "\n",
        "print('\\nTeste')\n",
        "print(f'X_test: {X_test.shape}')\n",
        "print(f'y_test: {y_test.shape}\\n')\n",
        "\n",
        "# importando a função \"LinearRegression\" da biblioteca do \"sklearn.linear_model\"\n",
        "from sklearn.linear_model import LinearRegression\n",
        "\n",
        "# define um modelo de regressão\n",
        "model = LinearRegression()\n",
        "\n",
        "# utilizando a função \".fit()\" e treinando o modelo com os dados de treino\n",
        "model.fit(X_train, y_train)\n",
        "\n",
        "# com a função \".predict()\" iremos realizar a previsão dos preços do nosso modelo\n",
        "y_pred = model.predict(X_test)\n",
        "\n",
        "# visualizando a quantidade de dados do \"y_pred\" e \"y_test\"\n",
        "print(y_pred.shape)\n",
        "print(y_test.shape)"
      ],
      "execution_count": 60,
      "outputs": [
        {
          "output_type": "stream",
          "text": [
            "Treino\n",
            "X_train: (240, 4)\n",
            "y_train: (240, 1)\n",
            "\n",
            "Teste\n",
            "X_test: (61, 4)\n",
            "y_test: (61, 1)\n",
            "\n",
            "(61, 1)\n",
            "(61, 1)\n"
          ],
          "name": "stdout"
        }
      ]
    },
    {
      "cell_type": "code",
      "metadata": {
        "colab": {
          "base_uri": "https://localhost:8080/"
        },
        "id": "KSY3RNL3fHMM",
        "outputId": "43fd6906-4eeb-4bbb-fdbf-2e551bde0fa5"
      },
      "source": [
        "# importando a biblioteca \"r2_score\" para realizar avaliação da previsão do modelo\n",
        "from sklearn.metrics import r2_score\n",
        "\n",
        "print('R2-score: ', r2_score(y_test, y_pred))"
      ],
      "execution_count": 61,
      "outputs": [
        {
          "output_type": "stream",
          "text": [
            "R2-score:  0.8188447580778992\n"
          ],
          "name": "stdout"
        }
      ]
    },
    {
      "cell_type": "markdown",
      "metadata": {
        "id": "1lagYm-dz6Um"
      },
      "source": [
        ">> Nosso modelo, ficou com sua performace abaixo do primeiro.\n",
        "  - podemos avaliar seu desempenho pelo valor do `R2`, que foi de ≅ 82%."
      ]
    },
    {
      "cell_type": "code",
      "metadata": {
        "colab": {
          "base_uri": "https://localhost:8080/",
          "height": 442
        },
        "id": "DltV2QSifHMN",
        "outputId": "4d7c9e3d-c6de-4a61-a18b-f408c630a9d4"
      },
      "source": [
        "# vamos visualizar de forma gráfica o desempenho do modelo\n",
        "# plotando e configurando o gráfico\n",
        "plt.figure(figsize=(11,7))\n",
        "plt.plot(range(y_pred.shape[0]), y_pred,'r--')\n",
        "plt.plot(range(y_test.shape[0]), y_test,'g--')\n",
        "plt.legend(['preço previsto', 'preço real'])\n",
        "plt.ylabel('Preço')\n",
        "plt.xlabel('Índice')\n",
        "plt.show();"
      ],
      "execution_count": 62,
      "outputs": [
        {
          "output_type": "display_data",
          "data": {
            "image/png": "[encoded data removed]",
            "text/plain": [
              "<Figure size 792x504 with 1 Axes>"
            ]
          },
          "metadata": {
            "tags": [],
            "needs_background": "light"
          }
        }
      ]
    },
    {
      "cell_type": "code",
      "metadata": {
        "id": "4goduxy0fHMN"
      },
      "source": [
        ""
      ],
      "execution_count": null,
      "outputs": []
    }
  ]
}