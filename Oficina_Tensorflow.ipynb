{
  "nbformat": 4,
  "nbformat_minor": 0,
  "metadata": {
    "colab": {
      "name": "Oficina - Tensorflow.ipynb",
      "provenance": [],
      "collapsed_sections": [],
      "include_colab_link": true
    },
    "kernelspec": {
      "display_name": "Python 3",
      "language": "python",
      "name": "python3"
    },
    "language_info": {
      "codemirror_mode": {
        "name": "ipython",
        "version": 3
      },
      "file_extension": ".py",
      "mimetype": "text/x-python",
      "name": "python",
      "nbconvert_exporter": "python",
      "pygments_lexer": "ipython3",
      "version": "3.6.1"
    }
  },
  "cells": [
    {
      "cell_type": "markdown",
      "metadata": {
        "id": "view-in-github",
        "colab_type": "text"
      },
      "source": [
        "<a href=\"https://colab.research.google.com/github/FGalvao77/Machine-Learning/blob/main/Oficina_Tensorflow.ipynb\" target=\"_parent\"><img src=\"https://colab.research.google.com/assets/colab-badge.svg\" alt=\"Open In Colab\"/></a>"
      ]
    },
    {
      "cell_type": "markdown",
      "metadata": {
        "id": "vxF4pswWOQHA"
      },
      "source": [
        "<img src='tensor.png'>"
      ]
    },
    {
      "cell_type": "markdown",
      "metadata": {
        "id": "sKcpxujKOQHB"
      },
      "source": [
        "<img src='parcs.png'>"
      ]
    },
    {
      "cell_type": "code",
      "metadata": {
        "collapsed": true,
        "id": "_c6kGgLq6B6R"
      },
      "source": [
        "# importando as bibliotecas necessárias\n",
        "import tensorflow as tf\n",
        "from tensorflow import keras\n",
        "import numpy as np"
      ],
      "execution_count": 1,
      "outputs": []
    },
    {
      "cell_type": "code",
      "metadata": {
        "collapsed": true,
        "id": "5ksvsRB16B6c"
      },
      "source": [
        "# carregando o conjunto de dados e instanciando na variável \"fashion_mnist\"\n",
        "fashion_mnist = keras.datasets.fashion_mnist\n",
        "\n",
        "# separando os dados de treino e teste \n",
        "(train_images, train_labels), (test_images, test_labels) = fashion_mnist.load_data()"
      ],
      "execution_count": 23,
      "outputs": []
    },
    {
      "cell_type": "code",
      "metadata": {
        "colab": {
          "base_uri": "https://localhost:8080/"
        },
        "id": "aevxZgo26B6j",
        "outputId": "2003d99f-758d-4adb-85dd-95667eff2087"
      },
      "source": [
        "# visualizando as imagens de treino\n",
        "train_images.shape"
      ],
      "execution_count": 24,
      "outputs": [
        {
          "output_type": "execute_result",
          "data": {
            "text/plain": [
              "(60000, 28, 28)"
            ]
          },
          "metadata": {
            "tags": []
          },
          "execution_count": 24
        }
      ]
    },
    {
      "cell_type": "code",
      "metadata": {
        "colab": {
          "base_uri": "https://localhost:8080/"
        },
        "id": "84Cf91vr6B6n",
        "outputId": "e998654f-03b6-4094-9305-bdcb924a1b18"
      },
      "source": [
        "# visualizando a quantidade de rótulos das imagens de treino\n",
        "len(train_labels)"
      ],
      "execution_count": 25,
      "outputs": [
        {
          "output_type": "execute_result",
          "data": {
            "text/plain": [
              "60000"
            ]
          },
          "metadata": {
            "tags": []
          },
          "execution_count": 25
        }
      ]
    },
    {
      "cell_type": "code",
      "metadata": {
        "colab": {
          "base_uri": "https://localhost:8080/"
        },
        "id": "bQI68dl56B6r",
        "outputId": "c9302da3-62c6-4de2-f42d-751fe4c7e8c0"
      },
      "source": [
        "# visualizando os rótulos das imagens de treino\n",
        "np.unique(train_labels)"
      ],
      "execution_count": 26,
      "outputs": [
        {
          "output_type": "execute_result",
          "data": {
            "text/plain": [
              "array([0, 1, 2, 3, 4, 5, 6, 7, 8, 9], dtype=uint8)"
            ]
          },
          "metadata": {
            "tags": []
          },
          "execution_count": 26
        }
      ]
    },
    {
      "cell_type": "code",
      "metadata": {
        "colab": {
          "base_uri": "https://localhost:8080/"
        },
        "id": "bxPD-Au-6B6v",
        "outputId": "809f06d5-74f2-47ca-f7f8-2a66812f7c56"
      },
      "source": [
        "# quantidade de imagens de teste\n",
        "test_images.shape # um tensor de 3D - matriz de 10 mil elementos com dimensão de 28 por 28"
      ],
      "execution_count": 28,
      "outputs": [
        {
          "output_type": "execute_result",
          "data": {
            "text/plain": [
              "(10000, 28, 28)"
            ]
          },
          "metadata": {
            "tags": []
          },
          "execution_count": 28
        }
      ]
    },
    {
      "cell_type": "code",
      "metadata": {
        "colab": {
          "base_uri": "https://localhost:8080/"
        },
        "id": "b42JxOQn6B60",
        "outputId": "715c74b7-3424-45e7-c431-4c4cc0958b3e"
      },
      "source": [
        "# quantidade de imagens de treino - rótulos\n",
        "len(test_labels)"
      ],
      "execution_count": 29,
      "outputs": [
        {
          "output_type": "execute_result",
          "data": {
            "text/plain": [
              "10000"
            ]
          },
          "metadata": {
            "tags": []
          },
          "execution_count": 29
        }
      ]
    },
    {
      "cell_type": "code",
      "metadata": {
        "colab": {
          "base_uri": "https://localhost:8080/"
        },
        "id": "9JZ0l1ph6B64",
        "outputId": "d7f35a71-3164-427b-9feb-0c32406ab3ad"
      },
      "source": [
        "# visualizando os rótulos das imagens de teste\n",
        "test_labels"
      ],
      "execution_count": 30,
      "outputs": [
        {
          "output_type": "execute_result",
          "data": {
            "text/plain": [
              "array([9, 2, 1, ..., 8, 1, 5], dtype=uint8)"
            ]
          },
          "metadata": {
            "tags": []
          },
          "execution_count": 30
        }
      ]
    },
    {
      "cell_type": "code",
      "metadata": {
        "collapsed": true,
        "id": "L3SKeNvS6B7D"
      },
      "source": [
        "# vamos escalar as imagens de treino e teste\n",
        "train_images = train_images / 255.0\n",
        "test_images = test_images / 255.0"
      ],
      "execution_count": 31,
      "outputs": []
    },
    {
      "cell_type": "code",
      "metadata": {
        "colab": {
          "base_uri": "https://localhost:8080/"
        },
        "id": "FZ21TQ4O6B7J",
        "outputId": "4414b79e-d65d-425c-fcc7-cec4972bc7c7"
      },
      "source": [
        "# instanciando o modelo e seus parâmetros\n",
        "model = keras.Sequential([\n",
        "    keras.layers.Flatten(input_shape=(28, 28)),\n",
        "    keras.layers.Dense(50, activation=tf.nn.relu),  # definindo a camada intermedária em 50 neurônios\n",
        "    keras.layers.Dense(10, activation=tf.nn.softmax)\n",
        "])\n",
        "\n",
        "# visualizando o modelo e seus parâmetros\n",
        "model.summary()"
      ],
      "execution_count": 32,
      "outputs": [
        {
          "output_type": "stream",
          "text": [
            "Model: \"sequential_1\"\n",
            "_________________________________________________________________\n",
            "Layer (type)                 Output Shape              Param #   \n",
            "=================================================================\n",
            "flatten_1 (Flatten)          (None, 784)               0         \n",
            "_________________________________________________________________\n",
            "dense_2 (Dense)              (None, 50)                39250     \n",
            "_________________________________________________________________\n",
            "dense_3 (Dense)              (None, 10)                510       \n",
            "=================================================================\n",
            "Total params: 39,760\n",
            "Trainable params: 39,760\n",
            "Non-trainable params: 0\n",
            "_________________________________________________________________\n"
          ],
          "name": "stdout"
        }
      ]
    },
    {
      "cell_type": "code",
      "metadata": {
        "collapsed": true,
        "id": "2YLI-l8B6B7N"
      },
      "source": [
        "# realizando a compilação do modelo e definindo os parâmetros\n",
        "model.compile(optimizer='adam', \n",
        "              loss='sparse_categorical_crossentropy',\n",
        "              metrics=['accuracy'])"
      ],
      "execution_count": 33,
      "outputs": []
    },
    {
      "cell_type": "code",
      "metadata": {
        "colab": {
          "base_uri": "https://localhost:8080/"
        },
        "id": "cBGct1Ij6B7R",
        "outputId": "979e206b-b31d-4245-b95b-6127c4d09e3e"
      },
      "source": [
        "# treinando o modelo com as imagens de treino e os rótulos\n",
        "model.fit(train_images, train_labels, epochs=5) # definindo 5 épocas de iteração para o treinamento"
      ],
      "execution_count": 34,
      "outputs": [
        {
          "output_type": "stream",
          "text": [
            "Epoch 1/5\n",
            "1875/1875 [==============================] - 4s 2ms/step - loss: 0.5235 - accuracy: 0.8177\n",
            "Epoch 2/5\n",
            "1875/1875 [==============================] - 3s 2ms/step - loss: 0.3970 - accuracy: 0.8605\n",
            "Epoch 3/5\n",
            "1875/1875 [==============================] - 3s 2ms/step - loss: 0.3623 - accuracy: 0.8700\n",
            "Epoch 4/5\n",
            "1875/1875 [==============================] - 3s 2ms/step - loss: 0.3378 - accuracy: 0.8776\n",
            "Epoch 5/5\n",
            "1875/1875 [==============================] - 3s 2ms/step - loss: 0.3223 - accuracy: 0.8840\n"
          ],
          "name": "stdout"
        },
        {
          "output_type": "execute_result",
          "data": {
            "text/plain": [
              "<tensorflow.python.keras.callbacks.History at 0x7f1332e1b890>"
            ]
          },
          "metadata": {
            "tags": []
          },
          "execution_count": 34
        }
      ]
    },
    {
      "cell_type": "code",
      "metadata": {
        "colab": {
          "base_uri": "https://localhost:8080/"
        },
        "id": "m_XoCgZx6B7X",
        "outputId": "2217e1f8-3ac9-4df5-dce2-a521f7581a88"
      },
      "source": [
        "# avaliando o modelo e separando o valor de erro e o valor de acurácia\n",
        "test_loss, test_acc = model.evaluate(test_images, test_labels)\n",
        "\n",
        "# visualizando o teste de acurácia\n",
        "print('Test accuracy:', test_acc)"
      ],
      "execution_count": 35,
      "outputs": [
        {
          "output_type": "stream",
          "text": [
            "313/313 [==============================] - 0s 1ms/step - loss: 0.3822 - accuracy: 0.8637\n",
            "Test accuracy: 0.8636999726295471\n"
          ],
          "name": "stdout"
        }
      ]
    },
    {
      "cell_type": "code",
      "metadata": {
        "collapsed": true,
        "id": "831mHUzm6B7e"
      },
      "source": [
        "# utilizando a função \".predict()\" que irar criar uma predição para cada imagem de teste\n",
        "# e o resultado iremos instanciar na variável \"predictions\"\n",
        "predictions = model.predict(test_images)"
      ],
      "execution_count": 36,
      "outputs": []
    },
    {
      "cell_type": "code",
      "metadata": {
        "colab": {
          "base_uri": "https://localhost:8080/"
        },
        "id": "VKWN75Op6B7h",
        "outputId": "1bd78f27-46c4-44c8-e150-9cf9e6c5120f"
      },
      "source": [
        "# visualizando a primeira predição\n",
        "predictions[0]  # temos um array com 10 elementos com números em notação científica "
      ],
      "execution_count": 37,
      "outputs": [
        {
          "output_type": "execute_result",
          "data": {
            "text/plain": [
              "array([4.9426562e-06, 1.2948493e-07, 7.6635791e-09, 9.4017317e-08,\n",
              "       4.1755459e-07, 2.4348223e-03, 1.0566383e-06, 2.2952277e-02,\n",
              "       2.6961899e-05, 9.7457933e-01], dtype=float32)"
            ]
          },
          "metadata": {
            "tags": []
          },
          "execution_count": 37
        }
      ]
    },
    {
      "cell_type": "code",
      "metadata": {
        "colab": {
          "base_uri": "https://localhost:8080/"
        },
        "id": "kaStAfhm6B7o",
        "outputId": "691c4287-29f1-4a35-90b5-5e5ae75fe63c"
      },
      "source": [
        "# visualizando o elemento com predição de valor máximo\n",
        "np.argmax(predictions[0])"
      ],
      "execution_count": 38,
      "outputs": [
        {
          "output_type": "execute_result",
          "data": {
            "text/plain": [
              "9"
            ]
          },
          "metadata": {
            "tags": []
          },
          "execution_count": 38
        }
      ]
    },
    {
      "cell_type": "code",
      "metadata": {
        "colab": {
          "base_uri": "https://localhost:8080/"
        },
        "id": "_JNGtaUf6B7t",
        "outputId": "816fdc4e-199a-4e61-f815-40b468604c77"
      },
      "source": [
        "# visualizando o rótulo da imagem de teste\n",
        "test_labels[0]  # percebe que, o modelo acertou a primeira predição"
      ],
      "execution_count": 39,
      "outputs": [
        {
          "output_type": "execute_result",
          "data": {
            "text/plain": [
              "9"
            ]
          },
          "metadata": {
            "tags": []
          },
          "execution_count": 39
        }
      ]
    },
    {
      "cell_type": "code",
      "metadata": {
        "colab": {
          "base_uri": "https://localhost:8080/"
        },
        "id": "9PRNwJjx6B8D",
        "outputId": "5e3ac502-1702-493a-b938-045e1bc956c8"
      },
      "source": [
        "# iremos instanciar a imagem de teste na variável \"img\"\n",
        "# para posteriormente realizarmos uma avaliação individual\n",
        "img = test_images[0]\n",
        "\n",
        "# imprimindo a variável\n",
        "print(img.shape)  # temos uma imagem de dimensão 28 por 28"
      ],
      "execution_count": 40,
      "outputs": [
        {
          "output_type": "stream",
          "text": [
            "(28, 28)\n"
          ],
          "name": "stdout"
        }
      ]
    },
    {
      "cell_type": "code",
      "metadata": {
        "colab": {
          "base_uri": "https://localhost:8080/"
        },
        "id": "rgAEBBvr6B8H",
        "outputId": "9d89cc75-74c9-4d49-9e1d-aacfa8ad7a0f"
      },
      "source": [
        "# aplicando a função \".expand_dims()\" do numpy\n",
        "# ele irar expandir a dimensão da nossa imagem\n",
        "# e iremos instanciar em uma nova variável \"img\"\n",
        "img = (np.expand_dims(img,0))\n",
        "\n",
        "# visualizando a imagem expandida\n",
        "print(img.shape)"
      ],
      "execution_count": 41,
      "outputs": [
        {
          "output_type": "stream",
          "text": [
            "(1, 28, 28)\n"
          ],
          "name": "stdout"
        }
      ]
    },
    {
      "cell_type": "code",
      "metadata": {
        "colab": {
          "base_uri": "https://localhost:8080/"
        },
        "id": "kBd9iSvk6B8L",
        "outputId": "8bd76229-a080-4e91-cf02-f7c1858b2b97"
      },
      "source": [
        "# aplicando o modelo na imagem expandida\n",
        "predictions_single = model.predict(img)\n",
        "\n",
        "# visualizando a predição\n",
        "print(predictions_single)"
      ],
      "execution_count": 42,
      "outputs": [
        {
          "output_type": "stream",
          "text": [
            "[[4.9426562e-06 1.2948493e-07 7.6635933e-09 9.4017501e-08 4.1755538e-07\n",
            "  2.4348246e-03 1.0566383e-06 2.2952272e-02 2.6961898e-05 9.7457933e-01]]\n"
          ],
          "name": "stdout"
        }
      ]
    },
    {
      "cell_type": "code",
      "metadata": {
        "colab": {
          "base_uri": "https://localhost:8080/"
        },
        "id": "buMojq1B6B8S",
        "outputId": "4f415293-9f6c-48b9-ba2e-9591c929b14f"
      },
      "source": [
        "# visualizando o elemento com predição de valor máximo\n",
        "np.argmax(predictions_single[0])"
      ],
      "execution_count": 43,
      "outputs": [
        {
          "output_type": "execute_result",
          "data": {
            "text/plain": [
              "9"
            ]
          },
          "metadata": {
            "tags": []
          },
          "execution_count": 43
        }
      ]
    }
  ]
}