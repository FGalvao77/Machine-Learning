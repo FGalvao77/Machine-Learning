{
  "nbformat": 4,
  "nbformat_minor": 0,
  "metadata": {
    "colab": {
      "name": "02 - Introdução ao Pré-processamento de dados com Python.ipynb",
      "provenance": [],
      "collapsed_sections": [],
      "authorship_tag": "ABX9TyPa2Waixk0ArBIRVDOmhkFQ",
      "include_colab_link": true
    },
    "kernelspec": {
      "name": "python3",
      "display_name": "Python 3"
    },
    "language_info": {
      "name": "python"
    }
  },
  "cells": [
    {
      "cell_type": "markdown",
      "metadata": {
        "id": "view-in-github",
        "colab_type": "text"
      },
      "source": [
        "<a href=\"https://colab.research.google.com/github/FGalvao77/Machine-Learning/blob/main/02_Introdu%C3%A7%C3%A3o_ao_Pr%C3%A9_processamento_de_dados_com_Python.ipynb\" target=\"_parent\"><img src=\"https://colab.research.google.com/assets/colab-badge.svg\" alt=\"Open In Colab\"/></a>"
      ]
    },
    {
      "cell_type": "markdown",
      "metadata": {
        "id": "ieamFP9CnmrC"
      },
      "source": [
        "# **Análise Exploratória de Dados**\n",
        "\n",
        "---\n",
        "\n"
      ]
    },
    {
      "cell_type": "code",
      "metadata": {
        "id": "fkVweCAbh-bO"
      },
      "source": [
        "# importando a biblioteca\n",
        "import pandas as pd # para modelagem de dados"
      ],
      "execution_count": null,
      "outputs": []
    },
    {
      "cell_type": "code",
      "metadata": {
        "colab": {
          "resources": {
            "http://localhost:8080/nbextensions/google.colab/files.js": {
              "data": "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",
              "ok": true,
              "headers": [
                [
                  "content-type",
                  "application/javascript"
                ]
              ],
              "status": 200,
              "status_text": ""
            }
          },
          "base_uri": "https://localhost:8080/",
          "height": 72
        },
        "id": "VVgPcLgMiI4F",
        "outputId": "f7b6dc20-b8f7-4492-e4bb-548f4b590956"
      },
      "source": [
        "# realizando o carregamento do conjunto de dados para google colab\n",
        "from google.colab import files  # biblioteca utilizada para carregar os dados para o google colab\n",
        "uploaded = files.upload()"
      ],
      "execution_count": null,
      "outputs": [
        {
          "output_type": "display_data",
          "data": {
            "text/html": [
              "\n",
              "     <input type=\"file\" id=\"files-8dfde342-49cc-4b91-ad79-0c79f200b671\" name=\"files[]\" multiple disabled\n",
              "        style=\"border:none\" />\n",
              "     <output id=\"result-8dfde342-49cc-4b91-ad79-0c79f200b671\">\n",
              "      Upload widget is only available when the cell has been executed in the\n",
              "      current browser session. Please rerun this cell to enable.\n",
              "      </output>\n",
              "      <script src=\"/nbextensions/google.colab/files.js\"></script> "
            ],
            "text/plain": [
              "<IPython.core.display.HTML object>"
            ]
          },
          "metadata": {
            "tags": []
          }
        },
        {
          "output_type": "stream",
          "text": [
            "Saving fruit_data_with_colors_miss.txt to fruit_data_with_colors_miss.txt\n"
          ],
          "name": "stdout"
        }
      ]
    },
    {
      "cell_type": "code",
      "metadata": {
        "id": "PA0BinapiI0_"
      },
      "source": [
        "# realizando a leitura da base de dados e instanciando na variável \"data\"\n",
        "data = pd.read_table('fruit_data_with_colors_miss.txt')"
      ],
      "execution_count": null,
      "outputs": []
    },
    {
      "cell_type": "code",
      "metadata": {
        "colab": {
          "base_uri": "https://localhost:8080/",
          "height": 359
        },
        "id": "qTMDXJdmiI0K",
        "outputId": "b501b2a6-f8e3-4ddb-c18b-f15456f12642"
      },
      "source": [
        "# visualizando as 10 primeiras linhas da variável \"data\"\n",
        "data.head(10)"
      ],
      "execution_count": null,
      "outputs": [
        {
          "output_type": "execute_result",
          "data": {
            "text/html": [
              "<div>\n",
              "<style scoped>\n",
              "    .dataframe tbody tr th:only-of-type {\n",
              "        vertical-align: middle;\n",
              "    }\n",
              "\n",
              "    .dataframe tbody tr th {\n",
              "        vertical-align: top;\n",
              "    }\n",
              "\n",
              "    .dataframe thead th {\n",
              "        text-align: right;\n",
              "    }\n",
              "</style>\n",
              "<table border=\"1\" class=\"dataframe\">\n",
              "  <thead>\n",
              "    <tr style=\"text-align: right;\">\n",
              "      <th></th>\n",
              "      <th>fruit_label</th>\n",
              "      <th>fruit_name</th>\n",
              "      <th>fruit_subtype</th>\n",
              "      <th>mass</th>\n",
              "      <th>width</th>\n",
              "      <th>height</th>\n",
              "      <th>color_score</th>\n",
              "    </tr>\n",
              "  </thead>\n",
              "  <tbody>\n",
              "    <tr>\n",
              "      <th>0</th>\n",
              "      <td>1</td>\n",
              "      <td>apple</td>\n",
              "      <td>granny_smith</td>\n",
              "      <td>192</td>\n",
              "      <td>8.4</td>\n",
              "      <td>7.3</td>\n",
              "      <td>0.55</td>\n",
              "    </tr>\n",
              "    <tr>\n",
              "      <th>1</th>\n",
              "      <td>1</td>\n",
              "      <td>apple</td>\n",
              "      <td>granny_smith</td>\n",
              "      <td>180</td>\n",
              "      <td>8.0</td>\n",
              "      <td>6.8</td>\n",
              "      <td>0.59</td>\n",
              "    </tr>\n",
              "    <tr>\n",
              "      <th>2</th>\n",
              "      <td>1</td>\n",
              "      <td>apple</td>\n",
              "      <td>granny_smith</td>\n",
              "      <td>176</td>\n",
              "      <td>7.4</td>\n",
              "      <td>7.2</td>\n",
              "      <td>0.60</td>\n",
              "    </tr>\n",
              "    <tr>\n",
              "      <th>3</th>\n",
              "      <td>2</td>\n",
              "      <td>mandarin</td>\n",
              "      <td>mandarin</td>\n",
              "      <td>?</td>\n",
              "      <td>6.2</td>\n",
              "      <td>4.7</td>\n",
              "      <td>0.80</td>\n",
              "    </tr>\n",
              "    <tr>\n",
              "      <th>4</th>\n",
              "      <td>2</td>\n",
              "      <td>mandarin</td>\n",
              "      <td>mandarin</td>\n",
              "      <td>84</td>\n",
              "      <td>6.0</td>\n",
              "      <td>4.6</td>\n",
              "      <td>0.79</td>\n",
              "    </tr>\n",
              "    <tr>\n",
              "      <th>5</th>\n",
              "      <td>2</td>\n",
              "      <td>mandarin</td>\n",
              "      <td>mandarin</td>\n",
              "      <td>80</td>\n",
              "      <td>5.8</td>\n",
              "      <td>4.3</td>\n",
              "      <td>0.77</td>\n",
              "    </tr>\n",
              "    <tr>\n",
              "      <th>6</th>\n",
              "      <td>2</td>\n",
              "      <td>mandarin</td>\n",
              "      <td>mandarin</td>\n",
              "      <td>80</td>\n",
              "      <td>5.9</td>\n",
              "      <td>4.3</td>\n",
              "      <td>0.81</td>\n",
              "    </tr>\n",
              "    <tr>\n",
              "      <th>7</th>\n",
              "      <td>2</td>\n",
              "      <td>mandarin</td>\n",
              "      <td>.</td>\n",
              "      <td>76</td>\n",
              "      <td>5.8</td>\n",
              "      <td>4.0</td>\n",
              "      <td>0.81</td>\n",
              "    </tr>\n",
              "    <tr>\n",
              "      <th>8</th>\n",
              "      <td>1</td>\n",
              "      <td>apple</td>\n",
              "      <td>braeburn</td>\n",
              "      <td>178</td>\n",
              "      <td>7.1</td>\n",
              "      <td>.</td>\n",
              "      <td>0.92</td>\n",
              "    </tr>\n",
              "    <tr>\n",
              "      <th>9</th>\n",
              "      <td>1</td>\n",
              "      <td>apple</td>\n",
              "      <td>braeburn</td>\n",
              "      <td>172</td>\n",
              "      <td>7.4</td>\n",
              "      <td>7.0</td>\n",
              "      <td>0.89</td>\n",
              "    </tr>\n",
              "  </tbody>\n",
              "</table>\n",
              "</div>"
            ],
            "text/plain": [
              "   fruit_label fruit_name fruit_subtype mass  width height  color_score\n",
              "0            1      apple  granny_smith  192    8.4    7.3         0.55\n",
              "1            1      apple  granny_smith  180    8.0    6.8         0.59\n",
              "2            1      apple  granny_smith  176    7.4    7.2         0.60\n",
              "3            2   mandarin      mandarin    ?    6.2    4.7         0.80\n",
              "4            2   mandarin      mandarin  84     6.0    4.6         0.79\n",
              "5            2   mandarin      mandarin  80     5.8    4.3         0.77\n",
              "6            2   mandarin      mandarin  80     5.9    4.3         0.81\n",
              "7            2   mandarin             .   76    5.8    4.0         0.81\n",
              "8            1      apple      braeburn  178    7.1      .         0.92\n",
              "9            1      apple      braeburn  172    7.4    7.0         0.89"
            ]
          },
          "metadata": {
            "tags": []
          },
          "execution_count": 5
        }
      ]
    },
    {
      "cell_type": "code",
      "metadata": {
        "colab": {
          "base_uri": "https://localhost:8080/"
        },
        "id": "X46vY0wkiIjl",
        "outputId": "dd64f574-d7b8-4017-c578-d31985b8f04d"
      },
      "source": [
        "# visualizando a quantidade de atributos em cada coluna\n",
        "data.count()"
      ],
      "execution_count": null,
      "outputs": [
        {
          "output_type": "execute_result",
          "data": {
            "text/plain": [
              "fruit_label      59\n",
              "fruit_name       59\n",
              "fruit_subtype    59\n",
              "mass             59\n",
              "width            59\n",
              "height           59\n",
              "color_score      59\n",
              "dtype: int64"
            ]
          },
          "metadata": {
            "tags": []
          },
          "execution_count": 6
        }
      ]
    },
    {
      "cell_type": "code",
      "metadata": {
        "colab": {
          "base_uri": "https://localhost:8080/"
        },
        "id": "FSqUx5C0iIxE",
        "outputId": "8bb62ab0-aa7c-4754-edf7-500253835c82"
      },
      "source": [
        "# visualizando a quantidade de linhas e colunas\n",
        "data.shape"
      ],
      "execution_count": null,
      "outputs": [
        {
          "output_type": "execute_result",
          "data": {
            "text/plain": [
              "(59, 7)"
            ]
          },
          "metadata": {
            "tags": []
          },
          "execution_count": 7
        }
      ]
    },
    {
      "cell_type": "code",
      "metadata": {
        "colab": {
          "base_uri": "https://localhost:8080/"
        },
        "id": "N1bF1kmMiInx",
        "outputId": "379e48c2-eb1b-44ec-a3b4-400d6d52b6c6"
      },
      "source": [
        "# visualizando o nome das colunas\n",
        "data.columns"
      ],
      "execution_count": null,
      "outputs": [
        {
          "output_type": "execute_result",
          "data": {
            "text/plain": [
              "Index(['fruit_label', 'fruit_name', 'fruit_subtype', 'mass', 'width', 'height',\n",
              "       'color_score'],\n",
              "      dtype='object')"
            ]
          },
          "metadata": {
            "tags": []
          },
          "execution_count": 8
        }
      ]
    },
    {
      "cell_type": "code",
      "metadata": {
        "colab": {
          "base_uri": "https://localhost:8080/"
        },
        "id": "LIvYFUicoVZM",
        "outputId": "d039a70e-0308-4ab6-cfe8-b5dce6c72106"
      },
      "source": [
        "# visualizando os índices\n",
        "data.index"
      ],
      "execution_count": null,
      "outputs": [
        {
          "output_type": "execute_result",
          "data": {
            "text/plain": [
              "RangeIndex(start=0, stop=59, step=1)"
            ]
          },
          "metadata": {
            "tags": []
          },
          "execution_count": 9
        }
      ]
    },
    {
      "cell_type": "code",
      "metadata": {
        "colab": {
          "base_uri": "https://localhost:8080/"
        },
        "id": "K01njg0riIft",
        "outputId": "9a8635df-80c6-4b85-eb90-43ce274287dc"
      },
      "source": [
        "# visualizando o tipo de dado em cada coluna\n",
        "data.dtypes"
      ],
      "execution_count": null,
      "outputs": [
        {
          "output_type": "execute_result",
          "data": {
            "text/plain": [
              "fruit_label        int64\n",
              "fruit_name        object\n",
              "fruit_subtype     object\n",
              "mass              object\n",
              "width            float64\n",
              "height            object\n",
              "color_score      float64\n",
              "dtype: object"
            ]
          },
          "metadata": {
            "tags": []
          },
          "execution_count": 168
        }
      ]
    },
    {
      "cell_type": "code",
      "metadata": {
        "colab": {
          "base_uri": "https://localhost:8080/"
        },
        "id": "a7C3FnSNohgx",
        "outputId": "ebf44441-8731-4c4e-abd2-73c9f85adbec"
      },
      "source": [
        "# visualizando informações gerais do conjunto de dados\n",
        "data.info()"
      ],
      "execution_count": null,
      "outputs": [
        {
          "output_type": "stream",
          "text": [
            "<class 'pandas.core.frame.DataFrame'>\n",
            "RangeIndex: 59 entries, 0 to 58\n",
            "Data columns (total 7 columns):\n",
            " #   Column         Non-Null Count  Dtype  \n",
            "---  ------         --------------  -----  \n",
            " 0   fruit_label    59 non-null     int64  \n",
            " 1   fruit_name     59 non-null     object \n",
            " 2   fruit_subtype  59 non-null     object \n",
            " 3   mass           59 non-null     object \n",
            " 4   width          59 non-null     float64\n",
            " 5   height         59 non-null     object \n",
            " 6   color_score    59 non-null     float64\n",
            "dtypes: float64(2), int64(1), object(4)\n",
            "memory usage: 3.4+ KB\n"
          ],
          "name": "stdout"
        }
      ]
    },
    {
      "cell_type": "code",
      "metadata": {
        "id": "MSCVs3NKohfg"
      },
      "source": [
        "# realizando novamente a leitura da base de dados e instanciando na variável \"data\"\n",
        "data = pd.read_table('fruit_data_with_colors_miss.txt',\n",
        "                     na_values=['.','?'])\n",
        "# iremos instanciar a função \"na_values\" e passar com argumento uma lista com os caracteres \".\" e \"?\""
      ],
      "execution_count": null,
      "outputs": []
    },
    {
      "cell_type": "markdown",
      "metadata": {
        "id": "_4OVTiScGOKz"
      },
      "source": [
        ">> Onde há os caracteres ``.`` e ``?`` estamos trocando-os por valores ``NaN``."
      ]
    },
    {
      "cell_type": "code",
      "metadata": {
        "colab": {
          "base_uri": "https://localhost:8080/",
          "height": 1000
        },
        "id": "RMN9FlscohdD",
        "outputId": "768b4dda-38a3-4662-b418-280180ed691a"
      },
      "source": [
        "# visualizando o conjunto de dados\n",
        "data"
      ],
      "execution_count": null,
      "outputs": [
        {
          "output_type": "execute_result",
          "data": {
            "text/html": [
              "<div>\n",
              "<style scoped>\n",
              "    .dataframe tbody tr th:only-of-type {\n",
              "        vertical-align: middle;\n",
              "    }\n",
              "\n",
              "    .dataframe tbody tr th {\n",
              "        vertical-align: top;\n",
              "    }\n",
              "\n",
              "    .dataframe thead th {\n",
              "        text-align: right;\n",
              "    }\n",
              "</style>\n",
              "<table border=\"1\" class=\"dataframe\">\n",
              "  <thead>\n",
              "    <tr style=\"text-align: right;\">\n",
              "      <th></th>\n",
              "      <th>fruit_label</th>\n",
              "      <th>fruit_name</th>\n",
              "      <th>fruit_subtype</th>\n",
              "      <th>mass</th>\n",
              "      <th>width</th>\n",
              "      <th>height</th>\n",
              "      <th>color_score</th>\n",
              "    </tr>\n",
              "  </thead>\n",
              "  <tbody>\n",
              "    <tr>\n",
              "      <th>0</th>\n",
              "      <td>1</td>\n",
              "      <td>apple</td>\n",
              "      <td>granny_smith</td>\n",
              "      <td>192.0</td>\n",
              "      <td>8.4</td>\n",
              "      <td>7.3</td>\n",
              "      <td>0.55</td>\n",
              "    </tr>\n",
              "    <tr>\n",
              "      <th>1</th>\n",
              "      <td>1</td>\n",
              "      <td>apple</td>\n",
              "      <td>granny_smith</td>\n",
              "      <td>180.0</td>\n",
              "      <td>8.0</td>\n",
              "      <td>6.8</td>\n",
              "      <td>0.59</td>\n",
              "    </tr>\n",
              "    <tr>\n",
              "      <th>2</th>\n",
              "      <td>1</td>\n",
              "      <td>apple</td>\n",
              "      <td>granny_smith</td>\n",
              "      <td>176.0</td>\n",
              "      <td>7.4</td>\n",
              "      <td>7.2</td>\n",
              "      <td>0.60</td>\n",
              "    </tr>\n",
              "    <tr>\n",
              "      <th>3</th>\n",
              "      <td>2</td>\n",
              "      <td>mandarin</td>\n",
              "      <td>mandarin</td>\n",
              "      <td>NaN</td>\n",
              "      <td>6.2</td>\n",
              "      <td>4.7</td>\n",
              "      <td>0.80</td>\n",
              "    </tr>\n",
              "    <tr>\n",
              "      <th>4</th>\n",
              "      <td>2</td>\n",
              "      <td>mandarin</td>\n",
              "      <td>mandarin</td>\n",
              "      <td>84.0</td>\n",
              "      <td>6.0</td>\n",
              "      <td>4.6</td>\n",
              "      <td>0.79</td>\n",
              "    </tr>\n",
              "    <tr>\n",
              "      <th>5</th>\n",
              "      <td>2</td>\n",
              "      <td>mandarin</td>\n",
              "      <td>mandarin</td>\n",
              "      <td>80.0</td>\n",
              "      <td>5.8</td>\n",
              "      <td>4.3</td>\n",
              "      <td>0.77</td>\n",
              "    </tr>\n",
              "    <tr>\n",
              "      <th>6</th>\n",
              "      <td>2</td>\n",
              "      <td>mandarin</td>\n",
              "      <td>mandarin</td>\n",
              "      <td>80.0</td>\n",
              "      <td>5.9</td>\n",
              "      <td>4.3</td>\n",
              "      <td>0.81</td>\n",
              "    </tr>\n",
              "    <tr>\n",
              "      <th>7</th>\n",
              "      <td>2</td>\n",
              "      <td>mandarin</td>\n",
              "      <td>NaN</td>\n",
              "      <td>76.0</td>\n",
              "      <td>5.8</td>\n",
              "      <td>4.0</td>\n",
              "      <td>0.81</td>\n",
              "    </tr>\n",
              "    <tr>\n",
              "      <th>8</th>\n",
              "      <td>1</td>\n",
              "      <td>apple</td>\n",
              "      <td>braeburn</td>\n",
              "      <td>178.0</td>\n",
              "      <td>7.1</td>\n",
              "      <td>NaN</td>\n",
              "      <td>0.92</td>\n",
              "    </tr>\n",
              "    <tr>\n",
              "      <th>9</th>\n",
              "      <td>1</td>\n",
              "      <td>apple</td>\n",
              "      <td>braeburn</td>\n",
              "      <td>172.0</td>\n",
              "      <td>7.4</td>\n",
              "      <td>7.0</td>\n",
              "      <td>0.89</td>\n",
              "    </tr>\n",
              "    <tr>\n",
              "      <th>10</th>\n",
              "      <td>1</td>\n",
              "      <td>apple</td>\n",
              "      <td>braeburn</td>\n",
              "      <td>166.0</td>\n",
              "      <td>6.9</td>\n",
              "      <td>7.3</td>\n",
              "      <td>0.93</td>\n",
              "    </tr>\n",
              "    <tr>\n",
              "      <th>11</th>\n",
              "      <td>1</td>\n",
              "      <td>apple</td>\n",
              "      <td>braeburn</td>\n",
              "      <td>172.0</td>\n",
              "      <td>7.1</td>\n",
              "      <td>7.6</td>\n",
              "      <td>0.92</td>\n",
              "    </tr>\n",
              "    <tr>\n",
              "      <th>12</th>\n",
              "      <td>1</td>\n",
              "      <td>apple</td>\n",
              "      <td>braeburn</td>\n",
              "      <td>154.0</td>\n",
              "      <td>7.0</td>\n",
              "      <td>7.1</td>\n",
              "      <td>0.88</td>\n",
              "    </tr>\n",
              "    <tr>\n",
              "      <th>13</th>\n",
              "      <td>1</td>\n",
              "      <td>apple</td>\n",
              "      <td>golden_delicious</td>\n",
              "      <td>164.0</td>\n",
              "      <td>7.3</td>\n",
              "      <td>7.7</td>\n",
              "      <td>0.70</td>\n",
              "    </tr>\n",
              "    <tr>\n",
              "      <th>14</th>\n",
              "      <td>1</td>\n",
              "      <td>apple</td>\n",
              "      <td>golden_delicious</td>\n",
              "      <td>152.0</td>\n",
              "      <td>7.6</td>\n",
              "      <td>7.3</td>\n",
              "      <td>0.69</td>\n",
              "    </tr>\n",
              "    <tr>\n",
              "      <th>15</th>\n",
              "      <td>1</td>\n",
              "      <td>apple</td>\n",
              "      <td>golden_delicious</td>\n",
              "      <td>156.0</td>\n",
              "      <td>7.7</td>\n",
              "      <td>7.1</td>\n",
              "      <td>0.69</td>\n",
              "    </tr>\n",
              "    <tr>\n",
              "      <th>16</th>\n",
              "      <td>1</td>\n",
              "      <td>apple</td>\n",
              "      <td>golden_delicious</td>\n",
              "      <td>156.0</td>\n",
              "      <td>7.6</td>\n",
              "      <td>7.5</td>\n",
              "      <td>0.67</td>\n",
              "    </tr>\n",
              "    <tr>\n",
              "      <th>17</th>\n",
              "      <td>1</td>\n",
              "      <td>apple</td>\n",
              "      <td>golden_delicious</td>\n",
              "      <td>168.0</td>\n",
              "      <td>7.5</td>\n",
              "      <td>7.6</td>\n",
              "      <td>0.73</td>\n",
              "    </tr>\n",
              "    <tr>\n",
              "      <th>18</th>\n",
              "      <td>1</td>\n",
              "      <td>apple</td>\n",
              "      <td>cripps_pink</td>\n",
              "      <td>162.0</td>\n",
              "      <td>7.5</td>\n",
              "      <td>7.1</td>\n",
              "      <td>0.83</td>\n",
              "    </tr>\n",
              "    <tr>\n",
              "      <th>19</th>\n",
              "      <td>1</td>\n",
              "      <td>apple</td>\n",
              "      <td>cripps_pink</td>\n",
              "      <td>162.0</td>\n",
              "      <td>7.4</td>\n",
              "      <td>7.2</td>\n",
              "      <td>0.85</td>\n",
              "    </tr>\n",
              "    <tr>\n",
              "      <th>20</th>\n",
              "      <td>1</td>\n",
              "      <td>apple</td>\n",
              "      <td>cripps_pink</td>\n",
              "      <td>160.0</td>\n",
              "      <td>7.5</td>\n",
              "      <td>7.5</td>\n",
              "      <td>0.86</td>\n",
              "    </tr>\n",
              "    <tr>\n",
              "      <th>21</th>\n",
              "      <td>1</td>\n",
              "      <td>apple</td>\n",
              "      <td>cripps_pink</td>\n",
              "      <td>156.0</td>\n",
              "      <td>7.4</td>\n",
              "      <td>7.4</td>\n",
              "      <td>0.84</td>\n",
              "    </tr>\n",
              "    <tr>\n",
              "      <th>22</th>\n",
              "      <td>1</td>\n",
              "      <td>apple</td>\n",
              "      <td>cripps_pink</td>\n",
              "      <td>140.0</td>\n",
              "      <td>7.3</td>\n",
              "      <td>7.1</td>\n",
              "      <td>0.87</td>\n",
              "    </tr>\n",
              "    <tr>\n",
              "      <th>23</th>\n",
              "      <td>1</td>\n",
              "      <td>apple</td>\n",
              "      <td>cripps_pink</td>\n",
              "      <td>170.0</td>\n",
              "      <td>7.6</td>\n",
              "      <td>7.9</td>\n",
              "      <td>0.88</td>\n",
              "    </tr>\n",
              "    <tr>\n",
              "      <th>24</th>\n",
              "      <td>3</td>\n",
              "      <td>orange</td>\n",
              "      <td>spanish_jumbo</td>\n",
              "      <td>342.0</td>\n",
              "      <td>9.0</td>\n",
              "      <td>9.4</td>\n",
              "      <td>0.75</td>\n",
              "    </tr>\n",
              "    <tr>\n",
              "      <th>25</th>\n",
              "      <td>3</td>\n",
              "      <td>orange</td>\n",
              "      <td>spanish_jumbo</td>\n",
              "      <td>356.0</td>\n",
              "      <td>9.2</td>\n",
              "      <td>9.2</td>\n",
              "      <td>0.75</td>\n",
              "    </tr>\n",
              "    <tr>\n",
              "      <th>26</th>\n",
              "      <td>3</td>\n",
              "      <td>orange</td>\n",
              "      <td>spanish_jumbo</td>\n",
              "      <td>362.0</td>\n",
              "      <td>9.6</td>\n",
              "      <td>9.2</td>\n",
              "      <td>0.74</td>\n",
              "    </tr>\n",
              "    <tr>\n",
              "      <th>27</th>\n",
              "      <td>3</td>\n",
              "      <td>orange</td>\n",
              "      <td>selected_seconds</td>\n",
              "      <td>204.0</td>\n",
              "      <td>7.5</td>\n",
              "      <td>9.2</td>\n",
              "      <td>0.77</td>\n",
              "    </tr>\n",
              "    <tr>\n",
              "      <th>28</th>\n",
              "      <td>3</td>\n",
              "      <td>orange</td>\n",
              "      <td>selected_seconds</td>\n",
              "      <td>140.0</td>\n",
              "      <td>6.7</td>\n",
              "      <td>7.1</td>\n",
              "      <td>0.72</td>\n",
              "    </tr>\n",
              "    <tr>\n",
              "      <th>29</th>\n",
              "      <td>3</td>\n",
              "      <td>orange</td>\n",
              "      <td>selected_seconds</td>\n",
              "      <td>160.0</td>\n",
              "      <td>7.0</td>\n",
              "      <td>7.4</td>\n",
              "      <td>0.81</td>\n",
              "    </tr>\n",
              "    <tr>\n",
              "      <th>30</th>\n",
              "      <td>3</td>\n",
              "      <td>orange</td>\n",
              "      <td>selected_seconds</td>\n",
              "      <td>158.0</td>\n",
              "      <td>7.1</td>\n",
              "      <td>7.5</td>\n",
              "      <td>0.79</td>\n",
              "    </tr>\n",
              "    <tr>\n",
              "      <th>31</th>\n",
              "      <td>3</td>\n",
              "      <td>orange</td>\n",
              "      <td>selected_seconds</td>\n",
              "      <td>210.0</td>\n",
              "      <td>7.8</td>\n",
              "      <td>8.0</td>\n",
              "      <td>0.82</td>\n",
              "    </tr>\n",
              "    <tr>\n",
              "      <th>32</th>\n",
              "      <td>3</td>\n",
              "      <td>orange</td>\n",
              "      <td>selected_seconds</td>\n",
              "      <td>164.0</td>\n",
              "      <td>7.2</td>\n",
              "      <td>7.0</td>\n",
              "      <td>0.80</td>\n",
              "    </tr>\n",
              "    <tr>\n",
              "      <th>33</th>\n",
              "      <td>3</td>\n",
              "      <td>orange</td>\n",
              "      <td>turkey_navel</td>\n",
              "      <td>190.0</td>\n",
              "      <td>7.5</td>\n",
              "      <td>8.1</td>\n",
              "      <td>0.74</td>\n",
              "    </tr>\n",
              "    <tr>\n",
              "      <th>34</th>\n",
              "      <td>3</td>\n",
              "      <td>orange</td>\n",
              "      <td>turkey_navel</td>\n",
              "      <td>142.0</td>\n",
              "      <td>7.6</td>\n",
              "      <td>7.8</td>\n",
              "      <td>0.75</td>\n",
              "    </tr>\n",
              "    <tr>\n",
              "      <th>35</th>\n",
              "      <td>3</td>\n",
              "      <td>orange</td>\n",
              "      <td>turkey_navel</td>\n",
              "      <td>150.0</td>\n",
              "      <td>7.1</td>\n",
              "      <td>7.9</td>\n",
              "      <td>0.75</td>\n",
              "    </tr>\n",
              "    <tr>\n",
              "      <th>36</th>\n",
              "      <td>3</td>\n",
              "      <td>orange</td>\n",
              "      <td>turkey_navel</td>\n",
              "      <td>160.0</td>\n",
              "      <td>7.1</td>\n",
              "      <td>7.6</td>\n",
              "      <td>0.76</td>\n",
              "    </tr>\n",
              "    <tr>\n",
              "      <th>37</th>\n",
              "      <td>3</td>\n",
              "      <td>orange</td>\n",
              "      <td>turkey_navel</td>\n",
              "      <td>154.0</td>\n",
              "      <td>7.3</td>\n",
              "      <td>7.3</td>\n",
              "      <td>0.79</td>\n",
              "    </tr>\n",
              "    <tr>\n",
              "      <th>38</th>\n",
              "      <td>3</td>\n",
              "      <td>orange</td>\n",
              "      <td>turkey_navel</td>\n",
              "      <td>158.0</td>\n",
              "      <td>7.2</td>\n",
              "      <td>7.8</td>\n",
              "      <td>0.77</td>\n",
              "    </tr>\n",
              "    <tr>\n",
              "      <th>39</th>\n",
              "      <td>3</td>\n",
              "      <td>orange</td>\n",
              "      <td>turkey_navel</td>\n",
              "      <td>144.0</td>\n",
              "      <td>6.8</td>\n",
              "      <td>7.4</td>\n",
              "      <td>0.75</td>\n",
              "    </tr>\n",
              "    <tr>\n",
              "      <th>40</th>\n",
              "      <td>3</td>\n",
              "      <td>orange</td>\n",
              "      <td>turkey_navel</td>\n",
              "      <td>154.0</td>\n",
              "      <td>7.1</td>\n",
              "      <td>7.5</td>\n",
              "      <td>0.78</td>\n",
              "    </tr>\n",
              "    <tr>\n",
              "      <th>41</th>\n",
              "      <td>3</td>\n",
              "      <td>orange</td>\n",
              "      <td>turkey_navel</td>\n",
              "      <td>180.0</td>\n",
              "      <td>7.6</td>\n",
              "      <td>8.2</td>\n",
              "      <td>0.79</td>\n",
              "    </tr>\n",
              "    <tr>\n",
              "      <th>42</th>\n",
              "      <td>3</td>\n",
              "      <td>orange</td>\n",
              "      <td>turkey_navel</td>\n",
              "      <td>154.0</td>\n",
              "      <td>7.2</td>\n",
              "      <td>7.2</td>\n",
              "      <td>0.82</td>\n",
              "    </tr>\n",
              "    <tr>\n",
              "      <th>43</th>\n",
              "      <td>4</td>\n",
              "      <td>lemon</td>\n",
              "      <td>spanish_belsan</td>\n",
              "      <td>194.0</td>\n",
              "      <td>7.2</td>\n",
              "      <td>10.3</td>\n",
              "      <td>0.70</td>\n",
              "    </tr>\n",
              "    <tr>\n",
              "      <th>44</th>\n",
              "      <td>4</td>\n",
              "      <td>lemon</td>\n",
              "      <td>spanish_belsan</td>\n",
              "      <td>200.0</td>\n",
              "      <td>7.3</td>\n",
              "      <td>10.5</td>\n",
              "      <td>0.72</td>\n",
              "    </tr>\n",
              "    <tr>\n",
              "      <th>45</th>\n",
              "      <td>4</td>\n",
              "      <td>lemon</td>\n",
              "      <td>spanish_belsan</td>\n",
              "      <td>186.0</td>\n",
              "      <td>7.2</td>\n",
              "      <td>9.2</td>\n",
              "      <td>0.72</td>\n",
              "    </tr>\n",
              "    <tr>\n",
              "      <th>46</th>\n",
              "      <td>4</td>\n",
              "      <td>lemon</td>\n",
              "      <td>spanish_belsan</td>\n",
              "      <td>216.0</td>\n",
              "      <td>7.3</td>\n",
              "      <td>10.2</td>\n",
              "      <td>0.71</td>\n",
              "    </tr>\n",
              "    <tr>\n",
              "      <th>47</th>\n",
              "      <td>4</td>\n",
              "      <td>lemon</td>\n",
              "      <td>spanish_belsan</td>\n",
              "      <td>196.0</td>\n",
              "      <td>7.3</td>\n",
              "      <td>9.7</td>\n",
              "      <td>0.72</td>\n",
              "    </tr>\n",
              "    <tr>\n",
              "      <th>48</th>\n",
              "      <td>4</td>\n",
              "      <td>lemon</td>\n",
              "      <td>spanish_belsan</td>\n",
              "      <td>174.0</td>\n",
              "      <td>7.3</td>\n",
              "      <td>10.1</td>\n",
              "      <td>0.72</td>\n",
              "    </tr>\n",
              "    <tr>\n",
              "      <th>49</th>\n",
              "      <td>4</td>\n",
              "      <td>lemon</td>\n",
              "      <td>unknown</td>\n",
              "      <td>132.0</td>\n",
              "      <td>5.8</td>\n",
              "      <td>8.7</td>\n",
              "      <td>0.73</td>\n",
              "    </tr>\n",
              "    <tr>\n",
              "      <th>50</th>\n",
              "      <td>4</td>\n",
              "      <td>lemon</td>\n",
              "      <td>unknown</td>\n",
              "      <td>130.0</td>\n",
              "      <td>6.0</td>\n",
              "      <td>8.2</td>\n",
              "      <td>0.71</td>\n",
              "    </tr>\n",
              "    <tr>\n",
              "      <th>51</th>\n",
              "      <td>4</td>\n",
              "      <td>lemon</td>\n",
              "      <td>unknown</td>\n",
              "      <td>116.0</td>\n",
              "      <td>6.0</td>\n",
              "      <td>7.5</td>\n",
              "      <td>0.72</td>\n",
              "    </tr>\n",
              "    <tr>\n",
              "      <th>52</th>\n",
              "      <td>4</td>\n",
              "      <td>lemon</td>\n",
              "      <td>unknown</td>\n",
              "      <td>118.0</td>\n",
              "      <td>5.9</td>\n",
              "      <td>8.0</td>\n",
              "      <td>0.72</td>\n",
              "    </tr>\n",
              "    <tr>\n",
              "      <th>53</th>\n",
              "      <td>4</td>\n",
              "      <td>lemon</td>\n",
              "      <td>unknown</td>\n",
              "      <td>120.0</td>\n",
              "      <td>6.0</td>\n",
              "      <td>8.4</td>\n",
              "      <td>0.74</td>\n",
              "    </tr>\n",
              "    <tr>\n",
              "      <th>54</th>\n",
              "      <td>4</td>\n",
              "      <td>lemon</td>\n",
              "      <td>unknown</td>\n",
              "      <td>116.0</td>\n",
              "      <td>6.1</td>\n",
              "      <td>8.5</td>\n",
              "      <td>0.71</td>\n",
              "    </tr>\n",
              "    <tr>\n",
              "      <th>55</th>\n",
              "      <td>4</td>\n",
              "      <td>lemon</td>\n",
              "      <td>unknown</td>\n",
              "      <td>116.0</td>\n",
              "      <td>6.3</td>\n",
              "      <td>7.7</td>\n",
              "      <td>0.72</td>\n",
              "    </tr>\n",
              "    <tr>\n",
              "      <th>56</th>\n",
              "      <td>4</td>\n",
              "      <td>lemon</td>\n",
              "      <td>unknown</td>\n",
              "      <td>116.0</td>\n",
              "      <td>5.9</td>\n",
              "      <td>8.1</td>\n",
              "      <td>0.73</td>\n",
              "    </tr>\n",
              "    <tr>\n",
              "      <th>57</th>\n",
              "      <td>4</td>\n",
              "      <td>lemon</td>\n",
              "      <td>unknown</td>\n",
              "      <td>152.0</td>\n",
              "      <td>6.5</td>\n",
              "      <td>8.5</td>\n",
              "      <td>0.72</td>\n",
              "    </tr>\n",
              "    <tr>\n",
              "      <th>58</th>\n",
              "      <td>4</td>\n",
              "      <td>lemon</td>\n",
              "      <td>unknown</td>\n",
              "      <td>118.0</td>\n",
              "      <td>6.1</td>\n",
              "      <td>8.1</td>\n",
              "      <td>0.70</td>\n",
              "    </tr>\n",
              "  </tbody>\n",
              "</table>\n",
              "</div>"
            ],
            "text/plain": [
              "    fruit_label fruit_name     fruit_subtype   mass  width  height  color_score\n",
              "0             1      apple      granny_smith  192.0    8.4     7.3         0.55\n",
              "1             1      apple      granny_smith  180.0    8.0     6.8         0.59\n",
              "2             1      apple      granny_smith  176.0    7.4     7.2         0.60\n",
              "3             2   mandarin          mandarin    NaN    6.2     4.7         0.80\n",
              "4             2   mandarin          mandarin   84.0    6.0     4.6         0.79\n",
              "5             2   mandarin          mandarin   80.0    5.8     4.3         0.77\n",
              "6             2   mandarin          mandarin   80.0    5.9     4.3         0.81\n",
              "7             2   mandarin               NaN   76.0    5.8     4.0         0.81\n",
              "8             1      apple          braeburn  178.0    7.1     NaN         0.92\n",
              "9             1      apple          braeburn  172.0    7.4     7.0         0.89\n",
              "10            1      apple          braeburn  166.0    6.9     7.3         0.93\n",
              "11            1      apple          braeburn  172.0    7.1     7.6         0.92\n",
              "12            1      apple          braeburn  154.0    7.0     7.1         0.88\n",
              "13            1      apple  golden_delicious  164.0    7.3     7.7         0.70\n",
              "14            1      apple  golden_delicious  152.0    7.6     7.3         0.69\n",
              "15            1      apple  golden_delicious  156.0    7.7     7.1         0.69\n",
              "16            1      apple  golden_delicious  156.0    7.6     7.5         0.67\n",
              "17            1      apple  golden_delicious  168.0    7.5     7.6         0.73\n",
              "18            1      apple       cripps_pink  162.0    7.5     7.1         0.83\n",
              "19            1      apple       cripps_pink  162.0    7.4     7.2         0.85\n",
              "20            1      apple       cripps_pink  160.0    7.5     7.5         0.86\n",
              "21            1      apple       cripps_pink  156.0    7.4     7.4         0.84\n",
              "22            1      apple       cripps_pink  140.0    7.3     7.1         0.87\n",
              "23            1      apple       cripps_pink  170.0    7.6     7.9         0.88\n",
              "24            3     orange     spanish_jumbo  342.0    9.0     9.4         0.75\n",
              "25            3     orange     spanish_jumbo  356.0    9.2     9.2         0.75\n",
              "26            3     orange     spanish_jumbo  362.0    9.6     9.2         0.74\n",
              "27            3     orange  selected_seconds  204.0    7.5     9.2         0.77\n",
              "28            3     orange  selected_seconds  140.0    6.7     7.1         0.72\n",
              "29            3     orange  selected_seconds  160.0    7.0     7.4         0.81\n",
              "30            3     orange  selected_seconds  158.0    7.1     7.5         0.79\n",
              "31            3     orange  selected_seconds  210.0    7.8     8.0         0.82\n",
              "32            3     orange  selected_seconds  164.0    7.2     7.0         0.80\n",
              "33            3     orange      turkey_navel  190.0    7.5     8.1         0.74\n",
              "34            3     orange      turkey_navel  142.0    7.6     7.8         0.75\n",
              "35            3     orange      turkey_navel  150.0    7.1     7.9         0.75\n",
              "36            3     orange      turkey_navel  160.0    7.1     7.6         0.76\n",
              "37            3     orange      turkey_navel  154.0    7.3     7.3         0.79\n",
              "38            3     orange      turkey_navel  158.0    7.2     7.8         0.77\n",
              "39            3     orange      turkey_navel  144.0    6.8     7.4         0.75\n",
              "40            3     orange      turkey_navel  154.0    7.1     7.5         0.78\n",
              "41            3     orange      turkey_navel  180.0    7.6     8.2         0.79\n",
              "42            3     orange      turkey_navel  154.0    7.2     7.2         0.82\n",
              "43            4      lemon    spanish_belsan  194.0    7.2    10.3         0.70\n",
              "44            4      lemon    spanish_belsan  200.0    7.3    10.5         0.72\n",
              "45            4      lemon    spanish_belsan  186.0    7.2     9.2         0.72\n",
              "46            4      lemon    spanish_belsan  216.0    7.3    10.2         0.71\n",
              "47            4      lemon    spanish_belsan  196.0    7.3     9.7         0.72\n",
              "48            4      lemon    spanish_belsan  174.0    7.3    10.1         0.72\n",
              "49            4      lemon           unknown  132.0    5.8     8.7         0.73\n",
              "50            4      lemon           unknown  130.0    6.0     8.2         0.71\n",
              "51            4      lemon           unknown  116.0    6.0     7.5         0.72\n",
              "52            4      lemon           unknown  118.0    5.9     8.0         0.72\n",
              "53            4      lemon           unknown  120.0    6.0     8.4         0.74\n",
              "54            4      lemon           unknown  116.0    6.1     8.5         0.71\n",
              "55            4      lemon           unknown  116.0    6.3     7.7         0.72\n",
              "56            4      lemon           unknown  116.0    5.9     8.1         0.73\n",
              "57            4      lemon           unknown  152.0    6.5     8.5         0.72\n",
              "58            4      lemon           unknown  118.0    6.1     8.1         0.70"
            ]
          },
          "metadata": {
            "tags": []
          },
          "execution_count": 12
        }
      ]
    },
    {
      "cell_type": "code",
      "metadata": {
        "colab": {
          "base_uri": "https://localhost:8080/"
        },
        "id": "oV_vZK7cohak",
        "outputId": "e172636d-536f-48a1-896c-e870cf4965b5"
      },
      "source": [
        "# visualizando e sumarizando em cada coluna o total de dados nulos\n",
        "data.isnull().sum()"
      ],
      "execution_count": null,
      "outputs": [
        {
          "output_type": "execute_result",
          "data": {
            "text/plain": [
              "fruit_label      0\n",
              "fruit_name       0\n",
              "fruit_subtype    1\n",
              "mass             1\n",
              "width            0\n",
              "height           1\n",
              "color_score      0\n",
              "dtype: int64"
            ]
          },
          "metadata": {
            "tags": []
          },
          "execution_count": 13
        }
      ]
    },
    {
      "cell_type": "code",
      "metadata": {
        "colab": {
          "base_uri": "https://localhost:8080/"
        },
        "id": "CsXJaoV8ohXf",
        "outputId": "dc067348-ccf7-494f-cca9-3b88f2bfbd84"
      },
      "source": [
        "# visualizando e sumarizando em cada coluna o total de dados ausentes\n",
        "data.isna().sum()"
      ],
      "execution_count": null,
      "outputs": [
        {
          "output_type": "execute_result",
          "data": {
            "text/plain": [
              "fruit_label      0\n",
              "fruit_name       0\n",
              "fruit_subtype    1\n",
              "mass             1\n",
              "width            0\n",
              "height           1\n",
              "color_score      0\n",
              "dtype: int64"
            ]
          },
          "metadata": {
            "tags": []
          },
          "execution_count": 14
        }
      ]
    },
    {
      "cell_type": "markdown",
      "metadata": {
        "id": "Mzrhv1uJvjxz"
      },
      "source": [
        "**Podemos verificar em uma coluna específica os dados ausentes/faltantes**\n",
        "  - o seu retorno será uma resposta booleana "
      ]
    },
    {
      "cell_type": "code",
      "metadata": {
        "colab": {
          "base_uri": "https://localhost:8080/"
        },
        "id": "EsSC27Y-ohV9",
        "outputId": "89dcfa11-a7a4-4c5c-df18-77236a203aa0"
      },
      "source": [
        "# visualizando na coluna \"fruit_subtype\"\n",
        "data.fruit_subtype.isna().value_counts()"
      ],
      "execution_count": null,
      "outputs": [
        {
          "output_type": "execute_result",
          "data": {
            "text/plain": [
              "False    58\n",
              "True      1\n",
              "Name: fruit_subtype, dtype: int64"
            ]
          },
          "metadata": {
            "tags": []
          },
          "execution_count": 15
        }
      ]
    },
    {
      "cell_type": "code",
      "metadata": {
        "colab": {
          "base_uri": "https://localhost:8080/"
        },
        "id": "yDbRD8mPohU7",
        "outputId": "f0728a8a-9dd1-4005-c54d-d59cbae1c0c2"
      },
      "source": [
        "# visualizando na coluna \"mass\"\n",
        "data.mass.isna().value_counts()"
      ],
      "execution_count": null,
      "outputs": [
        {
          "output_type": "execute_result",
          "data": {
            "text/plain": [
              "False    58\n",
              "True      1\n",
              "Name: mass, dtype: int64"
            ]
          },
          "metadata": {
            "tags": []
          },
          "execution_count": 16
        }
      ]
    },
    {
      "cell_type": "code",
      "metadata": {
        "colab": {
          "base_uri": "https://localhost:8080/"
        },
        "id": "QozLlhHJohQz",
        "outputId": "d17520ba-a6d7-4e50-d095-b499ab4bfddc"
      },
      "source": [
        "# visualizando na coluna \"height\"\n",
        "data['height'].isna().value_counts()"
      ],
      "execution_count": null,
      "outputs": [
        {
          "output_type": "execute_result",
          "data": {
            "text/plain": [
              "False    58\n",
              "True      1\n",
              "Name: height, dtype: int64"
            ]
          },
          "metadata": {
            "tags": []
          },
          "execution_count": 17
        }
      ]
    },
    {
      "cell_type": "markdown",
      "metadata": {
        "id": "Fj8SUYvM5U2r"
      },
      "source": [
        "# **Explorando técnicas para tratar dados nulos e/ou ausentes no conjunto de dados**\n",
        "\n",
        "---\n",
        "\n"
      ]
    },
    {
      "cell_type": "markdown",
      "metadata": {
        "id": "Y5_sxIIDwPWf"
      },
      "source": [
        ">> **Agora iremos utilizar uma técnica para tratar desse problema dos dados ausentes/faltantes.**\n",
        "  - iremos `imputar` (preencher) com dados."
      ]
    },
    {
      "cell_type": "markdown",
      "metadata": {
        "id": "2pVDe97rxDQz"
      },
      "source": [
        "**Com uma técnica bem simplória, iremos preencher os locais de dados ausentes/faltantes com o valor** `\"0\"`.\n",
        "  - em outras condições, está não é a melhor técnica a ser utilizada. Portanto o **cientista de dados** deve possuir o `\"feeling\"` para saber qual a melhor tratativa para casos de dados ausentes/faltantes e/ou nulos."
      ]
    },
    {
      "cell_type": "markdown",
      "metadata": {
        "id": "HVaaY5cmS9mc"
      },
      "source": [
        "**Antes iremos realizar uma cópia do conjunto de dados.**\n",
        "  - isso é necessaŕio por questões de segurança e integridade do nosso conjunto de dados, já que utilizaremos técnicas para tratar os campos com dados ausentes e faltantes e, com aplicação das técnicas e o conjunto de dados não ser sobrescrito e perdermos a sua originalidade."
      ]
    },
    {
      "cell_type": "markdown",
      "metadata": {
        "id": "g894Uast0Kj8"
      },
      "source": [
        "**Como Lidar Com Valores Faltantes (Missing)?**\n",
        "  - Portal Data Science\n",
        "    - https://bit.ly/3w4UtvK"
      ]
    },
    {
      "cell_type": "markdown",
      "metadata": {
        "id": "MqCs-GdA0_ov"
      },
      "source": [
        "**Como tratar valores faltantes em um dataset**\n",
        "  - COMPUTER SCIENCE MASTER\n",
        "    - https://bit.ly/3g53qP4"
      ]
    },
    {
      "cell_type": "code",
      "metadata": {
        "colab": {
          "base_uri": "https://localhost:8080/",
          "height": 359
        },
        "id": "9NKiLbmBUEUp",
        "outputId": "b7a89488-81c2-43ad-c716-26145dae0b24"
      },
      "source": [
        "# realizando a cópia do conjunto de dados\n",
        "dados_copia = data.copy() # função \"copy\" realiza uma cópia do conjunto de dados\n",
        "dados_copia.head(10)  # visualizando as 10 primeiras linhas"
      ],
      "execution_count": null,
      "outputs": [
        {
          "output_type": "execute_result",
          "data": {
            "text/html": [
              "<div>\n",
              "<style scoped>\n",
              "    .dataframe tbody tr th:only-of-type {\n",
              "        vertical-align: middle;\n",
              "    }\n",
              "\n",
              "    .dataframe tbody tr th {\n",
              "        vertical-align: top;\n",
              "    }\n",
              "\n",
              "    .dataframe thead th {\n",
              "        text-align: right;\n",
              "    }\n",
              "</style>\n",
              "<table border=\"1\" class=\"dataframe\">\n",
              "  <thead>\n",
              "    <tr style=\"text-align: right;\">\n",
              "      <th></th>\n",
              "      <th>fruit_label</th>\n",
              "      <th>fruit_name</th>\n",
              "      <th>fruit_subtype</th>\n",
              "      <th>mass</th>\n",
              "      <th>width</th>\n",
              "      <th>height</th>\n",
              "      <th>color_score</th>\n",
              "    </tr>\n",
              "  </thead>\n",
              "  <tbody>\n",
              "    <tr>\n",
              "      <th>0</th>\n",
              "      <td>1</td>\n",
              "      <td>apple</td>\n",
              "      <td>granny_smith</td>\n",
              "      <td>192.0</td>\n",
              "      <td>8.4</td>\n",
              "      <td>7.3</td>\n",
              "      <td>0.55</td>\n",
              "    </tr>\n",
              "    <tr>\n",
              "      <th>1</th>\n",
              "      <td>1</td>\n",
              "      <td>apple</td>\n",
              "      <td>granny_smith</td>\n",
              "      <td>180.0</td>\n",
              "      <td>8.0</td>\n",
              "      <td>6.8</td>\n",
              "      <td>0.59</td>\n",
              "    </tr>\n",
              "    <tr>\n",
              "      <th>2</th>\n",
              "      <td>1</td>\n",
              "      <td>apple</td>\n",
              "      <td>granny_smith</td>\n",
              "      <td>176.0</td>\n",
              "      <td>7.4</td>\n",
              "      <td>7.2</td>\n",
              "      <td>0.60</td>\n",
              "    </tr>\n",
              "    <tr>\n",
              "      <th>3</th>\n",
              "      <td>2</td>\n",
              "      <td>mandarin</td>\n",
              "      <td>mandarin</td>\n",
              "      <td>NaN</td>\n",
              "      <td>6.2</td>\n",
              "      <td>4.7</td>\n",
              "      <td>0.80</td>\n",
              "    </tr>\n",
              "    <tr>\n",
              "      <th>4</th>\n",
              "      <td>2</td>\n",
              "      <td>mandarin</td>\n",
              "      <td>mandarin</td>\n",
              "      <td>84.0</td>\n",
              "      <td>6.0</td>\n",
              "      <td>4.6</td>\n",
              "      <td>0.79</td>\n",
              "    </tr>\n",
              "    <tr>\n",
              "      <th>5</th>\n",
              "      <td>2</td>\n",
              "      <td>mandarin</td>\n",
              "      <td>mandarin</td>\n",
              "      <td>80.0</td>\n",
              "      <td>5.8</td>\n",
              "      <td>4.3</td>\n",
              "      <td>0.77</td>\n",
              "    </tr>\n",
              "    <tr>\n",
              "      <th>6</th>\n",
              "      <td>2</td>\n",
              "      <td>mandarin</td>\n",
              "      <td>mandarin</td>\n",
              "      <td>80.0</td>\n",
              "      <td>5.9</td>\n",
              "      <td>4.3</td>\n",
              "      <td>0.81</td>\n",
              "    </tr>\n",
              "    <tr>\n",
              "      <th>7</th>\n",
              "      <td>2</td>\n",
              "      <td>mandarin</td>\n",
              "      <td>NaN</td>\n",
              "      <td>76.0</td>\n",
              "      <td>5.8</td>\n",
              "      <td>4.0</td>\n",
              "      <td>0.81</td>\n",
              "    </tr>\n",
              "    <tr>\n",
              "      <th>8</th>\n",
              "      <td>1</td>\n",
              "      <td>apple</td>\n",
              "      <td>braeburn</td>\n",
              "      <td>178.0</td>\n",
              "      <td>7.1</td>\n",
              "      <td>NaN</td>\n",
              "      <td>0.92</td>\n",
              "    </tr>\n",
              "    <tr>\n",
              "      <th>9</th>\n",
              "      <td>1</td>\n",
              "      <td>apple</td>\n",
              "      <td>braeburn</td>\n",
              "      <td>172.0</td>\n",
              "      <td>7.4</td>\n",
              "      <td>7.0</td>\n",
              "      <td>0.89</td>\n",
              "    </tr>\n",
              "  </tbody>\n",
              "</table>\n",
              "</div>"
            ],
            "text/plain": [
              "   fruit_label fruit_name fruit_subtype   mass  width  height  color_score\n",
              "0            1      apple  granny_smith  192.0    8.4     7.3         0.55\n",
              "1            1      apple  granny_smith  180.0    8.0     6.8         0.59\n",
              "2            1      apple  granny_smith  176.0    7.4     7.2         0.60\n",
              "3            2   mandarin      mandarin    NaN    6.2     4.7         0.80\n",
              "4            2   mandarin      mandarin   84.0    6.0     4.6         0.79\n",
              "5            2   mandarin      mandarin   80.0    5.8     4.3         0.77\n",
              "6            2   mandarin      mandarin   80.0    5.9     4.3         0.81\n",
              "7            2   mandarin           NaN   76.0    5.8     4.0         0.81\n",
              "8            1      apple      braeburn  178.0    7.1     NaN         0.92\n",
              "9            1      apple      braeburn  172.0    7.4     7.0         0.89"
            ]
          },
          "metadata": {
            "tags": []
          },
          "execution_count": 18
        }
      ]
    },
    {
      "cell_type": "code",
      "metadata": {
        "colab": {
          "base_uri": "https://localhost:8080/",
          "height": 359
        },
        "id": "1h_Z7TgJohQA",
        "outputId": "8f46c9f3-2f51-4abf-9a3f-5278cbdb6d77"
      },
      "source": [
        "# utilizaremos a função \"fillna()\" e passando como argumento o zero (0)\n",
        "dados_copia.fillna(0).head(10) # em todo local onde possuir \"NaN\" será trocado pelo valor 0 \n",
        "# visualizando as 10 primeiras linhas"
      ],
      "execution_count": null,
      "outputs": [
        {
          "output_type": "execute_result",
          "data": {
            "text/html": [
              "<div>\n",
              "<style scoped>\n",
              "    .dataframe tbody tr th:only-of-type {\n",
              "        vertical-align: middle;\n",
              "    }\n",
              "\n",
              "    .dataframe tbody tr th {\n",
              "        vertical-align: top;\n",
              "    }\n",
              "\n",
              "    .dataframe thead th {\n",
              "        text-align: right;\n",
              "    }\n",
              "</style>\n",
              "<table border=\"1\" class=\"dataframe\">\n",
              "  <thead>\n",
              "    <tr style=\"text-align: right;\">\n",
              "      <th></th>\n",
              "      <th>fruit_label</th>\n",
              "      <th>fruit_name</th>\n",
              "      <th>fruit_subtype</th>\n",
              "      <th>mass</th>\n",
              "      <th>width</th>\n",
              "      <th>height</th>\n",
              "      <th>color_score</th>\n",
              "    </tr>\n",
              "  </thead>\n",
              "  <tbody>\n",
              "    <tr>\n",
              "      <th>0</th>\n",
              "      <td>1</td>\n",
              "      <td>apple</td>\n",
              "      <td>granny_smith</td>\n",
              "      <td>192.0</td>\n",
              "      <td>8.4</td>\n",
              "      <td>7.3</td>\n",
              "      <td>0.55</td>\n",
              "    </tr>\n",
              "    <tr>\n",
              "      <th>1</th>\n",
              "      <td>1</td>\n",
              "      <td>apple</td>\n",
              "      <td>granny_smith</td>\n",
              "      <td>180.0</td>\n",
              "      <td>8.0</td>\n",
              "      <td>6.8</td>\n",
              "      <td>0.59</td>\n",
              "    </tr>\n",
              "    <tr>\n",
              "      <th>2</th>\n",
              "      <td>1</td>\n",
              "      <td>apple</td>\n",
              "      <td>granny_smith</td>\n",
              "      <td>176.0</td>\n",
              "      <td>7.4</td>\n",
              "      <td>7.2</td>\n",
              "      <td>0.60</td>\n",
              "    </tr>\n",
              "    <tr>\n",
              "      <th>3</th>\n",
              "      <td>2</td>\n",
              "      <td>mandarin</td>\n",
              "      <td>mandarin</td>\n",
              "      <td>0.0</td>\n",
              "      <td>6.2</td>\n",
              "      <td>4.7</td>\n",
              "      <td>0.80</td>\n",
              "    </tr>\n",
              "    <tr>\n",
              "      <th>4</th>\n",
              "      <td>2</td>\n",
              "      <td>mandarin</td>\n",
              "      <td>mandarin</td>\n",
              "      <td>84.0</td>\n",
              "      <td>6.0</td>\n",
              "      <td>4.6</td>\n",
              "      <td>0.79</td>\n",
              "    </tr>\n",
              "    <tr>\n",
              "      <th>5</th>\n",
              "      <td>2</td>\n",
              "      <td>mandarin</td>\n",
              "      <td>mandarin</td>\n",
              "      <td>80.0</td>\n",
              "      <td>5.8</td>\n",
              "      <td>4.3</td>\n",
              "      <td>0.77</td>\n",
              "    </tr>\n",
              "    <tr>\n",
              "      <th>6</th>\n",
              "      <td>2</td>\n",
              "      <td>mandarin</td>\n",
              "      <td>mandarin</td>\n",
              "      <td>80.0</td>\n",
              "      <td>5.9</td>\n",
              "      <td>4.3</td>\n",
              "      <td>0.81</td>\n",
              "    </tr>\n",
              "    <tr>\n",
              "      <th>7</th>\n",
              "      <td>2</td>\n",
              "      <td>mandarin</td>\n",
              "      <td>0</td>\n",
              "      <td>76.0</td>\n",
              "      <td>5.8</td>\n",
              "      <td>4.0</td>\n",
              "      <td>0.81</td>\n",
              "    </tr>\n",
              "    <tr>\n",
              "      <th>8</th>\n",
              "      <td>1</td>\n",
              "      <td>apple</td>\n",
              "      <td>braeburn</td>\n",
              "      <td>178.0</td>\n",
              "      <td>7.1</td>\n",
              "      <td>0.0</td>\n",
              "      <td>0.92</td>\n",
              "    </tr>\n",
              "    <tr>\n",
              "      <th>9</th>\n",
              "      <td>1</td>\n",
              "      <td>apple</td>\n",
              "      <td>braeburn</td>\n",
              "      <td>172.0</td>\n",
              "      <td>7.4</td>\n",
              "      <td>7.0</td>\n",
              "      <td>0.89</td>\n",
              "    </tr>\n",
              "  </tbody>\n",
              "</table>\n",
              "</div>"
            ],
            "text/plain": [
              "   fruit_label fruit_name fruit_subtype   mass  width  height  color_score\n",
              "0            1      apple  granny_smith  192.0    8.4     7.3         0.55\n",
              "1            1      apple  granny_smith  180.0    8.0     6.8         0.59\n",
              "2            1      apple  granny_smith  176.0    7.4     7.2         0.60\n",
              "3            2   mandarin      mandarin    0.0    6.2     4.7         0.80\n",
              "4            2   mandarin      mandarin   84.0    6.0     4.6         0.79\n",
              "5            2   mandarin      mandarin   80.0    5.8     4.3         0.77\n",
              "6            2   mandarin      mandarin   80.0    5.9     4.3         0.81\n",
              "7            2   mandarin             0   76.0    5.8     4.0         0.81\n",
              "8            1      apple      braeburn  178.0    7.1     0.0         0.92\n",
              "9            1      apple      braeburn  172.0    7.4     7.0         0.89"
            ]
          },
          "metadata": {
            "tags": []
          },
          "execution_count": 19
        }
      ]
    },
    {
      "cell_type": "markdown",
      "metadata": {
        "id": "q6coQ0D80nHe"
      },
      "source": [
        ">> Perceba que, na linha 3 foi imputado o valor `0` na coluna **mass**. Pórem isso chega a ser fora de nexo com a realidade de uma fruta com massa de valor zero.\n",
        "- como foi mencionado acima, esse tipo de interpretação é fundamental no tratamento de dados para que o modelo de machine learning não tenha um `falso` padrão em sua etapa de treinamento e aplicação."
      ]
    },
    {
      "cell_type": "markdown",
      "metadata": {
        "id": "cgpwTCab2iMj"
      },
      "source": [
        "**Portanto, utilizaremos outra abordagem no tratamento de dados faltantes/ausentes**\n",
        "  - uma técnica é utilizar o valor da média da coluna em questão e, conhecido esse valor utiliza-la para preencher os campos \"NaN\"."
      ]
    },
    {
      "cell_type": "code",
      "metadata": {
        "colab": {
          "base_uri": "https://localhost:8080/",
          "height": 297
        },
        "id": "ryLBnCNcohL6",
        "outputId": "141b1089-08e7-47cf-f8ee-3f6c3dd80b4d"
      },
      "source": [
        "# utilizando a função \"describe\" para visualizar os valores estatísticos do conjunto de dados\n",
        "dados_copia.describe()"
      ],
      "execution_count": null,
      "outputs": [
        {
          "output_type": "execute_result",
          "data": {
            "text/html": [
              "<div>\n",
              "<style scoped>\n",
              "    .dataframe tbody tr th:only-of-type {\n",
              "        vertical-align: middle;\n",
              "    }\n",
              "\n",
              "    .dataframe tbody tr th {\n",
              "        vertical-align: top;\n",
              "    }\n",
              "\n",
              "    .dataframe thead th {\n",
              "        text-align: right;\n",
              "    }\n",
              "</style>\n",
              "<table border=\"1\" class=\"dataframe\">\n",
              "  <thead>\n",
              "    <tr style=\"text-align: right;\">\n",
              "      <th></th>\n",
              "      <th>fruit_label</th>\n",
              "      <th>mass</th>\n",
              "      <th>width</th>\n",
              "      <th>height</th>\n",
              "      <th>color_score</th>\n",
              "    </tr>\n",
              "  </thead>\n",
              "  <tbody>\n",
              "    <tr>\n",
              "      <th>count</th>\n",
              "      <td>59.000000</td>\n",
              "      <td>58.000000</td>\n",
              "      <td>59.000000</td>\n",
              "      <td>58.000000</td>\n",
              "      <td>59.000000</td>\n",
              "    </tr>\n",
              "    <tr>\n",
              "      <th>mean</th>\n",
              "      <td>2.542373</td>\n",
              "      <td>164.448276</td>\n",
              "      <td>7.105085</td>\n",
              "      <td>7.691379</td>\n",
              "      <td>0.762881</td>\n",
              "    </tr>\n",
              "    <tr>\n",
              "      <th>std</th>\n",
              "      <td>1.208048</td>\n",
              "      <td>54.534770</td>\n",
              "      <td>0.816938</td>\n",
              "      <td>1.372830</td>\n",
              "      <td>0.076857</td>\n",
              "    </tr>\n",
              "    <tr>\n",
              "      <th>min</th>\n",
              "      <td>1.000000</td>\n",
              "      <td>76.000000</td>\n",
              "      <td>5.800000</td>\n",
              "      <td>4.000000</td>\n",
              "      <td>0.550000</td>\n",
              "    </tr>\n",
              "    <tr>\n",
              "      <th>25%</th>\n",
              "      <td>1.000000</td>\n",
              "      <td>140.500000</td>\n",
              "      <td>6.600000</td>\n",
              "      <td>7.200000</td>\n",
              "      <td>0.720000</td>\n",
              "    </tr>\n",
              "    <tr>\n",
              "      <th>50%</th>\n",
              "      <td>3.000000</td>\n",
              "      <td>159.000000</td>\n",
              "      <td>7.200000</td>\n",
              "      <td>7.600000</td>\n",
              "      <td>0.750000</td>\n",
              "    </tr>\n",
              "    <tr>\n",
              "      <th>75%</th>\n",
              "      <td>4.000000</td>\n",
              "      <td>177.500000</td>\n",
              "      <td>7.500000</td>\n",
              "      <td>8.200000</td>\n",
              "      <td>0.810000</td>\n",
              "    </tr>\n",
              "    <tr>\n",
              "      <th>max</th>\n",
              "      <td>4.000000</td>\n",
              "      <td>362.000000</td>\n",
              "      <td>9.600000</td>\n",
              "      <td>10.500000</td>\n",
              "      <td>0.930000</td>\n",
              "    </tr>\n",
              "  </tbody>\n",
              "</table>\n",
              "</div>"
            ],
            "text/plain": [
              "       fruit_label        mass      width     height  color_score\n",
              "count    59.000000   58.000000  59.000000  58.000000    59.000000\n",
              "mean      2.542373  164.448276   7.105085   7.691379     0.762881\n",
              "std       1.208048   54.534770   0.816938   1.372830     0.076857\n",
              "min       1.000000   76.000000   5.800000   4.000000     0.550000\n",
              "25%       1.000000  140.500000   6.600000   7.200000     0.720000\n",
              "50%       3.000000  159.000000   7.200000   7.600000     0.750000\n",
              "75%       4.000000  177.500000   7.500000   8.200000     0.810000\n",
              "max       4.000000  362.000000   9.600000  10.500000     0.930000"
            ]
          },
          "metadata": {
            "tags": []
          },
          "execution_count": 22
        }
      ]
    },
    {
      "cell_type": "markdown",
      "metadata": {
        "id": "9gE38dhtQfHp"
      },
      "source": [
        ">> Devemos passar com argumento a variável, nesse caso `\"data\"` e em conjunto com a função `\"mean()\"`.\n",
        "  - esse é um detalhe que devemos ficar atento, já que se utilizarmos como argumento somente a média, todos os campos será preenchido com o valor da média."
      ]
    },
    {
      "cell_type": "code",
      "metadata": {
        "colab": {
          "base_uri": "https://localhost:8080/"
        },
        "id": "KAma0wRGkzsg",
        "outputId": "0877926c-d368-44f2-c668-20e713e46c89"
      },
      "source": [
        "# podemos simplificar essa visualização e especificando qual coluna que queremos \n",
        "dados_copia['mass'].describe()"
      ],
      "execution_count": null,
      "outputs": [
        {
          "output_type": "execute_result",
          "data": {
            "text/plain": [
              "count     58.000000\n",
              "mean     164.448276\n",
              "std       54.534770\n",
              "min       76.000000\n",
              "25%      140.500000\n",
              "50%      159.000000\n",
              "75%      177.500000\n",
              "max      362.000000\n",
              "Name: mass, dtype: float64"
            ]
          },
          "metadata": {
            "tags": []
          },
          "execution_count": 23
        }
      ]
    },
    {
      "cell_type": "markdown",
      "metadata": {
        "id": "Q6-v8gtTlaej"
      },
      "source": [
        ">> Nesse caso, passamos a coluna `mass`.\n",
        "   - e seu retorno é os dados estatísticos da coluna referenciada."
      ]
    },
    {
      "cell_type": "code",
      "metadata": {
        "id": "Bub6brFKzRvD",
        "colab": {
          "base_uri": "https://localhost:8080/",
          "height": 1000
        },
        "outputId": "f37b74e2-06ca-4c46-f15a-3cf6ab84cd8e"
      },
      "source": [
        "# realizando o preenchimento dos campos \"NaN\" com valores da média\n",
        "dados_copia = dados_copia.fillna(dados_copia.mean()) \n",
        "dados_copia # visualizando o conjunto de dados"
      ],
      "execution_count": null,
      "outputs": [
        {
          "output_type": "execute_result",
          "data": {
            "text/html": [
              "<div>\n",
              "<style scoped>\n",
              "    .dataframe tbody tr th:only-of-type {\n",
              "        vertical-align: middle;\n",
              "    }\n",
              "\n",
              "    .dataframe tbody tr th {\n",
              "        vertical-align: top;\n",
              "    }\n",
              "\n",
              "    .dataframe thead th {\n",
              "        text-align: right;\n",
              "    }\n",
              "</style>\n",
              "<table border=\"1\" class=\"dataframe\">\n",
              "  <thead>\n",
              "    <tr style=\"text-align: right;\">\n",
              "      <th></th>\n",
              "      <th>fruit_label</th>\n",
              "      <th>fruit_name</th>\n",
              "      <th>fruit_subtype</th>\n",
              "      <th>mass</th>\n",
              "      <th>width</th>\n",
              "      <th>height</th>\n",
              "      <th>color_score</th>\n",
              "    </tr>\n",
              "  </thead>\n",
              "  <tbody>\n",
              "    <tr>\n",
              "      <th>0</th>\n",
              "      <td>1</td>\n",
              "      <td>apple</td>\n",
              "      <td>granny_smith</td>\n",
              "      <td>192.000000</td>\n",
              "      <td>8.4</td>\n",
              "      <td>7.300000</td>\n",
              "      <td>0.55</td>\n",
              "    </tr>\n",
              "    <tr>\n",
              "      <th>1</th>\n",
              "      <td>1</td>\n",
              "      <td>apple</td>\n",
              "      <td>granny_smith</td>\n",
              "      <td>180.000000</td>\n",
              "      <td>8.0</td>\n",
              "      <td>6.800000</td>\n",
              "      <td>0.59</td>\n",
              "    </tr>\n",
              "    <tr>\n",
              "      <th>2</th>\n",
              "      <td>1</td>\n",
              "      <td>apple</td>\n",
              "      <td>granny_smith</td>\n",
              "      <td>176.000000</td>\n",
              "      <td>7.4</td>\n",
              "      <td>7.200000</td>\n",
              "      <td>0.60</td>\n",
              "    </tr>\n",
              "    <tr>\n",
              "      <th>3</th>\n",
              "      <td>2</td>\n",
              "      <td>mandarin</td>\n",
              "      <td>mandarin</td>\n",
              "      <td>164.448276</td>\n",
              "      <td>6.2</td>\n",
              "      <td>4.700000</td>\n",
              "      <td>0.80</td>\n",
              "    </tr>\n",
              "    <tr>\n",
              "      <th>4</th>\n",
              "      <td>2</td>\n",
              "      <td>mandarin</td>\n",
              "      <td>mandarin</td>\n",
              "      <td>84.000000</td>\n",
              "      <td>6.0</td>\n",
              "      <td>4.600000</td>\n",
              "      <td>0.79</td>\n",
              "    </tr>\n",
              "    <tr>\n",
              "      <th>5</th>\n",
              "      <td>2</td>\n",
              "      <td>mandarin</td>\n",
              "      <td>mandarin</td>\n",
              "      <td>80.000000</td>\n",
              "      <td>5.8</td>\n",
              "      <td>4.300000</td>\n",
              "      <td>0.77</td>\n",
              "    </tr>\n",
              "    <tr>\n",
              "      <th>6</th>\n",
              "      <td>2</td>\n",
              "      <td>mandarin</td>\n",
              "      <td>mandarin</td>\n",
              "      <td>80.000000</td>\n",
              "      <td>5.9</td>\n",
              "      <td>4.300000</td>\n",
              "      <td>0.81</td>\n",
              "    </tr>\n",
              "    <tr>\n",
              "      <th>7</th>\n",
              "      <td>2</td>\n",
              "      <td>mandarin</td>\n",
              "      <td>NaN</td>\n",
              "      <td>76.000000</td>\n",
              "      <td>5.8</td>\n",
              "      <td>4.000000</td>\n",
              "      <td>0.81</td>\n",
              "    </tr>\n",
              "    <tr>\n",
              "      <th>8</th>\n",
              "      <td>1</td>\n",
              "      <td>apple</td>\n",
              "      <td>braeburn</td>\n",
              "      <td>178.000000</td>\n",
              "      <td>7.1</td>\n",
              "      <td>7.691379</td>\n",
              "      <td>0.92</td>\n",
              "    </tr>\n",
              "    <tr>\n",
              "      <th>9</th>\n",
              "      <td>1</td>\n",
              "      <td>apple</td>\n",
              "      <td>braeburn</td>\n",
              "      <td>172.000000</td>\n",
              "      <td>7.4</td>\n",
              "      <td>7.000000</td>\n",
              "      <td>0.89</td>\n",
              "    </tr>\n",
              "    <tr>\n",
              "      <th>10</th>\n",
              "      <td>1</td>\n",
              "      <td>apple</td>\n",
              "      <td>braeburn</td>\n",
              "      <td>166.000000</td>\n",
              "      <td>6.9</td>\n",
              "      <td>7.300000</td>\n",
              "      <td>0.93</td>\n",
              "    </tr>\n",
              "    <tr>\n",
              "      <th>11</th>\n",
              "      <td>1</td>\n",
              "      <td>apple</td>\n",
              "      <td>braeburn</td>\n",
              "      <td>172.000000</td>\n",
              "      <td>7.1</td>\n",
              "      <td>7.600000</td>\n",
              "      <td>0.92</td>\n",
              "    </tr>\n",
              "    <tr>\n",
              "      <th>12</th>\n",
              "      <td>1</td>\n",
              "      <td>apple</td>\n",
              "      <td>braeburn</td>\n",
              "      <td>154.000000</td>\n",
              "      <td>7.0</td>\n",
              "      <td>7.100000</td>\n",
              "      <td>0.88</td>\n",
              "    </tr>\n",
              "    <tr>\n",
              "      <th>13</th>\n",
              "      <td>1</td>\n",
              "      <td>apple</td>\n",
              "      <td>golden_delicious</td>\n",
              "      <td>164.000000</td>\n",
              "      <td>7.3</td>\n",
              "      <td>7.700000</td>\n",
              "      <td>0.70</td>\n",
              "    </tr>\n",
              "    <tr>\n",
              "      <th>14</th>\n",
              "      <td>1</td>\n",
              "      <td>apple</td>\n",
              "      <td>golden_delicious</td>\n",
              "      <td>152.000000</td>\n",
              "      <td>7.6</td>\n",
              "      <td>7.300000</td>\n",
              "      <td>0.69</td>\n",
              "    </tr>\n",
              "    <tr>\n",
              "      <th>15</th>\n",
              "      <td>1</td>\n",
              "      <td>apple</td>\n",
              "      <td>golden_delicious</td>\n",
              "      <td>156.000000</td>\n",
              "      <td>7.7</td>\n",
              "      <td>7.100000</td>\n",
              "      <td>0.69</td>\n",
              "    </tr>\n",
              "    <tr>\n",
              "      <th>16</th>\n",
              "      <td>1</td>\n",
              "      <td>apple</td>\n",
              "      <td>golden_delicious</td>\n",
              "      <td>156.000000</td>\n",
              "      <td>7.6</td>\n",
              "      <td>7.500000</td>\n",
              "      <td>0.67</td>\n",
              "    </tr>\n",
              "    <tr>\n",
              "      <th>17</th>\n",
              "      <td>1</td>\n",
              "      <td>apple</td>\n",
              "      <td>golden_delicious</td>\n",
              "      <td>168.000000</td>\n",
              "      <td>7.5</td>\n",
              "      <td>7.600000</td>\n",
              "      <td>0.73</td>\n",
              "    </tr>\n",
              "    <tr>\n",
              "      <th>18</th>\n",
              "      <td>1</td>\n",
              "      <td>apple</td>\n",
              "      <td>cripps_pink</td>\n",
              "      <td>162.000000</td>\n",
              "      <td>7.5</td>\n",
              "      <td>7.100000</td>\n",
              "      <td>0.83</td>\n",
              "    </tr>\n",
              "    <tr>\n",
              "      <th>19</th>\n",
              "      <td>1</td>\n",
              "      <td>apple</td>\n",
              "      <td>cripps_pink</td>\n",
              "      <td>162.000000</td>\n",
              "      <td>7.4</td>\n",
              "      <td>7.200000</td>\n",
              "      <td>0.85</td>\n",
              "    </tr>\n",
              "    <tr>\n",
              "      <th>20</th>\n",
              "      <td>1</td>\n",
              "      <td>apple</td>\n",
              "      <td>cripps_pink</td>\n",
              "      <td>160.000000</td>\n",
              "      <td>7.5</td>\n",
              "      <td>7.500000</td>\n",
              "      <td>0.86</td>\n",
              "    </tr>\n",
              "    <tr>\n",
              "      <th>21</th>\n",
              "      <td>1</td>\n",
              "      <td>apple</td>\n",
              "      <td>cripps_pink</td>\n",
              "      <td>156.000000</td>\n",
              "      <td>7.4</td>\n",
              "      <td>7.400000</td>\n",
              "      <td>0.84</td>\n",
              "    </tr>\n",
              "    <tr>\n",
              "      <th>22</th>\n",
              "      <td>1</td>\n",
              "      <td>apple</td>\n",
              "      <td>cripps_pink</td>\n",
              "      <td>140.000000</td>\n",
              "      <td>7.3</td>\n",
              "      <td>7.100000</td>\n",
              "      <td>0.87</td>\n",
              "    </tr>\n",
              "    <tr>\n",
              "      <th>23</th>\n",
              "      <td>1</td>\n",
              "      <td>apple</td>\n",
              "      <td>cripps_pink</td>\n",
              "      <td>170.000000</td>\n",
              "      <td>7.6</td>\n",
              "      <td>7.900000</td>\n",
              "      <td>0.88</td>\n",
              "    </tr>\n",
              "    <tr>\n",
              "      <th>24</th>\n",
              "      <td>3</td>\n",
              "      <td>orange</td>\n",
              "      <td>spanish_jumbo</td>\n",
              "      <td>342.000000</td>\n",
              "      <td>9.0</td>\n",
              "      <td>9.400000</td>\n",
              "      <td>0.75</td>\n",
              "    </tr>\n",
              "    <tr>\n",
              "      <th>25</th>\n",
              "      <td>3</td>\n",
              "      <td>orange</td>\n",
              "      <td>spanish_jumbo</td>\n",
              "      <td>356.000000</td>\n",
              "      <td>9.2</td>\n",
              "      <td>9.200000</td>\n",
              "      <td>0.75</td>\n",
              "    </tr>\n",
              "    <tr>\n",
              "      <th>26</th>\n",
              "      <td>3</td>\n",
              "      <td>orange</td>\n",
              "      <td>spanish_jumbo</td>\n",
              "      <td>362.000000</td>\n",
              "      <td>9.6</td>\n",
              "      <td>9.200000</td>\n",
              "      <td>0.74</td>\n",
              "    </tr>\n",
              "    <tr>\n",
              "      <th>27</th>\n",
              "      <td>3</td>\n",
              "      <td>orange</td>\n",
              "      <td>selected_seconds</td>\n",
              "      <td>204.000000</td>\n",
              "      <td>7.5</td>\n",
              "      <td>9.200000</td>\n",
              "      <td>0.77</td>\n",
              "    </tr>\n",
              "    <tr>\n",
              "      <th>28</th>\n",
              "      <td>3</td>\n",
              "      <td>orange</td>\n",
              "      <td>selected_seconds</td>\n",
              "      <td>140.000000</td>\n",
              "      <td>6.7</td>\n",
              "      <td>7.100000</td>\n",
              "      <td>0.72</td>\n",
              "    </tr>\n",
              "    <tr>\n",
              "      <th>29</th>\n",
              "      <td>3</td>\n",
              "      <td>orange</td>\n",
              "      <td>selected_seconds</td>\n",
              "      <td>160.000000</td>\n",
              "      <td>7.0</td>\n",
              "      <td>7.400000</td>\n",
              "      <td>0.81</td>\n",
              "    </tr>\n",
              "    <tr>\n",
              "      <th>30</th>\n",
              "      <td>3</td>\n",
              "      <td>orange</td>\n",
              "      <td>selected_seconds</td>\n",
              "      <td>158.000000</td>\n",
              "      <td>7.1</td>\n",
              "      <td>7.500000</td>\n",
              "      <td>0.79</td>\n",
              "    </tr>\n",
              "    <tr>\n",
              "      <th>31</th>\n",
              "      <td>3</td>\n",
              "      <td>orange</td>\n",
              "      <td>selected_seconds</td>\n",
              "      <td>210.000000</td>\n",
              "      <td>7.8</td>\n",
              "      <td>8.000000</td>\n",
              "      <td>0.82</td>\n",
              "    </tr>\n",
              "    <tr>\n",
              "      <th>32</th>\n",
              "      <td>3</td>\n",
              "      <td>orange</td>\n",
              "      <td>selected_seconds</td>\n",
              "      <td>164.000000</td>\n",
              "      <td>7.2</td>\n",
              "      <td>7.000000</td>\n",
              "      <td>0.80</td>\n",
              "    </tr>\n",
              "    <tr>\n",
              "      <th>33</th>\n",
              "      <td>3</td>\n",
              "      <td>orange</td>\n",
              "      <td>turkey_navel</td>\n",
              "      <td>190.000000</td>\n",
              "      <td>7.5</td>\n",
              "      <td>8.100000</td>\n",
              "      <td>0.74</td>\n",
              "    </tr>\n",
              "    <tr>\n",
              "      <th>34</th>\n",
              "      <td>3</td>\n",
              "      <td>orange</td>\n",
              "      <td>turkey_navel</td>\n",
              "      <td>142.000000</td>\n",
              "      <td>7.6</td>\n",
              "      <td>7.800000</td>\n",
              "      <td>0.75</td>\n",
              "    </tr>\n",
              "    <tr>\n",
              "      <th>35</th>\n",
              "      <td>3</td>\n",
              "      <td>orange</td>\n",
              "      <td>turkey_navel</td>\n",
              "      <td>150.000000</td>\n",
              "      <td>7.1</td>\n",
              "      <td>7.900000</td>\n",
              "      <td>0.75</td>\n",
              "    </tr>\n",
              "    <tr>\n",
              "      <th>36</th>\n",
              "      <td>3</td>\n",
              "      <td>orange</td>\n",
              "      <td>turkey_navel</td>\n",
              "      <td>160.000000</td>\n",
              "      <td>7.1</td>\n",
              "      <td>7.600000</td>\n",
              "      <td>0.76</td>\n",
              "    </tr>\n",
              "    <tr>\n",
              "      <th>37</th>\n",
              "      <td>3</td>\n",
              "      <td>orange</td>\n",
              "      <td>turkey_navel</td>\n",
              "      <td>154.000000</td>\n",
              "      <td>7.3</td>\n",
              "      <td>7.300000</td>\n",
              "      <td>0.79</td>\n",
              "    </tr>\n",
              "    <tr>\n",
              "      <th>38</th>\n",
              "      <td>3</td>\n",
              "      <td>orange</td>\n",
              "      <td>turkey_navel</td>\n",
              "      <td>158.000000</td>\n",
              "      <td>7.2</td>\n",
              "      <td>7.800000</td>\n",
              "      <td>0.77</td>\n",
              "    </tr>\n",
              "    <tr>\n",
              "      <th>39</th>\n",
              "      <td>3</td>\n",
              "      <td>orange</td>\n",
              "      <td>turkey_navel</td>\n",
              "      <td>144.000000</td>\n",
              "      <td>6.8</td>\n",
              "      <td>7.400000</td>\n",
              "      <td>0.75</td>\n",
              "    </tr>\n",
              "    <tr>\n",
              "      <th>40</th>\n",
              "      <td>3</td>\n",
              "      <td>orange</td>\n",
              "      <td>turkey_navel</td>\n",
              "      <td>154.000000</td>\n",
              "      <td>7.1</td>\n",
              "      <td>7.500000</td>\n",
              "      <td>0.78</td>\n",
              "    </tr>\n",
              "    <tr>\n",
              "      <th>41</th>\n",
              "      <td>3</td>\n",
              "      <td>orange</td>\n",
              "      <td>turkey_navel</td>\n",
              "      <td>180.000000</td>\n",
              "      <td>7.6</td>\n",
              "      <td>8.200000</td>\n",
              "      <td>0.79</td>\n",
              "    </tr>\n",
              "    <tr>\n",
              "      <th>42</th>\n",
              "      <td>3</td>\n",
              "      <td>orange</td>\n",
              "      <td>turkey_navel</td>\n",
              "      <td>154.000000</td>\n",
              "      <td>7.2</td>\n",
              "      <td>7.200000</td>\n",
              "      <td>0.82</td>\n",
              "    </tr>\n",
              "    <tr>\n",
              "      <th>43</th>\n",
              "      <td>4</td>\n",
              "      <td>lemon</td>\n",
              "      <td>spanish_belsan</td>\n",
              "      <td>194.000000</td>\n",
              "      <td>7.2</td>\n",
              "      <td>10.300000</td>\n",
              "      <td>0.70</td>\n",
              "    </tr>\n",
              "    <tr>\n",
              "      <th>44</th>\n",
              "      <td>4</td>\n",
              "      <td>lemon</td>\n",
              "      <td>spanish_belsan</td>\n",
              "      <td>200.000000</td>\n",
              "      <td>7.3</td>\n",
              "      <td>10.500000</td>\n",
              "      <td>0.72</td>\n",
              "    </tr>\n",
              "    <tr>\n",
              "      <th>45</th>\n",
              "      <td>4</td>\n",
              "      <td>lemon</td>\n",
              "      <td>spanish_belsan</td>\n",
              "      <td>186.000000</td>\n",
              "      <td>7.2</td>\n",
              "      <td>9.200000</td>\n",
              "      <td>0.72</td>\n",
              "    </tr>\n",
              "    <tr>\n",
              "      <th>46</th>\n",
              "      <td>4</td>\n",
              "      <td>lemon</td>\n",
              "      <td>spanish_belsan</td>\n",
              "      <td>216.000000</td>\n",
              "      <td>7.3</td>\n",
              "      <td>10.200000</td>\n",
              "      <td>0.71</td>\n",
              "    </tr>\n",
              "    <tr>\n",
              "      <th>47</th>\n",
              "      <td>4</td>\n",
              "      <td>lemon</td>\n",
              "      <td>spanish_belsan</td>\n",
              "      <td>196.000000</td>\n",
              "      <td>7.3</td>\n",
              "      <td>9.700000</td>\n",
              "      <td>0.72</td>\n",
              "    </tr>\n",
              "    <tr>\n",
              "      <th>48</th>\n",
              "      <td>4</td>\n",
              "      <td>lemon</td>\n",
              "      <td>spanish_belsan</td>\n",
              "      <td>174.000000</td>\n",
              "      <td>7.3</td>\n",
              "      <td>10.100000</td>\n",
              "      <td>0.72</td>\n",
              "    </tr>\n",
              "    <tr>\n",
              "      <th>49</th>\n",
              "      <td>4</td>\n",
              "      <td>lemon</td>\n",
              "      <td>unknown</td>\n",
              "      <td>132.000000</td>\n",
              "      <td>5.8</td>\n",
              "      <td>8.700000</td>\n",
              "      <td>0.73</td>\n",
              "    </tr>\n",
              "    <tr>\n",
              "      <th>50</th>\n",
              "      <td>4</td>\n",
              "      <td>lemon</td>\n",
              "      <td>unknown</td>\n",
              "      <td>130.000000</td>\n",
              "      <td>6.0</td>\n",
              "      <td>8.200000</td>\n",
              "      <td>0.71</td>\n",
              "    </tr>\n",
              "    <tr>\n",
              "      <th>51</th>\n",
              "      <td>4</td>\n",
              "      <td>lemon</td>\n",
              "      <td>unknown</td>\n",
              "      <td>116.000000</td>\n",
              "      <td>6.0</td>\n",
              "      <td>7.500000</td>\n",
              "      <td>0.72</td>\n",
              "    </tr>\n",
              "    <tr>\n",
              "      <th>52</th>\n",
              "      <td>4</td>\n",
              "      <td>lemon</td>\n",
              "      <td>unknown</td>\n",
              "      <td>118.000000</td>\n",
              "      <td>5.9</td>\n",
              "      <td>8.000000</td>\n",
              "      <td>0.72</td>\n",
              "    </tr>\n",
              "    <tr>\n",
              "      <th>53</th>\n",
              "      <td>4</td>\n",
              "      <td>lemon</td>\n",
              "      <td>unknown</td>\n",
              "      <td>120.000000</td>\n",
              "      <td>6.0</td>\n",
              "      <td>8.400000</td>\n",
              "      <td>0.74</td>\n",
              "    </tr>\n",
              "    <tr>\n",
              "      <th>54</th>\n",
              "      <td>4</td>\n",
              "      <td>lemon</td>\n",
              "      <td>unknown</td>\n",
              "      <td>116.000000</td>\n",
              "      <td>6.1</td>\n",
              "      <td>8.500000</td>\n",
              "      <td>0.71</td>\n",
              "    </tr>\n",
              "    <tr>\n",
              "      <th>55</th>\n",
              "      <td>4</td>\n",
              "      <td>lemon</td>\n",
              "      <td>unknown</td>\n",
              "      <td>116.000000</td>\n",
              "      <td>6.3</td>\n",
              "      <td>7.700000</td>\n",
              "      <td>0.72</td>\n",
              "    </tr>\n",
              "    <tr>\n",
              "      <th>56</th>\n",
              "      <td>4</td>\n",
              "      <td>lemon</td>\n",
              "      <td>unknown</td>\n",
              "      <td>116.000000</td>\n",
              "      <td>5.9</td>\n",
              "      <td>8.100000</td>\n",
              "      <td>0.73</td>\n",
              "    </tr>\n",
              "    <tr>\n",
              "      <th>57</th>\n",
              "      <td>4</td>\n",
              "      <td>lemon</td>\n",
              "      <td>unknown</td>\n",
              "      <td>152.000000</td>\n",
              "      <td>6.5</td>\n",
              "      <td>8.500000</td>\n",
              "      <td>0.72</td>\n",
              "    </tr>\n",
              "    <tr>\n",
              "      <th>58</th>\n",
              "      <td>4</td>\n",
              "      <td>lemon</td>\n",
              "      <td>unknown</td>\n",
              "      <td>118.000000</td>\n",
              "      <td>6.1</td>\n",
              "      <td>8.100000</td>\n",
              "      <td>0.70</td>\n",
              "    </tr>\n",
              "  </tbody>\n",
              "</table>\n",
              "</div>"
            ],
            "text/plain": [
              "    fruit_label fruit_name     fruit_subtype  ...  width     height  color_score\n",
              "0             1      apple      granny_smith  ...    8.4   7.300000         0.55\n",
              "1             1      apple      granny_smith  ...    8.0   6.800000         0.59\n",
              "2             1      apple      granny_smith  ...    7.4   7.200000         0.60\n",
              "3             2   mandarin          mandarin  ...    6.2   4.700000         0.80\n",
              "4             2   mandarin          mandarin  ...    6.0   4.600000         0.79\n",
              "5             2   mandarin          mandarin  ...    5.8   4.300000         0.77\n",
              "6             2   mandarin          mandarin  ...    5.9   4.300000         0.81\n",
              "7             2   mandarin               NaN  ...    5.8   4.000000         0.81\n",
              "8             1      apple          braeburn  ...    7.1   7.691379         0.92\n",
              "9             1      apple          braeburn  ...    7.4   7.000000         0.89\n",
              "10            1      apple          braeburn  ...    6.9   7.300000         0.93\n",
              "11            1      apple          braeburn  ...    7.1   7.600000         0.92\n",
              "12            1      apple          braeburn  ...    7.0   7.100000         0.88\n",
              "13            1      apple  golden_delicious  ...    7.3   7.700000         0.70\n",
              "14            1      apple  golden_delicious  ...    7.6   7.300000         0.69\n",
              "15            1      apple  golden_delicious  ...    7.7   7.100000         0.69\n",
              "16            1      apple  golden_delicious  ...    7.6   7.500000         0.67\n",
              "17            1      apple  golden_delicious  ...    7.5   7.600000         0.73\n",
              "18            1      apple       cripps_pink  ...    7.5   7.100000         0.83\n",
              "19            1      apple       cripps_pink  ...    7.4   7.200000         0.85\n",
              "20            1      apple       cripps_pink  ...    7.5   7.500000         0.86\n",
              "21            1      apple       cripps_pink  ...    7.4   7.400000         0.84\n",
              "22            1      apple       cripps_pink  ...    7.3   7.100000         0.87\n",
              "23            1      apple       cripps_pink  ...    7.6   7.900000         0.88\n",
              "24            3     orange     spanish_jumbo  ...    9.0   9.400000         0.75\n",
              "25            3     orange     spanish_jumbo  ...    9.2   9.200000         0.75\n",
              "26            3     orange     spanish_jumbo  ...    9.6   9.200000         0.74\n",
              "27            3     orange  selected_seconds  ...    7.5   9.200000         0.77\n",
              "28            3     orange  selected_seconds  ...    6.7   7.100000         0.72\n",
              "29            3     orange  selected_seconds  ...    7.0   7.400000         0.81\n",
              "30            3     orange  selected_seconds  ...    7.1   7.500000         0.79\n",
              "31            3     orange  selected_seconds  ...    7.8   8.000000         0.82\n",
              "32            3     orange  selected_seconds  ...    7.2   7.000000         0.80\n",
              "33            3     orange      turkey_navel  ...    7.5   8.100000         0.74\n",
              "34            3     orange      turkey_navel  ...    7.6   7.800000         0.75\n",
              "35            3     orange      turkey_navel  ...    7.1   7.900000         0.75\n",
              "36            3     orange      turkey_navel  ...    7.1   7.600000         0.76\n",
              "37            3     orange      turkey_navel  ...    7.3   7.300000         0.79\n",
              "38            3     orange      turkey_navel  ...    7.2   7.800000         0.77\n",
              "39            3     orange      turkey_navel  ...    6.8   7.400000         0.75\n",
              "40            3     orange      turkey_navel  ...    7.1   7.500000         0.78\n",
              "41            3     orange      turkey_navel  ...    7.6   8.200000         0.79\n",
              "42            3     orange      turkey_navel  ...    7.2   7.200000         0.82\n",
              "43            4      lemon    spanish_belsan  ...    7.2  10.300000         0.70\n",
              "44            4      lemon    spanish_belsan  ...    7.3  10.500000         0.72\n",
              "45            4      lemon    spanish_belsan  ...    7.2   9.200000         0.72\n",
              "46            4      lemon    spanish_belsan  ...    7.3  10.200000         0.71\n",
              "47            4      lemon    spanish_belsan  ...    7.3   9.700000         0.72\n",
              "48            4      lemon    spanish_belsan  ...    7.3  10.100000         0.72\n",
              "49            4      lemon           unknown  ...    5.8   8.700000         0.73\n",
              "50            4      lemon           unknown  ...    6.0   8.200000         0.71\n",
              "51            4      lemon           unknown  ...    6.0   7.500000         0.72\n",
              "52            4      lemon           unknown  ...    5.9   8.000000         0.72\n",
              "53            4      lemon           unknown  ...    6.0   8.400000         0.74\n",
              "54            4      lemon           unknown  ...    6.1   8.500000         0.71\n",
              "55            4      lemon           unknown  ...    6.3   7.700000         0.72\n",
              "56            4      lemon           unknown  ...    5.9   8.100000         0.73\n",
              "57            4      lemon           unknown  ...    6.5   8.500000         0.72\n",
              "58            4      lemon           unknown  ...    6.1   8.100000         0.70\n",
              "\n",
              "[59 rows x 7 columns]"
            ]
          },
          "metadata": {
            "tags": []
          },
          "execution_count": 24
        }
      ]
    },
    {
      "cell_type": "code",
      "metadata": {
        "colab": {
          "base_uri": "https://localhost:8080/"
        },
        "id": "Eo4lR4isuy92",
        "outputId": "b6afeab5-107e-4abf-997f-2b8c69672689"
      },
      "source": [
        "# visualizando e sumarizando em cada coluna o total de dados nulos\n",
        "dados_copia.isnull().sum()"
      ],
      "execution_count": null,
      "outputs": [
        {
          "output_type": "execute_result",
          "data": {
            "text/plain": [
              "fruit_label      0\n",
              "fruit_name       0\n",
              "fruit_subtype    1\n",
              "mass             0\n",
              "width            0\n",
              "height           0\n",
              "color_score      0\n",
              "dtype: int64"
            ]
          },
          "metadata": {
            "tags": []
          },
          "execution_count": 25
        }
      ]
    },
    {
      "cell_type": "code",
      "metadata": {
        "colab": {
          "base_uri": "https://localhost:8080/"
        },
        "id": "C3WtUmw6u3vx",
        "outputId": "a98a1840-2465-4d70-ef19-a1d94e49e69c"
      },
      "source": [
        "# visualizando e sumarizando em cada coluna o total de dados ausentes\n",
        "dados_copia.isna().sum()"
      ],
      "execution_count": null,
      "outputs": [
        {
          "output_type": "execute_result",
          "data": {
            "text/plain": [
              "fruit_label      0\n",
              "fruit_name       0\n",
              "fruit_subtype    1\n",
              "mass             0\n",
              "width            0\n",
              "height           0\n",
              "color_score      0\n",
              "dtype: int64"
            ]
          },
          "metadata": {
            "tags": []
          },
          "execution_count": 27
        }
      ]
    },
    {
      "cell_type": "markdown",
      "metadata": {
        "id": "MFJFseOdvCOG"
      },
      "source": [
        ">> Perceba que, na coluna `fruit_subtype` ainda temos um campo com dado ausente e/ou nulo."
      ]
    },
    {
      "cell_type": "markdown",
      "metadata": {
        "id": "sBJzm2pcOs-q"
      },
      "source": [
        ">> Utilizamos a média das colunas para preencher os campos onde há valores `NaN`. Pórem devemos ter a ciência que isto ocorre somente para colunas com valores numéricos. \n",
        "  - já em colunas com dados do tipo `string` teremos que utilizar outra abordagem."
      ]
    },
    {
      "cell_type": "markdown",
      "metadata": {
        "id": "9C5Z5xNHRLTk"
      },
      "source": [
        "**Para questão da coluna** `fruit_subtype` **iremos utilizar a seguinte técnica:**\n",
        "  - veremos qual atributo é mais presente na coluna em questão.\n"
      ]
    },
    {
      "cell_type": "code",
      "metadata": {
        "colab": {
          "base_uri": "https://localhost:8080/"
        },
        "id": "l92W5b2CvriX",
        "outputId": "62480b0e-23c8-4f6d-d3e4-52c095b31de6"
      },
      "source": [
        "# visualizando da coluna \"fruit_subtype\" a quantidades de valores por instâncias\n",
        "dados_copia['fruit_subtype'].value_counts()"
      ],
      "execution_count": null,
      "outputs": [
        {
          "output_type": "execute_result",
          "data": {
            "text/plain": [
              "turkey_navel        10\n",
              "unknown             10\n",
              "spanish_belsan       6\n",
              "cripps_pink          6\n",
              "selected_seconds     6\n",
              "golden_delicious     5\n",
              "braeburn             5\n",
              "mandarin             4\n",
              "spanish_jumbo        3\n",
              "granny_smith         3\n",
              "Name: fruit_subtype, dtype: int64"
            ]
          },
          "metadata": {
            "tags": []
          },
          "execution_count": 28
        }
      ]
    },
    {
      "cell_type": "markdown",
      "metadata": {
        "id": "ZXxeWTkOayxm"
      },
      "source": [
        ">> Perceba que, para a coluna `fruit_subtype` temos a informação mais presente na coluna.\n",
        "  - nesse caso é `turkey_navel` e ``unknown``."
      ]
    },
    {
      "cell_type": "markdown",
      "metadata": {
        "id": "hORUltLAwE-P"
      },
      "source": [
        "**Vamos explorar outras possibilidades!**"
      ]
    },
    {
      "cell_type": "code",
      "metadata": {
        "id": "mlWp0MQOzRuS",
        "colab": {
          "base_uri": "https://localhost:8080/"
        },
        "outputId": "26ec3812-295d-4871-b334-c9aedd72fe49"
      },
      "source": [
        "# visualizando qual conjunto de strings é mais presente na coluna \"fruit_subtype\"\n",
        "dados_copia['fruit_subtype'].value_counts().argmax()"
      ],
      "execution_count": null,
      "outputs": [
        {
          "output_type": "execute_result",
          "data": {
            "text/plain": [
              "0"
            ]
          },
          "metadata": {
            "tags": []
          },
          "execution_count": 34
        }
      ]
    },
    {
      "cell_type": "markdown",
      "metadata": {
        "id": "d5Fe15deZdTG"
      },
      "source": [
        ">> **Não houve nenhum retorno!**"
      ]
    },
    {
      "cell_type": "code",
      "metadata": {
        "colab": {
          "base_uri": "https://localhost:8080/",
          "height": 359
        },
        "id": "vF-6ZZ_AyngB",
        "outputId": "358198f2-52d4-4a50-806c-c1b5812391eb"
      },
      "source": [
        "dados_copia.head(10)"
      ],
      "execution_count": null,
      "outputs": [
        {
          "output_type": "execute_result",
          "data": {
            "text/html": [
              "<div>\n",
              "<style scoped>\n",
              "    .dataframe tbody tr th:only-of-type {\n",
              "        vertical-align: middle;\n",
              "    }\n",
              "\n",
              "    .dataframe tbody tr th {\n",
              "        vertical-align: top;\n",
              "    }\n",
              "\n",
              "    .dataframe thead th {\n",
              "        text-align: right;\n",
              "    }\n",
              "</style>\n",
              "<table border=\"1\" class=\"dataframe\">\n",
              "  <thead>\n",
              "    <tr style=\"text-align: right;\">\n",
              "      <th></th>\n",
              "      <th>fruit_label</th>\n",
              "      <th>fruit_name</th>\n",
              "      <th>fruit_subtype</th>\n",
              "      <th>mass</th>\n",
              "      <th>width</th>\n",
              "      <th>height</th>\n",
              "      <th>color_score</th>\n",
              "    </tr>\n",
              "  </thead>\n",
              "  <tbody>\n",
              "    <tr>\n",
              "      <th>0</th>\n",
              "      <td>1</td>\n",
              "      <td>apple</td>\n",
              "      <td>granny_smith</td>\n",
              "      <td>192.000000</td>\n",
              "      <td>8.4</td>\n",
              "      <td>7.300000</td>\n",
              "      <td>0.55</td>\n",
              "    </tr>\n",
              "    <tr>\n",
              "      <th>1</th>\n",
              "      <td>1</td>\n",
              "      <td>apple</td>\n",
              "      <td>granny_smith</td>\n",
              "      <td>180.000000</td>\n",
              "      <td>8.0</td>\n",
              "      <td>6.800000</td>\n",
              "      <td>0.59</td>\n",
              "    </tr>\n",
              "    <tr>\n",
              "      <th>2</th>\n",
              "      <td>1</td>\n",
              "      <td>apple</td>\n",
              "      <td>granny_smith</td>\n",
              "      <td>176.000000</td>\n",
              "      <td>7.4</td>\n",
              "      <td>7.200000</td>\n",
              "      <td>0.60</td>\n",
              "    </tr>\n",
              "    <tr>\n",
              "      <th>3</th>\n",
              "      <td>2</td>\n",
              "      <td>mandarin</td>\n",
              "      <td>mandarin</td>\n",
              "      <td>164.448276</td>\n",
              "      <td>6.2</td>\n",
              "      <td>4.700000</td>\n",
              "      <td>0.80</td>\n",
              "    </tr>\n",
              "    <tr>\n",
              "      <th>4</th>\n",
              "      <td>2</td>\n",
              "      <td>mandarin</td>\n",
              "      <td>mandarin</td>\n",
              "      <td>84.000000</td>\n",
              "      <td>6.0</td>\n",
              "      <td>4.600000</td>\n",
              "      <td>0.79</td>\n",
              "    </tr>\n",
              "    <tr>\n",
              "      <th>5</th>\n",
              "      <td>2</td>\n",
              "      <td>mandarin</td>\n",
              "      <td>mandarin</td>\n",
              "      <td>80.000000</td>\n",
              "      <td>5.8</td>\n",
              "      <td>4.300000</td>\n",
              "      <td>0.77</td>\n",
              "    </tr>\n",
              "    <tr>\n",
              "      <th>6</th>\n",
              "      <td>2</td>\n",
              "      <td>mandarin</td>\n",
              "      <td>mandarin</td>\n",
              "      <td>80.000000</td>\n",
              "      <td>5.9</td>\n",
              "      <td>4.300000</td>\n",
              "      <td>0.81</td>\n",
              "    </tr>\n",
              "    <tr>\n",
              "      <th>7</th>\n",
              "      <td>2</td>\n",
              "      <td>mandarin</td>\n",
              "      <td>NaN</td>\n",
              "      <td>76.000000</td>\n",
              "      <td>5.8</td>\n",
              "      <td>4.000000</td>\n",
              "      <td>0.81</td>\n",
              "    </tr>\n",
              "    <tr>\n",
              "      <th>8</th>\n",
              "      <td>1</td>\n",
              "      <td>apple</td>\n",
              "      <td>braeburn</td>\n",
              "      <td>178.000000</td>\n",
              "      <td>7.1</td>\n",
              "      <td>7.691379</td>\n",
              "      <td>0.92</td>\n",
              "    </tr>\n",
              "    <tr>\n",
              "      <th>9</th>\n",
              "      <td>1</td>\n",
              "      <td>apple</td>\n",
              "      <td>braeburn</td>\n",
              "      <td>172.000000</td>\n",
              "      <td>7.4</td>\n",
              "      <td>7.000000</td>\n",
              "      <td>0.89</td>\n",
              "    </tr>\n",
              "  </tbody>\n",
              "</table>\n",
              "</div>"
            ],
            "text/plain": [
              "   fruit_label fruit_name fruit_subtype  ...  width    height  color_score\n",
              "0            1      apple  granny_smith  ...    8.4  7.300000         0.55\n",
              "1            1      apple  granny_smith  ...    8.0  6.800000         0.59\n",
              "2            1      apple  granny_smith  ...    7.4  7.200000         0.60\n",
              "3            2   mandarin      mandarin  ...    6.2  4.700000         0.80\n",
              "4            2   mandarin      mandarin  ...    6.0  4.600000         0.79\n",
              "5            2   mandarin      mandarin  ...    5.8  4.300000         0.77\n",
              "6            2   mandarin      mandarin  ...    5.9  4.300000         0.81\n",
              "7            2   mandarin           NaN  ...    5.8  4.000000         0.81\n",
              "8            1      apple      braeburn  ...    7.1  7.691379         0.92\n",
              "9            1      apple      braeburn  ...    7.4  7.000000         0.89\n",
              "\n",
              "[10 rows x 7 columns]"
            ]
          },
          "metadata": {
            "tags": []
          },
          "execution_count": 37
        }
      ]
    },
    {
      "cell_type": "code",
      "metadata": {
        "colab": {
          "base_uri": "https://localhost:8080/"
        },
        "id": "CpHjHa8cPsKs",
        "outputId": "01df8dff-b319-4265-96ff-e38f4ac2c478"
      },
      "source": [
        "# visualizando os atributos da coluna \"fruit_subtype\" e a quantidade dos mesmos\n",
        "dados_copia['fruit_subtype'].value_counts()"
      ],
      "execution_count": null,
      "outputs": [
        {
          "output_type": "execute_result",
          "data": {
            "text/plain": [
              "unknown             10\n",
              "turkey_navel        10\n",
              "selected_seconds     6\n",
              "cripps_pink          6\n",
              "spanish_belsan       6\n",
              "golden_delicious     5\n",
              "braeburn             5\n",
              "mandarin             4\n",
              "spanish_jumbo        3\n",
              "granny_smith         3\n",
              "0                    1\n",
              "Name: fruit_subtype, dtype: int64"
            ]
          },
          "metadata": {
            "tags": []
          },
          "execution_count": 209
        }
      ]
    },
    {
      "cell_type": "code",
      "metadata": {
        "colab": {
          "base_uri": "https://localhost:8080/"
        },
        "id": "RVLYhz9Eygg4",
        "outputId": "6f84a693-ab69-4e3e-d5e8-01825f0b86c1"
      },
      "source": [
        "# atribuindo um valor para o campo na coluna \"fruit_subtype\" onde há dado ausente \"NaN\"\n",
        "# nesse caso iremos atribuir \"turkey_navel\" na variável \"valor\"\n",
        "valor = 'turkey_navel'\n",
        "\n",
        "# realizando o preenchimento do campo com o atributo da variável \"valor\"\n",
        "dados_copia['fruit_subtype'].fillna(value=valor, inplace=True)\n",
        "dados_copia['fruit_subtype'].value_counts() # visualizando da coluna \"fruit_subtype\" a quantidades de valores por instância"
      ],
      "execution_count": null,
      "outputs": [
        {
          "output_type": "execute_result",
          "data": {
            "text/plain": [
              "turkey_navel        11\n",
              "unknown             10\n",
              "cripps_pink          6\n",
              "spanish_belsan       6\n",
              "selected_seconds     6\n",
              "golden_delicious     5\n",
              "braeburn             5\n",
              "mandarin             4\n",
              "spanish_jumbo        3\n",
              "granny_smith         3\n",
              "Name: fruit_subtype, dtype: int64"
            ]
          },
          "metadata": {
            "tags": []
          },
          "execution_count": 38
        }
      ]
    },
    {
      "cell_type": "markdown",
      "metadata": {
        "id": "3EP2l_95ZvUM"
      },
      "source": [
        ">> **Veja que tivemos êxito!**"
      ]
    },
    {
      "cell_type": "markdown",
      "metadata": {
        "id": "IAvdqlvTZ8Db"
      },
      "source": [
        "**Vamos utilizar a função** `describe` **e passando como argumento** `(include='all')`.\n",
        "  - ela retorna além dos dados estatísticos das colunas com valores numéricos e também qual conjunto de strings é mais presente para colunas com esse tipo da dado.\n"
      ]
    },
    {
      "cell_type": "code",
      "metadata": {
        "id": "ETOvEZwYzRpl",
        "colab": {
          "base_uri": "https://localhost:8080/",
          "height": 390
        },
        "outputId": "3bc7deb5-f9e7-4111-9677-ca861a68081b"
      },
      "source": [
        "# visualizando todos dados \"estatísticos\" do conjunto de dados\n",
        "dados_copia.describe(include='all')"
      ],
      "execution_count": null,
      "outputs": [
        {
          "output_type": "execute_result",
          "data": {
            "text/html": [
              "<div>\n",
              "<style scoped>\n",
              "    .dataframe tbody tr th:only-of-type {\n",
              "        vertical-align: middle;\n",
              "    }\n",
              "\n",
              "    .dataframe tbody tr th {\n",
              "        vertical-align: top;\n",
              "    }\n",
              "\n",
              "    .dataframe thead th {\n",
              "        text-align: right;\n",
              "    }\n",
              "</style>\n",
              "<table border=\"1\" class=\"dataframe\">\n",
              "  <thead>\n",
              "    <tr style=\"text-align: right;\">\n",
              "      <th></th>\n",
              "      <th>fruit_label</th>\n",
              "      <th>fruit_name</th>\n",
              "      <th>fruit_subtype</th>\n",
              "      <th>mass</th>\n",
              "      <th>width</th>\n",
              "      <th>height</th>\n",
              "      <th>color_score</th>\n",
              "    </tr>\n",
              "  </thead>\n",
              "  <tbody>\n",
              "    <tr>\n",
              "      <th>count</th>\n",
              "      <td>59.000000</td>\n",
              "      <td>59</td>\n",
              "      <td>59</td>\n",
              "      <td>59.000000</td>\n",
              "      <td>59.000000</td>\n",
              "      <td>59.000000</td>\n",
              "      <td>59.000000</td>\n",
              "    </tr>\n",
              "    <tr>\n",
              "      <th>unique</th>\n",
              "      <td>NaN</td>\n",
              "      <td>4</td>\n",
              "      <td>10</td>\n",
              "      <td>NaN</td>\n",
              "      <td>NaN</td>\n",
              "      <td>NaN</td>\n",
              "      <td>NaN</td>\n",
              "    </tr>\n",
              "    <tr>\n",
              "      <th>top</th>\n",
              "      <td>NaN</td>\n",
              "      <td>apple</td>\n",
              "      <td>turkey_navel</td>\n",
              "      <td>NaN</td>\n",
              "      <td>NaN</td>\n",
              "      <td>NaN</td>\n",
              "      <td>NaN</td>\n",
              "    </tr>\n",
              "    <tr>\n",
              "      <th>freq</th>\n",
              "      <td>NaN</td>\n",
              "      <td>19</td>\n",
              "      <td>11</td>\n",
              "      <td>NaN</td>\n",
              "      <td>NaN</td>\n",
              "      <td>NaN</td>\n",
              "      <td>NaN</td>\n",
              "    </tr>\n",
              "    <tr>\n",
              "      <th>mean</th>\n",
              "      <td>2.542373</td>\n",
              "      <td>NaN</td>\n",
              "      <td>NaN</td>\n",
              "      <td>164.448276</td>\n",
              "      <td>7.105085</td>\n",
              "      <td>7.691379</td>\n",
              "      <td>0.762881</td>\n",
              "    </tr>\n",
              "    <tr>\n",
              "      <th>std</th>\n",
              "      <td>1.208048</td>\n",
              "      <td>NaN</td>\n",
              "      <td>NaN</td>\n",
              "      <td>54.062599</td>\n",
              "      <td>0.816938</td>\n",
              "      <td>1.360943</td>\n",
              "      <td>0.076857</td>\n",
              "    </tr>\n",
              "    <tr>\n",
              "      <th>min</th>\n",
              "      <td>1.000000</td>\n",
              "      <td>NaN</td>\n",
              "      <td>NaN</td>\n",
              "      <td>76.000000</td>\n",
              "      <td>5.800000</td>\n",
              "      <td>4.000000</td>\n",
              "      <td>0.550000</td>\n",
              "    </tr>\n",
              "    <tr>\n",
              "      <th>25%</th>\n",
              "      <td>1.000000</td>\n",
              "      <td>NaN</td>\n",
              "      <td>NaN</td>\n",
              "      <td>141.000000</td>\n",
              "      <td>6.600000</td>\n",
              "      <td>7.200000</td>\n",
              "      <td>0.720000</td>\n",
              "    </tr>\n",
              "    <tr>\n",
              "      <th>50%</th>\n",
              "      <td>3.000000</td>\n",
              "      <td>NaN</td>\n",
              "      <td>NaN</td>\n",
              "      <td>160.000000</td>\n",
              "      <td>7.200000</td>\n",
              "      <td>7.600000</td>\n",
              "      <td>0.750000</td>\n",
              "    </tr>\n",
              "    <tr>\n",
              "      <th>75%</th>\n",
              "      <td>4.000000</td>\n",
              "      <td>NaN</td>\n",
              "      <td>NaN</td>\n",
              "      <td>177.000000</td>\n",
              "      <td>7.500000</td>\n",
              "      <td>8.200000</td>\n",
              "      <td>0.810000</td>\n",
              "    </tr>\n",
              "    <tr>\n",
              "      <th>max</th>\n",
              "      <td>4.000000</td>\n",
              "      <td>NaN</td>\n",
              "      <td>NaN</td>\n",
              "      <td>362.000000</td>\n",
              "      <td>9.600000</td>\n",
              "      <td>10.500000</td>\n",
              "      <td>0.930000</td>\n",
              "    </tr>\n",
              "  </tbody>\n",
              "</table>\n",
              "</div>"
            ],
            "text/plain": [
              "        fruit_label fruit_name fruit_subtype  ...      width     height  color_score\n",
              "count     59.000000         59            59  ...  59.000000  59.000000    59.000000\n",
              "unique          NaN          4            10  ...        NaN        NaN          NaN\n",
              "top             NaN      apple  turkey_navel  ...        NaN        NaN          NaN\n",
              "freq            NaN         19            11  ...        NaN        NaN          NaN\n",
              "mean       2.542373        NaN           NaN  ...   7.105085   7.691379     0.762881\n",
              "std        1.208048        NaN           NaN  ...   0.816938   1.360943     0.076857\n",
              "min        1.000000        NaN           NaN  ...   5.800000   4.000000     0.550000\n",
              "25%        1.000000        NaN           NaN  ...   6.600000   7.200000     0.720000\n",
              "50%        3.000000        NaN           NaN  ...   7.200000   7.600000     0.750000\n",
              "75%        4.000000        NaN           NaN  ...   7.500000   8.200000     0.810000\n",
              "max        4.000000        NaN           NaN  ...   9.600000  10.500000     0.930000\n",
              "\n",
              "[11 rows x 7 columns]"
            ]
          },
          "metadata": {
            "tags": []
          },
          "execution_count": 39
        }
      ]
    },
    {
      "cell_type": "code",
      "metadata": {
        "id": "sy2mcCTzf1ig"
      },
      "source": [
        "# # preenchendo a coluna \"fruit_subtype\" por espaço vazio \"turkey_navel\"\n",
        "# dados_copia[['fruit_subtype']] = dados_copia[['fruit_subtype']].fillna(dados_copia.mean()); dados_copia"
      ],
      "execution_count": null,
      "outputs": []
    },
    {
      "cell_type": "code",
      "metadata": {
        "id": "dd9qTnEOZtlW"
      },
      "source": [
        "# dados_copia[['fruit_subtype']] = dados_copia['fruit_subtype'].fillna(dados_copia['fruit_subtype'].value_counts().argmax())"
      ],
      "execution_count": null,
      "outputs": []
    },
    {
      "cell_type": "code",
      "metadata": {
        "id": "JS8MRaGDzRFt",
        "colab": {
          "base_uri": "https://localhost:8080/",
          "height": 1000
        },
        "outputId": "90a3efd2-86ca-45d2-f5d0-375c6e530834"
      },
      "source": [
        "# visualizando novamente o conjunto de dados\n",
        "dados_copia"
      ],
      "execution_count": null,
      "outputs": [
        {
          "output_type": "execute_result",
          "data": {
            "text/html": [
              "<div>\n",
              "<style scoped>\n",
              "    .dataframe tbody tr th:only-of-type {\n",
              "        vertical-align: middle;\n",
              "    }\n",
              "\n",
              "    .dataframe tbody tr th {\n",
              "        vertical-align: top;\n",
              "    }\n",
              "\n",
              "    .dataframe thead th {\n",
              "        text-align: right;\n",
              "    }\n",
              "</style>\n",
              "<table border=\"1\" class=\"dataframe\">\n",
              "  <thead>\n",
              "    <tr style=\"text-align: right;\">\n",
              "      <th></th>\n",
              "      <th>fruit_label</th>\n",
              "      <th>fruit_name</th>\n",
              "      <th>fruit_subtype</th>\n",
              "      <th>mass</th>\n",
              "      <th>width</th>\n",
              "      <th>height</th>\n",
              "      <th>color_score</th>\n",
              "    </tr>\n",
              "  </thead>\n",
              "  <tbody>\n",
              "    <tr>\n",
              "      <th>0</th>\n",
              "      <td>1</td>\n",
              "      <td>apple</td>\n",
              "      <td>granny_smith</td>\n",
              "      <td>192.000000</td>\n",
              "      <td>8.4</td>\n",
              "      <td>7.300000</td>\n",
              "      <td>0.55</td>\n",
              "    </tr>\n",
              "    <tr>\n",
              "      <th>1</th>\n",
              "      <td>1</td>\n",
              "      <td>apple</td>\n",
              "      <td>granny_smith</td>\n",
              "      <td>180.000000</td>\n",
              "      <td>8.0</td>\n",
              "      <td>6.800000</td>\n",
              "      <td>0.59</td>\n",
              "    </tr>\n",
              "    <tr>\n",
              "      <th>2</th>\n",
              "      <td>1</td>\n",
              "      <td>apple</td>\n",
              "      <td>granny_smith</td>\n",
              "      <td>176.000000</td>\n",
              "      <td>7.4</td>\n",
              "      <td>7.200000</td>\n",
              "      <td>0.60</td>\n",
              "    </tr>\n",
              "    <tr>\n",
              "      <th>3</th>\n",
              "      <td>2</td>\n",
              "      <td>mandarin</td>\n",
              "      <td>mandarin</td>\n",
              "      <td>164.448276</td>\n",
              "      <td>6.2</td>\n",
              "      <td>4.700000</td>\n",
              "      <td>0.80</td>\n",
              "    </tr>\n",
              "    <tr>\n",
              "      <th>4</th>\n",
              "      <td>2</td>\n",
              "      <td>mandarin</td>\n",
              "      <td>mandarin</td>\n",
              "      <td>84.000000</td>\n",
              "      <td>6.0</td>\n",
              "      <td>4.600000</td>\n",
              "      <td>0.79</td>\n",
              "    </tr>\n",
              "    <tr>\n",
              "      <th>5</th>\n",
              "      <td>2</td>\n",
              "      <td>mandarin</td>\n",
              "      <td>mandarin</td>\n",
              "      <td>80.000000</td>\n",
              "      <td>5.8</td>\n",
              "      <td>4.300000</td>\n",
              "      <td>0.77</td>\n",
              "    </tr>\n",
              "    <tr>\n",
              "      <th>6</th>\n",
              "      <td>2</td>\n",
              "      <td>mandarin</td>\n",
              "      <td>mandarin</td>\n",
              "      <td>80.000000</td>\n",
              "      <td>5.9</td>\n",
              "      <td>4.300000</td>\n",
              "      <td>0.81</td>\n",
              "    </tr>\n",
              "    <tr>\n",
              "      <th>7</th>\n",
              "      <td>2</td>\n",
              "      <td>mandarin</td>\n",
              "      <td>turkey_navel</td>\n",
              "      <td>76.000000</td>\n",
              "      <td>5.8</td>\n",
              "      <td>4.000000</td>\n",
              "      <td>0.81</td>\n",
              "    </tr>\n",
              "    <tr>\n",
              "      <th>8</th>\n",
              "      <td>1</td>\n",
              "      <td>apple</td>\n",
              "      <td>braeburn</td>\n",
              "      <td>178.000000</td>\n",
              "      <td>7.1</td>\n",
              "      <td>7.691379</td>\n",
              "      <td>0.92</td>\n",
              "    </tr>\n",
              "    <tr>\n",
              "      <th>9</th>\n",
              "      <td>1</td>\n",
              "      <td>apple</td>\n",
              "      <td>braeburn</td>\n",
              "      <td>172.000000</td>\n",
              "      <td>7.4</td>\n",
              "      <td>7.000000</td>\n",
              "      <td>0.89</td>\n",
              "    </tr>\n",
              "    <tr>\n",
              "      <th>10</th>\n",
              "      <td>1</td>\n",
              "      <td>apple</td>\n",
              "      <td>braeburn</td>\n",
              "      <td>166.000000</td>\n",
              "      <td>6.9</td>\n",
              "      <td>7.300000</td>\n",
              "      <td>0.93</td>\n",
              "    </tr>\n",
              "    <tr>\n",
              "      <th>11</th>\n",
              "      <td>1</td>\n",
              "      <td>apple</td>\n",
              "      <td>braeburn</td>\n",
              "      <td>172.000000</td>\n",
              "      <td>7.1</td>\n",
              "      <td>7.600000</td>\n",
              "      <td>0.92</td>\n",
              "    </tr>\n",
              "    <tr>\n",
              "      <th>12</th>\n",
              "      <td>1</td>\n",
              "      <td>apple</td>\n",
              "      <td>braeburn</td>\n",
              "      <td>154.000000</td>\n",
              "      <td>7.0</td>\n",
              "      <td>7.100000</td>\n",
              "      <td>0.88</td>\n",
              "    </tr>\n",
              "    <tr>\n",
              "      <th>13</th>\n",
              "      <td>1</td>\n",
              "      <td>apple</td>\n",
              "      <td>golden_delicious</td>\n",
              "      <td>164.000000</td>\n",
              "      <td>7.3</td>\n",
              "      <td>7.700000</td>\n",
              "      <td>0.70</td>\n",
              "    </tr>\n",
              "    <tr>\n",
              "      <th>14</th>\n",
              "      <td>1</td>\n",
              "      <td>apple</td>\n",
              "      <td>golden_delicious</td>\n",
              "      <td>152.000000</td>\n",
              "      <td>7.6</td>\n",
              "      <td>7.300000</td>\n",
              "      <td>0.69</td>\n",
              "    </tr>\n",
              "    <tr>\n",
              "      <th>15</th>\n",
              "      <td>1</td>\n",
              "      <td>apple</td>\n",
              "      <td>golden_delicious</td>\n",
              "      <td>156.000000</td>\n",
              "      <td>7.7</td>\n",
              "      <td>7.100000</td>\n",
              "      <td>0.69</td>\n",
              "    </tr>\n",
              "    <tr>\n",
              "      <th>16</th>\n",
              "      <td>1</td>\n",
              "      <td>apple</td>\n",
              "      <td>golden_delicious</td>\n",
              "      <td>156.000000</td>\n",
              "      <td>7.6</td>\n",
              "      <td>7.500000</td>\n",
              "      <td>0.67</td>\n",
              "    </tr>\n",
              "    <tr>\n",
              "      <th>17</th>\n",
              "      <td>1</td>\n",
              "      <td>apple</td>\n",
              "      <td>golden_delicious</td>\n",
              "      <td>168.000000</td>\n",
              "      <td>7.5</td>\n",
              "      <td>7.600000</td>\n",
              "      <td>0.73</td>\n",
              "    </tr>\n",
              "    <tr>\n",
              "      <th>18</th>\n",
              "      <td>1</td>\n",
              "      <td>apple</td>\n",
              "      <td>cripps_pink</td>\n",
              "      <td>162.000000</td>\n",
              "      <td>7.5</td>\n",
              "      <td>7.100000</td>\n",
              "      <td>0.83</td>\n",
              "    </tr>\n",
              "    <tr>\n",
              "      <th>19</th>\n",
              "      <td>1</td>\n",
              "      <td>apple</td>\n",
              "      <td>cripps_pink</td>\n",
              "      <td>162.000000</td>\n",
              "      <td>7.4</td>\n",
              "      <td>7.200000</td>\n",
              "      <td>0.85</td>\n",
              "    </tr>\n",
              "    <tr>\n",
              "      <th>20</th>\n",
              "      <td>1</td>\n",
              "      <td>apple</td>\n",
              "      <td>cripps_pink</td>\n",
              "      <td>160.000000</td>\n",
              "      <td>7.5</td>\n",
              "      <td>7.500000</td>\n",
              "      <td>0.86</td>\n",
              "    </tr>\n",
              "    <tr>\n",
              "      <th>21</th>\n",
              "      <td>1</td>\n",
              "      <td>apple</td>\n",
              "      <td>cripps_pink</td>\n",
              "      <td>156.000000</td>\n",
              "      <td>7.4</td>\n",
              "      <td>7.400000</td>\n",
              "      <td>0.84</td>\n",
              "    </tr>\n",
              "    <tr>\n",
              "      <th>22</th>\n",
              "      <td>1</td>\n",
              "      <td>apple</td>\n",
              "      <td>cripps_pink</td>\n",
              "      <td>140.000000</td>\n",
              "      <td>7.3</td>\n",
              "      <td>7.100000</td>\n",
              "      <td>0.87</td>\n",
              "    </tr>\n",
              "    <tr>\n",
              "      <th>23</th>\n",
              "      <td>1</td>\n",
              "      <td>apple</td>\n",
              "      <td>cripps_pink</td>\n",
              "      <td>170.000000</td>\n",
              "      <td>7.6</td>\n",
              "      <td>7.900000</td>\n",
              "      <td>0.88</td>\n",
              "    </tr>\n",
              "    <tr>\n",
              "      <th>24</th>\n",
              "      <td>3</td>\n",
              "      <td>orange</td>\n",
              "      <td>spanish_jumbo</td>\n",
              "      <td>342.000000</td>\n",
              "      <td>9.0</td>\n",
              "      <td>9.400000</td>\n",
              "      <td>0.75</td>\n",
              "    </tr>\n",
              "    <tr>\n",
              "      <th>25</th>\n",
              "      <td>3</td>\n",
              "      <td>orange</td>\n",
              "      <td>spanish_jumbo</td>\n",
              "      <td>356.000000</td>\n",
              "      <td>9.2</td>\n",
              "      <td>9.200000</td>\n",
              "      <td>0.75</td>\n",
              "    </tr>\n",
              "    <tr>\n",
              "      <th>26</th>\n",
              "      <td>3</td>\n",
              "      <td>orange</td>\n",
              "      <td>spanish_jumbo</td>\n",
              "      <td>362.000000</td>\n",
              "      <td>9.6</td>\n",
              "      <td>9.200000</td>\n",
              "      <td>0.74</td>\n",
              "    </tr>\n",
              "    <tr>\n",
              "      <th>27</th>\n",
              "      <td>3</td>\n",
              "      <td>orange</td>\n",
              "      <td>selected_seconds</td>\n",
              "      <td>204.000000</td>\n",
              "      <td>7.5</td>\n",
              "      <td>9.200000</td>\n",
              "      <td>0.77</td>\n",
              "    </tr>\n",
              "    <tr>\n",
              "      <th>28</th>\n",
              "      <td>3</td>\n",
              "      <td>orange</td>\n",
              "      <td>selected_seconds</td>\n",
              "      <td>140.000000</td>\n",
              "      <td>6.7</td>\n",
              "      <td>7.100000</td>\n",
              "      <td>0.72</td>\n",
              "    </tr>\n",
              "    <tr>\n",
              "      <th>29</th>\n",
              "      <td>3</td>\n",
              "      <td>orange</td>\n",
              "      <td>selected_seconds</td>\n",
              "      <td>160.000000</td>\n",
              "      <td>7.0</td>\n",
              "      <td>7.400000</td>\n",
              "      <td>0.81</td>\n",
              "    </tr>\n",
              "    <tr>\n",
              "      <th>30</th>\n",
              "      <td>3</td>\n",
              "      <td>orange</td>\n",
              "      <td>selected_seconds</td>\n",
              "      <td>158.000000</td>\n",
              "      <td>7.1</td>\n",
              "      <td>7.500000</td>\n",
              "      <td>0.79</td>\n",
              "    </tr>\n",
              "    <tr>\n",
              "      <th>31</th>\n",
              "      <td>3</td>\n",
              "      <td>orange</td>\n",
              "      <td>selected_seconds</td>\n",
              "      <td>210.000000</td>\n",
              "      <td>7.8</td>\n",
              "      <td>8.000000</td>\n",
              "      <td>0.82</td>\n",
              "    </tr>\n",
              "    <tr>\n",
              "      <th>32</th>\n",
              "      <td>3</td>\n",
              "      <td>orange</td>\n",
              "      <td>selected_seconds</td>\n",
              "      <td>164.000000</td>\n",
              "      <td>7.2</td>\n",
              "      <td>7.000000</td>\n",
              "      <td>0.80</td>\n",
              "    </tr>\n",
              "    <tr>\n",
              "      <th>33</th>\n",
              "      <td>3</td>\n",
              "      <td>orange</td>\n",
              "      <td>turkey_navel</td>\n",
              "      <td>190.000000</td>\n",
              "      <td>7.5</td>\n",
              "      <td>8.100000</td>\n",
              "      <td>0.74</td>\n",
              "    </tr>\n",
              "    <tr>\n",
              "      <th>34</th>\n",
              "      <td>3</td>\n",
              "      <td>orange</td>\n",
              "      <td>turkey_navel</td>\n",
              "      <td>142.000000</td>\n",
              "      <td>7.6</td>\n",
              "      <td>7.800000</td>\n",
              "      <td>0.75</td>\n",
              "    </tr>\n",
              "    <tr>\n",
              "      <th>35</th>\n",
              "      <td>3</td>\n",
              "      <td>orange</td>\n",
              "      <td>turkey_navel</td>\n",
              "      <td>150.000000</td>\n",
              "      <td>7.1</td>\n",
              "      <td>7.900000</td>\n",
              "      <td>0.75</td>\n",
              "    </tr>\n",
              "    <tr>\n",
              "      <th>36</th>\n",
              "      <td>3</td>\n",
              "      <td>orange</td>\n",
              "      <td>turkey_navel</td>\n",
              "      <td>160.000000</td>\n",
              "      <td>7.1</td>\n",
              "      <td>7.600000</td>\n",
              "      <td>0.76</td>\n",
              "    </tr>\n",
              "    <tr>\n",
              "      <th>37</th>\n",
              "      <td>3</td>\n",
              "      <td>orange</td>\n",
              "      <td>turkey_navel</td>\n",
              "      <td>154.000000</td>\n",
              "      <td>7.3</td>\n",
              "      <td>7.300000</td>\n",
              "      <td>0.79</td>\n",
              "    </tr>\n",
              "    <tr>\n",
              "      <th>38</th>\n",
              "      <td>3</td>\n",
              "      <td>orange</td>\n",
              "      <td>turkey_navel</td>\n",
              "      <td>158.000000</td>\n",
              "      <td>7.2</td>\n",
              "      <td>7.800000</td>\n",
              "      <td>0.77</td>\n",
              "    </tr>\n",
              "    <tr>\n",
              "      <th>39</th>\n",
              "      <td>3</td>\n",
              "      <td>orange</td>\n",
              "      <td>turkey_navel</td>\n",
              "      <td>144.000000</td>\n",
              "      <td>6.8</td>\n",
              "      <td>7.400000</td>\n",
              "      <td>0.75</td>\n",
              "    </tr>\n",
              "    <tr>\n",
              "      <th>40</th>\n",
              "      <td>3</td>\n",
              "      <td>orange</td>\n",
              "      <td>turkey_navel</td>\n",
              "      <td>154.000000</td>\n",
              "      <td>7.1</td>\n",
              "      <td>7.500000</td>\n",
              "      <td>0.78</td>\n",
              "    </tr>\n",
              "    <tr>\n",
              "      <th>41</th>\n",
              "      <td>3</td>\n",
              "      <td>orange</td>\n",
              "      <td>turkey_navel</td>\n",
              "      <td>180.000000</td>\n",
              "      <td>7.6</td>\n",
              "      <td>8.200000</td>\n",
              "      <td>0.79</td>\n",
              "    </tr>\n",
              "    <tr>\n",
              "      <th>42</th>\n",
              "      <td>3</td>\n",
              "      <td>orange</td>\n",
              "      <td>turkey_navel</td>\n",
              "      <td>154.000000</td>\n",
              "      <td>7.2</td>\n",
              "      <td>7.200000</td>\n",
              "      <td>0.82</td>\n",
              "    </tr>\n",
              "    <tr>\n",
              "      <th>43</th>\n",
              "      <td>4</td>\n",
              "      <td>lemon</td>\n",
              "      <td>spanish_belsan</td>\n",
              "      <td>194.000000</td>\n",
              "      <td>7.2</td>\n",
              "      <td>10.300000</td>\n",
              "      <td>0.70</td>\n",
              "    </tr>\n",
              "    <tr>\n",
              "      <th>44</th>\n",
              "      <td>4</td>\n",
              "      <td>lemon</td>\n",
              "      <td>spanish_belsan</td>\n",
              "      <td>200.000000</td>\n",
              "      <td>7.3</td>\n",
              "      <td>10.500000</td>\n",
              "      <td>0.72</td>\n",
              "    </tr>\n",
              "    <tr>\n",
              "      <th>45</th>\n",
              "      <td>4</td>\n",
              "      <td>lemon</td>\n",
              "      <td>spanish_belsan</td>\n",
              "      <td>186.000000</td>\n",
              "      <td>7.2</td>\n",
              "      <td>9.200000</td>\n",
              "      <td>0.72</td>\n",
              "    </tr>\n",
              "    <tr>\n",
              "      <th>46</th>\n",
              "      <td>4</td>\n",
              "      <td>lemon</td>\n",
              "      <td>spanish_belsan</td>\n",
              "      <td>216.000000</td>\n",
              "      <td>7.3</td>\n",
              "      <td>10.200000</td>\n",
              "      <td>0.71</td>\n",
              "    </tr>\n",
              "    <tr>\n",
              "      <th>47</th>\n",
              "      <td>4</td>\n",
              "      <td>lemon</td>\n",
              "      <td>spanish_belsan</td>\n",
              "      <td>196.000000</td>\n",
              "      <td>7.3</td>\n",
              "      <td>9.700000</td>\n",
              "      <td>0.72</td>\n",
              "    </tr>\n",
              "    <tr>\n",
              "      <th>48</th>\n",
              "      <td>4</td>\n",
              "      <td>lemon</td>\n",
              "      <td>spanish_belsan</td>\n",
              "      <td>174.000000</td>\n",
              "      <td>7.3</td>\n",
              "      <td>10.100000</td>\n",
              "      <td>0.72</td>\n",
              "    </tr>\n",
              "    <tr>\n",
              "      <th>49</th>\n",
              "      <td>4</td>\n",
              "      <td>lemon</td>\n",
              "      <td>unknown</td>\n",
              "      <td>132.000000</td>\n",
              "      <td>5.8</td>\n",
              "      <td>8.700000</td>\n",
              "      <td>0.73</td>\n",
              "    </tr>\n",
              "    <tr>\n",
              "      <th>50</th>\n",
              "      <td>4</td>\n",
              "      <td>lemon</td>\n",
              "      <td>unknown</td>\n",
              "      <td>130.000000</td>\n",
              "      <td>6.0</td>\n",
              "      <td>8.200000</td>\n",
              "      <td>0.71</td>\n",
              "    </tr>\n",
              "    <tr>\n",
              "      <th>51</th>\n",
              "      <td>4</td>\n",
              "      <td>lemon</td>\n",
              "      <td>unknown</td>\n",
              "      <td>116.000000</td>\n",
              "      <td>6.0</td>\n",
              "      <td>7.500000</td>\n",
              "      <td>0.72</td>\n",
              "    </tr>\n",
              "    <tr>\n",
              "      <th>52</th>\n",
              "      <td>4</td>\n",
              "      <td>lemon</td>\n",
              "      <td>unknown</td>\n",
              "      <td>118.000000</td>\n",
              "      <td>5.9</td>\n",
              "      <td>8.000000</td>\n",
              "      <td>0.72</td>\n",
              "    </tr>\n",
              "    <tr>\n",
              "      <th>53</th>\n",
              "      <td>4</td>\n",
              "      <td>lemon</td>\n",
              "      <td>unknown</td>\n",
              "      <td>120.000000</td>\n",
              "      <td>6.0</td>\n",
              "      <td>8.400000</td>\n",
              "      <td>0.74</td>\n",
              "    </tr>\n",
              "    <tr>\n",
              "      <th>54</th>\n",
              "      <td>4</td>\n",
              "      <td>lemon</td>\n",
              "      <td>unknown</td>\n",
              "      <td>116.000000</td>\n",
              "      <td>6.1</td>\n",
              "      <td>8.500000</td>\n",
              "      <td>0.71</td>\n",
              "    </tr>\n",
              "    <tr>\n",
              "      <th>55</th>\n",
              "      <td>4</td>\n",
              "      <td>lemon</td>\n",
              "      <td>unknown</td>\n",
              "      <td>116.000000</td>\n",
              "      <td>6.3</td>\n",
              "      <td>7.700000</td>\n",
              "      <td>0.72</td>\n",
              "    </tr>\n",
              "    <tr>\n",
              "      <th>56</th>\n",
              "      <td>4</td>\n",
              "      <td>lemon</td>\n",
              "      <td>unknown</td>\n",
              "      <td>116.000000</td>\n",
              "      <td>5.9</td>\n",
              "      <td>8.100000</td>\n",
              "      <td>0.73</td>\n",
              "    </tr>\n",
              "    <tr>\n",
              "      <th>57</th>\n",
              "      <td>4</td>\n",
              "      <td>lemon</td>\n",
              "      <td>unknown</td>\n",
              "      <td>152.000000</td>\n",
              "      <td>6.5</td>\n",
              "      <td>8.500000</td>\n",
              "      <td>0.72</td>\n",
              "    </tr>\n",
              "    <tr>\n",
              "      <th>58</th>\n",
              "      <td>4</td>\n",
              "      <td>lemon</td>\n",
              "      <td>unknown</td>\n",
              "      <td>118.000000</td>\n",
              "      <td>6.1</td>\n",
              "      <td>8.100000</td>\n",
              "      <td>0.70</td>\n",
              "    </tr>\n",
              "  </tbody>\n",
              "</table>\n",
              "</div>"
            ],
            "text/plain": [
              "    fruit_label fruit_name     fruit_subtype  ...  width     height  color_score\n",
              "0             1      apple      granny_smith  ...    8.4   7.300000         0.55\n",
              "1             1      apple      granny_smith  ...    8.0   6.800000         0.59\n",
              "2             1      apple      granny_smith  ...    7.4   7.200000         0.60\n",
              "3             2   mandarin          mandarin  ...    6.2   4.700000         0.80\n",
              "4             2   mandarin          mandarin  ...    6.0   4.600000         0.79\n",
              "5             2   mandarin          mandarin  ...    5.8   4.300000         0.77\n",
              "6             2   mandarin          mandarin  ...    5.9   4.300000         0.81\n",
              "7             2   mandarin      turkey_navel  ...    5.8   4.000000         0.81\n",
              "8             1      apple          braeburn  ...    7.1   7.691379         0.92\n",
              "9             1      apple          braeburn  ...    7.4   7.000000         0.89\n",
              "10            1      apple          braeburn  ...    6.9   7.300000         0.93\n",
              "11            1      apple          braeburn  ...    7.1   7.600000         0.92\n",
              "12            1      apple          braeburn  ...    7.0   7.100000         0.88\n",
              "13            1      apple  golden_delicious  ...    7.3   7.700000         0.70\n",
              "14            1      apple  golden_delicious  ...    7.6   7.300000         0.69\n",
              "15            1      apple  golden_delicious  ...    7.7   7.100000         0.69\n",
              "16            1      apple  golden_delicious  ...    7.6   7.500000         0.67\n",
              "17            1      apple  golden_delicious  ...    7.5   7.600000         0.73\n",
              "18            1      apple       cripps_pink  ...    7.5   7.100000         0.83\n",
              "19            1      apple       cripps_pink  ...    7.4   7.200000         0.85\n",
              "20            1      apple       cripps_pink  ...    7.5   7.500000         0.86\n",
              "21            1      apple       cripps_pink  ...    7.4   7.400000         0.84\n",
              "22            1      apple       cripps_pink  ...    7.3   7.100000         0.87\n",
              "23            1      apple       cripps_pink  ...    7.6   7.900000         0.88\n",
              "24            3     orange     spanish_jumbo  ...    9.0   9.400000         0.75\n",
              "25            3     orange     spanish_jumbo  ...    9.2   9.200000         0.75\n",
              "26            3     orange     spanish_jumbo  ...    9.6   9.200000         0.74\n",
              "27            3     orange  selected_seconds  ...    7.5   9.200000         0.77\n",
              "28            3     orange  selected_seconds  ...    6.7   7.100000         0.72\n",
              "29            3     orange  selected_seconds  ...    7.0   7.400000         0.81\n",
              "30            3     orange  selected_seconds  ...    7.1   7.500000         0.79\n",
              "31            3     orange  selected_seconds  ...    7.8   8.000000         0.82\n",
              "32            3     orange  selected_seconds  ...    7.2   7.000000         0.80\n",
              "33            3     orange      turkey_navel  ...    7.5   8.100000         0.74\n",
              "34            3     orange      turkey_navel  ...    7.6   7.800000         0.75\n",
              "35            3     orange      turkey_navel  ...    7.1   7.900000         0.75\n",
              "36            3     orange      turkey_navel  ...    7.1   7.600000         0.76\n",
              "37            3     orange      turkey_navel  ...    7.3   7.300000         0.79\n",
              "38            3     orange      turkey_navel  ...    7.2   7.800000         0.77\n",
              "39            3     orange      turkey_navel  ...    6.8   7.400000         0.75\n",
              "40            3     orange      turkey_navel  ...    7.1   7.500000         0.78\n",
              "41            3     orange      turkey_navel  ...    7.6   8.200000         0.79\n",
              "42            3     orange      turkey_navel  ...    7.2   7.200000         0.82\n",
              "43            4      lemon    spanish_belsan  ...    7.2  10.300000         0.70\n",
              "44            4      lemon    spanish_belsan  ...    7.3  10.500000         0.72\n",
              "45            4      lemon    spanish_belsan  ...    7.2   9.200000         0.72\n",
              "46            4      lemon    spanish_belsan  ...    7.3  10.200000         0.71\n",
              "47            4      lemon    spanish_belsan  ...    7.3   9.700000         0.72\n",
              "48            4      lemon    spanish_belsan  ...    7.3  10.100000         0.72\n",
              "49            4      lemon           unknown  ...    5.8   8.700000         0.73\n",
              "50            4      lemon           unknown  ...    6.0   8.200000         0.71\n",
              "51            4      lemon           unknown  ...    6.0   7.500000         0.72\n",
              "52            4      lemon           unknown  ...    5.9   8.000000         0.72\n",
              "53            4      lemon           unknown  ...    6.0   8.400000         0.74\n",
              "54            4      lemon           unknown  ...    6.1   8.500000         0.71\n",
              "55            4      lemon           unknown  ...    6.3   7.700000         0.72\n",
              "56            4      lemon           unknown  ...    5.9   8.100000         0.73\n",
              "57            4      lemon           unknown  ...    6.5   8.500000         0.72\n",
              "58            4      lemon           unknown  ...    6.1   8.100000         0.70\n",
              "\n",
              "[59 rows x 7 columns]"
            ]
          },
          "metadata": {
            "tags": []
          },
          "execution_count": 53
        }
      ]
    },
    {
      "cell_type": "code",
      "metadata": {
        "colab": {
          "base_uri": "https://localhost:8080/",
          "height": 266
        },
        "id": "hiCKDOEVQIfX",
        "outputId": "3013d08d-0d08-4975-b059-7fa89e85bd4e"
      },
      "source": [
        "# aqui iremos visualizar a quantidade de dados nulos proporcional a quantidade total de dados em cada coluna\n",
        "total = dados_copia.isnull().sum().sort_values(ascending = False)\n",
        "percentual = (dados_copia.isnull().sum() / dados_copia.isnull().count()*100).sort_values(ascending = False)\n",
        "faltantes  = pd.concat([total, percentual], axis=1, keys=['Total', 'Dados faltando (%)'])\n",
        "faltantes.head(len(dados_copia))     # visualizando em relação a quantidade de colunas na base de dados"
      ],
      "execution_count": null,
      "outputs": [
        {
          "output_type": "execute_result",
          "data": {
            "text/html": [
              "<div>\n",
              "<style scoped>\n",
              "    .dataframe tbody tr th:only-of-type {\n",
              "        vertical-align: middle;\n",
              "    }\n",
              "\n",
              "    .dataframe tbody tr th {\n",
              "        vertical-align: top;\n",
              "    }\n",
              "\n",
              "    .dataframe thead th {\n",
              "        text-align: right;\n",
              "    }\n",
              "</style>\n",
              "<table border=\"1\" class=\"dataframe\">\n",
              "  <thead>\n",
              "    <tr style=\"text-align: right;\">\n",
              "      <th></th>\n",
              "      <th>Total</th>\n",
              "      <th>Dados faltando (%)</th>\n",
              "    </tr>\n",
              "  </thead>\n",
              "  <tbody>\n",
              "    <tr>\n",
              "      <th>color_score</th>\n",
              "      <td>0</td>\n",
              "      <td>0.0</td>\n",
              "    </tr>\n",
              "    <tr>\n",
              "      <th>height</th>\n",
              "      <td>0</td>\n",
              "      <td>0.0</td>\n",
              "    </tr>\n",
              "    <tr>\n",
              "      <th>width</th>\n",
              "      <td>0</td>\n",
              "      <td>0.0</td>\n",
              "    </tr>\n",
              "    <tr>\n",
              "      <th>mass</th>\n",
              "      <td>0</td>\n",
              "      <td>0.0</td>\n",
              "    </tr>\n",
              "    <tr>\n",
              "      <th>fruit_subtype</th>\n",
              "      <td>0</td>\n",
              "      <td>0.0</td>\n",
              "    </tr>\n",
              "    <tr>\n",
              "      <th>fruit_name</th>\n",
              "      <td>0</td>\n",
              "      <td>0.0</td>\n",
              "    </tr>\n",
              "    <tr>\n",
              "      <th>fruit_label</th>\n",
              "      <td>0</td>\n",
              "      <td>0.0</td>\n",
              "    </tr>\n",
              "  </tbody>\n",
              "</table>\n",
              "</div>"
            ],
            "text/plain": [
              "               Total  Dados faltando (%)\n",
              "color_score        0                 0.0\n",
              "height             0                 0.0\n",
              "width              0                 0.0\n",
              "mass               0                 0.0\n",
              "fruit_subtype      0                 0.0\n",
              "fruit_name         0                 0.0\n",
              "fruit_label        0                 0.0"
            ]
          },
          "metadata": {
            "tags": []
          },
          "execution_count": 54
        }
      ]
    },
    {
      "cell_type": "code",
      "metadata": {
        "colab": {
          "base_uri": "https://localhost:8080/",
          "height": 266
        },
        "id": "XXL-sM43QXf0",
        "outputId": "37f0ee0b-5927-468d-e7a2-f6d6e6f5bbf8"
      },
      "source": [
        "# aqui iremos visualizar a quantidade de dados ausentes proporcional a quantidade total de dados em cada coluna\n",
        "total = dados_copia.isna().sum().sort_values(ascending = False)\n",
        "percentual = (dados_copia.isna().sum() / dados_copia.isna().count()*100).sort_values(ascending = False)\n",
        "faltantes  = pd.concat([total, percentual], axis=1, keys=['Total', 'Dados faltando (%)'])\n",
        "faltantes.head(len(dados_copia))     # visualizando em relação a quantidade de colunas na base de dados"
      ],
      "execution_count": null,
      "outputs": [
        {
          "output_type": "execute_result",
          "data": {
            "text/html": [
              "<div>\n",
              "<style scoped>\n",
              "    .dataframe tbody tr th:only-of-type {\n",
              "        vertical-align: middle;\n",
              "    }\n",
              "\n",
              "    .dataframe tbody tr th {\n",
              "        vertical-align: top;\n",
              "    }\n",
              "\n",
              "    .dataframe thead th {\n",
              "        text-align: right;\n",
              "    }\n",
              "</style>\n",
              "<table border=\"1\" class=\"dataframe\">\n",
              "  <thead>\n",
              "    <tr style=\"text-align: right;\">\n",
              "      <th></th>\n",
              "      <th>Total</th>\n",
              "      <th>Dados faltando (%)</th>\n",
              "    </tr>\n",
              "  </thead>\n",
              "  <tbody>\n",
              "    <tr>\n",
              "      <th>color_score</th>\n",
              "      <td>0</td>\n",
              "      <td>0.0</td>\n",
              "    </tr>\n",
              "    <tr>\n",
              "      <th>height</th>\n",
              "      <td>0</td>\n",
              "      <td>0.0</td>\n",
              "    </tr>\n",
              "    <tr>\n",
              "      <th>width</th>\n",
              "      <td>0</td>\n",
              "      <td>0.0</td>\n",
              "    </tr>\n",
              "    <tr>\n",
              "      <th>mass</th>\n",
              "      <td>0</td>\n",
              "      <td>0.0</td>\n",
              "    </tr>\n",
              "    <tr>\n",
              "      <th>fruit_subtype</th>\n",
              "      <td>0</td>\n",
              "      <td>0.0</td>\n",
              "    </tr>\n",
              "    <tr>\n",
              "      <th>fruit_name</th>\n",
              "      <td>0</td>\n",
              "      <td>0.0</td>\n",
              "    </tr>\n",
              "    <tr>\n",
              "      <th>fruit_label</th>\n",
              "      <td>0</td>\n",
              "      <td>0.0</td>\n",
              "    </tr>\n",
              "  </tbody>\n",
              "</table>\n",
              "</div>"
            ],
            "text/plain": [
              "               Total  Dados faltando (%)\n",
              "color_score        0                 0.0\n",
              "height             0                 0.0\n",
              "width              0                 0.0\n",
              "mass               0                 0.0\n",
              "fruit_subtype      0                 0.0\n",
              "fruit_name         0                 0.0\n",
              "fruit_label        0                 0.0"
            ]
          },
          "metadata": {
            "tags": []
          },
          "execution_count": 55
        }
      ]
    },
    {
      "cell_type": "markdown",
      "metadata": {
        "id": "4JkjoWvr2UmY"
      },
      "source": [
        "**Vamos realizar a verificação de dados nulos e/ou ausentes de forma gráfica!**\n",
        "  - para essa necessidade, teremos que importar duas bibliotecas:\n",
        "    - `matplotlib.pyplot` e\n",
        "    - `seaborn`."
      ]
    },
    {
      "cell_type": "code",
      "metadata": {
        "id": "xqp8cNQm22SU"
      },
      "source": [
        "# importando as bibliotecas necessárias\n",
        "# ambas para plotagem de dados em formato gráfico\n",
        "import matplotlib.pyplot as plt\n",
        "import seaborn as sns\n",
        "\n",
        "%matplotlib inline\n",
        "\n",
        "# para ignorar mensagens de erros\n",
        "import warnings\n",
        "warnings.filterwarnings('ignore')"
      ],
      "execution_count": null,
      "outputs": []
    },
    {
      "cell_type": "code",
      "metadata": {
        "colab": {
          "base_uri": "https://localhost:8080/",
          "height": 651
        },
        "id": "bnT2bjiMSzGB",
        "outputId": "b44848ee-4d26-4d5a-ec42-57cb2c0fe181"
      },
      "source": [
        "# caso exista, haverá linhas brancas no gráfico\n",
        "plt.figure(figsize=(14,11))\n",
        "sns.heatmap(dados_copia.isnull(), cmap='Blues', cbar=True);"
      ],
      "execution_count": null,
      "outputs": [
        {
          "output_type": "display_data",
          "data": {
            "image/png": "[encoded data removed]",
            "text/plain": [
              "<Figure size 1008x792 with 2 Axes>"
            ]
          },
          "metadata": {
            "tags": [],
            "needs_background": "light"
          }
        }
      ]
    },
    {
      "cell_type": "markdown",
      "metadata": {
        "id": "xLi7WCZR3hqC"
      },
      "source": [
        ">> **Visualmente podemos verificar que não há dados ausentes em nosso conjunto de dados.**"
      ]
    },
    {
      "cell_type": "markdown",
      "metadata": {
        "id": "dJzGsMUz6ocL"
      },
      "source": [
        "**Por curiosodade, vamos visualizar de forma gráfica a distribuição dos atributos nas colunas com valores numéricos!**"
      ]
    },
    {
      "cell_type": "code",
      "metadata": {
        "colab": {
          "base_uri": "https://localhost:8080/",
          "height": 551
        },
        "id": "SCgU8BkASzFC",
        "outputId": "4dc1cbd5-0096-4b57-d8aa-9f8277cb44c8"
      },
      "source": [
        "# distribuição do atributo \"mass\"\n",
        "plt.figure(figsize=(16,9))\n",
        "sns.set_style('darkgrid')\n",
        "sns.distplot(dados_copia['mass']);"
      ],
      "execution_count": null,
      "outputs": [
        {
          "output_type": "display_data",
          "data": {
            "image/png": "[encoded data removed]",
            "text/plain": [
              "<Figure size 1152x648 with 1 Axes>"
            ]
          },
          "metadata": {
            "tags": [],
            "needs_background": "light"
          }
        }
      ]
    },
    {
      "cell_type": "code",
      "metadata": {
        "id": "lBSumiHGSzEJ",
        "colab": {
          "base_uri": "https://localhost:8080/",
          "height": 552
        },
        "outputId": "551b4a8b-6a12-464f-9bf1-fc89e0ce5b3d"
      },
      "source": [
        "# distribuição do atributo \"fruit_label\"\n",
        "plt.figure(figsize=(16,9))\n",
        "sns.set_style('darkgrid')\n",
        "sns.distplot(dados_copia['fruit_label']);"
      ],
      "execution_count": null,
      "outputs": [
        {
          "output_type": "display_data",
          "data": {
            "image/png": "[encoded data removed]",
            "text/plain": [
              "<Figure size 1152x648 with 1 Axes>"
            ]
          },
          "metadata": {
            "tags": []
          }
        }
      ]
    },
    {
      "cell_type": "code",
      "metadata": {
        "id": "FyWqEWMqSzDO",
        "colab": {
          "base_uri": "https://localhost:8080/",
          "height": 551
        },
        "outputId": "33e4ce65-d1c7-428f-812c-11d789c8306f"
      },
      "source": [
        "# distribuição do atributo \"width\"\n",
        "plt.figure(figsize=(16,9))\n",
        "sns.set_style('darkgrid')\n",
        "sns.distplot(dados_copia['width']);"
      ],
      "execution_count": null,
      "outputs": [
        {
          "output_type": "display_data",
          "data": {
            "image/png": "[encoded data removed]",
            "text/plain": [
              "<Figure size 1152x648 with 1 Axes>"
            ]
          },
          "metadata": {
            "tags": []
          }
        }
      ]
    },
    {
      "cell_type": "code",
      "metadata": {
        "id": "NWVu0Kg7SzAh",
        "colab": {
          "base_uri": "https://localhost:8080/",
          "height": 551
        },
        "outputId": "6c52d28f-56d7-4131-b592-894acf9d4c67"
      },
      "source": [
        "# distribuição do atributo \"height\"\n",
        "plt.figure(figsize=(16,9))\n",
        "sns.set_style('darkgrid')\n",
        "sns.distplot(dados_copia['height']);"
      ],
      "execution_count": null,
      "outputs": [
        {
          "output_type": "display_data",
          "data": {
            "image/png": "[encoded data removed]",
            "text/plain": [
              "<Figure size 1152x648 with 1 Axes>"
            ]
          },
          "metadata": {
            "tags": []
          }
        }
      ]
    },
    {
      "cell_type": "markdown",
      "metadata": {
        "id": "2Vw_h8vi6_0f"
      },
      "source": [
        "**Agora iremos abordar outra técnica no tratamento de dados nulos e/ou ausentes no conjunto de dados**\n",
        "\n",
        "  "
      ]
    },
    {
      "cell_type": "markdown",
      "metadata": {
        "id": "Q8EPEjyn7iId"
      },
      "source": [
        ">> Para isso adotaremos a seguinte estratégia de eliminar uma referida coluna.\n",
        "  - já que para casos onde ao utilizarmos a técnica de preencher os campos com dados faltantes e/ou nulos com a média dos valores das colunas poderá descaracterizar a `\"realidade\"` do conjunto de dados."
      ]
    },
    {
      "cell_type": "code",
      "metadata": {
        "id": "IJZVAaPTSyWv"
      },
      "source": [
        "# novamente iremos carregar o conjunto de dados em sua originalidade\n",
        "data = pd.read_table('fruit_data_with_colors_miss.txt',\n",
        "                     na_values=['.','?'])\n",
        "# iremos instanciar a função \"na_values\" e passar com argumento uma lista com os caracteres \".\" e \"?\""
      ],
      "execution_count": null,
      "outputs": []
    },
    {
      "cell_type": "markdown",
      "metadata": {
        "id": "mqAyKNda87xi"
      },
      "source": [
        ">> Onde há os caracteres ``.`` e ``?`` estamos trocando-os por valores ``NaN``."
      ]
    },
    {
      "cell_type": "code",
      "metadata": {
        "id": "gl5PMvXFSyTk",
        "colab": {
          "base_uri": "https://localhost:8080/",
          "height": 1000
        },
        "outputId": "674984de-5f1d-4be0-e844-08b97e6a0b6d"
      },
      "source": [
        "# visualizando a variável \"data\"\n",
        "data"
      ],
      "execution_count": null,
      "outputs": [
        {
          "output_type": "execute_result",
          "data": {
            "text/html": [
              "<div>\n",
              "<style scoped>\n",
              "    .dataframe tbody tr th:only-of-type {\n",
              "        vertical-align: middle;\n",
              "    }\n",
              "\n",
              "    .dataframe tbody tr th {\n",
              "        vertical-align: top;\n",
              "    }\n",
              "\n",
              "    .dataframe thead th {\n",
              "        text-align: right;\n",
              "    }\n",
              "</style>\n",
              "<table border=\"1\" class=\"dataframe\">\n",
              "  <thead>\n",
              "    <tr style=\"text-align: right;\">\n",
              "      <th></th>\n",
              "      <th>fruit_label</th>\n",
              "      <th>fruit_name</th>\n",
              "      <th>fruit_subtype</th>\n",
              "      <th>mass</th>\n",
              "      <th>width</th>\n",
              "      <th>height</th>\n",
              "      <th>color_score</th>\n",
              "    </tr>\n",
              "  </thead>\n",
              "  <tbody>\n",
              "    <tr>\n",
              "      <th>0</th>\n",
              "      <td>1</td>\n",
              "      <td>apple</td>\n",
              "      <td>granny_smith</td>\n",
              "      <td>192.0</td>\n",
              "      <td>8.4</td>\n",
              "      <td>7.3</td>\n",
              "      <td>0.55</td>\n",
              "    </tr>\n",
              "    <tr>\n",
              "      <th>1</th>\n",
              "      <td>1</td>\n",
              "      <td>apple</td>\n",
              "      <td>granny_smith</td>\n",
              "      <td>180.0</td>\n",
              "      <td>8.0</td>\n",
              "      <td>6.8</td>\n",
              "      <td>0.59</td>\n",
              "    </tr>\n",
              "    <tr>\n",
              "      <th>2</th>\n",
              "      <td>1</td>\n",
              "      <td>apple</td>\n",
              "      <td>granny_smith</td>\n",
              "      <td>176.0</td>\n",
              "      <td>7.4</td>\n",
              "      <td>7.2</td>\n",
              "      <td>0.60</td>\n",
              "    </tr>\n",
              "    <tr>\n",
              "      <th>3</th>\n",
              "      <td>2</td>\n",
              "      <td>mandarin</td>\n",
              "      <td>mandarin</td>\n",
              "      <td>NaN</td>\n",
              "      <td>6.2</td>\n",
              "      <td>4.7</td>\n",
              "      <td>0.80</td>\n",
              "    </tr>\n",
              "    <tr>\n",
              "      <th>4</th>\n",
              "      <td>2</td>\n",
              "      <td>mandarin</td>\n",
              "      <td>mandarin</td>\n",
              "      <td>84.0</td>\n",
              "      <td>6.0</td>\n",
              "      <td>4.6</td>\n",
              "      <td>0.79</td>\n",
              "    </tr>\n",
              "    <tr>\n",
              "      <th>5</th>\n",
              "      <td>2</td>\n",
              "      <td>mandarin</td>\n",
              "      <td>mandarin</td>\n",
              "      <td>80.0</td>\n",
              "      <td>5.8</td>\n",
              "      <td>4.3</td>\n",
              "      <td>0.77</td>\n",
              "    </tr>\n",
              "    <tr>\n",
              "      <th>6</th>\n",
              "      <td>2</td>\n",
              "      <td>mandarin</td>\n",
              "      <td>mandarin</td>\n",
              "      <td>80.0</td>\n",
              "      <td>5.9</td>\n",
              "      <td>4.3</td>\n",
              "      <td>0.81</td>\n",
              "    </tr>\n",
              "    <tr>\n",
              "      <th>7</th>\n",
              "      <td>2</td>\n",
              "      <td>mandarin</td>\n",
              "      <td>NaN</td>\n",
              "      <td>76.0</td>\n",
              "      <td>5.8</td>\n",
              "      <td>4.0</td>\n",
              "      <td>0.81</td>\n",
              "    </tr>\n",
              "    <tr>\n",
              "      <th>8</th>\n",
              "      <td>1</td>\n",
              "      <td>apple</td>\n",
              "      <td>braeburn</td>\n",
              "      <td>178.0</td>\n",
              "      <td>7.1</td>\n",
              "      <td>NaN</td>\n",
              "      <td>0.92</td>\n",
              "    </tr>\n",
              "    <tr>\n",
              "      <th>9</th>\n",
              "      <td>1</td>\n",
              "      <td>apple</td>\n",
              "      <td>braeburn</td>\n",
              "      <td>172.0</td>\n",
              "      <td>7.4</td>\n",
              "      <td>7.0</td>\n",
              "      <td>0.89</td>\n",
              "    </tr>\n",
              "    <tr>\n",
              "      <th>10</th>\n",
              "      <td>1</td>\n",
              "      <td>apple</td>\n",
              "      <td>braeburn</td>\n",
              "      <td>166.0</td>\n",
              "      <td>6.9</td>\n",
              "      <td>7.3</td>\n",
              "      <td>0.93</td>\n",
              "    </tr>\n",
              "    <tr>\n",
              "      <th>11</th>\n",
              "      <td>1</td>\n",
              "      <td>apple</td>\n",
              "      <td>braeburn</td>\n",
              "      <td>172.0</td>\n",
              "      <td>7.1</td>\n",
              "      <td>7.6</td>\n",
              "      <td>0.92</td>\n",
              "    </tr>\n",
              "    <tr>\n",
              "      <th>12</th>\n",
              "      <td>1</td>\n",
              "      <td>apple</td>\n",
              "      <td>braeburn</td>\n",
              "      <td>154.0</td>\n",
              "      <td>7.0</td>\n",
              "      <td>7.1</td>\n",
              "      <td>0.88</td>\n",
              "    </tr>\n",
              "    <tr>\n",
              "      <th>13</th>\n",
              "      <td>1</td>\n",
              "      <td>apple</td>\n",
              "      <td>golden_delicious</td>\n",
              "      <td>164.0</td>\n",
              "      <td>7.3</td>\n",
              "      <td>7.7</td>\n",
              "      <td>0.70</td>\n",
              "    </tr>\n",
              "    <tr>\n",
              "      <th>14</th>\n",
              "      <td>1</td>\n",
              "      <td>apple</td>\n",
              "      <td>golden_delicious</td>\n",
              "      <td>152.0</td>\n",
              "      <td>7.6</td>\n",
              "      <td>7.3</td>\n",
              "      <td>0.69</td>\n",
              "    </tr>\n",
              "    <tr>\n",
              "      <th>15</th>\n",
              "      <td>1</td>\n",
              "      <td>apple</td>\n",
              "      <td>golden_delicious</td>\n",
              "      <td>156.0</td>\n",
              "      <td>7.7</td>\n",
              "      <td>7.1</td>\n",
              "      <td>0.69</td>\n",
              "    </tr>\n",
              "    <tr>\n",
              "      <th>16</th>\n",
              "      <td>1</td>\n",
              "      <td>apple</td>\n",
              "      <td>golden_delicious</td>\n",
              "      <td>156.0</td>\n",
              "      <td>7.6</td>\n",
              "      <td>7.5</td>\n",
              "      <td>0.67</td>\n",
              "    </tr>\n",
              "    <tr>\n",
              "      <th>17</th>\n",
              "      <td>1</td>\n",
              "      <td>apple</td>\n",
              "      <td>golden_delicious</td>\n",
              "      <td>168.0</td>\n",
              "      <td>7.5</td>\n",
              "      <td>7.6</td>\n",
              "      <td>0.73</td>\n",
              "    </tr>\n",
              "    <tr>\n",
              "      <th>18</th>\n",
              "      <td>1</td>\n",
              "      <td>apple</td>\n",
              "      <td>cripps_pink</td>\n",
              "      <td>162.0</td>\n",
              "      <td>7.5</td>\n",
              "      <td>7.1</td>\n",
              "      <td>0.83</td>\n",
              "    </tr>\n",
              "    <tr>\n",
              "      <th>19</th>\n",
              "      <td>1</td>\n",
              "      <td>apple</td>\n",
              "      <td>cripps_pink</td>\n",
              "      <td>162.0</td>\n",
              "      <td>7.4</td>\n",
              "      <td>7.2</td>\n",
              "      <td>0.85</td>\n",
              "    </tr>\n",
              "    <tr>\n",
              "      <th>20</th>\n",
              "      <td>1</td>\n",
              "      <td>apple</td>\n",
              "      <td>cripps_pink</td>\n",
              "      <td>160.0</td>\n",
              "      <td>7.5</td>\n",
              "      <td>7.5</td>\n",
              "      <td>0.86</td>\n",
              "    </tr>\n",
              "    <tr>\n",
              "      <th>21</th>\n",
              "      <td>1</td>\n",
              "      <td>apple</td>\n",
              "      <td>cripps_pink</td>\n",
              "      <td>156.0</td>\n",
              "      <td>7.4</td>\n",
              "      <td>7.4</td>\n",
              "      <td>0.84</td>\n",
              "    </tr>\n",
              "    <tr>\n",
              "      <th>22</th>\n",
              "      <td>1</td>\n",
              "      <td>apple</td>\n",
              "      <td>cripps_pink</td>\n",
              "      <td>140.0</td>\n",
              "      <td>7.3</td>\n",
              "      <td>7.1</td>\n",
              "      <td>0.87</td>\n",
              "    </tr>\n",
              "    <tr>\n",
              "      <th>23</th>\n",
              "      <td>1</td>\n",
              "      <td>apple</td>\n",
              "      <td>cripps_pink</td>\n",
              "      <td>170.0</td>\n",
              "      <td>7.6</td>\n",
              "      <td>7.9</td>\n",
              "      <td>0.88</td>\n",
              "    </tr>\n",
              "    <tr>\n",
              "      <th>24</th>\n",
              "      <td>3</td>\n",
              "      <td>orange</td>\n",
              "      <td>spanish_jumbo</td>\n",
              "      <td>342.0</td>\n",
              "      <td>9.0</td>\n",
              "      <td>9.4</td>\n",
              "      <td>0.75</td>\n",
              "    </tr>\n",
              "    <tr>\n",
              "      <th>25</th>\n",
              "      <td>3</td>\n",
              "      <td>orange</td>\n",
              "      <td>spanish_jumbo</td>\n",
              "      <td>356.0</td>\n",
              "      <td>9.2</td>\n",
              "      <td>9.2</td>\n",
              "      <td>0.75</td>\n",
              "    </tr>\n",
              "    <tr>\n",
              "      <th>26</th>\n",
              "      <td>3</td>\n",
              "      <td>orange</td>\n",
              "      <td>spanish_jumbo</td>\n",
              "      <td>362.0</td>\n",
              "      <td>9.6</td>\n",
              "      <td>9.2</td>\n",
              "      <td>0.74</td>\n",
              "    </tr>\n",
              "    <tr>\n",
              "      <th>27</th>\n",
              "      <td>3</td>\n",
              "      <td>orange</td>\n",
              "      <td>selected_seconds</td>\n",
              "      <td>204.0</td>\n",
              "      <td>7.5</td>\n",
              "      <td>9.2</td>\n",
              "      <td>0.77</td>\n",
              "    </tr>\n",
              "    <tr>\n",
              "      <th>28</th>\n",
              "      <td>3</td>\n",
              "      <td>orange</td>\n",
              "      <td>selected_seconds</td>\n",
              "      <td>140.0</td>\n",
              "      <td>6.7</td>\n",
              "      <td>7.1</td>\n",
              "      <td>0.72</td>\n",
              "    </tr>\n",
              "    <tr>\n",
              "      <th>29</th>\n",
              "      <td>3</td>\n",
              "      <td>orange</td>\n",
              "      <td>selected_seconds</td>\n",
              "      <td>160.0</td>\n",
              "      <td>7.0</td>\n",
              "      <td>7.4</td>\n",
              "      <td>0.81</td>\n",
              "    </tr>\n",
              "    <tr>\n",
              "      <th>30</th>\n",
              "      <td>3</td>\n",
              "      <td>orange</td>\n",
              "      <td>selected_seconds</td>\n",
              "      <td>158.0</td>\n",
              "      <td>7.1</td>\n",
              "      <td>7.5</td>\n",
              "      <td>0.79</td>\n",
              "    </tr>\n",
              "    <tr>\n",
              "      <th>31</th>\n",
              "      <td>3</td>\n",
              "      <td>orange</td>\n",
              "      <td>selected_seconds</td>\n",
              "      <td>210.0</td>\n",
              "      <td>7.8</td>\n",
              "      <td>8.0</td>\n",
              "      <td>0.82</td>\n",
              "    </tr>\n",
              "    <tr>\n",
              "      <th>32</th>\n",
              "      <td>3</td>\n",
              "      <td>orange</td>\n",
              "      <td>selected_seconds</td>\n",
              "      <td>164.0</td>\n",
              "      <td>7.2</td>\n",
              "      <td>7.0</td>\n",
              "      <td>0.80</td>\n",
              "    </tr>\n",
              "    <tr>\n",
              "      <th>33</th>\n",
              "      <td>3</td>\n",
              "      <td>orange</td>\n",
              "      <td>turkey_navel</td>\n",
              "      <td>190.0</td>\n",
              "      <td>7.5</td>\n",
              "      <td>8.1</td>\n",
              "      <td>0.74</td>\n",
              "    </tr>\n",
              "    <tr>\n",
              "      <th>34</th>\n",
              "      <td>3</td>\n",
              "      <td>orange</td>\n",
              "      <td>turkey_navel</td>\n",
              "      <td>142.0</td>\n",
              "      <td>7.6</td>\n",
              "      <td>7.8</td>\n",
              "      <td>0.75</td>\n",
              "    </tr>\n",
              "    <tr>\n",
              "      <th>35</th>\n",
              "      <td>3</td>\n",
              "      <td>orange</td>\n",
              "      <td>turkey_navel</td>\n",
              "      <td>150.0</td>\n",
              "      <td>7.1</td>\n",
              "      <td>7.9</td>\n",
              "      <td>0.75</td>\n",
              "    </tr>\n",
              "    <tr>\n",
              "      <th>36</th>\n",
              "      <td>3</td>\n",
              "      <td>orange</td>\n",
              "      <td>turkey_navel</td>\n",
              "      <td>160.0</td>\n",
              "      <td>7.1</td>\n",
              "      <td>7.6</td>\n",
              "      <td>0.76</td>\n",
              "    </tr>\n",
              "    <tr>\n",
              "      <th>37</th>\n",
              "      <td>3</td>\n",
              "      <td>orange</td>\n",
              "      <td>turkey_navel</td>\n",
              "      <td>154.0</td>\n",
              "      <td>7.3</td>\n",
              "      <td>7.3</td>\n",
              "      <td>0.79</td>\n",
              "    </tr>\n",
              "    <tr>\n",
              "      <th>38</th>\n",
              "      <td>3</td>\n",
              "      <td>orange</td>\n",
              "      <td>turkey_navel</td>\n",
              "      <td>158.0</td>\n",
              "      <td>7.2</td>\n",
              "      <td>7.8</td>\n",
              "      <td>0.77</td>\n",
              "    </tr>\n",
              "    <tr>\n",
              "      <th>39</th>\n",
              "      <td>3</td>\n",
              "      <td>orange</td>\n",
              "      <td>turkey_navel</td>\n",
              "      <td>144.0</td>\n",
              "      <td>6.8</td>\n",
              "      <td>7.4</td>\n",
              "      <td>0.75</td>\n",
              "    </tr>\n",
              "    <tr>\n",
              "      <th>40</th>\n",
              "      <td>3</td>\n",
              "      <td>orange</td>\n",
              "      <td>turkey_navel</td>\n",
              "      <td>154.0</td>\n",
              "      <td>7.1</td>\n",
              "      <td>7.5</td>\n",
              "      <td>0.78</td>\n",
              "    </tr>\n",
              "    <tr>\n",
              "      <th>41</th>\n",
              "      <td>3</td>\n",
              "      <td>orange</td>\n",
              "      <td>turkey_navel</td>\n",
              "      <td>180.0</td>\n",
              "      <td>7.6</td>\n",
              "      <td>8.2</td>\n",
              "      <td>0.79</td>\n",
              "    </tr>\n",
              "    <tr>\n",
              "      <th>42</th>\n",
              "      <td>3</td>\n",
              "      <td>orange</td>\n",
              "      <td>turkey_navel</td>\n",
              "      <td>154.0</td>\n",
              "      <td>7.2</td>\n",
              "      <td>7.2</td>\n",
              "      <td>0.82</td>\n",
              "    </tr>\n",
              "    <tr>\n",
              "      <th>43</th>\n",
              "      <td>4</td>\n",
              "      <td>lemon</td>\n",
              "      <td>spanish_belsan</td>\n",
              "      <td>194.0</td>\n",
              "      <td>7.2</td>\n",
              "      <td>10.3</td>\n",
              "      <td>0.70</td>\n",
              "    </tr>\n",
              "    <tr>\n",
              "      <th>44</th>\n",
              "      <td>4</td>\n",
              "      <td>lemon</td>\n",
              "      <td>spanish_belsan</td>\n",
              "      <td>200.0</td>\n",
              "      <td>7.3</td>\n",
              "      <td>10.5</td>\n",
              "      <td>0.72</td>\n",
              "    </tr>\n",
              "    <tr>\n",
              "      <th>45</th>\n",
              "      <td>4</td>\n",
              "      <td>lemon</td>\n",
              "      <td>spanish_belsan</td>\n",
              "      <td>186.0</td>\n",
              "      <td>7.2</td>\n",
              "      <td>9.2</td>\n",
              "      <td>0.72</td>\n",
              "    </tr>\n",
              "    <tr>\n",
              "      <th>46</th>\n",
              "      <td>4</td>\n",
              "      <td>lemon</td>\n",
              "      <td>spanish_belsan</td>\n",
              "      <td>216.0</td>\n",
              "      <td>7.3</td>\n",
              "      <td>10.2</td>\n",
              "      <td>0.71</td>\n",
              "    </tr>\n",
              "    <tr>\n",
              "      <th>47</th>\n",
              "      <td>4</td>\n",
              "      <td>lemon</td>\n",
              "      <td>spanish_belsan</td>\n",
              "      <td>196.0</td>\n",
              "      <td>7.3</td>\n",
              "      <td>9.7</td>\n",
              "      <td>0.72</td>\n",
              "    </tr>\n",
              "    <tr>\n",
              "      <th>48</th>\n",
              "      <td>4</td>\n",
              "      <td>lemon</td>\n",
              "      <td>spanish_belsan</td>\n",
              "      <td>174.0</td>\n",
              "      <td>7.3</td>\n",
              "      <td>10.1</td>\n",
              "      <td>0.72</td>\n",
              "    </tr>\n",
              "    <tr>\n",
              "      <th>49</th>\n",
              "      <td>4</td>\n",
              "      <td>lemon</td>\n",
              "      <td>unknown</td>\n",
              "      <td>132.0</td>\n",
              "      <td>5.8</td>\n",
              "      <td>8.7</td>\n",
              "      <td>0.73</td>\n",
              "    </tr>\n",
              "    <tr>\n",
              "      <th>50</th>\n",
              "      <td>4</td>\n",
              "      <td>lemon</td>\n",
              "      <td>unknown</td>\n",
              "      <td>130.0</td>\n",
              "      <td>6.0</td>\n",
              "      <td>8.2</td>\n",
              "      <td>0.71</td>\n",
              "    </tr>\n",
              "    <tr>\n",
              "      <th>51</th>\n",
              "      <td>4</td>\n",
              "      <td>lemon</td>\n",
              "      <td>unknown</td>\n",
              "      <td>116.0</td>\n",
              "      <td>6.0</td>\n",
              "      <td>7.5</td>\n",
              "      <td>0.72</td>\n",
              "    </tr>\n",
              "    <tr>\n",
              "      <th>52</th>\n",
              "      <td>4</td>\n",
              "      <td>lemon</td>\n",
              "      <td>unknown</td>\n",
              "      <td>118.0</td>\n",
              "      <td>5.9</td>\n",
              "      <td>8.0</td>\n",
              "      <td>0.72</td>\n",
              "    </tr>\n",
              "    <tr>\n",
              "      <th>53</th>\n",
              "      <td>4</td>\n",
              "      <td>lemon</td>\n",
              "      <td>unknown</td>\n",
              "      <td>120.0</td>\n",
              "      <td>6.0</td>\n",
              "      <td>8.4</td>\n",
              "      <td>0.74</td>\n",
              "    </tr>\n",
              "    <tr>\n",
              "      <th>54</th>\n",
              "      <td>4</td>\n",
              "      <td>lemon</td>\n",
              "      <td>unknown</td>\n",
              "      <td>116.0</td>\n",
              "      <td>6.1</td>\n",
              "      <td>8.5</td>\n",
              "      <td>0.71</td>\n",
              "    </tr>\n",
              "    <tr>\n",
              "      <th>55</th>\n",
              "      <td>4</td>\n",
              "      <td>lemon</td>\n",
              "      <td>unknown</td>\n",
              "      <td>116.0</td>\n",
              "      <td>6.3</td>\n",
              "      <td>7.7</td>\n",
              "      <td>0.72</td>\n",
              "    </tr>\n",
              "    <tr>\n",
              "      <th>56</th>\n",
              "      <td>4</td>\n",
              "      <td>lemon</td>\n",
              "      <td>unknown</td>\n",
              "      <td>116.0</td>\n",
              "      <td>5.9</td>\n",
              "      <td>8.1</td>\n",
              "      <td>0.73</td>\n",
              "    </tr>\n",
              "    <tr>\n",
              "      <th>57</th>\n",
              "      <td>4</td>\n",
              "      <td>lemon</td>\n",
              "      <td>unknown</td>\n",
              "      <td>152.0</td>\n",
              "      <td>6.5</td>\n",
              "      <td>8.5</td>\n",
              "      <td>0.72</td>\n",
              "    </tr>\n",
              "    <tr>\n",
              "      <th>58</th>\n",
              "      <td>4</td>\n",
              "      <td>lemon</td>\n",
              "      <td>unknown</td>\n",
              "      <td>118.0</td>\n",
              "      <td>6.1</td>\n",
              "      <td>8.1</td>\n",
              "      <td>0.70</td>\n",
              "    </tr>\n",
              "  </tbody>\n",
              "</table>\n",
              "</div>"
            ],
            "text/plain": [
              "    fruit_label fruit_name     fruit_subtype   mass  width  height  color_score\n",
              "0             1      apple      granny_smith  192.0    8.4     7.3         0.55\n",
              "1             1      apple      granny_smith  180.0    8.0     6.8         0.59\n",
              "2             1      apple      granny_smith  176.0    7.4     7.2         0.60\n",
              "3             2   mandarin          mandarin    NaN    6.2     4.7         0.80\n",
              "4             2   mandarin          mandarin   84.0    6.0     4.6         0.79\n",
              "5             2   mandarin          mandarin   80.0    5.8     4.3         0.77\n",
              "6             2   mandarin          mandarin   80.0    5.9     4.3         0.81\n",
              "7             2   mandarin               NaN   76.0    5.8     4.0         0.81\n",
              "8             1      apple          braeburn  178.0    7.1     NaN         0.92\n",
              "9             1      apple          braeburn  172.0    7.4     7.0         0.89\n",
              "10            1      apple          braeburn  166.0    6.9     7.3         0.93\n",
              "11            1      apple          braeburn  172.0    7.1     7.6         0.92\n",
              "12            1      apple          braeburn  154.0    7.0     7.1         0.88\n",
              "13            1      apple  golden_delicious  164.0    7.3     7.7         0.70\n",
              "14            1      apple  golden_delicious  152.0    7.6     7.3         0.69\n",
              "15            1      apple  golden_delicious  156.0    7.7     7.1         0.69\n",
              "16            1      apple  golden_delicious  156.0    7.6     7.5         0.67\n",
              "17            1      apple  golden_delicious  168.0    7.5     7.6         0.73\n",
              "18            1      apple       cripps_pink  162.0    7.5     7.1         0.83\n",
              "19            1      apple       cripps_pink  162.0    7.4     7.2         0.85\n",
              "20            1      apple       cripps_pink  160.0    7.5     7.5         0.86\n",
              "21            1      apple       cripps_pink  156.0    7.4     7.4         0.84\n",
              "22            1      apple       cripps_pink  140.0    7.3     7.1         0.87\n",
              "23            1      apple       cripps_pink  170.0    7.6     7.9         0.88\n",
              "24            3     orange     spanish_jumbo  342.0    9.0     9.4         0.75\n",
              "25            3     orange     spanish_jumbo  356.0    9.2     9.2         0.75\n",
              "26            3     orange     spanish_jumbo  362.0    9.6     9.2         0.74\n",
              "27            3     orange  selected_seconds  204.0    7.5     9.2         0.77\n",
              "28            3     orange  selected_seconds  140.0    6.7     7.1         0.72\n",
              "29            3     orange  selected_seconds  160.0    7.0     7.4         0.81\n",
              "30            3     orange  selected_seconds  158.0    7.1     7.5         0.79\n",
              "31            3     orange  selected_seconds  210.0    7.8     8.0         0.82\n",
              "32            3     orange  selected_seconds  164.0    7.2     7.0         0.80\n",
              "33            3     orange      turkey_navel  190.0    7.5     8.1         0.74\n",
              "34            3     orange      turkey_navel  142.0    7.6     7.8         0.75\n",
              "35            3     orange      turkey_navel  150.0    7.1     7.9         0.75\n",
              "36            3     orange      turkey_navel  160.0    7.1     7.6         0.76\n",
              "37            3     orange      turkey_navel  154.0    7.3     7.3         0.79\n",
              "38            3     orange      turkey_navel  158.0    7.2     7.8         0.77\n",
              "39            3     orange      turkey_navel  144.0    6.8     7.4         0.75\n",
              "40            3     orange      turkey_navel  154.0    7.1     7.5         0.78\n",
              "41            3     orange      turkey_navel  180.0    7.6     8.2         0.79\n",
              "42            3     orange      turkey_navel  154.0    7.2     7.2         0.82\n",
              "43            4      lemon    spanish_belsan  194.0    7.2    10.3         0.70\n",
              "44            4      lemon    spanish_belsan  200.0    7.3    10.5         0.72\n",
              "45            4      lemon    spanish_belsan  186.0    7.2     9.2         0.72\n",
              "46            4      lemon    spanish_belsan  216.0    7.3    10.2         0.71\n",
              "47            4      lemon    spanish_belsan  196.0    7.3     9.7         0.72\n",
              "48            4      lemon    spanish_belsan  174.0    7.3    10.1         0.72\n",
              "49            4      lemon           unknown  132.0    5.8     8.7         0.73\n",
              "50            4      lemon           unknown  130.0    6.0     8.2         0.71\n",
              "51            4      lemon           unknown  116.0    6.0     7.5         0.72\n",
              "52            4      lemon           unknown  118.0    5.9     8.0         0.72\n",
              "53            4      lemon           unknown  120.0    6.0     8.4         0.74\n",
              "54            4      lemon           unknown  116.0    6.1     8.5         0.71\n",
              "55            4      lemon           unknown  116.0    6.3     7.7         0.72\n",
              "56            4      lemon           unknown  116.0    5.9     8.1         0.73\n",
              "57            4      lemon           unknown  152.0    6.5     8.5         0.72\n",
              "58            4      lemon           unknown  118.0    6.1     8.1         0.70"
            ]
          },
          "metadata": {
            "tags": []
          },
          "execution_count": 66
        }
      ]
    },
    {
      "cell_type": "code",
      "metadata": {
        "colab": {
          "base_uri": "https://localhost:8080/"
        },
        "id": "EtlTe4tx9Jzi",
        "outputId": "07f45966-2dfc-4c94-8ff8-1a27d61ccdda"
      },
      "source": [
        "# agora iremos calcular o total de dados para isso, utilizaremos a função \"shape\" \n",
        "# e passando com argumento o primeiro índice da função, nesse caso o zero \"0\"\n",
        "data.shape[0] # retorna a quantidade de de linhas"
      ],
      "execution_count": null,
      "outputs": [
        {
          "output_type": "execute_result",
          "data": {
            "text/plain": [
              "59"
            ]
          },
          "metadata": {
            "tags": []
          },
          "execution_count": 67
        }
      ]
    },
    {
      "cell_type": "code",
      "metadata": {
        "colab": {
          "base_uri": "https://localhost:8080/"
        },
        "id": "Kf26zNiL9JyI",
        "outputId": "519f5386-0ed8-48c4-9c1b-9984c3573f5d"
      },
      "source": [
        "# agora iremos visualizar a quantidade de dados asuentes nas colunas\n",
        "# utilizando a função \"isnull()\" juntamente com a \"sum()\"\n",
        "data.isnull().sum()"
      ],
      "execution_count": null,
      "outputs": [
        {
          "output_type": "execute_result",
          "data": {
            "text/plain": [
              "fruit_label      0\n",
              "fruit_name       0\n",
              "fruit_subtype    1\n",
              "mass             1\n",
              "width            0\n",
              "height           1\n",
              "color_score      0\n",
              "dtype: int64"
            ]
          },
          "metadata": {
            "tags": []
          },
          "execution_count": 71
        }
      ]
    },
    {
      "cell_type": "markdown",
      "metadata": {
        "id": "308OBCKgBUId"
      },
      "source": [
        ">> **Acima conseguimos visualizar as colunas com dados nulos e sua quantidade.**\n",
        "   - e dada a informação iremos calcular a proporção de dados faltantes sobre o total de dados.\n",
        "\n",
        "**Obs.:** iremos ter a seguinte regra:\n",
        "  - se a quantidade de dados nulos e/ou faltantes for `inferior a 10%` do total de dados.\n",
        "  - já no caso for `superior a 10%`, teremos que **utilizar alguma técnica para tratar os campos com dados nulos e/ou faltantes**.\n",
        "\n",
        "**E para esse tipo de abordagem podemos eliminar uma linha e/ou uma coluna.**"
      ]
    },
    {
      "cell_type": "code",
      "metadata": {
        "colab": {
          "base_uri": "https://localhost:8080/"
        },
        "id": "cZpuP12f9Jtc",
        "outputId": "d4f510c1-1772-4c3c-e482-2019e7e21bba"
      },
      "source": [
        "# iremos calcular a porcentagem de dados ausentes e/ou nulos por linha em relação ao total da mesma\n",
        "data.isnull().sum() / data.shape[0] * 100"
      ],
      "execution_count": null,
      "outputs": [
        {
          "output_type": "execute_result",
          "data": {
            "text/plain": [
              "fruit_label      0.000000\n",
              "fruit_name       0.000000\n",
              "fruit_subtype    1.694915\n",
              "mass             1.694915\n",
              "width            0.000000\n",
              "height           1.694915\n",
              "color_score      0.000000\n",
              "dtype: float64"
            ]
          },
          "metadata": {
            "tags": []
          },
          "execution_count": 72
        }
      ]
    },
    {
      "cell_type": "code",
      "metadata": {
        "colab": {
          "base_uri": "https://localhost:8080/"
        },
        "id": "UV9gpH6C9Jrs",
        "outputId": "3662c5a7-c4b0-4d0d-f01c-224907dd1305"
      },
      "source": [
        "# aqui estamos calculando a relação de dados ausentes e/ou nulos em relação a quantidade de colunas\n",
        "data.isnull().sum() / data.shape[1] * 100"
      ],
      "execution_count": null,
      "outputs": [
        {
          "output_type": "execute_result",
          "data": {
            "text/plain": [
              "fruit_label       0.000000\n",
              "fruit_name        0.000000\n",
              "fruit_subtype    14.285714\n",
              "mass             14.285714\n",
              "width             0.000000\n",
              "height           14.285714\n",
              "color_score       0.000000\n",
              "dtype: float64"
            ]
          },
          "metadata": {
            "tags": []
          },
          "execution_count": 73
        }
      ]
    },
    {
      "cell_type": "markdown",
      "metadata": {
        "id": "AUzjoj6kK2E5"
      },
      "source": [
        "**Vamos melhorar essa visualização!**\n",
        "  - vamos deixar de forma tabular a visualização."
      ]
    },
    {
      "cell_type": "code",
      "metadata": {
        "colab": {
          "base_uri": "https://localhost:8080/",
          "height": 266
        },
        "id": "ie25oQ5K9JmG",
        "outputId": "27c776e8-aa20-4c84-9820-9f3672b4639d"
      },
      "source": [
        "# aqui iremos visualizar a quantidade de dados nulos proporcional a quantidade total de dados em cada coluna\n",
        "total = data.isnull().sum().sort_values(ascending = False)\n",
        "percentual = (data.isnull().sum() / data.shape[0]*100).sort_values(ascending = False)\n",
        "faltantes  = pd.concat([total, percentual], axis=1, keys=['Total', 'Dados faltantes X Total de linhas (%)'])\n",
        "faltantes.head(len(data))     # visualizando em relação a quantidade de colunas na base de dados"
      ],
      "execution_count": null,
      "outputs": [
        {
          "output_type": "execute_result",
          "data": {
            "text/html": [
              "<div>\n",
              "<style scoped>\n",
              "    .dataframe tbody tr th:only-of-type {\n",
              "        vertical-align: middle;\n",
              "    }\n",
              "\n",
              "    .dataframe tbody tr th {\n",
              "        vertical-align: top;\n",
              "    }\n",
              "\n",
              "    .dataframe thead th {\n",
              "        text-align: right;\n",
              "    }\n",
              "</style>\n",
              "<table border=\"1\" class=\"dataframe\">\n",
              "  <thead>\n",
              "    <tr style=\"text-align: right;\">\n",
              "      <th></th>\n",
              "      <th>Total</th>\n",
              "      <th>Dados faltantes X Total de linhas (%)</th>\n",
              "    </tr>\n",
              "  </thead>\n",
              "  <tbody>\n",
              "    <tr>\n",
              "      <th>height</th>\n",
              "      <td>1</td>\n",
              "      <td>1.694915</td>\n",
              "    </tr>\n",
              "    <tr>\n",
              "      <th>mass</th>\n",
              "      <td>1</td>\n",
              "      <td>1.694915</td>\n",
              "    </tr>\n",
              "    <tr>\n",
              "      <th>fruit_subtype</th>\n",
              "      <td>1</td>\n",
              "      <td>1.694915</td>\n",
              "    </tr>\n",
              "    <tr>\n",
              "      <th>color_score</th>\n",
              "      <td>0</td>\n",
              "      <td>0.000000</td>\n",
              "    </tr>\n",
              "    <tr>\n",
              "      <th>width</th>\n",
              "      <td>0</td>\n",
              "      <td>0.000000</td>\n",
              "    </tr>\n",
              "    <tr>\n",
              "      <th>fruit_name</th>\n",
              "      <td>0</td>\n",
              "      <td>0.000000</td>\n",
              "    </tr>\n",
              "    <tr>\n",
              "      <th>fruit_label</th>\n",
              "      <td>0</td>\n",
              "      <td>0.000000</td>\n",
              "    </tr>\n",
              "  </tbody>\n",
              "</table>\n",
              "</div>"
            ],
            "text/plain": [
              "               Total  Dados faltantes X Total de linhas (%)\n",
              "height             1                               1.694915\n",
              "mass               1                               1.694915\n",
              "fruit_subtype      1                               1.694915\n",
              "color_score        0                               0.000000\n",
              "width              0                               0.000000\n",
              "fruit_name         0                               0.000000\n",
              "fruit_label        0                               0.000000"
            ]
          },
          "metadata": {
            "tags": []
          },
          "execution_count": 80
        }
      ]
    },
    {
      "cell_type": "code",
      "metadata": {
        "colab": {
          "base_uri": "https://localhost:8080/",
          "height": 266
        },
        "id": "J2LZLyu99Ji8",
        "outputId": "3760bc33-a030-45d2-a90a-f7ab58969306"
      },
      "source": [
        "# aqui iremos visualizar a quantidade de dados nulos proporcional a quantidade total de colunas\n",
        "total = data.isnull().sum().sort_values(ascending = False)\n",
        "percentual = (data.isnull().sum() / data.shape[1]*100).sort_values(ascending = False)\n",
        "faltantes  = pd.concat([total, percentual], axis=1, keys=['Total', 'Dados faltando X Total de colunas (%)'])\n",
        "faltantes.head(len(data))     # visualizando em relação a quantidade de colunas na base de dados"
      ],
      "execution_count": null,
      "outputs": [
        {
          "output_type": "execute_result",
          "data": {
            "text/html": [
              "<div>\n",
              "<style scoped>\n",
              "    .dataframe tbody tr th:only-of-type {\n",
              "        vertical-align: middle;\n",
              "    }\n",
              "\n",
              "    .dataframe tbody tr th {\n",
              "        vertical-align: top;\n",
              "    }\n",
              "\n",
              "    .dataframe thead th {\n",
              "        text-align: right;\n",
              "    }\n",
              "</style>\n",
              "<table border=\"1\" class=\"dataframe\">\n",
              "  <thead>\n",
              "    <tr style=\"text-align: right;\">\n",
              "      <th></th>\n",
              "      <th>Total</th>\n",
              "      <th>Dados faltando X Total de colunas (%)</th>\n",
              "    </tr>\n",
              "  </thead>\n",
              "  <tbody>\n",
              "    <tr>\n",
              "      <th>height</th>\n",
              "      <td>1</td>\n",
              "      <td>14.285714</td>\n",
              "    </tr>\n",
              "    <tr>\n",
              "      <th>mass</th>\n",
              "      <td>1</td>\n",
              "      <td>14.285714</td>\n",
              "    </tr>\n",
              "    <tr>\n",
              "      <th>fruit_subtype</th>\n",
              "      <td>1</td>\n",
              "      <td>14.285714</td>\n",
              "    </tr>\n",
              "    <tr>\n",
              "      <th>color_score</th>\n",
              "      <td>0</td>\n",
              "      <td>0.000000</td>\n",
              "    </tr>\n",
              "    <tr>\n",
              "      <th>width</th>\n",
              "      <td>0</td>\n",
              "      <td>0.000000</td>\n",
              "    </tr>\n",
              "    <tr>\n",
              "      <th>fruit_name</th>\n",
              "      <td>0</td>\n",
              "      <td>0.000000</td>\n",
              "    </tr>\n",
              "    <tr>\n",
              "      <th>fruit_label</th>\n",
              "      <td>0</td>\n",
              "      <td>0.000000</td>\n",
              "    </tr>\n",
              "  </tbody>\n",
              "</table>\n",
              "</div>"
            ],
            "text/plain": [
              "               Total  Dados faltando X Total de colunas (%)\n",
              "height             1                              14.285714\n",
              "mass               1                              14.285714\n",
              "fruit_subtype      1                              14.285714\n",
              "color_score        0                               0.000000\n",
              "width              0                               0.000000\n",
              "fruit_name         0                               0.000000\n",
              "fruit_label        0                               0.000000"
            ]
          },
          "metadata": {
            "tags": []
          },
          "execution_count": 82
        }
      ]
    },
    {
      "cell_type": "markdown",
      "metadata": {
        "id": "KXzsc8YUbGHE"
      },
      "source": [
        ">> Para  fazer a remoção de dados nulos irei utilizra o método `dropna()`. Esse método é direto, e remove os valores NaN encontrados no DataFrame.\n",
        "\n",
        "  - por padrão, se você não informar o eixo, serão eliminadas todas as linhas relativas à celula contendo o valor ausente `data.dropna(axis=0)`. \n",
        "\n",
        "  - caso você deseje eliminar uma coluna inteira onde existam `NaN,` você deve informar explicitamente com `df.dropna(axis=1)`"
      ]
    },
    {
      "cell_type": "code",
      "metadata": {
        "colab": {
          "base_uri": "https://localhost:8080/"
        },
        "id": "G5u-dy0n9Jga",
        "outputId": "5ecda45b-1427-4ad1-e899-f7e84d3c3a0b"
      },
      "source": [
        "# vamos eliminar somente as linhas com valores \"NaN\"\n",
        "data = data.dropna()\n",
        "data.isnull().sum() # realizando a  contagem de dados \"NaN\""
      ],
      "execution_count": null,
      "outputs": [
        {
          "output_type": "execute_result",
          "data": {
            "text/plain": [
              "fruit_label      0\n",
              "fruit_name       0\n",
              "fruit_subtype    0\n",
              "mass             0\n",
              "width            0\n",
              "height           0\n",
              "color_score      0\n",
              "dtype: int64"
            ]
          },
          "metadata": {
            "tags": []
          },
          "execution_count": 83
        }
      ]
    },
    {
      "cell_type": "markdown",
      "metadata": {
        "id": "bGTpwUcDcLKX"
      },
      "source": [
        ">> Perceba que, foi eliminado todas as linhas com valores `NaN`."
      ]
    },
    {
      "cell_type": "code",
      "metadata": {
        "colab": {
          "base_uri": "https://localhost:8080/",
          "height": 266
        },
        "id": "8fWEyPt09Jcx",
        "outputId": "96239ae3-9cfc-4d3a-ab96-f9489c063d81"
      },
      "source": [
        "# aqui novamente iremos visualizar a quantidade de dados nulos proporcional a quantidade total de dados em cada coluna\n",
        "total = data.isnull().sum().sort_values(ascending = False)\n",
        "percentual = (data.isnull().sum() / data.shape[0]*100).sort_values(ascending = False)\n",
        "faltantes  = pd.concat([total, percentual], axis=1, keys=['Total', 'Dados faltantes X Total de linhas (%)'])\n",
        "faltantes.head(len(data))     # visualizando em relação a quantidade de colunas na base de dados"
      ],
      "execution_count": null,
      "outputs": [
        {
          "output_type": "execute_result",
          "data": {
            "text/html": [
              "<div>\n",
              "<style scoped>\n",
              "    .dataframe tbody tr th:only-of-type {\n",
              "        vertical-align: middle;\n",
              "    }\n",
              "\n",
              "    .dataframe tbody tr th {\n",
              "        vertical-align: top;\n",
              "    }\n",
              "\n",
              "    .dataframe thead th {\n",
              "        text-align: right;\n",
              "    }\n",
              "</style>\n",
              "<table border=\"1\" class=\"dataframe\">\n",
              "  <thead>\n",
              "    <tr style=\"text-align: right;\">\n",
              "      <th></th>\n",
              "      <th>Total</th>\n",
              "      <th>Dados faltantes X Total de linhas (%)</th>\n",
              "    </tr>\n",
              "  </thead>\n",
              "  <tbody>\n",
              "    <tr>\n",
              "      <th>color_score</th>\n",
              "      <td>0</td>\n",
              "      <td>0.0</td>\n",
              "    </tr>\n",
              "    <tr>\n",
              "      <th>height</th>\n",
              "      <td>0</td>\n",
              "      <td>0.0</td>\n",
              "    </tr>\n",
              "    <tr>\n",
              "      <th>width</th>\n",
              "      <td>0</td>\n",
              "      <td>0.0</td>\n",
              "    </tr>\n",
              "    <tr>\n",
              "      <th>mass</th>\n",
              "      <td>0</td>\n",
              "      <td>0.0</td>\n",
              "    </tr>\n",
              "    <tr>\n",
              "      <th>fruit_subtype</th>\n",
              "      <td>0</td>\n",
              "      <td>0.0</td>\n",
              "    </tr>\n",
              "    <tr>\n",
              "      <th>fruit_name</th>\n",
              "      <td>0</td>\n",
              "      <td>0.0</td>\n",
              "    </tr>\n",
              "    <tr>\n",
              "      <th>fruit_label</th>\n",
              "      <td>0</td>\n",
              "      <td>0.0</td>\n",
              "    </tr>\n",
              "  </tbody>\n",
              "</table>\n",
              "</div>"
            ],
            "text/plain": [
              "               Total  Dados faltantes X Total de linhas (%)\n",
              "color_score        0                                    0.0\n",
              "height             0                                    0.0\n",
              "width              0                                    0.0\n",
              "mass               0                                    0.0\n",
              "fruit_subtype      0                                    0.0\n",
              "fruit_name         0                                    0.0\n",
              "fruit_label        0                                    0.0"
            ]
          },
          "metadata": {
            "tags": []
          },
          "execution_count": 84
        }
      ]
    },
    {
      "cell_type": "markdown",
      "metadata": {
        "id": "42j--Khm1fKh"
      },
      "source": [
        "**A biblioteca** `sklearn` **possui uma ferramenta que realiza essa tarefa de preencher os valores faltantes em um conjunto de dados, é o** `SimpleImputer`.\n",
        "\n",
        "  - vamos utilizar e ver sua aplicabilidade."
      ]
    },
    {
      "cell_type": "code",
      "metadata": {
        "id": "NeHTPMev2d8o"
      },
      "source": [
        "# importando as bibliotecas necessárias\n",
        "import pandas as pd # para modelagem de dados\n",
        "import numpy as np\n",
        "\n",
        "# da biblioteca \"sklearn.impute\" importando a função \"SimpleImputer\" para preenher dados faltantes\n",
        "from sklearn.impute import SimpleImputer  "
      ],
      "execution_count": 51,
      "outputs": []
    },
    {
      "cell_type": "markdown",
      "metadata": {
        "id": "0TVJnjLV65Q3"
      },
      "source": [
        ">> A função `SimpleImputer` trabalha com arrays e por isso tivemos que importar a biblioteca `numpy`."
      ]
    },
    {
      "cell_type": "code",
      "metadata": {
        "id": "Q--Ye5jd3NbE"
      },
      "source": [
        "# novamente iremos carregar o conjunto de dados em sua originalidade\n",
        "data = pd.read_table('fruit_data_with_colors_miss.txt',\n",
        "                     na_values=['.','?'])\n",
        "# iremos instanciar a função \"na_values\" e passar com argumento uma lista com os caracteres \".\" e \"?\""
      ],
      "execution_count": 70,
      "outputs": []
    },
    {
      "cell_type": "markdown",
      "metadata": {
        "id": "olgc4G4K9-JB"
      },
      "source": [
        "**A função** `SimpleImputer` **somente trabalha com dados numéricos.**"
      ]
    },
    {
      "cell_type": "code",
      "metadata": {
        "colab": {
          "base_uri": "https://localhost:8080/"
        },
        "id": "rhFtJog64txM",
        "outputId": "8754b69f-ee27-4188-ecb6-08a3205b7698"
      },
      "source": [
        "# visualizando o tipo de dado nas colunas\n",
        "data.dtypes"
      ],
      "execution_count": 71,
      "outputs": [
        {
          "output_type": "execute_result",
          "data": {
            "text/plain": [
              "fruit_label        int64\n",
              "fruit_name        object\n",
              "fruit_subtype     object\n",
              "mass             float64\n",
              "width            float64\n",
              "height           float64\n",
              "color_score      float64\n",
              "dtype: object"
            ]
          },
          "metadata": {
            "tags": []
          },
          "execution_count": 71
        }
      ]
    },
    {
      "cell_type": "code",
      "metadata": {
        "id": "3OpHezGH3zXs"
      },
      "source": [
        "# instanciando o objeto\n",
        "imp_mean = SimpleImputer(missing_values=np.nan, strategy='mean')"
      ],
      "execution_count": 72,
      "outputs": []
    },
    {
      "cell_type": "markdown",
      "metadata": {
        "id": "snBhCTzn6hh0"
      },
      "source": [
        ">> Aqui instanciamos o objeto na variável `imp_mean` e como parâmetro `missing_values=np.mean` e `strategy='mean'`.\n",
        "  - aqui utilizaremos a média dos valores da coluna para preencher os campos `NaN`.\n",
        "\n"
      ]
    },
    {
      "cell_type": "code",
      "metadata": {
        "colab": {
          "base_uri": "https://localhost:8080/"
        },
        "id": "B6HF2XkX3zV_",
        "outputId": "4843065a-40ea-41a0-a496-8368c22ea374"
      },
      "source": [
        "# aplicando o objeto criado e treinando no conjunto de dados nas colunas numéricas selecionadas\n",
        "imp_mean.fit(data[['mass','width','height','color_score']])"
      ],
      "execution_count": 73,
      "outputs": [
        {
          "output_type": "execute_result",
          "data": {
            "text/plain": [
              "SimpleImputer(add_indicator=False, copy=True, fill_value=None,\n",
              "              missing_values=nan, strategy='mean', verbose=0)"
            ]
          },
          "metadata": {
            "tags": []
          },
          "execution_count": 73
        }
      ]
    },
    {
      "cell_type": "code",
      "metadata": {
        "colab": {
          "base_uri": "https://localhost:8080/"
        },
        "id": "U_SnIlgl3zUf",
        "outputId": "ea84e77d-d587-435f-8e8a-ab30927588e8"
      },
      "source": [
        "# transformando os valores faltantes\n",
        "dados_tratados = imp_mean.transform(data[['mass','width','height','color_score']])\n",
        "dados_tratados  # visualizando o resultando"
      ],
      "execution_count": 74,
      "outputs": [
        {
          "output_type": "execute_result",
          "data": {
            "text/plain": [
              "array([[192.        ,   8.4       ,   7.3       ,   0.55      ],\n",
              "       [180.        ,   8.        ,   6.8       ,   0.59      ],\n",
              "       [176.        ,   7.4       ,   7.2       ,   0.6       ],\n",
              "       [164.44827586,   6.2       ,   4.7       ,   0.8       ],\n",
              "       [ 84.        ,   6.        ,   4.6       ,   0.79      ],\n",
              "       [ 80.        ,   5.8       ,   4.3       ,   0.77      ],\n",
              "       [ 80.        ,   5.9       ,   4.3       ,   0.81      ],\n",
              "       [ 76.        ,   5.8       ,   4.        ,   0.81      ],\n",
              "       [178.        ,   7.1       ,   7.69137931,   0.92      ],\n",
              "       [172.        ,   7.4       ,   7.        ,   0.89      ],\n",
              "       [166.        ,   6.9       ,   7.3       ,   0.93      ],\n",
              "       [172.        ,   7.1       ,   7.6       ,   0.92      ],\n",
              "       [154.        ,   7.        ,   7.1       ,   0.88      ],\n",
              "       [164.        ,   7.3       ,   7.7       ,   0.7       ],\n",
              "       [152.        ,   7.6       ,   7.3       ,   0.69      ],\n",
              "       [156.        ,   7.7       ,   7.1       ,   0.69      ],\n",
              "       [156.        ,   7.6       ,   7.5       ,   0.67      ],\n",
              "       [168.        ,   7.5       ,   7.6       ,   0.73      ],\n",
              "       [162.        ,   7.5       ,   7.1       ,   0.83      ],\n",
              "       [162.        ,   7.4       ,   7.2       ,   0.85      ],\n",
              "       [160.        ,   7.5       ,   7.5       ,   0.86      ],\n",
              "       [156.        ,   7.4       ,   7.4       ,   0.84      ],\n",
              "       [140.        ,   7.3       ,   7.1       ,   0.87      ],\n",
              "       [170.        ,   7.6       ,   7.9       ,   0.88      ],\n",
              "       [342.        ,   9.        ,   9.4       ,   0.75      ],\n",
              "       [356.        ,   9.2       ,   9.2       ,   0.75      ],\n",
              "       [362.        ,   9.6       ,   9.2       ,   0.74      ],\n",
              "       [204.        ,   7.5       ,   9.2       ,   0.77      ],\n",
              "       [140.        ,   6.7       ,   7.1       ,   0.72      ],\n",
              "       [160.        ,   7.        ,   7.4       ,   0.81      ],\n",
              "       [158.        ,   7.1       ,   7.5       ,   0.79      ],\n",
              "       [210.        ,   7.8       ,   8.        ,   0.82      ],\n",
              "       [164.        ,   7.2       ,   7.        ,   0.8       ],\n",
              "       [190.        ,   7.5       ,   8.1       ,   0.74      ],\n",
              "       [142.        ,   7.6       ,   7.8       ,   0.75      ],\n",
              "       [150.        ,   7.1       ,   7.9       ,   0.75      ],\n",
              "       [160.        ,   7.1       ,   7.6       ,   0.76      ],\n",
              "       [154.        ,   7.3       ,   7.3       ,   0.79      ],\n",
              "       [158.        ,   7.2       ,   7.8       ,   0.77      ],\n",
              "       [144.        ,   6.8       ,   7.4       ,   0.75      ],\n",
              "       [154.        ,   7.1       ,   7.5       ,   0.78      ],\n",
              "       [180.        ,   7.6       ,   8.2       ,   0.79      ],\n",
              "       [154.        ,   7.2       ,   7.2       ,   0.82      ],\n",
              "       [194.        ,   7.2       ,  10.3       ,   0.7       ],\n",
              "       [200.        ,   7.3       ,  10.5       ,   0.72      ],\n",
              "       [186.        ,   7.2       ,   9.2       ,   0.72      ],\n",
              "       [216.        ,   7.3       ,  10.2       ,   0.71      ],\n",
              "       [196.        ,   7.3       ,   9.7       ,   0.72      ],\n",
              "       [174.        ,   7.3       ,  10.1       ,   0.72      ],\n",
              "       [132.        ,   5.8       ,   8.7       ,   0.73      ],\n",
              "       [130.        ,   6.        ,   8.2       ,   0.71      ],\n",
              "       [116.        ,   6.        ,   7.5       ,   0.72      ],\n",
              "       [118.        ,   5.9       ,   8.        ,   0.72      ],\n",
              "       [120.        ,   6.        ,   8.4       ,   0.74      ],\n",
              "       [116.        ,   6.1       ,   8.5       ,   0.71      ],\n",
              "       [116.        ,   6.3       ,   7.7       ,   0.72      ],\n",
              "       [116.        ,   5.9       ,   8.1       ,   0.73      ],\n",
              "       [152.        ,   6.5       ,   8.5       ,   0.72      ],\n",
              "       [118.        ,   6.1       ,   8.1       ,   0.7       ]])"
            ]
          },
          "metadata": {
            "tags": []
          },
          "execution_count": 74
        }
      ]
    },
    {
      "cell_type": "markdown",
      "metadata": {
        "id": "EAnZTViwA7Ye"
      },
      "source": [
        ">> **Perceba que, seu retorno é um array.**"
      ]
    },
    {
      "cell_type": "markdown",
      "metadata": {
        "id": "1AMPf-jxBEo-"
      },
      "source": [
        "**Agora iremos pegar o resultado acima e transformá-lo em um** `dataframe`."
      ]
    },
    {
      "cell_type": "code",
      "metadata": {
        "colab": {
          "base_uri": "https://localhost:8080/",
          "height": 359
        },
        "id": "oNL8o9kPAQU7",
        "outputId": "77b47ba2-e64a-4574-e623-2a9642e878d7"
      },
      "source": [
        "# instanciando a variável \"dados_tratados\" em um novo objeto chamado \"df\"\n",
        "# e usaremos a função \"pd.DataFrame\" para transformar as informações da variável \"dados_tratados\" em um dataframe\n",
        "df = pd.DataFrame(dados_tratados,\n",
        "                  columns=['mass','width','height','color_score'])  # instanciando o nome das colunas\n",
        "                  \n",
        "df.head(10) # visualizando as 10 primeiras linhas"
      ],
      "execution_count": 77,
      "outputs": [
        {
          "output_type": "execute_result",
          "data": {
            "text/html": [
              "<div>\n",
              "<style scoped>\n",
              "    .dataframe tbody tr th:only-of-type {\n",
              "        vertical-align: middle;\n",
              "    }\n",
              "\n",
              "    .dataframe tbody tr th {\n",
              "        vertical-align: top;\n",
              "    }\n",
              "\n",
              "    .dataframe thead th {\n",
              "        text-align: right;\n",
              "    }\n",
              "</style>\n",
              "<table border=\"1\" class=\"dataframe\">\n",
              "  <thead>\n",
              "    <tr style=\"text-align: right;\">\n",
              "      <th></th>\n",
              "      <th>mass</th>\n",
              "      <th>width</th>\n",
              "      <th>height</th>\n",
              "      <th>color_score</th>\n",
              "    </tr>\n",
              "  </thead>\n",
              "  <tbody>\n",
              "    <tr>\n",
              "      <th>0</th>\n",
              "      <td>192.000000</td>\n",
              "      <td>8.4</td>\n",
              "      <td>7.300000</td>\n",
              "      <td>0.55</td>\n",
              "    </tr>\n",
              "    <tr>\n",
              "      <th>1</th>\n",
              "      <td>180.000000</td>\n",
              "      <td>8.0</td>\n",
              "      <td>6.800000</td>\n",
              "      <td>0.59</td>\n",
              "    </tr>\n",
              "    <tr>\n",
              "      <th>2</th>\n",
              "      <td>176.000000</td>\n",
              "      <td>7.4</td>\n",
              "      <td>7.200000</td>\n",
              "      <td>0.60</td>\n",
              "    </tr>\n",
              "    <tr>\n",
              "      <th>3</th>\n",
              "      <td>164.448276</td>\n",
              "      <td>6.2</td>\n",
              "      <td>4.700000</td>\n",
              "      <td>0.80</td>\n",
              "    </tr>\n",
              "    <tr>\n",
              "      <th>4</th>\n",
              "      <td>84.000000</td>\n",
              "      <td>6.0</td>\n",
              "      <td>4.600000</td>\n",
              "      <td>0.79</td>\n",
              "    </tr>\n",
              "    <tr>\n",
              "      <th>5</th>\n",
              "      <td>80.000000</td>\n",
              "      <td>5.8</td>\n",
              "      <td>4.300000</td>\n",
              "      <td>0.77</td>\n",
              "    </tr>\n",
              "    <tr>\n",
              "      <th>6</th>\n",
              "      <td>80.000000</td>\n",
              "      <td>5.9</td>\n",
              "      <td>4.300000</td>\n",
              "      <td>0.81</td>\n",
              "    </tr>\n",
              "    <tr>\n",
              "      <th>7</th>\n",
              "      <td>76.000000</td>\n",
              "      <td>5.8</td>\n",
              "      <td>4.000000</td>\n",
              "      <td>0.81</td>\n",
              "    </tr>\n",
              "    <tr>\n",
              "      <th>8</th>\n",
              "      <td>178.000000</td>\n",
              "      <td>7.1</td>\n",
              "      <td>7.691379</td>\n",
              "      <td>0.92</td>\n",
              "    </tr>\n",
              "    <tr>\n",
              "      <th>9</th>\n",
              "      <td>172.000000</td>\n",
              "      <td>7.4</td>\n",
              "      <td>7.000000</td>\n",
              "      <td>0.89</td>\n",
              "    </tr>\n",
              "  </tbody>\n",
              "</table>\n",
              "</div>"
            ],
            "text/plain": [
              "         mass  width    height  color_score\n",
              "0  192.000000    8.4  7.300000         0.55\n",
              "1  180.000000    8.0  6.800000         0.59\n",
              "2  176.000000    7.4  7.200000         0.60\n",
              "3  164.448276    6.2  4.700000         0.80\n",
              "4   84.000000    6.0  4.600000         0.79\n",
              "5   80.000000    5.8  4.300000         0.77\n",
              "6   80.000000    5.9  4.300000         0.81\n",
              "7   76.000000    5.8  4.000000         0.81\n",
              "8  178.000000    7.1  7.691379         0.92\n",
              "9  172.000000    7.4  7.000000         0.89"
            ]
          },
          "metadata": {
            "tags": []
          },
          "execution_count": 77
        }
      ]
    },
    {
      "cell_type": "markdown",
      "metadata": {
        "id": "D2JIWFUic23e"
      },
      "source": [
        "# **Transformando a escala de dados**\n",
        "\n",
        "---"
      ]
    },
    {
      "cell_type": "markdown",
      "metadata": {
        "id": "I_2qSxhndM_z"
      },
      "source": [
        ">> A normalização e/ou padronização da escala os dados é uma das necessidades mais importantes no pré-processamento dos dados. Essa técnica é necessária já que alguns algoritmos podem ter sua performance prejudicada e como resultando um modelo erronêo. \n",
        "\n",
        "E por isso, temos que transformar a ordem de grandeza dos dados para não termos uma falsa análise da importância de um dado em realção aos outros.\n",
        "\n"
      ]
    },
    {
      "cell_type": "markdown",
      "metadata": {
        "id": "r_gE1nb-oWr4"
      },
      "source": [
        "**Para conhecer com mais propriedades a transformação dos dados e sua importância, segue abaixo alguns links para leitura.**"
      ]
    },
    {
      "cell_type": "markdown",
      "metadata": {
        "id": "Al2PCLQQfMFH"
      },
      "source": [
        "**Guia Básico de Pré-Processamento de Dados**\n",
        "  - https://bit.ly/2RlDUwI"
      ]
    },
    {
      "cell_type": "markdown",
      "metadata": {
        "id": "FxI25Hqkdpqm"
      },
      "source": [
        "**Normalizar ou padronizar as variáveis?**\n",
        "- https://bit.ly/3uP1gIP"
      ]
    },
    {
      "cell_type": "markdown",
      "metadata": {
        "id": "yTDevCsKeRpl"
      },
      "source": [
        "**Um guia completo para o pré-processamento de dados em machine learning**\n",
        "  - https://bit.ly/2SaEde1"
      ]
    },
    {
      "cell_type": "markdown",
      "metadata": {
        "id": "CtUDGzL_ezUW"
      },
      "source": [
        "**Transformação de dados em Python com Pandas**\n",
        "  - https://bit.ly/3g1ODVk"
      ]
    },
    {
      "cell_type": "code",
      "metadata": {
        "id": "DeAqwD1aXbEB"
      },
      "source": [
        "# importando a biblioteca\n",
        "import pandas as pd"
      ],
      "execution_count": 2,
      "outputs": []
    },
    {
      "cell_type": "code",
      "metadata": {
        "colab": {
          "resources": {
            "http://localhost:8080/nbextensions/google.colab/files.js": {
              "data": "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",
              "ok": true,
              "headers": [
                [
                  "content-type",
                  "application/javascript"
                ]
              ],
              "status": 200,
              "status_text": ""
            }
          },
          "base_uri": "https://localhost:8080/",
          "height": 72
        },
        "id": "OsRSZPNPXX-G",
        "outputId": "342998af-a037-4e02-a33d-4e93bf18a594"
      },
      "source": [
        "# realizando o carregamento do conjunto de dados para google colab\n",
        "from google.colab import files  # biblioteca utilizada para carregar os dados para o google colab\n",
        "uploaded = files.upload()"
      ],
      "execution_count": 3,
      "outputs": [
        {
          "output_type": "display_data",
          "data": {
            "text/html": [
              "\n",
              "     <input type=\"file\" id=\"files-621efe97-9b08-4943-9870-910d325a1ccf\" name=\"files[]\" multiple disabled\n",
              "        style=\"border:none\" />\n",
              "     <output id=\"result-621efe97-9b08-4943-9870-910d325a1ccf\">\n",
              "      Upload widget is only available when the cell has been executed in the\n",
              "      current browser session. Please rerun this cell to enable.\n",
              "      </output>\n",
              "      <script src=\"/nbextensions/google.colab/files.js\"></script> "
            ],
            "text/plain": [
              "<IPython.core.display.HTML object>"
            ]
          },
          "metadata": {
            "tags": []
          }
        },
        {
          "output_type": "stream",
          "text": [
            "Saving fruit_data_with_colors_miss.txt to fruit_data_with_colors_miss.txt\n"
          ],
          "name": "stdout"
        }
      ]
    },
    {
      "cell_type": "code",
      "metadata": {
        "id": "n4pq_jL89Ja-"
      },
      "source": [
        "# novamente iremos carregar o conjunto de dados em sua originalidade\n",
        "data = pd.read_table('fruit_data_with_colors_miss.txt',\n",
        "                     na_values=['.','?'])\n",
        "# iremos instanciar a função \"na_values\" e passar com argumento uma lista com os caracteres \".\" e \"?\""
      ],
      "execution_count": 4,
      "outputs": []
    },
    {
      "cell_type": "code",
      "metadata": {
        "id": "V-gMbo139JWu",
        "colab": {
          "base_uri": "https://localhost:8080/",
          "height": 359
        },
        "outputId": "1854510b-374c-4db4-f3e7-f87f22c876cd"
      },
      "source": [
        "# iremos realizar o preenchimento dos campos \"NaN\" com valores da média\n",
        "data = data.fillna(data.mean())\n",
        "data.head(10) # visualizando as 10 primeiras linhas"
      ],
      "execution_count": 5,
      "outputs": [
        {
          "output_type": "execute_result",
          "data": {
            "text/html": [
              "<div>\n",
              "<style scoped>\n",
              "    .dataframe tbody tr th:only-of-type {\n",
              "        vertical-align: middle;\n",
              "    }\n",
              "\n",
              "    .dataframe tbody tr th {\n",
              "        vertical-align: top;\n",
              "    }\n",
              "\n",
              "    .dataframe thead th {\n",
              "        text-align: right;\n",
              "    }\n",
              "</style>\n",
              "<table border=\"1\" class=\"dataframe\">\n",
              "  <thead>\n",
              "    <tr style=\"text-align: right;\">\n",
              "      <th></th>\n",
              "      <th>fruit_label</th>\n",
              "      <th>fruit_name</th>\n",
              "      <th>fruit_subtype</th>\n",
              "      <th>mass</th>\n",
              "      <th>width</th>\n",
              "      <th>height</th>\n",
              "      <th>color_score</th>\n",
              "    </tr>\n",
              "  </thead>\n",
              "  <tbody>\n",
              "    <tr>\n",
              "      <th>0</th>\n",
              "      <td>1</td>\n",
              "      <td>apple</td>\n",
              "      <td>granny_smith</td>\n",
              "      <td>192.000000</td>\n",
              "      <td>8.4</td>\n",
              "      <td>7.300000</td>\n",
              "      <td>0.55</td>\n",
              "    </tr>\n",
              "    <tr>\n",
              "      <th>1</th>\n",
              "      <td>1</td>\n",
              "      <td>apple</td>\n",
              "      <td>granny_smith</td>\n",
              "      <td>180.000000</td>\n",
              "      <td>8.0</td>\n",
              "      <td>6.800000</td>\n",
              "      <td>0.59</td>\n",
              "    </tr>\n",
              "    <tr>\n",
              "      <th>2</th>\n",
              "      <td>1</td>\n",
              "      <td>apple</td>\n",
              "      <td>granny_smith</td>\n",
              "      <td>176.000000</td>\n",
              "      <td>7.4</td>\n",
              "      <td>7.200000</td>\n",
              "      <td>0.60</td>\n",
              "    </tr>\n",
              "    <tr>\n",
              "      <th>3</th>\n",
              "      <td>2</td>\n",
              "      <td>mandarin</td>\n",
              "      <td>mandarin</td>\n",
              "      <td>164.448276</td>\n",
              "      <td>6.2</td>\n",
              "      <td>4.700000</td>\n",
              "      <td>0.80</td>\n",
              "    </tr>\n",
              "    <tr>\n",
              "      <th>4</th>\n",
              "      <td>2</td>\n",
              "      <td>mandarin</td>\n",
              "      <td>mandarin</td>\n",
              "      <td>84.000000</td>\n",
              "      <td>6.0</td>\n",
              "      <td>4.600000</td>\n",
              "      <td>0.79</td>\n",
              "    </tr>\n",
              "    <tr>\n",
              "      <th>5</th>\n",
              "      <td>2</td>\n",
              "      <td>mandarin</td>\n",
              "      <td>mandarin</td>\n",
              "      <td>80.000000</td>\n",
              "      <td>5.8</td>\n",
              "      <td>4.300000</td>\n",
              "      <td>0.77</td>\n",
              "    </tr>\n",
              "    <tr>\n",
              "      <th>6</th>\n",
              "      <td>2</td>\n",
              "      <td>mandarin</td>\n",
              "      <td>mandarin</td>\n",
              "      <td>80.000000</td>\n",
              "      <td>5.9</td>\n",
              "      <td>4.300000</td>\n",
              "      <td>0.81</td>\n",
              "    </tr>\n",
              "    <tr>\n",
              "      <th>7</th>\n",
              "      <td>2</td>\n",
              "      <td>mandarin</td>\n",
              "      <td>NaN</td>\n",
              "      <td>76.000000</td>\n",
              "      <td>5.8</td>\n",
              "      <td>4.000000</td>\n",
              "      <td>0.81</td>\n",
              "    </tr>\n",
              "    <tr>\n",
              "      <th>8</th>\n",
              "      <td>1</td>\n",
              "      <td>apple</td>\n",
              "      <td>braeburn</td>\n",
              "      <td>178.000000</td>\n",
              "      <td>7.1</td>\n",
              "      <td>7.691379</td>\n",
              "      <td>0.92</td>\n",
              "    </tr>\n",
              "    <tr>\n",
              "      <th>9</th>\n",
              "      <td>1</td>\n",
              "      <td>apple</td>\n",
              "      <td>braeburn</td>\n",
              "      <td>172.000000</td>\n",
              "      <td>7.4</td>\n",
              "      <td>7.000000</td>\n",
              "      <td>0.89</td>\n",
              "    </tr>\n",
              "  </tbody>\n",
              "</table>\n",
              "</div>"
            ],
            "text/plain": [
              "   fruit_label fruit_name fruit_subtype  ...  width    height  color_score\n",
              "0            1      apple  granny_smith  ...    8.4  7.300000         0.55\n",
              "1            1      apple  granny_smith  ...    8.0  6.800000         0.59\n",
              "2            1      apple  granny_smith  ...    7.4  7.200000         0.60\n",
              "3            2   mandarin      mandarin  ...    6.2  4.700000         0.80\n",
              "4            2   mandarin      mandarin  ...    6.0  4.600000         0.79\n",
              "5            2   mandarin      mandarin  ...    5.8  4.300000         0.77\n",
              "6            2   mandarin      mandarin  ...    5.9  4.300000         0.81\n",
              "7            2   mandarin           NaN  ...    5.8  4.000000         0.81\n",
              "8            1      apple      braeburn  ...    7.1  7.691379         0.92\n",
              "9            1      apple      braeburn  ...    7.4  7.000000         0.89\n",
              "\n",
              "[10 rows x 7 columns]"
            ]
          },
          "metadata": {
            "tags": []
          },
          "execution_count": 5
        }
      ]
    },
    {
      "cell_type": "code",
      "metadata": {
        "id": "GjSZrLaO9JVH",
        "colab": {
          "base_uri": "https://localhost:8080/"
        },
        "outputId": "d499b971-1390-4b7c-e106-dd30e4dc1ab9"
      },
      "source": [
        "# visualizando o tipo de dado em cada coluna\n",
        "data.dtypes"
      ],
      "execution_count": 6,
      "outputs": [
        {
          "output_type": "execute_result",
          "data": {
            "text/plain": [
              "fruit_label        int64\n",
              "fruit_name        object\n",
              "fruit_subtype     object\n",
              "mass             float64\n",
              "width            float64\n",
              "height           float64\n",
              "color_score      float64\n",
              "dtype: object"
            ]
          },
          "metadata": {
            "tags": []
          },
          "execution_count": 6
        }
      ]
    },
    {
      "cell_type": "markdown",
      "metadata": {
        "id": "G70gkJeFp40e"
      },
      "source": [
        ">> **A transformação da escala dos dados é aplicado somente para dados do tipo numérico.**\n",
        "  - e portanto iremos selecionar somente as colunas de interesse."
      ]
    },
    {
      "cell_type": "code",
      "metadata": {
        "id": "G_OS3ea89JSe",
        "colab": {
          "base_uri": "https://localhost:8080/",
          "height": 204
        },
        "outputId": "7482d16e-0d3b-464b-be4d-49ee13c96f9f"
      },
      "source": [
        "# instanciando na variável \"colunas_selecionadas\" as colunas com valores numéricos\n",
        "# \"'mass','width','height','color_score'\"\n",
        "colunas_selecionadas = data[['mass','width','height','color_score']]\n",
        "colunas_selecionadas.head() # visualizando as 5 primeiras linhas"
      ],
      "execution_count": 8,
      "outputs": [
        {
          "output_type": "execute_result",
          "data": {
            "text/html": [
              "<div>\n",
              "<style scoped>\n",
              "    .dataframe tbody tr th:only-of-type {\n",
              "        vertical-align: middle;\n",
              "    }\n",
              "\n",
              "    .dataframe tbody tr th {\n",
              "        vertical-align: top;\n",
              "    }\n",
              "\n",
              "    .dataframe thead th {\n",
              "        text-align: right;\n",
              "    }\n",
              "</style>\n",
              "<table border=\"1\" class=\"dataframe\">\n",
              "  <thead>\n",
              "    <tr style=\"text-align: right;\">\n",
              "      <th></th>\n",
              "      <th>mass</th>\n",
              "      <th>width</th>\n",
              "      <th>height</th>\n",
              "      <th>color_score</th>\n",
              "    </tr>\n",
              "  </thead>\n",
              "  <tbody>\n",
              "    <tr>\n",
              "      <th>0</th>\n",
              "      <td>192.000000</td>\n",
              "      <td>8.4</td>\n",
              "      <td>7.3</td>\n",
              "      <td>0.55</td>\n",
              "    </tr>\n",
              "    <tr>\n",
              "      <th>1</th>\n",
              "      <td>180.000000</td>\n",
              "      <td>8.0</td>\n",
              "      <td>6.8</td>\n",
              "      <td>0.59</td>\n",
              "    </tr>\n",
              "    <tr>\n",
              "      <th>2</th>\n",
              "      <td>176.000000</td>\n",
              "      <td>7.4</td>\n",
              "      <td>7.2</td>\n",
              "      <td>0.60</td>\n",
              "    </tr>\n",
              "    <tr>\n",
              "      <th>3</th>\n",
              "      <td>164.448276</td>\n",
              "      <td>6.2</td>\n",
              "      <td>4.7</td>\n",
              "      <td>0.80</td>\n",
              "    </tr>\n",
              "    <tr>\n",
              "      <th>4</th>\n",
              "      <td>84.000000</td>\n",
              "      <td>6.0</td>\n",
              "      <td>4.6</td>\n",
              "      <td>0.79</td>\n",
              "    </tr>\n",
              "  </tbody>\n",
              "</table>\n",
              "</div>"
            ],
            "text/plain": [
              "         mass  width  height  color_score\n",
              "0  192.000000    8.4     7.3         0.55\n",
              "1  180.000000    8.0     6.8         0.59\n",
              "2  176.000000    7.4     7.2         0.60\n",
              "3  164.448276    6.2     4.7         0.80\n",
              "4   84.000000    6.0     4.6         0.79"
            ]
          },
          "metadata": {
            "tags": []
          },
          "execution_count": 8
        }
      ]
    },
    {
      "cell_type": "code",
      "metadata": {
        "id": "G4Gr2_3o9JRD",
        "colab": {
          "base_uri": "https://localhost:8080/",
          "height": 173
        },
        "outputId": "7f75f724-e233-4690-e4e2-b29d71eaf9b0"
      },
      "source": [
        "# visualizando os dados estatísticos da variável \"colunas_selecionadas\"\n",
        "colunas_selecionadas.describe().T"
      ],
      "execution_count": 10,
      "outputs": [
        {
          "output_type": "execute_result",
          "data": {
            "text/html": [
              "<div>\n",
              "<style scoped>\n",
              "    .dataframe tbody tr th:only-of-type {\n",
              "        vertical-align: middle;\n",
              "    }\n",
              "\n",
              "    .dataframe tbody tr th {\n",
              "        vertical-align: top;\n",
              "    }\n",
              "\n",
              "    .dataframe thead th {\n",
              "        text-align: right;\n",
              "    }\n",
              "</style>\n",
              "<table border=\"1\" class=\"dataframe\">\n",
              "  <thead>\n",
              "    <tr style=\"text-align: right;\">\n",
              "      <th></th>\n",
              "      <th>count</th>\n",
              "      <th>mean</th>\n",
              "      <th>std</th>\n",
              "      <th>min</th>\n",
              "      <th>25%</th>\n",
              "      <th>50%</th>\n",
              "      <th>75%</th>\n",
              "      <th>max</th>\n",
              "    </tr>\n",
              "  </thead>\n",
              "  <tbody>\n",
              "    <tr>\n",
              "      <th>mass</th>\n",
              "      <td>59.0</td>\n",
              "      <td>164.448276</td>\n",
              "      <td>54.062599</td>\n",
              "      <td>76.00</td>\n",
              "      <td>141.00</td>\n",
              "      <td>160.00</td>\n",
              "      <td>177.00</td>\n",
              "      <td>362.00</td>\n",
              "    </tr>\n",
              "    <tr>\n",
              "      <th>width</th>\n",
              "      <td>59.0</td>\n",
              "      <td>7.105085</td>\n",
              "      <td>0.816938</td>\n",
              "      <td>5.80</td>\n",
              "      <td>6.60</td>\n",
              "      <td>7.20</td>\n",
              "      <td>7.50</td>\n",
              "      <td>9.60</td>\n",
              "    </tr>\n",
              "    <tr>\n",
              "      <th>height</th>\n",
              "      <td>59.0</td>\n",
              "      <td>7.691379</td>\n",
              "      <td>1.360943</td>\n",
              "      <td>4.00</td>\n",
              "      <td>7.20</td>\n",
              "      <td>7.60</td>\n",
              "      <td>8.20</td>\n",
              "      <td>10.50</td>\n",
              "    </tr>\n",
              "    <tr>\n",
              "      <th>color_score</th>\n",
              "      <td>59.0</td>\n",
              "      <td>0.762881</td>\n",
              "      <td>0.076857</td>\n",
              "      <td>0.55</td>\n",
              "      <td>0.72</td>\n",
              "      <td>0.75</td>\n",
              "      <td>0.81</td>\n",
              "      <td>0.93</td>\n",
              "    </tr>\n",
              "  </tbody>\n",
              "</table>\n",
              "</div>"
            ],
            "text/plain": [
              "             count        mean        std  ...     50%     75%     max\n",
              "mass          59.0  164.448276  54.062599  ...  160.00  177.00  362.00\n",
              "width         59.0    7.105085   0.816938  ...    7.20    7.50    9.60\n",
              "height        59.0    7.691379   1.360943  ...    7.60    8.20   10.50\n",
              "color_score   59.0    0.762881   0.076857  ...    0.75    0.81    0.93\n",
              "\n",
              "[4 rows x 8 columns]"
            ]
          },
          "metadata": {
            "tags": []
          },
          "execution_count": 10
        }
      ]
    },
    {
      "cell_type": "markdown",
      "metadata": {
        "id": "vL5wBmPBrVbL"
      },
      "source": [
        ">> **Percabe que, para algumas colunas entre os dados com valores máximo e mínimo temos uma disparidade entre eles.**\n",
        "  - portanto teremos que transformar em escala entre `0` e `1`."
      ]
    },
    {
      "cell_type": "markdown",
      "metadata": {
        "id": "KLJ7jSEIrzSN"
      },
      "source": [
        "**Segue um exemplo como é feita essa transformação:**\n",
        "  - `(valor - min) / (max - min)`"
      ]
    },
    {
      "cell_type": "code",
      "metadata": {
        "colab": {
          "base_uri": "https://localhost:8080/"
        },
        "id": "pzm_DD7krUHn",
        "outputId": "47066b5a-f877-4b34-8f55-53c5a93b700d"
      },
      "source": [
        "# exemplo 1\n",
        "(25 - 12) / (59 - 12)"
      ],
      "execution_count": 11,
      "outputs": [
        {
          "output_type": "execute_result",
          "data": {
            "text/plain": [
              "0.2765957446808511"
            ]
          },
          "metadata": {
            "tags": []
          },
          "execution_count": 11
        }
      ]
    },
    {
      "cell_type": "code",
      "metadata": {
        "colab": {
          "base_uri": "https://localhost:8080/"
        },
        "id": "IETE059LYVB2",
        "outputId": "0161bf54-4dbb-4c49-fd7a-6489250412ee"
      },
      "source": [
        "# exemplo 2\n",
        "(47 - 12) / (59 - 12)"
      ],
      "execution_count": 16,
      "outputs": [
        {
          "output_type": "execute_result",
          "data": {
            "text/plain": [
              "0.7446808510638298"
            ]
          },
          "metadata": {
            "tags": []
          },
          "execution_count": 16
        }
      ]
    },
    {
      "cell_type": "markdown",
      "metadata": {
        "id": "Q2mMCAwttFn3"
      },
      "source": [
        ">> Não iremos realizar isso manualmente! \n",
        "  - para essa necessidade temos uma função dentro da biblioteca `sklearn.preprocessing` que realiza toda essa transformação de forma automatizada que é o `MinMaxScaler`."
      ]
    },
    {
      "cell_type": "code",
      "metadata": {
        "id": "JGR_2W0-9JP5"
      },
      "source": [
        "# importando a biblioteca\n",
        "from sklearn.preprocessing import MinMaxScaler"
      ],
      "execution_count": 17,
      "outputs": []
    },
    {
      "cell_type": "code",
      "metadata": {
        "id": "0OZdKUrI9JLv"
      },
      "source": [
        "# instanciando o modelo no objeto \"mm\"\n",
        "mm = MinMaxScaler()"
      ],
      "execution_count": 18,
      "outputs": []
    },
    {
      "cell_type": "code",
      "metadata": {
        "id": "ulgAkbMv9JJx",
        "colab": {
          "base_uri": "https://localhost:8080/"
        },
        "outputId": "528703b1-69b0-4377-a2e2-40e813d8eca5"
      },
      "source": [
        "# utilizando o objeto criado e realizando a transformação dos dados da variável \"colunas_selecionadas\"\n",
        "mm.fit(colunas_selecionadas)"
      ],
      "execution_count": 20,
      "outputs": [
        {
          "output_type": "execute_result",
          "data": {
            "text/plain": [
              "MinMaxScaler(copy=True, feature_range=(0, 1))"
            ]
          },
          "metadata": {
            "tags": []
          },
          "execution_count": 20
        }
      ]
    },
    {
      "cell_type": "code",
      "metadata": {
        "colab": {
          "base_uri": "https://localhost:8080/"
        },
        "id": "tNIv66MGuT_Y",
        "outputId": "18887cde-6c41-44b0-adb0-09c554e2d943"
      },
      "source": [
        "# instanciando os dados transformados na variável \"dados_escala\"\n",
        "dados_escala = mm.transform(colunas_selecionadas)\n",
        "dados_escala  # visualizando os dados entre a escala 0 e 1"
      ],
      "execution_count": 21,
      "outputs": [
        {
          "output_type": "execute_result",
          "data": {
            "text/plain": [
              "array([[0.40559441, 0.68421053, 0.50769231, 0.        ],\n",
              "       [0.36363636, 0.57894737, 0.43076923, 0.10526316],\n",
              "       [0.34965035, 0.42105263, 0.49230769, 0.13157895],\n",
              "       [0.30925971, 0.10526316, 0.10769231, 0.65789474],\n",
              "       [0.02797203, 0.05263158, 0.09230769, 0.63157895],\n",
              "       [0.01398601, 0.        , 0.04615385, 0.57894737],\n",
              "       [0.01398601, 0.02631579, 0.04615385, 0.68421053],\n",
              "       [0.        , 0.        , 0.        , 0.68421053],\n",
              "       [0.35664336, 0.34210526, 0.56790451, 0.97368421],\n",
              "       [0.33566434, 0.42105263, 0.46153846, 0.89473684],\n",
              "       [0.31468531, 0.28947368, 0.50769231, 1.        ],\n",
              "       [0.33566434, 0.34210526, 0.55384615, 0.97368421],\n",
              "       [0.27272727, 0.31578947, 0.47692308, 0.86842105],\n",
              "       [0.30769231, 0.39473684, 0.56923077, 0.39473684],\n",
              "       [0.26573427, 0.47368421, 0.50769231, 0.36842105],\n",
              "       [0.27972028, 0.5       , 0.47692308, 0.36842105],\n",
              "       [0.27972028, 0.47368421, 0.53846154, 0.31578947],\n",
              "       [0.32167832, 0.44736842, 0.55384615, 0.47368421],\n",
              "       [0.3006993 , 0.44736842, 0.47692308, 0.73684211],\n",
              "       [0.3006993 , 0.42105263, 0.49230769, 0.78947368],\n",
              "       [0.29370629, 0.44736842, 0.53846154, 0.81578947],\n",
              "       [0.27972028, 0.42105263, 0.52307692, 0.76315789],\n",
              "       [0.22377622, 0.39473684, 0.47692308, 0.84210526],\n",
              "       [0.32867133, 0.47368421, 0.6       , 0.86842105],\n",
              "       [0.93006993, 0.84210526, 0.83076923, 0.52631579],\n",
              "       [0.97902098, 0.89473684, 0.8       , 0.52631579],\n",
              "       [1.        , 1.        , 0.8       , 0.5       ],\n",
              "       [0.44755245, 0.44736842, 0.8       , 0.57894737],\n",
              "       [0.22377622, 0.23684211, 0.47692308, 0.44736842],\n",
              "       [0.29370629, 0.31578947, 0.52307692, 0.68421053],\n",
              "       [0.28671329, 0.34210526, 0.53846154, 0.63157895],\n",
              "       [0.46853147, 0.52631579, 0.61538462, 0.71052632],\n",
              "       [0.30769231, 0.36842105, 0.46153846, 0.65789474],\n",
              "       [0.3986014 , 0.44736842, 0.63076923, 0.5       ],\n",
              "       [0.23076923, 0.47368421, 0.58461538, 0.52631579],\n",
              "       [0.25874126, 0.34210526, 0.6       , 0.52631579],\n",
              "       [0.29370629, 0.34210526, 0.55384615, 0.55263158],\n",
              "       [0.27272727, 0.39473684, 0.50769231, 0.63157895],\n",
              "       [0.28671329, 0.36842105, 0.58461538, 0.57894737],\n",
              "       [0.23776224, 0.26315789, 0.52307692, 0.52631579],\n",
              "       [0.27272727, 0.34210526, 0.53846154, 0.60526316],\n",
              "       [0.36363636, 0.47368421, 0.64615385, 0.63157895],\n",
              "       [0.27272727, 0.36842105, 0.49230769, 0.71052632],\n",
              "       [0.41258741, 0.36842105, 0.96923077, 0.39473684],\n",
              "       [0.43356643, 0.39473684, 1.        , 0.44736842],\n",
              "       [0.38461538, 0.36842105, 0.8       , 0.44736842],\n",
              "       [0.48951049, 0.39473684, 0.95384615, 0.42105263],\n",
              "       [0.41958042, 0.39473684, 0.87692308, 0.44736842],\n",
              "       [0.34265734, 0.39473684, 0.93846154, 0.44736842],\n",
              "       [0.1958042 , 0.        , 0.72307692, 0.47368421],\n",
              "       [0.18881119, 0.05263158, 0.64615385, 0.42105263],\n",
              "       [0.13986014, 0.05263158, 0.53846154, 0.44736842],\n",
              "       [0.14685315, 0.02631579, 0.61538462, 0.44736842],\n",
              "       [0.15384615, 0.05263158, 0.67692308, 0.5       ],\n",
              "       [0.13986014, 0.07894737, 0.69230769, 0.42105263],\n",
              "       [0.13986014, 0.13157895, 0.56923077, 0.44736842],\n",
              "       [0.13986014, 0.02631579, 0.63076923, 0.47368421],\n",
              "       [0.26573427, 0.18421053, 0.69230769, 0.44736842],\n",
              "       [0.14685315, 0.07894737, 0.63076923, 0.39473684]])"
            ]
          },
          "metadata": {
            "tags": []
          },
          "execution_count": 21
        }
      ]
    },
    {
      "cell_type": "markdown",
      "metadata": {
        "id": "6V70unz0aMJF"
      },
      "source": [
        "# **Outliers**"
      ]
    },
    {
      "cell_type": "markdown",
      "metadata": {
        "id": "P50NxjU7bXw5"
      },
      "source": [
        "**Mas afinal, o que são** `outliers`?\n",
        "\n",
        "_“Um outlier é uma observação que se diferencia tanto das demais observações que levanta suspeitas de que aquela observação foi gerada por um mecanismo distinto” (Hawkins, 1980), em outras palavras os outliers são dados que se distanciam radicalmente de todos os outros São pontos fora da curva normal, valores que fogem da normalidade e que podem causar desequilíbrio nos resultados obtidos. Um conjunto de dados pode apresentar um ou vários outliers. O efeito de um outlier é quase um efeito borboleta, um pequeno erro se propaga e quando não tratado corretamente pode ocasionar problemas e anomalias. Em análises estatísticas o efeito do outlier pode ser facilmente observado._\n",
        "\n",
        "fonte: https://pt.wikipedia.org/wiki/Outlier\n"
      ]
    },
    {
      "cell_type": "code",
      "metadata": {
        "id": "HwgzOuiSuT81"
      },
      "source": [
        "# importando a biblioteca\n",
        "import pandas as pd"
      ],
      "execution_count": 22,
      "outputs": []
    },
    {
      "cell_type": "code",
      "metadata": {
        "id": "7DRSGqtbuT5L",
        "colab": {
          "resources": {
            "http://localhost:8080/nbextensions/google.colab/files.js": {
              "data": "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",
              "ok": true,
              "headers": [
                [
                  "content-type",
                  "application/javascript"
                ]
              ],
              "status": 200,
              "status_text": ""
            }
          },
          "base_uri": "https://localhost:8080/",
          "height": 72
        },
        "outputId": "5172575e-4316-4641-ff7b-7107a3814fea"
      },
      "source": [
        "# realizando o carregamento do conjunto de dados para google colab\n",
        "from google.colab import files  # biblioteca utilizada para carregar os dados para o google colab\n",
        "uploaded = files.upload()"
      ],
      "execution_count": 23,
      "outputs": [
        {
          "output_type": "display_data",
          "data": {
            "text/html": [
              "\n",
              "     <input type=\"file\" id=\"files-a8e93619-95bc-42b3-b6f7-737f71716fc1\" name=\"files[]\" multiple disabled\n",
              "        style=\"border:none\" />\n",
              "     <output id=\"result-a8e93619-95bc-42b3-b6f7-737f71716fc1\">\n",
              "      Upload widget is only available when the cell has been executed in the\n",
              "      current browser session. Please rerun this cell to enable.\n",
              "      </output>\n",
              "      <script src=\"/nbextensions/google.colab/files.js\"></script> "
            ],
            "text/plain": [
              "<IPython.core.display.HTML object>"
            ]
          },
          "metadata": {
            "tags": []
          }
        },
        {
          "output_type": "stream",
          "text": [
            "Saving fruit_data_with_colors_miss.txt to fruit_data_with_colors_miss (1).txt\n"
          ],
          "name": "stdout"
        }
      ]
    },
    {
      "cell_type": "code",
      "metadata": {
        "id": "GZolOlwkuT3p"
      },
      "source": [
        "# novamente iremos carregar o conjunto de dados em sua originalidade\n",
        "data = pd.read_table('fruit_data_with_colors_miss.txt',\n",
        "                     na_values=['.','?'])\n",
        "# iremos instanciar a função \"na_values\" e passar com argumento uma lista com os caracteres \".\" e \"?\""
      ],
      "execution_count": 37,
      "outputs": []
    },
    {
      "cell_type": "markdown",
      "metadata": {
        "id": "B2PKq-Xicp_I"
      },
      "source": [
        "**Como determinar outliers em um conjunto de dados**\n",
        "  - Khan Academy:\n",
        "    -  https://bit.ly/3inBAAx"
      ]
    },
    {
      "cell_type": "markdown",
      "metadata": {
        "id": "32M_F3xnj1JR"
      },
      "source": [
        "**Outlier: o ponto fora da curva**\n",
        "  - https://bit.ly/3cikWhC"
      ]
    },
    {
      "cell_type": "code",
      "metadata": {
        "id": "FIaGrdhOuT2C"
      },
      "source": [
        "# selecionando o atributo \"apple\" da coluna \"fruit_name\"\n",
        "# instanciando a seleção na variável \"macas\"\n",
        "macas = data[data.fruit_name == 'apple']\n",
        "# macas = data[data['fruit_name'] == 'apple']"
      ],
      "execution_count": 26,
      "outputs": []
    },
    {
      "cell_type": "code",
      "metadata": {
        "id": "Gr4FlDp4uTwk",
        "colab": {
          "base_uri": "https://localhost:8080/",
          "height": 204
        },
        "outputId": "37db56d0-8000-42be-e97b-ab14f63be7dc"
      },
      "source": [
        "# visualizando os dados estatísticos da variável \"macas\"\n",
        "macas.describe().T"
      ],
      "execution_count": 27,
      "outputs": [
        {
          "output_type": "execute_result",
          "data": {
            "text/html": [
              "<div>\n",
              "<style scoped>\n",
              "    .dataframe tbody tr th:only-of-type {\n",
              "        vertical-align: middle;\n",
              "    }\n",
              "\n",
              "    .dataframe tbody tr th {\n",
              "        vertical-align: top;\n",
              "    }\n",
              "\n",
              "    .dataframe thead th {\n",
              "        text-align: right;\n",
              "    }\n",
              "</style>\n",
              "<table border=\"1\" class=\"dataframe\">\n",
              "  <thead>\n",
              "    <tr style=\"text-align: right;\">\n",
              "      <th></th>\n",
              "      <th>count</th>\n",
              "      <th>mean</th>\n",
              "      <th>std</th>\n",
              "      <th>min</th>\n",
              "      <th>25%</th>\n",
              "      <th>50%</th>\n",
              "      <th>75%</th>\n",
              "      <th>max</th>\n",
              "    </tr>\n",
              "  </thead>\n",
              "  <tbody>\n",
              "    <tr>\n",
              "      <th>fruit_label</th>\n",
              "      <td>19.0</td>\n",
              "      <td>1.000000</td>\n",
              "      <td>0.000000</td>\n",
              "      <td>1.00</td>\n",
              "      <td>1.00</td>\n",
              "      <td>1.00</td>\n",
              "      <td>1.00</td>\n",
              "      <td>1.00</td>\n",
              "    </tr>\n",
              "    <tr>\n",
              "      <th>mass</th>\n",
              "      <td>19.0</td>\n",
              "      <td>165.052632</td>\n",
              "      <td>11.969747</td>\n",
              "      <td>140.00</td>\n",
              "      <td>156.00</td>\n",
              "      <td>164.00</td>\n",
              "      <td>172.00</td>\n",
              "      <td>192.00</td>\n",
              "    </tr>\n",
              "    <tr>\n",
              "      <th>width</th>\n",
              "      <td>19.0</td>\n",
              "      <td>7.457895</td>\n",
              "      <td>0.345311</td>\n",
              "      <td>6.90</td>\n",
              "      <td>7.30</td>\n",
              "      <td>7.40</td>\n",
              "      <td>7.60</td>\n",
              "      <td>8.40</td>\n",
              "    </tr>\n",
              "    <tr>\n",
              "      <th>height</th>\n",
              "      <td>18.0</td>\n",
              "      <td>7.316667</td>\n",
              "      <td>0.277064</td>\n",
              "      <td>6.80</td>\n",
              "      <td>7.10</td>\n",
              "      <td>7.30</td>\n",
              "      <td>7.50</td>\n",
              "      <td>7.90</td>\n",
              "    </tr>\n",
              "    <tr>\n",
              "      <th>color_score</th>\n",
              "      <td>19.0</td>\n",
              "      <td>0.783684</td>\n",
              "      <td>0.124196</td>\n",
              "      <td>0.55</td>\n",
              "      <td>0.69</td>\n",
              "      <td>0.84</td>\n",
              "      <td>0.88</td>\n",
              "      <td>0.93</td>\n",
              "    </tr>\n",
              "  </tbody>\n",
              "</table>\n",
              "</div>"
            ],
            "text/plain": [
              "             count        mean        std  ...     50%     75%     max\n",
              "fruit_label   19.0    1.000000   0.000000  ...    1.00    1.00    1.00\n",
              "mass          19.0  165.052632  11.969747  ...  164.00  172.00  192.00\n",
              "width         19.0    7.457895   0.345311  ...    7.40    7.60    8.40\n",
              "height        18.0    7.316667   0.277064  ...    7.30    7.50    7.90\n",
              "color_score   19.0    0.783684   0.124196  ...    0.84    0.88    0.93\n",
              "\n",
              "[5 rows x 8 columns]"
            ]
          },
          "metadata": {
            "tags": []
          },
          "execution_count": 27
        }
      ]
    },
    {
      "cell_type": "markdown",
      "metadata": {
        "id": "1obFd81Gfoni"
      },
      "source": [
        ">> Iremos pegar esse mesmo comando utilizado para visualizar os dados estatísticos e instanciar em uma variável.\n",
        "  - pra posteriormente realizarmos operaçãos com a variável criada."
      ]
    },
    {
      "cell_type": "code",
      "metadata": {
        "id": "HcEfYMAruTvA",
        "colab": {
          "base_uri": "https://localhost:8080/"
        },
        "outputId": "22ecb731-1ad5-4f16-d5c9-5f36d78c6779"
      },
      "source": [
        "# instanciando os dados estatísticos na variável \"est\"\n",
        "est = macas['mass'].describe(); est # visualizando a variável"
      ],
      "execution_count": 29,
      "outputs": [
        {
          "output_type": "execute_result",
          "data": {
            "text/plain": [
              "count     19.000000\n",
              "mean     165.052632\n",
              "std       11.969747\n",
              "min      140.000000\n",
              "25%      156.000000\n",
              "50%      164.000000\n",
              "75%      172.000000\n",
              "max      192.000000\n",
              "Name: mass, dtype: float64"
            ]
          },
          "metadata": {
            "tags": []
          },
          "execution_count": 29
        }
      ]
    },
    {
      "cell_type": "markdown",
      "metadata": {
        "id": "B0qAF3O3gaYE"
      },
      "source": [
        "**Agora iremos realizar algumas operações com a variável criada para descobrir valores que estão distante da média, os chamados** `valores fora da curva (outliers)`.\n",
        "  - tanto valores para cima como pra baixo da média."
      ]
    },
    {
      "cell_type": "markdown",
      "metadata": {
        "id": "O4ZSqVBSlCjY"
      },
      "source": [
        "**Utilizaremos a seguinte regra pra determinar**\n",
        " - valores 2X maior e 2X menor que o `desvio padrão` serão considerados `outliers`.\n",
        " - essa regra não é engesada, podemos determinar quantas vezes o valor do desvio padrão."
      ]
    },
    {
      "cell_type": "code",
      "metadata": {
        "id": "y7YuURpNuTpy",
        "colab": {
          "base_uri": "https://localhost:8080/",
          "height": 80
        },
        "outputId": "42122e2b-56b1-4e7c-ecf9-256563c03279"
      },
      "source": [
        "# visualizando valores acima da média\n",
        "macas[(macas['mass'] > est['mean'] + (est['std']) * 2)]"
      ],
      "execution_count": 30,
      "outputs": [
        {
          "output_type": "execute_result",
          "data": {
            "text/html": [
              "<div>\n",
              "<style scoped>\n",
              "    .dataframe tbody tr th:only-of-type {\n",
              "        vertical-align: middle;\n",
              "    }\n",
              "\n",
              "    .dataframe tbody tr th {\n",
              "        vertical-align: top;\n",
              "    }\n",
              "\n",
              "    .dataframe thead th {\n",
              "        text-align: right;\n",
              "    }\n",
              "</style>\n",
              "<table border=\"1\" class=\"dataframe\">\n",
              "  <thead>\n",
              "    <tr style=\"text-align: right;\">\n",
              "      <th></th>\n",
              "      <th>fruit_label</th>\n",
              "      <th>fruit_name</th>\n",
              "      <th>fruit_subtype</th>\n",
              "      <th>mass</th>\n",
              "      <th>width</th>\n",
              "      <th>height</th>\n",
              "      <th>color_score</th>\n",
              "    </tr>\n",
              "  </thead>\n",
              "  <tbody>\n",
              "    <tr>\n",
              "      <th>0</th>\n",
              "      <td>1</td>\n",
              "      <td>apple</td>\n",
              "      <td>granny_smith</td>\n",
              "      <td>192.0</td>\n",
              "      <td>8.4</td>\n",
              "      <td>7.3</td>\n",
              "      <td>0.55</td>\n",
              "    </tr>\n",
              "  </tbody>\n",
              "</table>\n",
              "</div>"
            ],
            "text/plain": [
              "   fruit_label fruit_name fruit_subtype   mass  width  height  color_score\n",
              "0            1      apple  granny_smith  192.0    8.4     7.3         0.55"
            ]
          },
          "metadata": {
            "tags": []
          },
          "execution_count": 30
        }
      ]
    },
    {
      "cell_type": "code",
      "metadata": {
        "colab": {
          "base_uri": "https://localhost:8080/",
          "height": 80
        },
        "id": "SOqb75aSeDkH",
        "outputId": "fa2f9717-ba2c-4b3a-f8f0-af3962bb3d93"
      },
      "source": [
        "# visualizando valores abaixo da média\n",
        "macas[(macas['mass'] < est['mean'] - (est['std']) * 2)]"
      ],
      "execution_count": 32,
      "outputs": [
        {
          "output_type": "execute_result",
          "data": {
            "text/html": [
              "<div>\n",
              "<style scoped>\n",
              "    .dataframe tbody tr th:only-of-type {\n",
              "        vertical-align: middle;\n",
              "    }\n",
              "\n",
              "    .dataframe tbody tr th {\n",
              "        vertical-align: top;\n",
              "    }\n",
              "\n",
              "    .dataframe thead th {\n",
              "        text-align: right;\n",
              "    }\n",
              "</style>\n",
              "<table border=\"1\" class=\"dataframe\">\n",
              "  <thead>\n",
              "    <tr style=\"text-align: right;\">\n",
              "      <th></th>\n",
              "      <th>fruit_label</th>\n",
              "      <th>fruit_name</th>\n",
              "      <th>fruit_subtype</th>\n",
              "      <th>mass</th>\n",
              "      <th>width</th>\n",
              "      <th>height</th>\n",
              "      <th>color_score</th>\n",
              "    </tr>\n",
              "  </thead>\n",
              "  <tbody>\n",
              "    <tr>\n",
              "      <th>22</th>\n",
              "      <td>1</td>\n",
              "      <td>apple</td>\n",
              "      <td>cripps_pink</td>\n",
              "      <td>140.0</td>\n",
              "      <td>7.3</td>\n",
              "      <td>7.1</td>\n",
              "      <td>0.87</td>\n",
              "    </tr>\n",
              "  </tbody>\n",
              "</table>\n",
              "</div>"
            ],
            "text/plain": [
              "    fruit_label fruit_name fruit_subtype   mass  width  height  color_score\n",
              "22            1      apple   cripps_pink  140.0    7.3     7.1         0.87"
            ]
          },
          "metadata": {
            "tags": []
          },
          "execution_count": 32
        }
      ]
    },
    {
      "cell_type": "markdown",
      "metadata": {
        "id": "oNb-jcLziMp5"
      },
      "source": [
        "**Outliers, o que são e como tratá-los em uma análise de dados?**\n",
        "  - Aquarela:\n",
        "    - https://bit.ly/3vRt3JL"
      ]
    },
    {
      "cell_type": "markdown",
      "metadata": {
        "id": "lKqQxqv6kYEc"
      },
      "source": [
        "**Como identificar outliers usando a regra 1,5xFIQ**\n",
        "  - https://bit.ly/3ihoKDH"
      ]
    },
    {
      "cell_type": "markdown",
      "metadata": {
        "id": "-JfKas1yn9Y_"
      },
      "source": [
        "**Podemos de forma gráfica visualizar os outliers**\n",
        "  - iremos utilizar o `gráfico de caixa`, o famoso `boxplot`.\n",
        "\n",
        "Essa ferramenta é fornecida pela `matplotlib.pyplot`"
      ]
    },
    {
      "cell_type": "code",
      "metadata": {
        "id": "sqxXM8Z4pJIa"
      },
      "source": [
        "# importando a biblioteca\n",
        "import matplotlib.pyplot as plt"
      ],
      "execution_count": 34,
      "outputs": []
    },
    {
      "cell_type": "code",
      "metadata": {
        "colab": {
          "base_uri": "https://localhost:8080/",
          "height": 268
        },
        "id": "vi8N_Z_xeDhJ",
        "outputId": "7d0bc606-3dcd-47d4-ff4f-875d9bc0786b"
      },
      "source": [
        "# instanciando e plotando o boxplot da variável \"est\"\n",
        "plt.boxplot(est);"
      ],
      "execution_count": 45,
      "outputs": [
        {
          "output_type": "display_data",
          "data": {
            "image/png": "[encoded data removed]",
            "text/plain": [
              "<Figure size 432x288 with 1 Axes>"
            ]
          },
          "metadata": {
            "tags": [],
            "needs_background": "light"
          }
        }
      ]
    },
    {
      "cell_type": "code",
      "metadata": {
        "id": "ldYIohAkeDar"
      },
      "source": [
        ""
      ],
      "execution_count": null,
      "outputs": []
    },
    {
      "cell_type": "code",
      "metadata": {
        "id": "puN7GENZeDYc"
      },
      "source": [
        ""
      ],
      "execution_count": null,
      "outputs": []
    },
    {
      "cell_type": "code",
      "metadata": {
        "id": "wiiCChuoeDWK"
      },
      "source": [
        ""
      ],
      "execution_count": null,
      "outputs": []
    },
    {
      "cell_type": "code",
      "metadata": {
        "id": "7midnalSeDUH"
      },
      "source": [
        ""
      ],
      "execution_count": null,
      "outputs": []
    },
    {
      "cell_type": "code",
      "metadata": {
        "id": "p-qJJ_nzeDJK"
      },
      "source": [
        ""
      ],
      "execution_count": null,
      "outputs": []
    }
  ]
}