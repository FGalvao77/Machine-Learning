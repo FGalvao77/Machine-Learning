{
  "nbformat": 4,
  "nbformat_minor": 0,
  "metadata": {
    "colab": {
      "name": "04 - Introdução ao k-NN.ipynb",
      "provenance": [],
      "collapsed_sections": [],
      "authorship_tag": "ABX9TyPB/fF3IVM4ZWjkhSaZUale",
      "include_colab_link": true
    },
    "kernelspec": {
      "display_name": "Python 3",
      "name": "python3"
    },
    "language_info": {
      "name": "python"
    }
  },
  "cells": [
    {
      "cell_type": "markdown",
      "metadata": {
        "id": "view-in-github",
        "colab_type": "text"
      },
      "source": [
        "<a href=\"https://colab.research.google.com/github/FGalvao77/Machine-Learning/blob/main/04_Introdu%C3%A7%C3%A3o_ao_k_NN.ipynb\" target=\"_parent\"><img src=\"https://colab.research.google.com/assets/colab-badge.svg\" alt=\"Open In Colab\"/></a>"
      ]
    },
    {
      "cell_type": "markdown",
      "metadata": {
        "id": "Acbgf4UnM-ZR"
      },
      "source": [
        "# **k-NN**\n",
        "\n",
        "---\n",
        "\n",
        "Em estatística, o algoritmo `k-NN` (k-vizinhos mais próximos), é um método de **classificação não paramétrico** desenvolvido pela primeira vez por Evelyn Fix e Joseph Hodges em 1951, e posteriormente expandido por Thomas Cover. É usado para `classificação` e `regressão`. Em ambos os casos, a entrada consiste nos k exemplos de treinamento mais próximos no conjunto de dados. A saída depende se KNN é usado para classificação ou regressão:\n",
        "\n",
        "  - Na _classificação k-NN_ , a saída é uma associação de classe. Um objeto é classificado por uma pluralidade de votos de seus vizinhos, com o objeto sendo atribuído à classe mais comum entre seus `k-vizinhos mais próximos` (k é um número inteiro positivo , tipicamente pequeno). Se `k = 1`, então o objeto é simplesmente atribuído à classe daquele único vizinho mais próximo.\n",
        "  - Na _regressão k-NN_, a saída é o valor da propriedade do objeto. Este valor é a média dos valores dos k vizinhos mais próximos.\n",
        "\n",
        "O KNN é um tipo de classificação onde a função é aproximada apenas localmente e todos os cálculos são adiados até a avaliação da função. Como esse algoritmo depende da distância para classificação, se os recursos representarem unidades físicas diferentes ou vierem em escalas muito diferentes, a normalização dos dados de treinamento pode melhorar drasticamente sua precisão.\n",
        "\n",
        "Tanto para classificação quanto para regressão, uma técnica útil pode ser atribuir pesos às contribuições dos vizinhos, de modo que os vizinhos mais próximos contribuam mais para a média do que os mais distantes. Por exemplo, um esquema de ponderação comum consiste em dar a cada vizinho um peso de `1 / d`, onde d é a distância ao vizinho.\n",
        "\n",
        "Os vizinhos são obtidos de um conjunto de objetos para os quais a classe (para a classificação k-NN) ou o valor da propriedade do objeto (para a regressão k-NN) é conhecido. Isso pode ser considerado o conjunto de treinamento para o algoritmo, embora nenhuma etapa de treinamento explícita seja necessária.\n",
        "\n",
        "Uma peculiaridade do algoritmo k-NN é que ele é sensível à estrutura local dos dados.\n"
      ]
    },
    {
      "cell_type": "markdown",
      "metadata": {
        "id": "tdXw_DxgPXFm"
      },
      "source": [
        "## **Fazendo previsões com o k-NN**\n",
        "\n",
        "O k-NN faz previsões usando o conjunto de dados de treinamento diretamente.\n",
        "\n",
        "As previsões são feitas para uma nova instância (x) pesquisando todo o conjunto de treinamento para as K instâncias mais semelhantes (os vizinhos) e resumindo a variável de saída para essas instâncias de K. Para a regressão, essa pode ser a variável de saída média; na classificação, esse pode ser o valor de classe do modo (ou mais comum).\n",
        "\n",
        "Para determinar quais das instâncias do K no conjunto de dados de treinamento são mais semelhantes a uma nova entrada, uma medida de distância é usada. Para variáveis ​​de entrada de valor real, a medida de distância mais popular é a `distância euclidiana`.\n",
        "\n",
        "  **Distância euclidiana**\n",
        "\n",
        "  Em matemática, a distância euclidiana entre dois pontos no espaço euclidiano é o comprimento de um segmento de linha entre os dois pontos. Pode ser calculada a partir das coordenadas cartesianas dos pontos usando o `teorema de Pitágoras`, sendo ocasionalmente chamada de **distância pitagórica**. Esses nomes vêm dos antigos matemáticos gregos `Euclides e Pitágoras`, embora Euclides não representasse as distâncias como números, e a conexão do teorema de Pitágoras com o cálculo da distância não foi feita até o século XVIII.\n",
        "\n",
        "  A distância entre dois objetos que não são pontos geralmente é definida como a menor distância entre pares de pontos dos dois objetos. As fórmulas são conhecidas por calcular distâncias entre diferentes tipos de objetos, como a distância de um ponto a uma linha. Na matemática avançada, o conceito de distância foi generalizado para abstrair espaços métricos, e outras distâncias além da euclidiana foram estudadas. Em algumas aplicações em estatística e otimização, o quadrado da distância euclidiana é usado em vez da própria distância.\n",
        "  - fonte: \n",
        "    - **Wikipedia:** https://bit.ly/3gtJ5mO\n",
        "\n",
        "\n",
        "A distância euclidiana é calculada como a raiz quadrada da soma das diferenças quadráticas entre um novo ponto (x) e um ponto existente (xi) em todos os atributos de entrada j.\n",
        "\n",
        "Distância Euclidiana (x, xi) = sqrt (soma ((xj – xij) ^ 2))\n",
        "\n",
        "Outras medidas populares de distância incluem:\n",
        "\n",
        "- Distância de Hamming: Calcula a distância entre os vetores binários ( mais ).\n",
        "Manhattan Distance: Calcula a distância entre vetores reais usando a soma de sua diferença absoluta. Também chamado de City Block Distance ( mais ).\n",
        "- Distância Minkowski: Generalização da distância Euclidiana e Manhattan ( mais ).\n",
        "\n",
        "Existem muitas outras medidas de distância que podem ser usadas, como a distância de Tanimoto, Jaccard , Mahalanobis e cosseno. Você pode escolher a melhor métrica de distância com base nas propriedades de seus dados. Se não tiver certeza, você pode experimentar diferentes métricas de distância e valores diferentes de K juntos e ver qual mistura resulta nos modelos mais precisos.\n",
        "\n",
        "Euclidean é uma boa medida de distância para usar se as variáveis ​​de entrada forem semelhantes em tipo (por exemplo, todas as larguras e alturas medidas). A distância de Manhattan é uma boa medida para usar se as variáveis ​​de entrada não forem semelhantes em tipo (como idade, sexo, altura, etc.).\n",
        "\n",
        "O valor para K pode ser encontrado por ajuste de algoritmo. É uma boa ideia tentar vários valores diferentes para K (por exemplo, valores de 1 a 21) e ver o que funciona melhor para o seu problema.\n",
        "\n",
        "A complexidade computacional do KNN aumenta com o tamanho do conjunto de dados de treinamento. Para conjuntos de treinamento muito grandes, o KNN pode ser estocástico tomando uma amostra do conjunto de dados de treinamento a partir do qual calcular as instâncias mais semelhantes.\n",
        "\n"
      ]
    },
    {
      "cell_type": "markdown",
      "metadata": {
        "id": "_OsPqMvyKtni"
      },
      "source": [
        "\n",
        "- Conheça mais em:\n",
        "  - **Portal Data Science - O Algorítmo K-Nearest Neighbors (KNN) em Machine Learning:** https://bit.ly/3pLk76G\n",
        "  - **Wikipedia - k-nearest neighbors algorithm:** https://bit.ly/3wjKHq3\n"
      ]
    },
    {
      "cell_type": "markdown",
      "metadata": {
        "id": "DTI7ABM9RMSu"
      },
      "source": [
        "**Conhecendo na prática a matemática por trás do `k-NN`.**\n",
        "  - usaremos como base a **distância euclidiana.**"
      ]
    },
    {
      "cell_type": "code",
      "metadata": {
        "colab": {
          "base_uri": "https://localhost:8080/"
        },
        "id": "X6whEorzRkdO",
        "outputId": "254bbabb-2520-4b25-e043-4f38fe41a80c"
      },
      "source": [
        "# calculando a distância entre dois pontos quaisquer\n",
        "2-5"
      ],
      "execution_count": null,
      "outputs": [
        {
          "output_type": "execute_result",
          "data": {
            "text/plain": [
              "-3"
            ]
          },
          "metadata": {
            "tags": []
          },
          "execution_count": 1
        }
      ]
    },
    {
      "cell_type": "markdown",
      "metadata": {
        "id": "5E_AiTLeR0kR"
      },
      "source": [
        "> Como sabe, no mundo real não existe distância negativa!\n",
        "  - pra isso, é necessário elevar o resultado a segunda potência."
      ]
    },
    {
      "cell_type": "code",
      "metadata": {
        "colab": {
          "base_uri": "https://localhost:8080/"
        },
        "id": "jwksD-pSRkbd",
        "outputId": "509a8b4c-fba5-47d7-f362-b803be416022"
      },
      "source": [
        "# calculando a distância entre dois pontos quaisquer\n",
        "# elevando a segunda potência para não termos valor negativo\n",
        "(2-5)**2"
      ],
      "execution_count": null,
      "outputs": [
        {
          "output_type": "execute_result",
          "data": {
            "text/plain": [
              "9"
            ]
          },
          "metadata": {
            "tags": []
          },
          "execution_count": 2
        }
      ]
    },
    {
      "cell_type": "markdown",
      "metadata": {
        "id": "PJzdsqI6SpqV"
      },
      "source": [
        ">> Mas ainda, não é o resultado esperado!\n",
        "  - agora devemos tirar a raiz quadrada para obter o valor real da distância."
      ]
    },
    {
      "cell_type": "code",
      "metadata": {
        "colab": {
          "base_uri": "https://localhost:8080/"
        },
        "id": "cT870nDbRkZ0",
        "outputId": "3254bbe3-a58e-492d-89db-ad001b1db698"
      },
      "source": [
        "# calculando a distância entre dois pontos quaisquer\n",
        "# elevando a segunda potência para não termos valor negativo\n",
        "# e extraindo sua raiz quadrada para obter o valor real da distância entre os pontos\n",
        "((2-5)**2)**(0.5) # 0.5 equivale a 1/2"
      ],
      "execution_count": null,
      "outputs": [
        {
          "output_type": "execute_result",
          "data": {
            "text/plain": [
              "3.0"
            ]
          },
          "metadata": {
            "tags": []
          },
          "execution_count": 3
        }
      ]
    },
    {
      "cell_type": "markdown",
      "metadata": {
        "id": "XUo4VrWaUzZS"
      },
      "source": [
        "**E para situações onde temos valores bi-dimensionais. Como fazemos para calcular a distância?**\n",
        "  - segue exemplo:"
      ]
    },
    {
      "cell_type": "code",
      "metadata": {
        "id": "DzRkEuPXRkT_"
      },
      "source": [
        "# instanciando os dados em duas variáveis com duas dimensões cada\n",
        "a = [5.0, 0.75]\n",
        "b = [2.0, 0.50]"
      ],
      "execution_count": null,
      "outputs": []
    },
    {
      "cell_type": "code",
      "metadata": {
        "colab": {
          "base_uri": "https://localhost:8080/"
        },
        "id": "Q76k0C_ERjek",
        "outputId": "3ed4b4fa-9e45-456c-9913-7a8208aef56e"
      },
      "source": [
        "# calculando a distância entre as variáveis\n",
        "# utilizando o conceito apresentado acima\n",
        "((5.0 - 2.0)**2 + (0.75 - 0.50)**2)**0.5"
      ],
      "execution_count": null,
      "outputs": [
        {
          "output_type": "execute_result",
          "data": {
            "text/plain": [
              "3.010398644698074"
            ]
          },
          "metadata": {
            "tags": []
          },
          "execution_count": 5
        }
      ]
    },
    {
      "cell_type": "markdown",
      "metadata": {
        "id": "XRCsCVIUTxNA"
      },
      "source": [
        "> Pronto esta aí! Este é a coordenada entre dois pontos quaisquer com duas dimensões.\n",
        "  - agora, vamos para a prática com dados do mundo real!"
      ]
    },
    {
      "cell_type": "markdown",
      "metadata": {
        "id": "hA1OgwD1d6G4"
      },
      "source": [
        "## **k-NN para classificação**\n",
        "  - utilizaremos a função `KNeighborsClassifier` do **sklearn.neighbords**"
      ]
    },
    {
      "cell_type": "code",
      "metadata": {
        "id": "mOYjC_KSFpH3"
      },
      "source": [
        "# importando as bibliotecas\n",
        "import pandas as pd\n",
        "from sklearn.neighbors import KNeighborsClassifier"
      ],
      "execution_count": null,
      "outputs": []
    },
    {
      "cell_type": "code",
      "metadata": {
        "id": "P6t7IANRV2Nl"
      },
      "source": [
        "# instanciando o modelo na variável \"knn\"\n",
        "# e como argumento, passamos o número 3 para \"n_neighbors\"\n",
        "# o classificador irar classificar em três grupos os dados\n",
        "knn = KNeighborsClassifier(n_neighbors=3)"
      ],
      "execution_count": null,
      "outputs": []
    },
    {
      "cell_type": "markdown",
      "metadata": {
        "id": "tj6y_oOdfA4C"
      },
      "source": [
        "> o argumento `n_neighbors=3` estamos indicando ao **k-NN** que cada novo elemento ele deverá comparar aos três vizinho mais próximos."
      ]
    },
    {
      "cell_type": "code",
      "metadata": {
        "colab": {
          "resources": {
            "http://localhost:8080/nbextensions/google.colab/files.js": {
              "data": "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",
              "headers": [
                [
                  "content-type",
                  "application/javascript"
                ]
              ],
              "ok": true,
              "status": 200,
              "status_text": ""
            }
          },
          "base_uri": "https://localhost:8080/",
          "height": 72
        },
        "id": "dZK37VTAV2HR",
        "outputId": "9739b1dc-d29d-4b12-844e-416fed4eb56b"
      },
      "source": [
        "# importando a base de dados para o google colab\n",
        "# para isso, utilizaremos a biblioteca fornecida pela google\n",
        "from google.colab import files\n",
        "uploaded = files.upload()"
      ],
      "execution_count": null,
      "outputs": [
        {
          "output_type": "display_data",
          "data": {
            "text/html": [
              "\n",
              "     <input type=\"file\" id=\"files-168146bd-0ad9-4cbb-984c-659252422ef9\" name=\"files[]\" multiple disabled\n",
              "        style=\"border:none\" />\n",
              "     <output id=\"result-168146bd-0ad9-4cbb-984c-659252422ef9\">\n",
              "      Upload widget is only available when the cell has been executed in the\n",
              "      current browser session. Please rerun this cell to enable.\n",
              "      </output>\n",
              "      <script src=\"/nbextensions/google.colab/files.js\"></script> "
            ],
            "text/plain": [
              "<IPython.core.display.HTML object>"
            ]
          },
          "metadata": {
            "tags": []
          }
        },
        {
          "output_type": "stream",
          "text": [
            "Saving fruit_data_with_colors.txt to fruit_data_with_colors.txt\n"
          ],
          "name": "stdout"
        }
      ]
    },
    {
      "cell_type": "code",
      "metadata": {
        "colab": {
          "base_uri": "https://localhost:8080/",
          "height": 204
        },
        "id": "xkF-qXV3V2Fv",
        "outputId": "2bf4dbdd-e599-40df-86ef-0de2f73bc3e1"
      },
      "source": [
        "# realizando a leitura da base de dados\n",
        "# utilizando a função do pandas \".read_table()\"\n",
        "# e instanciando na variável \"data\"\n",
        "data = pd.read_table('fruit_data_with_colors.txt')\n",
        "\n",
        "# visualizando as 5 primeiras linhas da variável\n",
        "data.head()"
      ],
      "execution_count": null,
      "outputs": [
        {
          "output_type": "execute_result",
          "data": {
            "text/html": [
              "<div>\n",
              "<style scoped>\n",
              "    .dataframe tbody tr th:only-of-type {\n",
              "        vertical-align: middle;\n",
              "    }\n",
              "\n",
              "    .dataframe tbody tr th {\n",
              "        vertical-align: top;\n",
              "    }\n",
              "\n",
              "    .dataframe thead th {\n",
              "        text-align: right;\n",
              "    }\n",
              "</style>\n",
              "<table border=\"1\" class=\"dataframe\">\n",
              "  <thead>\n",
              "    <tr style=\"text-align: right;\">\n",
              "      <th></th>\n",
              "      <th>fruit_label</th>\n",
              "      <th>fruit_name</th>\n",
              "      <th>fruit_subtype</th>\n",
              "      <th>mass</th>\n",
              "      <th>width</th>\n",
              "      <th>height</th>\n",
              "      <th>color_score</th>\n",
              "    </tr>\n",
              "  </thead>\n",
              "  <tbody>\n",
              "    <tr>\n",
              "      <th>0</th>\n",
              "      <td>1</td>\n",
              "      <td>apple</td>\n",
              "      <td>granny_smith</td>\n",
              "      <td>192</td>\n",
              "      <td>8.4</td>\n",
              "      <td>7.3</td>\n",
              "      <td>0.55</td>\n",
              "    </tr>\n",
              "    <tr>\n",
              "      <th>1</th>\n",
              "      <td>1</td>\n",
              "      <td>apple</td>\n",
              "      <td>granny_smith</td>\n",
              "      <td>180</td>\n",
              "      <td>8.0</td>\n",
              "      <td>6.8</td>\n",
              "      <td>0.59</td>\n",
              "    </tr>\n",
              "    <tr>\n",
              "      <th>2</th>\n",
              "      <td>1</td>\n",
              "      <td>apple</td>\n",
              "      <td>granny_smith</td>\n",
              "      <td>176</td>\n",
              "      <td>7.4</td>\n",
              "      <td>7.2</td>\n",
              "      <td>0.60</td>\n",
              "    </tr>\n",
              "    <tr>\n",
              "      <th>3</th>\n",
              "      <td>2</td>\n",
              "      <td>mandarin</td>\n",
              "      <td>mandarin</td>\n",
              "      <td>86</td>\n",
              "      <td>6.2</td>\n",
              "      <td>4.7</td>\n",
              "      <td>0.80</td>\n",
              "    </tr>\n",
              "    <tr>\n",
              "      <th>4</th>\n",
              "      <td>2</td>\n",
              "      <td>mandarin</td>\n",
              "      <td>mandarin</td>\n",
              "      <td>84</td>\n",
              "      <td>6.0</td>\n",
              "      <td>4.6</td>\n",
              "      <td>0.79</td>\n",
              "    </tr>\n",
              "  </tbody>\n",
              "</table>\n",
              "</div>"
            ],
            "text/plain": [
              "   fruit_label fruit_name fruit_subtype  mass  width  height  color_score\n",
              "0            1      apple  granny_smith   192    8.4     7.3         0.55\n",
              "1            1      apple  granny_smith   180    8.0     6.8         0.59\n",
              "2            1      apple  granny_smith   176    7.4     7.2         0.60\n",
              "3            2   mandarin      mandarin    86    6.2     4.7         0.80\n",
              "4            2   mandarin      mandarin    84    6.0     4.6         0.79"
            ]
          },
          "metadata": {
            "tags": []
          },
          "execution_count": 62
        }
      ]
    },
    {
      "cell_type": "code",
      "metadata": {
        "colab": {
          "base_uri": "https://localhost:8080/"
        },
        "id": "DnfLXE5NV2Aj",
        "outputId": "be164414-dbc5-4e97-9ad8-42ab7cef8808"
      },
      "source": [
        "# visualizando a quantidade de linhas e colunas\n",
        "print('Linhas: ', data.shape[0]); print('Colunas: ', data.shape[1])"
      ],
      "execution_count": null,
      "outputs": [
        {
          "output_type": "stream",
          "text": [
            "Linhas:  59\n",
            "Colunas:  7\n"
          ],
          "name": "stdout"
        }
      ]
    },
    {
      "cell_type": "code",
      "metadata": {
        "colab": {
          "base_uri": "https://localhost:8080/"
        },
        "id": "SQkTY_3ng52F",
        "outputId": "46ca2997-a0b1-41d7-9d9e-403be98b89ae"
      },
      "source": [
        "# visualizando o tipo de dados em cada coluna\n",
        "data.dtypes"
      ],
      "execution_count": null,
      "outputs": [
        {
          "output_type": "execute_result",
          "data": {
            "text/plain": [
              "fruit_label        int64\n",
              "fruit_name        object\n",
              "fruit_subtype     object\n",
              "mass               int64\n",
              "width            float64\n",
              "height           float64\n",
              "color_score      float64\n",
              "dtype: object"
            ]
          },
          "metadata": {
            "tags": []
          },
          "execution_count": 63
        }
      ]
    },
    {
      "cell_type": "markdown",
      "metadata": {
        "id": "vy5VXgwHhM3Q"
      },
      "source": [
        "> Iremos utilizar as colunas com valores numéricos para realizar nossa predição. Que são elas:\n",
        "  - `'fruit_label'` (nosso alvo), a variável dependente e,\n",
        "  - `'mass', 'height', 'width'` e `'color_score'`, as nossas variáveis independentes."
      ]
    },
    {
      "cell_type": "code",
      "metadata": {
        "colab": {
          "base_uri": "https://localhost:8080/",
          "height": 204
        },
        "id": "tqVWVGvwFyFU",
        "outputId": "cc71fb56-cec2-4386-8500-a6914b6d38d1"
      },
      "source": [
        "# instanciando na variável \"X\" as variáveis independentes da base de dados\n",
        "X = data[['mass', 'height', 'width', 'color_score']]\n",
        "X.head()  # visualizando as 5 primeiras linhas "
      ],
      "execution_count": null,
      "outputs": [
        {
          "output_type": "execute_result",
          "data": {
            "text/html": [
              "<div>\n",
              "<style scoped>\n",
              "    .dataframe tbody tr th:only-of-type {\n",
              "        vertical-align: middle;\n",
              "    }\n",
              "\n",
              "    .dataframe tbody tr th {\n",
              "        vertical-align: top;\n",
              "    }\n",
              "\n",
              "    .dataframe thead th {\n",
              "        text-align: right;\n",
              "    }\n",
              "</style>\n",
              "<table border=\"1\" class=\"dataframe\">\n",
              "  <thead>\n",
              "    <tr style=\"text-align: right;\">\n",
              "      <th></th>\n",
              "      <th>mass</th>\n",
              "      <th>height</th>\n",
              "      <th>width</th>\n",
              "      <th>color_score</th>\n",
              "    </tr>\n",
              "  </thead>\n",
              "  <tbody>\n",
              "    <tr>\n",
              "      <th>0</th>\n",
              "      <td>192</td>\n",
              "      <td>7.3</td>\n",
              "      <td>8.4</td>\n",
              "      <td>0.55</td>\n",
              "    </tr>\n",
              "    <tr>\n",
              "      <th>1</th>\n",
              "      <td>180</td>\n",
              "      <td>6.8</td>\n",
              "      <td>8.0</td>\n",
              "      <td>0.59</td>\n",
              "    </tr>\n",
              "    <tr>\n",
              "      <th>2</th>\n",
              "      <td>176</td>\n",
              "      <td>7.2</td>\n",
              "      <td>7.4</td>\n",
              "      <td>0.60</td>\n",
              "    </tr>\n",
              "    <tr>\n",
              "      <th>3</th>\n",
              "      <td>86</td>\n",
              "      <td>4.7</td>\n",
              "      <td>6.2</td>\n",
              "      <td>0.80</td>\n",
              "    </tr>\n",
              "    <tr>\n",
              "      <th>4</th>\n",
              "      <td>84</td>\n",
              "      <td>4.6</td>\n",
              "      <td>6.0</td>\n",
              "      <td>0.79</td>\n",
              "    </tr>\n",
              "  </tbody>\n",
              "</table>\n",
              "</div>"
            ],
            "text/plain": [
              "   mass  height  width  color_score\n",
              "0   192     7.3    8.4         0.55\n",
              "1   180     6.8    8.0         0.59\n",
              "2   176     7.2    7.4         0.60\n",
              "3    86     4.7    6.2         0.80\n",
              "4    84     4.6    6.0         0.79"
            ]
          },
          "metadata": {
            "tags": []
          },
          "execution_count": 28
        }
      ]
    },
    {
      "cell_type": "code",
      "metadata": {
        "colab": {
          "base_uri": "https://localhost:8080/"
        },
        "id": "74jNOhYjFx9P",
        "outputId": "f3736b07-fed3-433b-a170-ec4b5b69156f"
      },
      "source": [
        "# instanciando na variável \"y\" a variável dependente (alvo) da base de dados\n",
        "y = data.fruit_label\n",
        "y.head()  # visualizando as 5 primeiras linhas"
      ],
      "execution_count": null,
      "outputs": [
        {
          "output_type": "execute_result",
          "data": {
            "text/plain": [
              "0    1\n",
              "1    1\n",
              "2    1\n",
              "3    2\n",
              "4    2\n",
              "Name: fruit_label, dtype: int64"
            ]
          },
          "metadata": {
            "tags": []
          },
          "execution_count": 29
        }
      ]
    },
    {
      "cell_type": "code",
      "metadata": {
        "id": "aDp6VJZjFx5Z"
      },
      "source": [
        "# para realizar a divisão dos dados em treino e teste\n",
        "# importaremos do sklearn.model_selection a função \"train_test_split\"\n",
        "from sklearn.model_selection import train_test_split"
      ],
      "execution_count": null,
      "outputs": []
    },
    {
      "cell_type": "code",
      "metadata": {
        "id": "iwzFmSglFx2s"
      },
      "source": [
        "# realizando a divisão dos dados em treino e teste em 4 partes\n",
        "# \"X_train\", \"X_test\", \"y_train\", \"y_test\" e instanciando\n",
        "# com a função \"train_test_split\" e, passando como argumento \"X\" e \"y\"\n",
        "X_train, X_test, y_train, y_test = train_test_split(X, y)"
      ],
      "execution_count": null,
      "outputs": []
    },
    {
      "cell_type": "code",
      "metadata": {
        "colab": {
          "base_uri": "https://localhost:8080/"
        },
        "id": "vHVYwWYiFx0i",
        "outputId": "3f3e0995-de60-42d9-9850-b9169d0736ad"
      },
      "source": [
        "# utilizando o modelo com a função \".fit()\" para treinar os dados de treino - \"X_train\" e \"y_train\"\n",
        "knn.fit(X_train, y_train)"
      ],
      "execution_count": null,
      "outputs": [
        {
          "output_type": "execute_result",
          "data": {
            "text/plain": [
              "KNeighborsClassifier(algorithm='auto', leaf_size=30, metric='minkowski',\n",
              "                     metric_params=None, n_jobs=None, n_neighbors=3, p=2,\n",
              "                     weights='uniform')"
            ]
          },
          "metadata": {
            "tags": []
          },
          "execution_count": 32
        }
      ]
    },
    {
      "cell_type": "code",
      "metadata": {
        "colab": {
          "base_uri": "https://localhost:8080/"
        },
        "id": "q485cKqvFxxg",
        "outputId": "acd52320-7d25-4ea1-f2a2-45fab2535210"
      },
      "source": [
        "# avaliando a performance do modelo\n",
        "knn.score(X_test, y_test)"
      ],
      "execution_count": null,
      "outputs": [
        {
          "output_type": "execute_result",
          "data": {
            "text/plain": [
              "0.8"
            ]
          },
          "metadata": {
            "tags": []
          },
          "execution_count": 33
        }
      ]
    },
    {
      "cell_type": "markdown",
      "metadata": {
        "id": "bmkob7bfmMhZ"
      },
      "source": [
        "> O modelo apresentou uma performance de 80%."
      ]
    },
    {
      "cell_type": "markdown",
      "metadata": {
        "id": "mFKbSVvKjwK9"
      },
      "source": [
        ">> A grandeza dos atributos tem forte influência na performance do modelo, portanto é necessário deixar os atributos na mesma escala."
      ]
    },
    {
      "cell_type": "code",
      "metadata": {
        "id": "OEMan9LVFxvD"
      },
      "source": [
        "# realizando o pré-processamento dos dados, onde iremos escalar os dados\n",
        "# para tentar melhorar a performance do nosso modelo\n",
        "# para isso, importaremos a biblioteca \"MinMaxScalar\" do sklearn.preprocessing\n",
        "from sklearn.preprocessing import MinMaxScaler"
      ],
      "execution_count": null,
      "outputs": []
    },
    {
      "cell_type": "code",
      "metadata": {
        "id": "7vBu-i4cFxtb"
      },
      "source": [
        "# instanciando a função \"MinMaxScalar\" na variável \"mm\"\n",
        "mm = MinMaxScaler()"
      ],
      "execution_count": null,
      "outputs": []
    },
    {
      "cell_type": "code",
      "metadata": {
        "id": "XowGR7czFxrM"
      },
      "source": [
        "# aplicando a função instanciada\n",
        "# e realizando o treino e a transformação dos dados do \"X_train\"\n",
        "# para isso, utilizaremos a função \".fit_transform()\"\n",
        "X_train = mm.fit_transform(X_train)"
      ],
      "execution_count": null,
      "outputs": []
    },
    {
      "cell_type": "code",
      "metadata": {
        "colab": {
          "base_uri": "https://localhost:8080/"
        },
        "id": "97bm1TneFxpj",
        "outputId": "0a69ede4-c529-4250-c2d1-903011284de9"
      },
      "source": [
        "# visualizando a transformação\n",
        "X_train # veja que, os dados estão entre 0 e 1"
      ],
      "execution_count": null,
      "outputs": [
        {
          "output_type": "execute_result",
          "data": {
            "text/plain": [
              "array([[0.46099291, 0.59677419, 0.51351351, 0.71052632],\n",
              "       [0.28368794, 0.51612903, 0.43243243, 0.81578947],\n",
              "       [0.39007092, 0.61290323, 0.43243243, 0.5       ],\n",
              "       [0.14184397, 0.66129032, 0.02702703, 0.5       ],\n",
              "       [0.13475177, 0.59677419, 0.        , 0.44736842],\n",
              "       [0.26241135, 0.48387097, 0.37837838, 0.63157895],\n",
              "       [0.17730496, 0.62903226, 0.02702703, 0.42105263],\n",
              "       [0.26241135, 0.4516129 , 0.2972973 , 0.86842105],\n",
              "       [0.26950355, 0.51612903, 0.45945946, 0.31578947],\n",
              "       [0.24822695, 0.58064516, 0.32432432, 0.52631579],\n",
              "       [0.12765957, 0.67741935, 0.05405405, 0.42105263],\n",
              "       [0.34751773, 0.56451613, 0.32432432, 0.97368421],\n",
              "       [0.39716312, 0.48387097, 0.67567568, 0.        ],\n",
              "       [0.43971631, 0.79032258, 0.43243243, 0.57894737],\n",
              "       [0.34042553, 0.46774194, 0.40540541, 0.13157895],\n",
              "       [0.29078014, 0.4516129 , 0.43243243, 0.73684211],\n",
              "       [0.9787234 , 0.79032258, 0.89189189, 0.52631579],\n",
              "       [0.33333333, 0.93548387, 0.37837838, 0.44736842],\n",
              "       [0.13475177, 0.61290323, 0.05405405, 0.39473684],\n",
              "       [0.12765957, 0.51612903, 0.02702703, 0.44736842],\n",
              "       [0.28368794, 0.5       , 0.2972973 , 0.68421053],\n",
              "       [0.26241135, 0.46774194, 0.35135135, 0.71052632],\n",
              "       [0.40425532, 0.96774194, 0.35135135, 0.39473684],\n",
              "       [0.42553191, 1.        , 0.37837838, 0.44736842],\n",
              "       [0.92907801, 0.82258065, 0.83783784, 0.52631579],\n",
              "       [0.31914894, 0.58064516, 0.45945946, 0.86842105],\n",
              "       [0.26950355, 0.5       , 0.40540541, 0.76315789],\n",
              "       [0.25531915, 0.48387097, 0.45945946, 0.36842105],\n",
              "       [0.21276596, 0.4516129 , 0.37837838, 0.84210526],\n",
              "       [0.12765957, 0.61290323, 0.        , 0.47368421],\n",
              "       [0.28368794, 0.53225806, 0.32432432, 0.55263158],\n",
              "       [0.        , 0.        , 0.        , 0.68421053],\n",
              "       [0.32624113, 0.43548387, 0.40540541, 0.89473684],\n",
              "       [0.29787234, 0.43548387, 0.35135135, 0.65789474],\n",
              "       [0.27659574, 0.56451613, 0.35135135, 0.57894737],\n",
              "       [0.0141844 , 0.0483871 , 0.02702703, 0.63157895],\n",
              "       [0.4822695 , 0.9516129 , 0.37837838, 0.42105263],\n",
              "       [0.21276596, 0.4516129 , 0.21621622, 0.44736842],\n",
              "       [0.30496454, 0.48387097, 0.27027027, 1.        ],\n",
              "       [0.25531915, 0.67741935, 0.16216216, 0.44736842],\n",
              "       [0.26950355, 0.4516129 , 0.48648649, 0.36842105],\n",
              "       [0.26241135, 0.51612903, 0.32432432, 0.60526316],\n",
              "       [1.        , 0.79032258, 1.        , 0.5       ],\n",
              "       [0.12765957, 0.5483871 , 0.10810811, 0.44736842]])"
            ]
          },
          "metadata": {
            "tags": []
          },
          "execution_count": 37
        }
      ]
    },
    {
      "cell_type": "code",
      "metadata": {
        "id": "-AwinaTsFxkd"
      },
      "source": [
        "# realizando a transformação dos dados de teste - \"X_test\"\n",
        "X_test = mm.transform(X_test)"
      ],
      "execution_count": null,
      "outputs": []
    },
    {
      "cell_type": "code",
      "metadata": {
        "colab": {
          "base_uri": "https://localhost:8080/"
        },
        "id": "VWJoJr0rFxf4",
        "outputId": "868fbbcd-f7f5-4fcc-b763-d776a9e9febe"
      },
      "source": [
        "# visualizando a transformação\n",
        "X_test"
      ],
      "execution_count": null,
      "outputs": [
        {
          "output_type": "execute_result",
          "data": {
            "text/plain": [
              "array([[ 0.29078014,  0.46774194,  0.40540541,  0.78947368],\n",
              "       [ 0.32624113,  0.53225806,  0.32432432,  0.97368421],\n",
              "       [ 0.29787234,  0.5483871 ,  0.37837838,  0.39473684],\n",
              "       [ 0.22695035,  0.5       ,  0.24324324,  0.52631579],\n",
              "       [ 0.35460993,  0.40322581,  0.56756757,  0.10526316],\n",
              "       [ 0.18439716,  0.70967742, -0.02702703,  0.47368421],\n",
              "       [-0.0141844 , -0.0483871 , -0.02702703,  0.68421053],\n",
              "       [ 0.27659574,  0.51612903,  0.32432432,  0.63157895],\n",
              "       [ 0.35460993,  0.62903226,  0.45945946,  0.63157895],\n",
              "       [ 0.        ,  0.        , -0.02702703,  0.57894737],\n",
              "       [ 0.41134752,  0.87096774,  0.37837838,  0.44736842],\n",
              "       [ 0.0212766 ,  0.06451613,  0.08108108,  0.65789474],\n",
              "       [ 0.31205674,  0.53225806,  0.43243243,  0.47368421],\n",
              "       [ 0.37588652,  0.79032258,  0.35135135,  0.44736842],\n",
              "       [ 0.21985816,  0.56451613,  0.45945946,  0.52631579]])"
            ]
          },
          "metadata": {
            "tags": []
          },
          "execution_count": 39
        }
      ]
    },
    {
      "cell_type": "code",
      "metadata": {
        "id": "YsuzWCcNFxdY"
      },
      "source": [
        "# instanciando o modelo e definindo 3 grupos\n",
        "knn = KNeighborsClassifier(n_neighbors=3)"
      ],
      "execution_count": null,
      "outputs": []
    },
    {
      "cell_type": "code",
      "metadata": {
        "colab": {
          "base_uri": "https://localhost:8080/"
        },
        "id": "ph4JLlrgg5bp",
        "outputId": "7e2eb4cb-ed7f-48df-8133-e90668868000"
      },
      "source": [
        "# com a função \".fit()\" passando com argumento os dados de treino\n",
        "knn.fit(X_train, y_train)"
      ],
      "execution_count": null,
      "outputs": [
        {
          "output_type": "execute_result",
          "data": {
            "text/plain": [
              "KNeighborsClassifier(algorithm='auto', leaf_size=30, metric='minkowski',\n",
              "                     metric_params=None, n_jobs=None, n_neighbors=3, p=2,\n",
              "                     weights='uniform')"
            ]
          },
          "metadata": {
            "tags": []
          },
          "execution_count": 41
        }
      ]
    },
    {
      "cell_type": "code",
      "metadata": {
        "colab": {
          "base_uri": "https://localhost:8080/"
        },
        "id": "1fWFKoM0g5ae",
        "outputId": "b32ea3c3-3592-449a-e3a4-bbcad1ef9361"
      },
      "source": [
        "# avaliando a precisão do modelo com os dados de teste\n",
        "knn.score(X_test, y_test)"
      ],
      "execution_count": null,
      "outputs": [
        {
          "output_type": "execute_result",
          "data": {
            "text/plain": [
              "0.9333333333333333"
            ]
          },
          "metadata": {
            "tags": []
          },
          "execution_count": 42
        }
      ]
    },
    {
      "cell_type": "markdown",
      "metadata": {
        "id": "UBHh22ZimczG"
      },
      "source": [
        "> Com o tratamento da escala dos atributos, o modelo apresentou uma melhora considerável na sua performance."
      ]
    },
    {
      "cell_type": "code",
      "metadata": {
        "colab": {
          "base_uri": "https://localhost:8080/"
        },
        "id": "IZpcdANeg5K6",
        "outputId": "b5e7795c-0494-4bf5-8217-007f8ceb4ee1"
      },
      "source": [
        "# com a função \".predict()\" visualizando as predições\n",
        "knn.predict(X_test)"
      ],
      "execution_count": null,
      "outputs": [
        {
          "output_type": "execute_result",
          "data": {
            "text/plain": [
              "array([1, 1, 1, 3, 1, 4, 2, 3, 3, 2, 4, 2, 3, 4, 3])"
            ]
          },
          "metadata": {
            "tags": []
          },
          "execution_count": 43
        }
      ]
    },
    {
      "cell_type": "code",
      "metadata": {
        "colab": {
          "base_uri": "https://localhost:8080/"
        },
        "id": "vlVMyyfig5G_",
        "outputId": "06a278ec-be23-492a-ac15-3dd9514c1b05"
      },
      "source": [
        "# visualizando os dados de teste\n",
        "y_test"
      ],
      "execution_count": null,
      "outputs": [
        {
          "output_type": "execute_result",
          "data": {
            "text/plain": [
              "19    1\n",
              "11    1\n",
              "13    1\n",
              "39    3\n",
              "1     1\n",
              "49    4\n",
              "7     2\n",
              "30    3\n",
              "41    3\n",
              "5     2\n",
              "47    4\n",
              "3     2\n",
              "17    1\n",
              "45    4\n",
              "34    3\n",
              "Name: fruit_label, dtype: int64"
            ]
          },
          "metadata": {
            "tags": []
          },
          "execution_count": 44
        }
      ]
    },
    {
      "cell_type": "markdown",
      "metadata": {
        "id": "VbX6gqvkXJPl"
      },
      "source": [
        "## **k-NN para regressão**\n",
        "  - utilizaremos a função `KNeighborsRegressor` do **sklearn.neighbords**"
      ]
    },
    {
      "cell_type": "code",
      "metadata": {
        "id": "luwr0Xy2g5Fa"
      },
      "source": [
        "# importando a biblioteca e a função para regressão\n",
        "from sklearn.neighbors import KNeighborsRegressor"
      ],
      "execution_count": null,
      "outputs": []
    },
    {
      "cell_type": "code",
      "metadata": {
        "id": "vecb6jszg5Ay"
      },
      "source": [
        "# instanciando o modelo\n",
        "knn = KNeighborsRegressor(n_neighbors=3)"
      ],
      "execution_count": null,
      "outputs": []
    },
    {
      "cell_type": "markdown",
      "metadata": {
        "id": "UexKnGTLX5ib"
      },
      "source": [
        "**Para essa atividade, iremos utilizar um conjunto de dados que já vem embutido no próprio** `sklearn`, **que é sobre preço de apartamentos em Boston e, além deste temos outros conjuntos de dados.**\n",
        "  - utilizaremos o seguinte comando para importar o conjunto de dados:\n",
        "   - `from sklearn.datasets import load_boston`\n"
      ]
    },
    {
      "cell_type": "code",
      "metadata": {
        "id": "6RdiLHHxg4_b"
      },
      "source": [
        "# importando a biblioteca e a função que carrega o conjunto de dados\n",
        "from sklearn.datasets import load_boston"
      ],
      "execution_count": null,
      "outputs": []
    },
    {
      "cell_type": "code",
      "metadata": {
        "id": "FKI5d850g44y"
      },
      "source": [
        "# instanciando o conjunto de dados na variável \"data\"\n",
        "data = load_boston()"
      ],
      "execution_count": null,
      "outputs": []
    },
    {
      "cell_type": "code",
      "metadata": {
        "colab": {
          "base_uri": "https://localhost:8080/"
        },
        "id": "Rqs5CP11Yycb",
        "outputId": "de6e6f27-2b88-4903-8c8e-0346d637f964"
      },
      "source": [
        "# visualizando o conjunto de dados\n",
        "data"
      ],
      "execution_count": null,
      "outputs": [
        {
          "output_type": "execute_result",
          "data": {
            "text/plain": [
              "{'DESCR': \".. _boston_dataset:\\n\\nBoston house prices dataset\\n---------------------------\\n\\n**Data Set Characteristics:**  \\n\\n    :Number of Instances: 506 \\n\\n    :Number of Attributes: 13 numeric/categorical predictive. Median Value (attribute 14) is usually the target.\\n\\n    :Attribute Information (in order):\\n        - CRIM     per capita crime rate by town\\n        - ZN       proportion of residential land zoned for lots over 25,000 sq.ft.\\n        - INDUS    proportion of non-retail business acres per town\\n        - CHAS     Charles River dummy variable (= 1 if tract bounds river; 0 otherwise)\\n        - NOX      nitric oxides concentration (parts per 10 million)\\n        - RM       average number of rooms per dwelling\\n        - AGE      proportion of owner-occupied units built prior to 1940\\n        - DIS      weighted distances to five Boston employment centres\\n        - RAD      index of accessibility to radial highways\\n        - TAX      full-value property-tax rate per $10,000\\n        - PTRATIO  pupil-teacher ratio by town\\n        - B        1000(Bk - 0.63)^2 where Bk is the proportion of blacks by town\\n        - LSTAT    % lower status of the population\\n        - MEDV     Median value of owner-occupied homes in $1000's\\n\\n    :Missing Attribute Values: None\\n\\n    :Creator: Harrison, D. and Rubinfeld, D.L.\\n\\nThis is a copy of UCI ML housing dataset.\\nhttps://archive.ics.uci.edu/ml/machine-learning-databases/housing/\\n\\n\\nThis dataset was taken from the StatLib library which is maintained at Carnegie Mellon University.\\n\\nThe Boston house-price data of Harrison, D. and Rubinfeld, D.L. 'Hedonic\\nprices and the demand for clean air', J. Environ. Economics & Management,\\nvol.5, 81-102, 1978.   Used in Belsley, Kuh & Welsch, 'Regression diagnostics\\n...', Wiley, 1980.   N.B. Various transformations are used in the table on\\npages 244-261 of the latter.\\n\\nThe Boston house-price data has been used in many machine learning papers that address regression\\nproblems.   \\n     \\n.. topic:: References\\n\\n   - Belsley, Kuh & Welsch, 'Regression diagnostics: Identifying Influential Data and Sources of Collinearity', Wiley, 1980. 244-261.\\n   - Quinlan,R. (1993). Combining Instance-Based and Model-Based Learning. In Proceedings on the Tenth International Conference of Machine Learning, 236-243, University of Massachusetts, Amherst. Morgan Kaufmann.\\n\",\n",
              " 'data': array([[6.3200e-03, 1.8000e+01, 2.3100e+00, ..., 1.5300e+01, 3.9690e+02,\n",
              "         4.9800e+00],\n",
              "        [2.7310e-02, 0.0000e+00, 7.0700e+00, ..., 1.7800e+01, 3.9690e+02,\n",
              "         9.1400e+00],\n",
              "        [2.7290e-02, 0.0000e+00, 7.0700e+00, ..., 1.7800e+01, 3.9283e+02,\n",
              "         4.0300e+00],\n",
              "        ...,\n",
              "        [6.0760e-02, 0.0000e+00, 1.1930e+01, ..., 2.1000e+01, 3.9690e+02,\n",
              "         5.6400e+00],\n",
              "        [1.0959e-01, 0.0000e+00, 1.1930e+01, ..., 2.1000e+01, 3.9345e+02,\n",
              "         6.4800e+00],\n",
              "        [4.7410e-02, 0.0000e+00, 1.1930e+01, ..., 2.1000e+01, 3.9690e+02,\n",
              "         7.8800e+00]]),\n",
              " 'feature_names': array(['CRIM', 'ZN', 'INDUS', 'CHAS', 'NOX', 'RM', 'AGE', 'DIS', 'RAD',\n",
              "        'TAX', 'PTRATIO', 'B', 'LSTAT'], dtype='<U7'),\n",
              " 'filename': '/usr/local/lib/python3.7/dist-packages/sklearn/datasets/data/boston_house_prices.csv',\n",
              " 'target': array([24. , 21.6, 34.7, 33.4, 36.2, 28.7, 22.9, 27.1, 16.5, 18.9, 15. ,\n",
              "        18.9, 21.7, 20.4, 18.2, 19.9, 23.1, 17.5, 20.2, 18.2, 13.6, 19.6,\n",
              "        15.2, 14.5, 15.6, 13.9, 16.6, 14.8, 18.4, 21. , 12.7, 14.5, 13.2,\n",
              "        13.1, 13.5, 18.9, 20. , 21. , 24.7, 30.8, 34.9, 26.6, 25.3, 24.7,\n",
              "        21.2, 19.3, 20. , 16.6, 14.4, 19.4, 19.7, 20.5, 25. , 23.4, 18.9,\n",
              "        35.4, 24.7, 31.6, 23.3, 19.6, 18.7, 16. , 22.2, 25. , 33. , 23.5,\n",
              "        19.4, 22. , 17.4, 20.9, 24.2, 21.7, 22.8, 23.4, 24.1, 21.4, 20. ,\n",
              "        20.8, 21.2, 20.3, 28. , 23.9, 24.8, 22.9, 23.9, 26.6, 22.5, 22.2,\n",
              "        23.6, 28.7, 22.6, 22. , 22.9, 25. , 20.6, 28.4, 21.4, 38.7, 43.8,\n",
              "        33.2, 27.5, 26.5, 18.6, 19.3, 20.1, 19.5, 19.5, 20.4, 19.8, 19.4,\n",
              "        21.7, 22.8, 18.8, 18.7, 18.5, 18.3, 21.2, 19.2, 20.4, 19.3, 22. ,\n",
              "        20.3, 20.5, 17.3, 18.8, 21.4, 15.7, 16.2, 18. , 14.3, 19.2, 19.6,\n",
              "        23. , 18.4, 15.6, 18.1, 17.4, 17.1, 13.3, 17.8, 14. , 14.4, 13.4,\n",
              "        15.6, 11.8, 13.8, 15.6, 14.6, 17.8, 15.4, 21.5, 19.6, 15.3, 19.4,\n",
              "        17. , 15.6, 13.1, 41.3, 24.3, 23.3, 27. , 50. , 50. , 50. , 22.7,\n",
              "        25. , 50. , 23.8, 23.8, 22.3, 17.4, 19.1, 23.1, 23.6, 22.6, 29.4,\n",
              "        23.2, 24.6, 29.9, 37.2, 39.8, 36.2, 37.9, 32.5, 26.4, 29.6, 50. ,\n",
              "        32. , 29.8, 34.9, 37. , 30.5, 36.4, 31.1, 29.1, 50. , 33.3, 30.3,\n",
              "        34.6, 34.9, 32.9, 24.1, 42.3, 48.5, 50. , 22.6, 24.4, 22.5, 24.4,\n",
              "        20. , 21.7, 19.3, 22.4, 28.1, 23.7, 25. , 23.3, 28.7, 21.5, 23. ,\n",
              "        26.7, 21.7, 27.5, 30.1, 44.8, 50. , 37.6, 31.6, 46.7, 31.5, 24.3,\n",
              "        31.7, 41.7, 48.3, 29. , 24. , 25.1, 31.5, 23.7, 23.3, 22. , 20.1,\n",
              "        22.2, 23.7, 17.6, 18.5, 24.3, 20.5, 24.5, 26.2, 24.4, 24.8, 29.6,\n",
              "        42.8, 21.9, 20.9, 44. , 50. , 36. , 30.1, 33.8, 43.1, 48.8, 31. ,\n",
              "        36.5, 22.8, 30.7, 50. , 43.5, 20.7, 21.1, 25.2, 24.4, 35.2, 32.4,\n",
              "        32. , 33.2, 33.1, 29.1, 35.1, 45.4, 35.4, 46. , 50. , 32.2, 22. ,\n",
              "        20.1, 23.2, 22.3, 24.8, 28.5, 37.3, 27.9, 23.9, 21.7, 28.6, 27.1,\n",
              "        20.3, 22.5, 29. , 24.8, 22. , 26.4, 33.1, 36.1, 28.4, 33.4, 28.2,\n",
              "        22.8, 20.3, 16.1, 22.1, 19.4, 21.6, 23.8, 16.2, 17.8, 19.8, 23.1,\n",
              "        21. , 23.8, 23.1, 20.4, 18.5, 25. , 24.6, 23. , 22.2, 19.3, 22.6,\n",
              "        19.8, 17.1, 19.4, 22.2, 20.7, 21.1, 19.5, 18.5, 20.6, 19. , 18.7,\n",
              "        32.7, 16.5, 23.9, 31.2, 17.5, 17.2, 23.1, 24.5, 26.6, 22.9, 24.1,\n",
              "        18.6, 30.1, 18.2, 20.6, 17.8, 21.7, 22.7, 22.6, 25. , 19.9, 20.8,\n",
              "        16.8, 21.9, 27.5, 21.9, 23.1, 50. , 50. , 50. , 50. , 50. , 13.8,\n",
              "        13.8, 15. , 13.9, 13.3, 13.1, 10.2, 10.4, 10.9, 11.3, 12.3,  8.8,\n",
              "         7.2, 10.5,  7.4, 10.2, 11.5, 15.1, 23.2,  9.7, 13.8, 12.7, 13.1,\n",
              "        12.5,  8.5,  5. ,  6.3,  5.6,  7.2, 12.1,  8.3,  8.5,  5. , 11.9,\n",
              "        27.9, 17.2, 27.5, 15. , 17.2, 17.9, 16.3,  7. ,  7.2,  7.5, 10.4,\n",
              "         8.8,  8.4, 16.7, 14.2, 20.8, 13.4, 11.7,  8.3, 10.2, 10.9, 11. ,\n",
              "         9.5, 14.5, 14.1, 16.1, 14.3, 11.7, 13.4,  9.6,  8.7,  8.4, 12.8,\n",
              "        10.5, 17.1, 18.4, 15.4, 10.8, 11.8, 14.9, 12.6, 14.1, 13. , 13.4,\n",
              "        15.2, 16.1, 17.8, 14.9, 14.1, 12.7, 13.5, 14.9, 20. , 16.4, 17.7,\n",
              "        19.5, 20.2, 21.4, 19.9, 19. , 19.1, 19.1, 20.1, 19.9, 19.6, 23.2,\n",
              "        29.8, 13.8, 13.3, 16.7, 12. , 14.6, 21.4, 23. , 23.7, 25. , 21.8,\n",
              "        20.6, 21.2, 19.1, 20.6, 15.2,  7. ,  8.1, 13.6, 20.1, 21.8, 24.5,\n",
              "        23.1, 19.7, 18.3, 21.2, 17.5, 16.8, 22.4, 20.6, 23.9, 22. , 11.9])}"
            ]
          },
          "metadata": {
            "tags": []
          },
          "execution_count": 52
        }
      ]
    },
    {
      "cell_type": "markdown",
      "metadata": {
        "id": "Y89BRFRMoKWl"
      },
      "source": [
        "> Note que, temos um dicionário de dados."
      ]
    },
    {
      "cell_type": "code",
      "metadata": {
        "id": "tGBjFTPZYyZ8"
      },
      "source": [
        "# realizando a separação do dados\n",
        "X, y = load_boston(return_X_y=True)"
      ],
      "execution_count": null,
      "outputs": []
    },
    {
      "cell_type": "code",
      "metadata": {
        "colab": {
          "base_uri": "https://localhost:8080/"
        },
        "id": "DWsZUN-dYyYM",
        "outputId": "77d79bca-6429-47d8-dad3-6939665ffd57"
      },
      "source": [
        "# visualizando a quantidade de dados de \"X\"\n",
        "X.shape"
      ],
      "execution_count": null,
      "outputs": [
        {
          "output_type": "execute_result",
          "data": {
            "text/plain": [
              "(506, 13)"
            ]
          },
          "metadata": {
            "tags": []
          },
          "execution_count": 54
        }
      ]
    },
    {
      "cell_type": "code",
      "metadata": {
        "colab": {
          "base_uri": "https://localhost:8080/"
        },
        "id": "DxjFu03BYyUf",
        "outputId": "6bd709b1-719f-4340-f5bd-6026e81dc32d"
      },
      "source": [
        "# visualizando a quantidade de dados de \"y\"\n",
        "y.shape"
      ],
      "execution_count": null,
      "outputs": [
        {
          "output_type": "execute_result",
          "data": {
            "text/plain": [
              "(506,)"
            ]
          },
          "metadata": {
            "tags": []
          },
          "execution_count": 55
        }
      ]
    },
    {
      "cell_type": "code",
      "metadata": {
        "colab": {
          "base_uri": "https://localhost:8080/"
        },
        "id": "3KA0vsuEYyMH",
        "outputId": "04330b1b-c71a-437c-c0c4-d137ce5e94d2"
      },
      "source": [
        "# agora iremos visualizar a descrição do conjunto de dados\n",
        "# que fornece uma visão geral de informações\n",
        "print(load_boston()['DESCR'])"
      ],
      "execution_count": null,
      "outputs": [
        {
          "output_type": "stream",
          "text": [
            ".. _boston_dataset:\n",
            "\n",
            "Boston house prices dataset\n",
            "---------------------------\n",
            "\n",
            "**Data Set Characteristics:**  \n",
            "\n",
            "    :Number of Instances: 506 \n",
            "\n",
            "    :Number of Attributes: 13 numeric/categorical predictive. Median Value (attribute 14) is usually the target.\n",
            "\n",
            "    :Attribute Information (in order):\n",
            "        - CRIM     per capita crime rate by town\n",
            "        - ZN       proportion of residential land zoned for lots over 25,000 sq.ft.\n",
            "        - INDUS    proportion of non-retail business acres per town\n",
            "        - CHAS     Charles River dummy variable (= 1 if tract bounds river; 0 otherwise)\n",
            "        - NOX      nitric oxides concentration (parts per 10 million)\n",
            "        - RM       average number of rooms per dwelling\n",
            "        - AGE      proportion of owner-occupied units built prior to 1940\n",
            "        - DIS      weighted distances to five Boston employment centres\n",
            "        - RAD      index of accessibility to radial highways\n",
            "        - TAX      full-value property-tax rate per $10,000\n",
            "        - PTRATIO  pupil-teacher ratio by town\n",
            "        - B        1000(Bk - 0.63)^2 where Bk is the proportion of blacks by town\n",
            "        - LSTAT    % lower status of the population\n",
            "        - MEDV     Median value of owner-occupied homes in $1000's\n",
            "\n",
            "    :Missing Attribute Values: None\n",
            "\n",
            "    :Creator: Harrison, D. and Rubinfeld, D.L.\n",
            "\n",
            "This is a copy of UCI ML housing dataset.\n",
            "https://archive.ics.uci.edu/ml/machine-learning-databases/housing/\n",
            "\n",
            "\n",
            "This dataset was taken from the StatLib library which is maintained at Carnegie Mellon University.\n",
            "\n",
            "The Boston house-price data of Harrison, D. and Rubinfeld, D.L. 'Hedonic\n",
            "prices and the demand for clean air', J. Environ. Economics & Management,\n",
            "vol.5, 81-102, 1978.   Used in Belsley, Kuh & Welsch, 'Regression diagnostics\n",
            "...', Wiley, 1980.   N.B. Various transformations are used in the table on\n",
            "pages 244-261 of the latter.\n",
            "\n",
            "The Boston house-price data has been used in many machine learning papers that address regression\n",
            "problems.   \n",
            "     \n",
            ".. topic:: References\n",
            "\n",
            "   - Belsley, Kuh & Welsch, 'Regression diagnostics: Identifying Influential Data and Sources of Collinearity', Wiley, 1980. 244-261.\n",
            "   - Quinlan,R. (1993). Combining Instance-Based and Model-Based Learning. In Proceedings on the Tenth International Conference of Machine Learning, 236-243, University of Massachusetts, Amherst. Morgan Kaufmann.\n",
            "\n"
          ],
          "name": "stdout"
        }
      ]
    },
    {
      "cell_type": "code",
      "metadata": {
        "id": "iWRT6w3PYyJz"
      },
      "source": [
        "# importando a biblioteca para realizar a divisão dos dados em treino e teste\n",
        "from sklearn.model_selection import train_test_split"
      ],
      "execution_count": null,
      "outputs": []
    },
    {
      "cell_type": "code",
      "metadata": {
        "id": "d7ZGzfB8aP_Z"
      },
      "source": [
        "# instanciando os dados das variáveis \"X\" e \"y\"\n",
        "# e dividindo cada qual em duas partes - treino e teste\n",
        "X_train, X_test, y_train, y_test = train_test_split(X, y)"
      ],
      "execution_count": null,
      "outputs": []
    },
    {
      "cell_type": "code",
      "metadata": {
        "colab": {
          "base_uri": "https://localhost:8080/"
        },
        "id": "4Eb9O39Ya17d",
        "outputId": "a9307ca7-c584-4623-b669-bd982582c378"
      },
      "source": [
        "# treinando o modelo com as dados de treino\n",
        "knn.fit(X_train, y_train)"
      ],
      "execution_count": null,
      "outputs": [
        {
          "output_type": "execute_result",
          "data": {
            "text/plain": [
              "KNeighborsRegressor(algorithm='auto', leaf_size=30, metric='minkowski',\n",
              "                    metric_params=None, n_jobs=None, n_neighbors=3, p=2,\n",
              "                    weights='uniform')"
            ]
          },
          "metadata": {
            "tags": []
          },
          "execution_count": 60
        }
      ]
    },
    {
      "cell_type": "code",
      "metadata": {
        "colab": {
          "base_uri": "https://localhost:8080/"
        },
        "id": "3CAZKzmpa14R",
        "outputId": "a94ef637-bb0f-4070-b6f3-2af446491289"
      },
      "source": [
        "# avaliando a performance do modelo\n",
        "knn.score(X_test, y_test)"
      ],
      "execution_count": null,
      "outputs": [
        {
          "output_type": "execute_result",
          "data": {
            "text/plain": [
              "0.43823829800419783"
            ]
          },
          "metadata": {
            "tags": []
          },
          "execution_count": 61
        }
      ]
    },
    {
      "cell_type": "markdown",
      "metadata": {
        "id": "wjAVf4nxpbFJ"
      },
      "source": [
        "> O modelo apresentou uma performance pífia.\n",
        "\n",
        ">> Como exercício, que tal transformar a escala dos atributos e avaliar se há algum melhora na performance do modelo? \n",
        "  - vamos nessa!"
      ]
    },
    {
      "cell_type": "code",
      "metadata": {
        "id": "cLkTievPa1yl"
      },
      "source": [
        "# importando a função \"MinMaxScaler\" do sklearn\n",
        "from sklearn.preprocessing import MinMaxScaler"
      ],
      "execution_count": null,
      "outputs": []
    },
    {
      "cell_type": "code",
      "metadata": {
        "id": "9QB6A0N8a1wa"
      },
      "source": [
        "# instanciando o modelo na variável \"mm\"\n",
        "mm = MinMaxScaler()"
      ],
      "execution_count": null,
      "outputs": []
    },
    {
      "cell_type": "code",
      "metadata": {
        "id": "IglSRuZza1uU"
      },
      "source": [
        "# realizando a transformação da escala dos atributos\n",
        "# e já treinando o modelo com os dados transformados\n",
        "# para isso, utilizaremos a função \".fit_transform()\"\n",
        "X_train = mm.fit_transform(X_train)"
      ],
      "execution_count": null,
      "outputs": []
    },
    {
      "cell_type": "code",
      "metadata": {
        "colab": {
          "base_uri": "https://localhost:8080/"
        },
        "id": "sPIlpNxga1pN",
        "outputId": "03fdc916-d002-4d4a-c14b-7dfaca46829e"
      },
      "source": [
        "# visualizando a transformação dos atributos\n",
        "X_train"
      ],
      "execution_count": null,
      "outputs": [
        {
          "output_type": "execute_result",
          "data": {
            "text/plain": [
              "array([[0.00748107, 0.        , 0.28152493, ..., 0.89361702, 0.94951838,\n",
              "        0.39588378],\n",
              "       [0.00698068, 0.        , 0.28152493, ..., 0.89361702, 0.9967724 ,\n",
              "        0.20399516],\n",
              "       [0.        , 0.18947368, 0.06781525, ..., 0.28723404, 1.        ,\n",
              "        0.09836562],\n",
              "       ...,\n",
              "       [0.00599967, 0.21052632, 0.12866569, ..., 0.04255319, 0.98966161,\n",
              "        0.23789346],\n",
              "       [0.12478133, 0.        , 0.64662757, ..., 0.80851064, 1.        ,\n",
              "        1.        ],\n",
              "       [0.02746109, 0.        , 0.70087977, ..., 0.22340426, 0.83140854,\n",
              "        0.29025424]])"
            ]
          },
          "metadata": {
            "tags": []
          },
          "execution_count": 67
        }
      ]
    },
    {
      "cell_type": "code",
      "metadata": {
        "id": "d82093Yza1l5"
      },
      "source": [
        "# realizando a transformação dos dados de teste\n",
        "X_test = mm.transform(X_test)"
      ],
      "execution_count": null,
      "outputs": []
    },
    {
      "cell_type": "code",
      "metadata": {
        "colab": {
          "base_uri": "https://localhost:8080/"
        },
        "id": "jGdD2xCcrPnG",
        "outputId": "48982ab5-9ca1-4506-f214-904ed5060a83"
      },
      "source": [
        "# visualizando a transformação dos dados de teste\n",
        "X_test"
      ],
      "execution_count": null,
      "outputs": [
        {
          "output_type": "execute_result",
          "data": {
            "text/plain": [
              "array([[1.81274831e-03, 0.00000000e+00, 2.53665689e-01, ...,\n",
              "        7.44680851e-01, 1.00000000e+00, 1.65556901e-01],\n",
              "       [8.99180711e-05, 1.05263158e+00, 3.15249267e-02, ...,\n",
              "        2.65957447e-01, 9.89913763e-01, 6.71912833e-02],\n",
              "       [8.71643302e-04, 0.00000000e+00, 4.53445748e-01, ...,\n",
              "        6.48936170e-01, 9.97881890e-01, 2.23062954e-01],\n",
              "       ...,\n",
              "       [3.87569366e-03, 0.00000000e+00, 2.53665689e-01, ...,\n",
              "        7.44680851e-01, 1.00000000e+00, 1.80690073e-01],\n",
              "       [8.95123159e-03, 0.00000000e+00, 2.81524927e-01, ...,\n",
              "        8.93617021e-01, 7.27898532e-01, 3.01452785e-01],\n",
              "       [1.21052203e-04, 9.47368421e-01, 5.71847507e-02, ...,\n",
              "        4.68085106e-01, 9.68631802e-01, 8.38377724e-02]])"
            ]
          },
          "metadata": {
            "tags": []
          },
          "execution_count": 70
        }
      ]
    },
    {
      "cell_type": "code",
      "metadata": {
        "colab": {
          "background_save": true
        },
        "id": "8UZYirE_rPi6"
      },
      "source": [
        "# instanciando o modelo\n",
        "knn = KNeighborsRegressor(n_neighbors=3)"
      ],
      "execution_count": null,
      "outputs": []
    },
    {
      "cell_type": "code",
      "metadata": {
        "id": "Xmh2UhGZrPgu",
        "colab": {
          "base_uri": "https://localhost:8080/"
        },
        "outputId": "b71b95cb-7905-4a0d-8536-bd84efc1cf33"
      },
      "source": [
        "# realizando o treinamento do modelo com os dados de treino escalados \n",
        "knn.fit(X_train, y_train)"
      ],
      "execution_count": null,
      "outputs": [
        {
          "output_type": "execute_result",
          "data": {
            "text/plain": [
              "KNeighborsRegressor(algorithm='auto', leaf_size=30, metric='minkowski',\n",
              "                    metric_params=None, n_jobs=None, n_neighbors=3, p=2,\n",
              "                    weights='uniform')"
            ]
          },
          "metadata": {
            "tags": []
          },
          "execution_count": 72
        }
      ]
    },
    {
      "cell_type": "code",
      "metadata": {
        "id": "xb_RyU6XrPdO",
        "colab": {
          "base_uri": "https://localhost:8080/"
        },
        "outputId": "55d49818-3665-4cf1-c43f-edf0062fc04f"
      },
      "source": [
        "# avaliando a performance do modelo\n",
        "knn.score(X_test, y_test)"
      ],
      "execution_count": null,
      "outputs": [
        {
          "output_type": "execute_result",
          "data": {
            "text/plain": [
              "0.8170125879543185"
            ]
          },
          "metadata": {
            "tags": []
          },
          "execution_count": 73
        }
      ]
    },
    {
      "cell_type": "markdown",
      "metadata": {
        "id": "zbdzK19vtRQi"
      },
      "source": [
        "> Perceba que, com o tratamento da escala dos atributos, o modelo apresentou uma melhora considerável.\n",
        "  - podemos de fato concluir que, a `ordem de grandeza` dos dados tem forte influência na performance do modelo."
      ]
    },
    {
      "cell_type": "code",
      "metadata": {
        "colab": {
          "base_uri": "https://localhost:8080/"
        },
        "id": "mQw62oODtFqK",
        "outputId": "80fa83b5-d470-4129-ecf4-e5204b1b41c2"
      },
      "source": [
        "# com a função \".predict()\" visualizando as predições realizadas pelo modelo dos dados de teste - \"X_test\"\n",
        "knn.predict(X_test)"
      ],
      "execution_count": null,
      "outputs": [
        {
          "output_type": "execute_result",
          "data": {
            "text/plain": [
              "array([23.03333333, 33.56666667, 22.33333333, 12.7       , 19.86666667,\n",
              "       19.63333333, 18.86666667, 20.26666667, 22.4       , 12.8       ,\n",
              "       10.93333333, 21.3       , 14.6       , 23.3       , 16.93333333,\n",
              "        9.2       , 18.7       , 20.26666667, 40.56666667, 15.23333333,\n",
              "       43.2       , 14.13333333, 11.4       , 13.93333333, 19.43333333,\n",
              "       19.03333333, 24.83333333, 21.7       , 11.56666667, 13.96666667,\n",
              "       21.4       , 18.1       , 31.1       , 31.1       , 21.73333333,\n",
              "       39.4       , 12.36666667, 26.7       , 19.8       , 22.26666667,\n",
              "       30.8       , 35.13333333, 25.56666667, 14.13333333, 14.7       ,\n",
              "       20.9       ,  9.23333333, 21.9       , 24.6       , 20.16666667,\n",
              "       25.33333333, 39.9       , 30.8       , 36.86666667, 18.76666667,\n",
              "       23.46666667, 21.73333333, 16.1       , 22.93333333, 26.73333333,\n",
              "       24.73333333, 29.4       , 16.83333333, 14.        , 19.66666667,\n",
              "       20.1       , 20.53333333, 34.76666667, 33.16666667, 20.83333333,\n",
              "       22.1       , 13.43333333, 13.93333333, 18.1       , 20.16666667,\n",
              "       37.06666667, 15.7       , 22.33333333, 19.63333333, 31.53333333,\n",
              "       36.56666667, 19.        , 22.56666667, 20.16666667, 19.        ,\n",
              "       14.13333333, 19.83333333, 19.        , 27.26666667, 11.76666667,\n",
              "       10.5       , 18.5       , 19.66666667, 19.63333333, 18.1       ,\n",
              "       14.7       , 18.36666667, 31.46666667, 22.3       , 22.26666667,\n",
              "       20.1       , 11.83333333, 34.63333333, 30.66666667, 21.86666667,\n",
              "       18.5       , 26.93333333, 13.86666667, 27.06666667, 26.73333333,\n",
              "       14.73333333, 11.2       , 19.63333333, 22.13333333, 36.1       ,\n",
              "       16.83333333, 17.76666667, 18.7       ,  9.93333333, 11.        ,\n",
              "       21.23333333,  9.46666667, 23.63333333, 12.26666667, 23.03333333,\n",
              "       19.7       , 28.2       ])"
            ]
          },
          "metadata": {
            "tags": []
          },
          "execution_count": 74
        }
      ]
    },
    {
      "cell_type": "code",
      "metadata": {
        "colab": {
          "base_uri": "https://localhost:8080/"
        },
        "id": "fWtcyw4PtFmp",
        "outputId": "c7c7c460-c442-41e3-9ffb-987fcb26eed9"
      },
      "source": [
        "# visualizando os acertos dos dados de teste - \"y_test\"\n",
        "y_test"
      ],
      "execution_count": null,
      "outputs": [
        {
          "output_type": "execute_result",
          "data": {
            "text/plain": [
              "array([23.8, 31.6, 20.3, 10.9, 21.4, 19.5, 16. , 18.3, 22.8, 23.1, 12.1,\n",
              "       21.4, 15.4, 29.8, 15.6,  9.5, 19.2, 17.5, 50. , 13.8, 50. , 14.9,\n",
              "       10.2,  7. , 18.7, 22.6, 26.6, 20. ,  8.3, 13.8, 21.2, 19.6, 31.6,\n",
              "       34.7, 17.4, 48.3, 14.9, 31.1, 17.2, 21.4, 35.4, 50. , 22.9, 16.4,\n",
              "       10.2, 20. ,  8.4, 23.8, 19.6, 18.8, 21.7, 50. , 23.6, 48.8, 20.6,\n",
              "       21.7, 25. , 13.3, 20.5, 42.8, 26.6, 28.7, 16.2, 17.8, 17.8, 19.4,\n",
              "       19.4, 33.2, 31.5, 19.7, 22.2, 19. , 15.2, 19.4, 18.7, 42.3, 14.9,\n",
              "       21.4, 19.4, 29.4, 36. , 16.8, 23.3, 18.3, 21.2, 16.7, 22.2, 20.4,\n",
              "       35.1, 15.1, 10.2, 17.1, 19.8, 19.8, 21.5, 11.7, 18.4, 21.9, 20.1,\n",
              "       20.8, 21.6,  7. , 29.8, 30.3, 21.2, 18. , 27.5, 14.4, 24.8, 24.8,\n",
              "       15. , 10.9, 20.4, 21.7, 30.5, 17.4, 20. , 23. ,  8.8, 13.4, 21. ,\n",
              "       13.8, 23.5, 11. , 20.4, 20.2, 30.1])"
            ]
          },
          "metadata": {
            "tags": []
          },
          "execution_count": 76
        }
      ]
    },
    {
      "cell_type": "code",
      "metadata": {
        "id": "s00nOLRytFic"
      },
      "source": [
        ""
      ],
      "execution_count": null,
      "outputs": []
    },
    {
      "cell_type": "code",
      "metadata": {
        "id": "g11HA5NRtFgS"
      },
      "source": [
        ""
      ],
      "execution_count": null,
      "outputs": []
    },
    {
      "cell_type": "code",
      "metadata": {
        "id": "pYQgFgmstFcW"
      },
      "source": [
        ""
      ],
      "execution_count": null,
      "outputs": []
    },
    {
      "cell_type": "code",
      "metadata": {
        "id": "xCEsgQzgtFaH"
      },
      "source": [
        ""
      ],
      "execution_count": null,
      "outputs": []
    },
    {
      "cell_type": "code",
      "metadata": {
        "id": "Xuk9qcLitFXW"
      },
      "source": [
        ""
      ],
      "execution_count": null,
      "outputs": []
    }
  ]
}