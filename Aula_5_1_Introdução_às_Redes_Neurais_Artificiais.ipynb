{
  "nbformat": 4,
  "nbformat_minor": 0,
  "metadata": {
    "colab": {
      "name": "Aula 5.1 - Introdução às Redes Neurais Artificiais.ipynb",
      "provenance": [],
      "collapsed_sections": [],
      "authorship_tag": "ABX9TyM/eQHqlhXfDptZPyUMK1IT",
      "include_colab_link": true
    },
    "kernelspec": {
      "name": "python3",
      "display_name": "Python 3"
    },
    "language_info": {
      "name": "python"
    }
  },
  "cells": [
    {
      "cell_type": "markdown",
      "metadata": {
        "id": "view-in-github",
        "colab_type": "text"
      },
      "source": [
        "<a href=\"https://colab.research.google.com/github/FGalvao77/Machine-Learning/blob/main/Aula_5_1_Introdu%C3%A7%C3%A3o_%C3%A0s_Redes_Neurais_Artificiais.ipynb\" target=\"_parent\"><img src=\"https://colab.research.google.com/assets/colab-badge.svg\" alt=\"Open In Colab\"/></a>"
      ]
    },
    {
      "cell_type": "markdown",
      "metadata": {
        "id": "G7xGoBd6T3WI"
      },
      "source": [
        "# **Introdução às Redes Neurais Artificiais**"
      ]
    },
    {
      "cell_type": "markdown",
      "metadata": {
        "id": "0ypQH-ZJUA96"
      },
      "source": [
        "**Implementação de Redes Neurais**"
      ]
    },
    {
      "cell_type": "code",
      "metadata": {
        "id": "Kl2kCHnPK0fy"
      },
      "source": [
        "# importando a biblioteca necessária\n",
        "from sklearn.neural_network import MLPRegressor\n",
        "from sklearn.model_selection import train_test_split\n",
        "from sklearn.preprocessing import MinMaxScaler\n",
        "from sklearn.datasets import load_boston"
      ],
      "execution_count": 2,
      "outputs": []
    },
    {
      "cell_type": "code",
      "metadata": {
        "id": "AoYruVoYT22O"
      },
      "source": [
        "# carregando o conjunto de dados\n",
        "X, y = load_boston(return_X_y=True)"
      ],
      "execution_count": 12,
      "outputs": []
    },
    {
      "cell_type": "code",
      "metadata": {
        "colab": {
          "base_uri": "https://localhost:8080/"
        },
        "id": "cUF2Rx6laQBK",
        "outputId": "de43db1f-1869-4b60-8a06-98eb98f70c49"
      },
      "source": [
        "# visualizando os nossos dados\n",
        "print(X)\n",
        "print('\\n')\n",
        "print(y)"
      ],
      "execution_count": 20,
      "outputs": [
        {
          "output_type": "stream",
          "text": [
            "[[6.3200e-03 1.8000e+01 2.3100e+00 ... 1.5300e+01 3.9690e+02 4.9800e+00]\n",
            " [2.7310e-02 0.0000e+00 7.0700e+00 ... 1.7800e+01 3.9690e+02 9.1400e+00]\n",
            " [2.7290e-02 0.0000e+00 7.0700e+00 ... 1.7800e+01 3.9283e+02 4.0300e+00]\n",
            " ...\n",
            " [6.0760e-02 0.0000e+00 1.1930e+01 ... 2.1000e+01 3.9690e+02 5.6400e+00]\n",
            " [1.0959e-01 0.0000e+00 1.1930e+01 ... 2.1000e+01 3.9345e+02 6.4800e+00]\n",
            " [4.7410e-02 0.0000e+00 1.1930e+01 ... 2.1000e+01 3.9690e+02 7.8800e+00]]\n",
            "\n",
            "\n",
            "[24.  21.6 34.7 33.4 36.2 28.7 22.9 27.1 16.5 18.9 15.  18.9 21.7 20.4\n",
            " 18.2 19.9 23.1 17.5 20.2 18.2 13.6 19.6 15.2 14.5 15.6 13.9 16.6 14.8\n",
            " 18.4 21.  12.7 14.5 13.2 13.1 13.5 18.9 20.  21.  24.7 30.8 34.9 26.6\n",
            " 25.3 24.7 21.2 19.3 20.  16.6 14.4 19.4 19.7 20.5 25.  23.4 18.9 35.4\n",
            " 24.7 31.6 23.3 19.6 18.7 16.  22.2 25.  33.  23.5 19.4 22.  17.4 20.9\n",
            " 24.2 21.7 22.8 23.4 24.1 21.4 20.  20.8 21.2 20.3 28.  23.9 24.8 22.9\n",
            " 23.9 26.6 22.5 22.2 23.6 28.7 22.6 22.  22.9 25.  20.6 28.4 21.4 38.7\n",
            " 43.8 33.2 27.5 26.5 18.6 19.3 20.1 19.5 19.5 20.4 19.8 19.4 21.7 22.8\n",
            " 18.8 18.7 18.5 18.3 21.2 19.2 20.4 19.3 22.  20.3 20.5 17.3 18.8 21.4\n",
            " 15.7 16.2 18.  14.3 19.2 19.6 23.  18.4 15.6 18.1 17.4 17.1 13.3 17.8\n",
            " 14.  14.4 13.4 15.6 11.8 13.8 15.6 14.6 17.8 15.4 21.5 19.6 15.3 19.4\n",
            " 17.  15.6 13.1 41.3 24.3 23.3 27.  50.  50.  50.  22.7 25.  50.  23.8\n",
            " 23.8 22.3 17.4 19.1 23.1 23.6 22.6 29.4 23.2 24.6 29.9 37.2 39.8 36.2\n",
            " 37.9 32.5 26.4 29.6 50.  32.  29.8 34.9 37.  30.5 36.4 31.1 29.1 50.\n",
            " 33.3 30.3 34.6 34.9 32.9 24.1 42.3 48.5 50.  22.6 24.4 22.5 24.4 20.\n",
            " 21.7 19.3 22.4 28.1 23.7 25.  23.3 28.7 21.5 23.  26.7 21.7 27.5 30.1\n",
            " 44.8 50.  37.6 31.6 46.7 31.5 24.3 31.7 41.7 48.3 29.  24.  25.1 31.5\n",
            " 23.7 23.3 22.  20.1 22.2 23.7 17.6 18.5 24.3 20.5 24.5 26.2 24.4 24.8\n",
            " 29.6 42.8 21.9 20.9 44.  50.  36.  30.1 33.8 43.1 48.8 31.  36.5 22.8\n",
            " 30.7 50.  43.5 20.7 21.1 25.2 24.4 35.2 32.4 32.  33.2 33.1 29.1 35.1\n",
            " 45.4 35.4 46.  50.  32.2 22.  20.1 23.2 22.3 24.8 28.5 37.3 27.9 23.9\n",
            " 21.7 28.6 27.1 20.3 22.5 29.  24.8 22.  26.4 33.1 36.1 28.4 33.4 28.2\n",
            " 22.8 20.3 16.1 22.1 19.4 21.6 23.8 16.2 17.8 19.8 23.1 21.  23.8 23.1\n",
            " 20.4 18.5 25.  24.6 23.  22.2 19.3 22.6 19.8 17.1 19.4 22.2 20.7 21.1\n",
            " 19.5 18.5 20.6 19.  18.7 32.7 16.5 23.9 31.2 17.5 17.2 23.1 24.5 26.6\n",
            " 22.9 24.1 18.6 30.1 18.2 20.6 17.8 21.7 22.7 22.6 25.  19.9 20.8 16.8\n",
            " 21.9 27.5 21.9 23.1 50.  50.  50.  50.  50.  13.8 13.8 15.  13.9 13.3\n",
            " 13.1 10.2 10.4 10.9 11.3 12.3  8.8  7.2 10.5  7.4 10.2 11.5 15.1 23.2\n",
            "  9.7 13.8 12.7 13.1 12.5  8.5  5.   6.3  5.6  7.2 12.1  8.3  8.5  5.\n",
            " 11.9 27.9 17.2 27.5 15.  17.2 17.9 16.3  7.   7.2  7.5 10.4  8.8  8.4\n",
            " 16.7 14.2 20.8 13.4 11.7  8.3 10.2 10.9 11.   9.5 14.5 14.1 16.1 14.3\n",
            " 11.7 13.4  9.6  8.7  8.4 12.8 10.5 17.1 18.4 15.4 10.8 11.8 14.9 12.6\n",
            " 14.1 13.  13.4 15.2 16.1 17.8 14.9 14.1 12.7 13.5 14.9 20.  16.4 17.7\n",
            " 19.5 20.2 21.4 19.9 19.  19.1 19.1 20.1 19.9 19.6 23.2 29.8 13.8 13.3\n",
            " 16.7 12.  14.6 21.4 23.  23.7 25.  21.8 20.6 21.2 19.1 20.6 15.2  7.\n",
            "  8.1 13.6 20.1 21.8 24.5 23.1 19.7 18.3 21.2 17.5 16.8 22.4 20.6 23.9\n",
            " 22.  11.9]\n"
          ],
          "name": "stdout"
        }
      ]
    },
    {
      "cell_type": "code",
      "metadata": {
        "colab": {
          "base_uri": "https://localhost:8080/"
        },
        "id": "XaXVPhIIT2zc",
        "outputId": "20b22223-c55b-402d-c306-612f4b7efa21"
      },
      "source": [
        "# visualizando quantidade de linhas e colunas da variáveis \"X\" e \"y\"\n",
        "print(X.shape, y.shape)"
      ],
      "execution_count": 21,
      "outputs": [
        {
          "output_type": "stream",
          "text": [
            "(506, 13) (506,)\n"
          ],
          "name": "stdout"
        }
      ]
    },
    {
      "cell_type": "code",
      "metadata": {
        "id": "5PCTmM2ZT2xU"
      },
      "source": [
        "# separando os dados em treino e teste\n",
        "X_train, X_test, y_train, y_test = train_test_split(X,y)"
      ],
      "execution_count": 22,
      "outputs": []
    },
    {
      "cell_type": "code",
      "metadata": {
        "colab": {
          "base_uri": "https://localhost:8080/"
        },
        "id": "kXhnQ78nT2ur",
        "outputId": "5e529f2f-97e9-44b5-93aa-519c2d388c51"
      },
      "source": [
        "# visualizando a quantidade de dados separados para treino e teste\n",
        "print(X_train.shape[0], X_test.shape[0], y_train.shape[0], y_test.shape[0])"
      ],
      "execution_count": 24,
      "outputs": [
        {
          "output_type": "stream",
          "text": [
            "379 127 379 127\n"
          ],
          "name": "stdout"
        }
      ]
    },
    {
      "cell_type": "markdown",
      "metadata": {
        "id": "3SgWLVB9WCzr"
      },
      "source": [
        "**Agora iremos escalar os nossos dados utilizando o** `MinMaxScaler`."
      ]
    },
    {
      "cell_type": "code",
      "metadata": {
        "id": "zWPWL5bRT2sm"
      },
      "source": [
        "# instaciando nosso modelo\n",
        "mm = MinMaxScaler()\n",
        "\n",
        "# aplicando o modelo nos dados de treino e teste\n",
        "X_train = mm.fit_transform(X_train)\n",
        "X_test = mm.fit_transform(X_test)"
      ],
      "execution_count": 29,
      "outputs": []
    },
    {
      "cell_type": "code",
      "metadata": {
        "colab": {
          "base_uri": "https://localhost:8080/"
        },
        "id": "NEs08UJBT2qR",
        "outputId": "7208dc79-0ed5-439a-fbb4-76e31e5413f7"
      },
      "source": [
        "# visualizando a tarnsformação dos dados\n",
        "print(X_test)\n",
        "print('\\n')\n",
        "print(y_test)"
      ],
      "execution_count": 30,
      "outputs": [
        {
          "output_type": "stream",
          "text": [
            "[[2.07486771e-03 6.31578947e-01 4.50879765e-02 ... 6.46341463e-01\n",
            "  9.87824048e-01 1.66771160e-01]\n",
            " [4.81691902e-03 0.00000000e+00 3.50073314e-01 ... 5.85365854e-01\n",
            "  9.93632270e-01 2.45454545e-01]\n",
            " [4.44405032e-03 2.31578947e-01 1.97947214e-01 ... 7.43902439e-01\n",
            "  9.98348120e-01 1.07523511e-01]\n",
            " ...\n",
            " [3.05836128e-04 8.68421053e-01 5.75513196e-02 ... 2.07317073e-01\n",
            "  9.95950230e-01 2.00626959e-02]\n",
            " [7.53243661e-03 0.00000000e+00 2.96920821e-01 ... 9.63414634e-01\n",
            "  1.31164575e-01 2.55799373e-01]\n",
            " [3.90255279e-02 0.00000000e+00 2.81524927e-01 ... 9.75609756e-01\n",
            "  9.02139451e-01 6.31034483e-01]]\n",
            "\n",
            "\n",
            "[18.6 19.2 24.4 13.4 21.7 19.3 28.7 26.6 22.  18.8 16.  33.2 13.9 28.1\n",
            " 13.4 19.  50.  10.2 17.  23.2  8.3 13.2 16.3 23.8 10.8 18.  17.6 14.5\n",
            "  8.8 21.9 22.8 26.6 21.9 19.9 12.7 24.4 16.8 41.7 24.7 12.5 35.4 21.5\n",
            " 39.8 22.6 13.8 12.6 11.7 18.5 19.6 13.1 20.8 24.3 17.1 18.9 13.1 25.\n",
            " 29.8 43.1 29.1 33.2 23.6 19.7 50.   7.4 32.5 16.2 24.4 23.7 23.4 28.4\n",
            " 33.4 17.5 50.  14.5 14.1 31.2 23.1 14.3 22.6 34.9 23.9 21.7 36.4 25.\n",
            " 22.  19.6 21.7 21.7 26.7 21.2 20.7 30.8 17.9 24.5 19.6 11.9 14.9 17.3\n",
            " 26.4 26.4 20.6 23.9 13.6 18.4 13.8 32.7 15.6 21.1 18.9  7.2 11.9 21.1\n",
            " 21.8 23.1 30.1 22.2 11.8  7.5 16.5 18.1 20.4  7.2 25.1 22.3 42.3 18.6\n",
            " 12.7]\n"
          ],
          "name": "stdout"
        }
      ]
    },
    {
      "cell_type": "code",
      "metadata": {
        "id": "hl8rqnA5T2ob"
      },
      "source": [
        "# instanciando nossa rede neural em uma variável\n",
        "mlp = MLPRegressor(hidden_layer_sizes=(10,5))"
      ],
      "execution_count": 35,
      "outputs": []
    },
    {
      "cell_type": "code",
      "metadata": {
        "colab": {
          "base_uri": "https://localhost:8080/"
        },
        "id": "2zi9hGrZT2m6",
        "outputId": "e250cb44-8002-4107-f8e3-173b6a5cd807"
      },
      "source": [
        "# treinando nossa rede neural\n",
        "mlp.fit(X_train, y_train)"
      ],
      "execution_count": 36,
      "outputs": [
        {
          "output_type": "stream",
          "text": [
            "/usr/local/lib/python3.7/dist-packages/sklearn/neural_network/_multilayer_perceptron.py:571: ConvergenceWarning: Stochastic Optimizer: Maximum iterations (200) reached and the optimization hasn't converged yet.\n",
            "  % self.max_iter, ConvergenceWarning)\n"
          ],
          "name": "stderr"
        },
        {
          "output_type": "execute_result",
          "data": {
            "text/plain": [
              "MLPRegressor(activation='relu', alpha=0.0001, batch_size='auto', beta_1=0.9,\n",
              "             beta_2=0.999, early_stopping=False, epsilon=1e-08,\n",
              "             hidden_layer_sizes=(10, 5), learning_rate='constant',\n",
              "             learning_rate_init=0.001, max_fun=15000, max_iter=200,\n",
              "             momentum=0.9, n_iter_no_change=10, nesterovs_momentum=True,\n",
              "             power_t=0.5, random_state=None, shuffle=True, solver='adam',\n",
              "             tol=0.0001, validation_fraction=0.1, verbose=False,\n",
              "             warm_start=False)"
            ]
          },
          "metadata": {
            "tags": []
          },
          "execution_count": 36
        }
      ]
    },
    {
      "cell_type": "code",
      "metadata": {
        "colab": {
          "base_uri": "https://localhost:8080/"
        },
        "id": "jqroM4vvT2ko",
        "outputId": "aeee2d7a-d723-4dcc-ecf7-a5eadc701161"
      },
      "source": [
        "# avaliando a performance do modelo\n",
        "mlp.score(X_test, y_test)"
      ],
      "execution_count": 39,
      "outputs": [
        {
          "output_type": "execute_result",
          "data": {
            "text/plain": [
              "-0.5477573068829473"
            ]
          },
          "metadata": {
            "tags": []
          },
          "execution_count": 39
        }
      ]
    },
    {
      "cell_type": "markdown",
      "metadata": {
        "id": "U0xl-avIdmCD"
      },
      "source": [
        "> Perceba que, tivemos um resultado péssimo.\n",
        "  - vamos redefinir os parâmetros do nosso modelo."
      ]
    },
    {
      "cell_type": "code",
      "metadata": {
        "id": "1VWUZCfTT2i0"
      },
      "source": [
        "# instanciando nossa rede neural em uma variável\n",
        "# e aumentando os números de neurônios das camadas\n",
        "mlp = MLPRegressor(hidden_layer_sizes=(100,50))"
      ],
      "execution_count": 40,
      "outputs": []
    },
    {
      "cell_type": "code",
      "metadata": {
        "colab": {
          "base_uri": "https://localhost:8080/"
        },
        "id": "Djm_x-h8dZb6",
        "outputId": "b1d1b855-4839-4e74-b69c-bb4ea6009871"
      },
      "source": [
        "# treinando novamente a rede neural\n",
        "mlp.fit(X_train, y_train)"
      ],
      "execution_count": 41,
      "outputs": [
        {
          "output_type": "stream",
          "text": [
            "/usr/local/lib/python3.7/dist-packages/sklearn/neural_network/_multilayer_perceptron.py:571: ConvergenceWarning: Stochastic Optimizer: Maximum iterations (200) reached and the optimization hasn't converged yet.\n",
            "  % self.max_iter, ConvergenceWarning)\n"
          ],
          "name": "stderr"
        },
        {
          "output_type": "execute_result",
          "data": {
            "text/plain": [
              "MLPRegressor(activation='relu', alpha=0.0001, batch_size='auto', beta_1=0.9,\n",
              "             beta_2=0.999, early_stopping=False, epsilon=1e-08,\n",
              "             hidden_layer_sizes=(100, 50), learning_rate='constant',\n",
              "             learning_rate_init=0.001, max_fun=15000, max_iter=200,\n",
              "             momentum=0.9, n_iter_no_change=10, nesterovs_momentum=True,\n",
              "             power_t=0.5, random_state=None, shuffle=True, solver='adam',\n",
              "             tol=0.0001, validation_fraction=0.1, verbose=False,\n",
              "             warm_start=False)"
            ]
          },
          "metadata": {
            "tags": []
          },
          "execution_count": 41
        }
      ]
    },
    {
      "cell_type": "code",
      "metadata": {
        "colab": {
          "base_uri": "https://localhost:8080/"
        },
        "id": "A8a5TJewdZZD",
        "outputId": "04568105-c300-45bc-9374-795ad11d145d"
      },
      "source": [
        "# avaliando a performance do modelo\n",
        "mlp.score(X_test, y_test)"
      ],
      "execution_count": 42,
      "outputs": [
        {
          "output_type": "execute_result",
          "data": {
            "text/plain": [
              "0.7062994526744792"
            ]
          },
          "metadata": {
            "tags": []
          },
          "execution_count": 42
        }
      ]
    },
    {
      "cell_type": "markdown",
      "metadata": {
        "id": "A6APg9rEeg_T"
      },
      "source": [
        "> Tivemos uma melhora considerável.\n",
        "  - vamos novamente aumentar a quantidade de neurônios das camadas."
      ]
    },
    {
      "cell_type": "code",
      "metadata": {
        "id": "tbz988pldZUG"
      },
      "source": [
        "# aumentando os números de neurônios das camadas\n",
        "mlp = MLPRegressor(hidden_layer_sizes=(100,100))"
      ],
      "execution_count": 43,
      "outputs": []
    },
    {
      "cell_type": "code",
      "metadata": {
        "colab": {
          "base_uri": "https://localhost:8080/"
        },
        "id": "dE1Dw7QMef4Z",
        "outputId": "db41df13-ce90-4fe7-b619-64db27483494"
      },
      "source": [
        "# treinando novamente a rede neural\n",
        "mlp.fit(X_train, y_train)"
      ],
      "execution_count": 44,
      "outputs": [
        {
          "output_type": "stream",
          "text": [
            "/usr/local/lib/python3.7/dist-packages/sklearn/neural_network/_multilayer_perceptron.py:571: ConvergenceWarning: Stochastic Optimizer: Maximum iterations (200) reached and the optimization hasn't converged yet.\n",
            "  % self.max_iter, ConvergenceWarning)\n"
          ],
          "name": "stderr"
        },
        {
          "output_type": "execute_result",
          "data": {
            "text/plain": [
              "MLPRegressor(activation='relu', alpha=0.0001, batch_size='auto', beta_1=0.9,\n",
              "             beta_2=0.999, early_stopping=False, epsilon=1e-08,\n",
              "             hidden_layer_sizes=(100, 100), learning_rate='constant',\n",
              "             learning_rate_init=0.001, max_fun=15000, max_iter=200,\n",
              "             momentum=0.9, n_iter_no_change=10, nesterovs_momentum=True,\n",
              "             power_t=0.5, random_state=None, shuffle=True, solver='adam',\n",
              "             tol=0.0001, validation_fraction=0.1, verbose=False,\n",
              "             warm_start=False)"
            ]
          },
          "metadata": {
            "tags": []
          },
          "execution_count": 44
        }
      ]
    },
    {
      "cell_type": "code",
      "metadata": {
        "colab": {
          "base_uri": "https://localhost:8080/"
        },
        "id": "qPZEcoVIe665",
        "outputId": "31169fa7-6e68-4bc4-f5c0-21576020c405"
      },
      "source": [
        "# avaliando a performance do modelo\n",
        "mlp.score(X_test, y_test)"
      ],
      "execution_count": 45,
      "outputs": [
        {
          "output_type": "execute_result",
          "data": {
            "text/plain": [
              "0.7365294248167022"
            ]
          },
          "metadata": {
            "tags": []
          },
          "execution_count": 45
        }
      ]
    },
    {
      "cell_type": "markdown",
      "metadata": {
        "id": "ufkPsrf3fPW4"
      },
      "source": [
        "> Vamos incluir uma terceira camada.\n",
        "  - de 50 neurônios."
      ]
    },
    {
      "cell_type": "code",
      "metadata": {
        "id": "zD3Z5BbNfDBU"
      },
      "source": [
        "# aumentando os números de neurônios das camadas\n",
        "mlp = MLPRegressor(hidden_layer_sizes=(100,100,50))"
      ],
      "execution_count": 46,
      "outputs": []
    },
    {
      "cell_type": "code",
      "metadata": {
        "colab": {
          "base_uri": "https://localhost:8080/"
        },
        "id": "Wn4DOBItfC8U",
        "outputId": "3380c174-4ab5-4554-9060-b4a212c557ad"
      },
      "source": [
        "# treinando novamente a rede neural\n",
        "mlp.fit(X_train, y_train)"
      ],
      "execution_count": 47,
      "outputs": [
        {
          "output_type": "stream",
          "text": [
            "/usr/local/lib/python3.7/dist-packages/sklearn/neural_network/_multilayer_perceptron.py:571: ConvergenceWarning: Stochastic Optimizer: Maximum iterations (200) reached and the optimization hasn't converged yet.\n",
            "  % self.max_iter, ConvergenceWarning)\n"
          ],
          "name": "stderr"
        },
        {
          "output_type": "execute_result",
          "data": {
            "text/plain": [
              "MLPRegressor(activation='relu', alpha=0.0001, batch_size='auto', beta_1=0.9,\n",
              "             beta_2=0.999, early_stopping=False, epsilon=1e-08,\n",
              "             hidden_layer_sizes=(100, 100, 50), learning_rate='constant',\n",
              "             learning_rate_init=0.001, max_fun=15000, max_iter=200,\n",
              "             momentum=0.9, n_iter_no_change=10, nesterovs_momentum=True,\n",
              "             power_t=0.5, random_state=None, shuffle=True, solver='adam',\n",
              "             tol=0.0001, validation_fraction=0.1, verbose=False,\n",
              "             warm_start=False)"
            ]
          },
          "metadata": {
            "tags": []
          },
          "execution_count": 47
        }
      ]
    },
    {
      "cell_type": "code",
      "metadata": {
        "colab": {
          "base_uri": "https://localhost:8080/"
        },
        "id": "tf75bMYRfC4H",
        "outputId": "b127d131-0dea-4535-d834-3bf6498d76f8"
      },
      "source": [
        "# avaliando a performance do modelo\n",
        "mlp.score(X_test, y_test)"
      ],
      "execution_count": 48,
      "outputs": [
        {
          "output_type": "execute_result",
          "data": {
            "text/plain": [
              "0.750202560286505"
            ]
          },
          "metadata": {
            "tags": []
          },
          "execution_count": 48
        }
      ]
    },
    {
      "cell_type": "markdown",
      "metadata": {
        "id": "w9H4UGS8gmmH"
      },
      "source": [
        "> Vamos aumentar a terceira camada para 100 neurônios."
      ]
    },
    {
      "cell_type": "code",
      "metadata": {
        "id": "neAHi86GfC1U"
      },
      "source": [
        "# aumentando os números de neurônios das camadas \n",
        "mlp = MLPRegressor(hidden_layer_sizes=(100,100,100))"
      ],
      "execution_count": 49,
      "outputs": []
    },
    {
      "cell_type": "code",
      "metadata": {
        "colab": {
          "base_uri": "https://localhost:8080/"
        },
        "id": "vhH-2Ll3fCqF",
        "outputId": "645f5355-d867-41af-e4c3-48a3e8d8f65d"
      },
      "source": [
        "# treinando novamente a rede neural \n",
        "mlp.fit(X_train, y_train)"
      ],
      "execution_count": 50,
      "outputs": [
        {
          "output_type": "stream",
          "text": [
            "/usr/local/lib/python3.7/dist-packages/sklearn/neural_network/_multilayer_perceptron.py:571: ConvergenceWarning: Stochastic Optimizer: Maximum iterations (200) reached and the optimization hasn't converged yet.\n",
            "  % self.max_iter, ConvergenceWarning)\n"
          ],
          "name": "stderr"
        },
        {
          "output_type": "execute_result",
          "data": {
            "text/plain": [
              "MLPRegressor(activation='relu', alpha=0.0001, batch_size='auto', beta_1=0.9,\n",
              "             beta_2=0.999, early_stopping=False, epsilon=1e-08,\n",
              "             hidden_layer_sizes=(100, 100, 100), learning_rate='constant',\n",
              "             learning_rate_init=0.001, max_fun=15000, max_iter=200,\n",
              "             momentum=0.9, n_iter_no_change=10, nesterovs_momentum=True,\n",
              "             power_t=0.5, random_state=None, shuffle=True, solver='adam',\n",
              "             tol=0.0001, validation_fraction=0.1, verbose=False,\n",
              "             warm_start=False)"
            ]
          },
          "metadata": {
            "tags": []
          },
          "execution_count": 50
        }
      ]
    },
    {
      "cell_type": "code",
      "metadata": {
        "colab": {
          "base_uri": "https://localhost:8080/"
        },
        "id": "-Zrp6LfUfufq",
        "outputId": "a195226b-067b-400c-e538-c8db0851fb7d"
      },
      "source": [
        "# avaliando a performance do modelo\n",
        "mlp.score(X_test, y_test)"
      ],
      "execution_count": 52,
      "outputs": [
        {
          "output_type": "execute_result",
          "data": {
            "text/plain": [
              "0.7733074567936141"
            ]
          },
          "metadata": {
            "tags": []
          },
          "execution_count": 52
        }
      ]
    },
    {
      "cell_type": "markdown",
      "metadata": {
        "id": "Na8WPjrqgxRn"
      },
      "source": [
        "> Houve uma leve mehlhora.\n",
        "  - vamos aumentar a quantidade de neurônios da primeira e segunda camada e, manter a terceira como está."
      ]
    },
    {
      "cell_type": "code",
      "metadata": {
        "id": "2zskEU4Nf45F"
      },
      "source": [
        "# aumentando os números de neurônios das camadas\n",
        "mlp = MLPRegressor(hidden_layer_sizes=(150,150,100))"
      ],
      "execution_count": 65,
      "outputs": []
    },
    {
      "cell_type": "code",
      "metadata": {
        "colab": {
          "base_uri": "https://localhost:8080/"
        },
        "id": "TQo4rbQtf42I",
        "outputId": "b2b72214-8e75-4f3e-ea02-ffbed44dc360"
      },
      "source": [
        "# treinando novamente a rede neural\n",
        "mlp.fit(X_train, y_train)"
      ],
      "execution_count": 66,
      "outputs": [
        {
          "output_type": "stream",
          "text": [
            "/usr/local/lib/python3.7/dist-packages/sklearn/neural_network/_multilayer_perceptron.py:571: ConvergenceWarning: Stochastic Optimizer: Maximum iterations (200) reached and the optimization hasn't converged yet.\n",
            "  % self.max_iter, ConvergenceWarning)\n"
          ],
          "name": "stderr"
        },
        {
          "output_type": "execute_result",
          "data": {
            "text/plain": [
              "MLPRegressor(activation='relu', alpha=0.0001, batch_size='auto', beta_1=0.9,\n",
              "             beta_2=0.999, early_stopping=False, epsilon=1e-08,\n",
              "             hidden_layer_sizes=(150, 150, 100), learning_rate='constant',\n",
              "             learning_rate_init=0.001, max_fun=15000, max_iter=200,\n",
              "             momentum=0.9, n_iter_no_change=10, nesterovs_momentum=True,\n",
              "             power_t=0.5, random_state=None, shuffle=True, solver='adam',\n",
              "             tol=0.0001, validation_fraction=0.1, verbose=False,\n",
              "             warm_start=False)"
            ]
          },
          "metadata": {
            "tags": []
          },
          "execution_count": 66
        }
      ]
    },
    {
      "cell_type": "code",
      "metadata": {
        "colab": {
          "base_uri": "https://localhost:8080/"
        },
        "id": "6tGA0V66f4zS",
        "outputId": "be28c8a0-24d1-47b1-b452-87376296e6b3"
      },
      "source": [
        "# avaliando a performance do modelo\n",
        "mlp.score(X_test, y_test)"
      ],
      "execution_count": 67,
      "outputs": [
        {
          "output_type": "execute_result",
          "data": {
            "text/plain": [
              "0.7651092825456749"
            ]
          },
          "metadata": {
            "tags": []
          },
          "execution_count": 67
        }
      ]
    },
    {
      "cell_type": "markdown",
      "metadata": {
        "id": "OHd7s_oLhIyS"
      },
      "source": [
        "> O modelo apresentou uma piora.\n",
        "  - vamos definir no parâmetro do modelo a quantidade de iterações e avaliar sua performance."
      ]
    },
    {
      "cell_type": "code",
      "metadata": {
        "id": "6-HaeHvif4wW"
      },
      "source": [
        "# por padrão o \"max_iter\" é 200\n",
        "# iremos definir ele com 1000 para o nosso teste\n",
        "# e vamos incluir uma quarta camada de 100 neurônios\n",
        "mlp = MLPRegressor(hidden_layer_sizes=(100,100,100,100), max_iter=1000)"
      ],
      "execution_count": 119,
      "outputs": []
    },
    {
      "cell_type": "code",
      "metadata": {
        "colab": {
          "base_uri": "https://localhost:8080/"
        },
        "id": "og3mzD2Lf4sx",
        "outputId": "eeffc5ca-1ad2-4ebc-ffcd-b076dcc0e7bc"
      },
      "source": [
        "# treinando novamente a rede neural\n",
        "mlp.fit(X_train, y_train)"
      ],
      "execution_count": 120,
      "outputs": [
        {
          "output_type": "execute_result",
          "data": {
            "text/plain": [
              "MLPRegressor(activation='relu', alpha=0.0001, batch_size='auto', beta_1=0.9,\n",
              "             beta_2=0.999, early_stopping=False, epsilon=1e-08,\n",
              "             hidden_layer_sizes=(100, 100, 100, 100), learning_rate='constant',\n",
              "             learning_rate_init=0.001, max_fun=15000, max_iter=1000,\n",
              "             momentum=0.9, n_iter_no_change=10, nesterovs_momentum=True,\n",
              "             power_t=0.5, random_state=None, shuffle=True, solver='adam',\n",
              "             tol=0.0001, validation_fraction=0.1, verbose=False,\n",
              "             warm_start=False)"
            ]
          },
          "metadata": {
            "tags": []
          },
          "execution_count": 120
        }
      ]
    },
    {
      "cell_type": "code",
      "metadata": {
        "colab": {
          "base_uri": "https://localhost:8080/"
        },
        "id": "mhj87Pbxf4qx",
        "outputId": "42a25d1d-789e-4cb9-a0f0-5e26de03e4af"
      },
      "source": [
        "# avaliando a performance do modelo\n",
        "mlp.score(X_test, y_test)"
      ],
      "execution_count": 121,
      "outputs": [
        {
          "output_type": "execute_result",
          "data": {
            "text/plain": [
              "0.7933309289638394"
            ]
          },
          "metadata": {
            "tags": []
          },
          "execution_count": 121
        }
      ]
    },
    {
      "cell_type": "markdown",
      "metadata": {
        "id": "MYF790eriRzI"
      },
      "source": [
        "> Tivemos uma pequena melhora!"
      ]
    },
    {
      "cell_type": "code",
      "metadata": {
        "id": "tkBKCkwSf4on"
      },
      "source": [
        ""
      ],
      "execution_count": null,
      "outputs": []
    },
    {
      "cell_type": "code",
      "metadata": {
        "id": "KqhEiiD0f4lx"
      },
      "source": [
        ""
      ],
      "execution_count": null,
      "outputs": []
    },
    {
      "cell_type": "code",
      "metadata": {
        "id": "e0vuz3CPf4j3"
      },
      "source": [
        ""
      ],
      "execution_count": null,
      "outputs": []
    }
  ]
}