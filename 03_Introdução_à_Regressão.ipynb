{
  "nbformat": 4,
  "nbformat_minor": 0,
  "metadata": {
    "colab": {
      "name": "03 - Introdução à Regressão.ipynb",
      "provenance": [],
      "collapsed_sections": [],
      "authorship_tag": "ABX9TyOzzvwBlHPqd2m9L7zjlpat",
      "include_colab_link": true
    },
    "kernelspec": {
      "name": "python3",
      "display_name": "Python 3"
    },
    "language_info": {
      "name": "python"
    }
  },
  "cells": [
    {
      "cell_type": "markdown",
      "metadata": {
        "id": "view-in-github",
        "colab_type": "text"
      },
      "source": [
        "<a href=\"https://colab.research.google.com/github/FGalvao77/Machine-Learning/blob/main/03_Introdu%C3%A7%C3%A3o_%C3%A0_Regress%C3%A3o.ipynb\" target=\"_parent\"><img src=\"https://colab.research.google.com/assets/colab-badge.svg\" alt=\"Open In Colab\"/></a>"
      ]
    },
    {
      "cell_type": "code",
      "metadata": {
        "id": "UIxDUpJy45_F"
      },
      "source": [
        "# importando as bibliotecas necessárias\n",
        "import pandas as pd                # para modelagem de dados\n",
        "import numpy as np                 # para recursos matemáticos e matrizes\n",
        "import matplotlib.pyplot as plt    # para gerar visualizações gráficas\n",
        "\n",
        "# comando \"mágico\" para renderizar a visualização gráfica\n",
        "%matplotlib inline\n",
        "\n",
        "# para ignorar mensagens de erros\n",
        "import warnings\n",
        "warnings.filterwarnings('ignore')"
      ],
      "execution_count": null,
      "outputs": []
    },
    {
      "cell_type": "code",
      "metadata": {
        "id": "SrXswZoD5EBo"
      },
      "source": [
        "# instanciado os dados da temperatura e número de sorvetes - valores fictícios\n",
        "# utilizaremos a função do numpy para criar um array de vetores com os valores\n",
        "temperatura = np.array([30, 25, 36, 18, 25, 29, 30, 33, 37, 31, 26, 37, 29, 26, 30, 31, 34, 38])\n",
        "numero_sorvetes = np.array([20, 12, 50, 10, 18, 25, 26, 32, 48, 22, 16, 52, 24, 20, 28, 29, 35, 40])"
      ],
      "execution_count": null,
      "outputs": []
    },
    {
      "cell_type": "code",
      "metadata": {
        "colab": {
          "base_uri": "https://localhost:8080/",
          "height": 204
        },
        "id": "d9IXc-Qb5D9E",
        "outputId": "408d883b-f05c-450b-c555-132e304543a2"
      },
      "source": [
        "# com dados instanciados nas variáveis, agora iremos transforma-los em um dataframe\n",
        "# para isso, usaremos a função do pandas \".DataFrame\" \n",
        "# e passando como argumento um dicionário com as variáveis \"temperatura\" e \"numero_sorvetes\"\n",
        "df = pd.DataFrame({'temperatura': temperatura,\n",
        "                   'num_sorvetes': numero_sorvetes})\n",
        "\n",
        "# visualizando as 5 primeiras linhas do dataframe criado\n",
        "df.head()"
      ],
      "execution_count": 21,
      "outputs": [
        {
          "output_type": "execute_result",
          "data": {
            "text/html": [
              "<div>\n",
              "<style scoped>\n",
              "    .dataframe tbody tr th:only-of-type {\n",
              "        vertical-align: middle;\n",
              "    }\n",
              "\n",
              "    .dataframe tbody tr th {\n",
              "        vertical-align: top;\n",
              "    }\n",
              "\n",
              "    .dataframe thead th {\n",
              "        text-align: right;\n",
              "    }\n",
              "</style>\n",
              "<table border=\"1\" class=\"dataframe\">\n",
              "  <thead>\n",
              "    <tr style=\"text-align: right;\">\n",
              "      <th></th>\n",
              "      <th>temperatura</th>\n",
              "      <th>num_sorvetes</th>\n",
              "    </tr>\n",
              "  </thead>\n",
              "  <tbody>\n",
              "    <tr>\n",
              "      <th>0</th>\n",
              "      <td>30</td>\n",
              "      <td>20</td>\n",
              "    </tr>\n",
              "    <tr>\n",
              "      <th>1</th>\n",
              "      <td>25</td>\n",
              "      <td>12</td>\n",
              "    </tr>\n",
              "    <tr>\n",
              "      <th>2</th>\n",
              "      <td>36</td>\n",
              "      <td>50</td>\n",
              "    </tr>\n",
              "    <tr>\n",
              "      <th>3</th>\n",
              "      <td>18</td>\n",
              "      <td>10</td>\n",
              "    </tr>\n",
              "    <tr>\n",
              "      <th>4</th>\n",
              "      <td>25</td>\n",
              "      <td>18</td>\n",
              "    </tr>\n",
              "  </tbody>\n",
              "</table>\n",
              "</div>"
            ],
            "text/plain": [
              "   temperatura  num_sorvetes\n",
              "0           30            20\n",
              "1           25            12\n",
              "2           36            50\n",
              "3           18            10\n",
              "4           25            18"
            ]
          },
          "metadata": {
            "tags": []
          },
          "execution_count": 21
        }
      ]
    },
    {
      "cell_type": "code",
      "metadata": {
        "colab": {
          "base_uri": "https://localhost:8080/",
          "height": 279
        },
        "id": "IFGrfmbu5D6f",
        "outputId": "35e03398-f07e-4753-d084-550319e04d2b"
      },
      "source": [
        "# configurando a plotagem do gráfico\n",
        "plt.plot(df['temperatura'],   # no eixo x os valores da coluna \"temperatura\"\n",
        "         df['num_sorvetes'],  # no eixo y os valores de coluna \"num_sorvetes\"\n",
        "         '*')                 # definindo o estilo do plot no gráfico\n",
        "plt.xlabel('Temperatura')     # nome do eixo x\n",
        "plt.ylabel('Qtde sorvetes')   # nome do eixo y\n",
        "plt.show();"
      ],
      "execution_count": null,
      "outputs": [
        {
          "output_type": "display_data",
          "data": {
            "image/png": "[encoded data removed]",
            "text/plain": [
              "<Figure size 432x288 with 1 Axes>"
            ]
          },
          "metadata": {
            "tags": [],
            "needs_background": "light"
          }
        }
      ]
    },
    {
      "cell_type": "code",
      "metadata": {
        "colab": {
          "base_uri": "https://localhost:8080/"
        },
        "id": "Zov0T9Au5D3S",
        "outputId": "a7e32aa4-b7ca-4e53-e5ea-8a3c9f43dce8"
      },
      "source": [
        "# instanciando na variável \"X\" os dados da coluna \"temperatura\"\n",
        "# transformando em um conjunto de array do tipo float\n",
        "# para isso, utilizaremos a função do numpy \".to_numpy\"\n",
        "X = df['temperatura'].to_numpy()\n",
        "X # visualizando a variável"
      ],
      "execution_count": 30,
      "outputs": [
        {
          "output_type": "execute_result",
          "data": {
            "text/plain": [
              "array([30, 25, 36, 18, 25, 29, 30, 33, 37, 31, 26, 37, 29, 26, 30, 31, 34,\n",
              "       38])"
            ]
          },
          "metadata": {
            "tags": []
          },
          "execution_count": 30
        }
      ]
    },
    {
      "cell_type": "code",
      "metadata": {
        "colab": {
          "base_uri": "https://localhost:8080/"
        },
        "id": "vNv9iGU45Dz8",
        "outputId": "1f098ea4-1392-451a-d542-11b4aa927958"
      },
      "source": [
        "# instanciando na variável \"y\" os dados da coluna \"num_sorvetes\"\n",
        "# transformando em um conjunto de array do tipo float\n",
        "# para isso, utilizaremos a função do numpy \".to_numpy\"\n",
        "y = df['num_sorvetes'].to_numpy()\n",
        "y # visualizando a variável"
      ],
      "execution_count": null,
      "outputs": [
        {
          "output_type": "execute_result",
          "data": {
            "text/plain": [
              "array([20, 12, 50, 10, 18, 25, 26, 32, 48, 22, 16, 52, 24, 20, 28, 29, 35,\n",
              "       40])"
            ]
          },
          "metadata": {
            "tags": []
          },
          "execution_count": 8
        }
      ]
    },
    {
      "cell_type": "code",
      "metadata": {
        "id": "9ZH6yHPB5DyX"
      },
      "source": [
        "# importando a biblioteca para realizar a separação do dados de treino e teste\n",
        "# utilizando a função \"train_test_split\" da biblioteca do sklearn.model_selection\n",
        "from sklearn.model_selection import train_test_split"
      ],
      "execution_count": null,
      "outputs": []
    },
    {
      "cell_type": "code",
      "metadata": {
        "id": "y3z6DlRP5Dwh"
      },
      "source": [
        "# separando os dados de treino e teste\n",
        "X_treino, X_teste, y_treino, y_teste = train_test_split(X, y,\n",
        "                                                        test_size = 0.2)"
      ],
      "execution_count": null,
      "outputs": []
    },
    {
      "cell_type": "code",
      "metadata": {
        "id": "6qPqyQDw5Dt-"
      },
      "source": [
        "# importando a função para realizar a regressão\n",
        "# utilizaremos a função \"LinearRegression\" do sklearn.linear_model\n",
        "from sklearn.linear_model import LinearRegression"
      ],
      "execution_count": null,
      "outputs": []
    },
    {
      "cell_type": "code",
      "metadata": {
        "id": "k_HZxi-wwrJM"
      },
      "source": [
        "# instanciando a função \"LinearRegression()\" na variável \"modelo\"\n",
        "modelo = LinearRegression()"
      ],
      "execution_count": null,
      "outputs": []
    },
    {
      "cell_type": "code",
      "metadata": {
        "colab": {
          "base_uri": "https://localhost:8080/"
        },
        "id": "xn6JxE9bxA-_",
        "outputId": "43d9d917-b3e5-41ca-b978-36523f2a4eb4"
      },
      "source": [
        "# treinando o modelo com os dados de treino - X_treino e y_treino\n",
        "# utilizaremos a função \".fit()\" e como argumentos os dados de treino\n",
        "# para cada variável de treino, utilizaremos a função \".reshape()\"\n",
        "# e dentro da função, passaremos como argumento \"(-1, 1)\" \n",
        "# irar transformar (escalar) os dados entre -1 e 1\n",
        "modelo.fit(X_treino.reshape(-1, 1),\n",
        "           y_treino.reshape(-1, 1))"
      ],
      "execution_count": null,
      "outputs": [
        {
          "output_type": "execute_result",
          "data": {
            "text/plain": [
              "LinearRegression(copy_X=True, fit_intercept=True, n_jobs=None, normalize=False)"
            ]
          },
          "metadata": {
            "tags": []
          },
          "execution_count": 18
        }
      ]
    },
    {
      "cell_type": "code",
      "metadata": {
        "id": "bhCwZGkvxA9U"
      },
      "source": [
        "# realizando a previsão com os dados do \"X_teste\" \n",
        "# com a função \".predict()\" e \"reshape(-1, 1)\"\n",
        "# e o resultado instanciando na variável \"y_previsto\"\n",
        "y_previsto = modelo.predict(X_teste.reshape(-1, 1))"
      ],
      "execution_count": null,
      "outputs": []
    },
    {
      "cell_type": "code",
      "metadata": {
        "colab": {
          "base_uri": "https://localhost:8080/",
          "height": 279
        },
        "id": "O-9N1kaCxA76",
        "outputId": "bde220a4-94ce-451f-e4dd-f17de86e85fc"
      },
      "source": [
        "# plotando o gráfico com os dados\n",
        "plt.plot(range(y_previsto.shape[0]),  # utilizando a função \"range\" e como argumento o \"y_previsto.shape[0]\"\n",
        "         y_previsto, 'r--')           # e definindo o estilo e a cor do plot no gráfico \"r--\" (\"r\" de red e linha tracejada)\n",
        "plt.plot(range(y_teste.shape[0]),     # utilizando a função \"range\" e como argumento o \"y_teste.shape[0]\"\n",
        "         y_teste, 'g--')              # e definindo o estilo e a cor do plot no gráfico \"g--\" (\"g\" de green e linha tracejada)\n",
        "\n",
        "# plotando as legendas\n",
        "plt.legend(['Sorvetes previstos',     \n",
        "            'Sorvetes vendidos'])\n",
        "plt.xlabel('índice')    # nome do eixo x                 \n",
        "plt.ylabel('Sorvetes')  # nome do eixo y\n",
        "plt.show();"
      ],
      "execution_count": 25,
      "outputs": [
        {
          "output_type": "display_data",
          "data": {
            "image/png": "[encoded data removed]",
            "text/plain": [
              "<Figure size 432x288 with 1 Axes>"
            ]
          },
          "metadata": {
            "tags": [],
            "needs_background": "light"
          }
        }
      ]
    },
    {
      "cell_type": "code",
      "metadata": {
        "id": "T2UAhQhSxAoK"
      },
      "source": [
        ""
      ],
      "execution_count": null,
      "outputs": []
    },
    {
      "cell_type": "code",
      "metadata": {
        "id": "PkwoDP-qxAlD"
      },
      "source": [
        ""
      ],
      "execution_count": null,
      "outputs": []
    }
  ]
}